{
  "cells": [
    {
      "cell_type": "code",
      "execution_count": null,
      "metadata": {
        "id": "0hrSKeCB5qb1"
      },
      "outputs": [],
      "source": [
        "#Every string in python is a sequence of unicode characters\n",
        "#you pass two kinds of data in I/O first being the Text and second one is the binary data\n",
        "#Programme files contain human readable code written in programming language such as python, java, C++. This code is written by developers to instruct the computer on how to perform\n",
        "#specific tasks. Programme files are generally source code files that developers create having extensions like .py,.cpp,.java\n",
        "#Programme files are editable using text editor or IDE. Programe files are not executable directly, they have to be converted into executable binary file to be executed b the computer.\n",
        "# Binary files are not meant to be read by the developers, nor can they be edited by the developers. It is machine-readable. Some binary files are executable directly like those having\n",
        "#.exe extensions are executable directly by machine but audio files,video files,image files are not executable directly. Binary files have extensions like .mp3,.jpg,.pdf,.exe"
      ]
    },
    {
      "cell_type": "code",
      "execution_count": null,
      "metadata": {
        "id": "hTfIndDt48p3"
      },
      "outputs": [],
      "source": [
        "#Programe files are the codes that you write, they are the source codes. Creating a software or an application involves converting programme files into executable binary files to be\n",
        "#run on computer."
      ]
    },
    {
      "cell_type": "code",
      "execution_count": null,
      "metadata": {
        "id": "7T5tAy-K-N19"
      },
      "outputs": [],
      "source": [
        "#Buffer memory is often simply called as buffer, buffer is a temporary storage area where data is stored whie it's being transferred from one place to another. Buffer is used to manage data flow\n",
        "# between different processes or components often at a different pace or rate.\n",
        "#Buffer memeory often called as buffer, is used to temporarily store data to manage data flow between source and destination. It synchronizes the data flow rate of source with data processing rate of destination.\n",
        "#When reading data from a source or sending data over a network, the data might not come at a constant rate, it might come in burst or at varying pace, To control the variable data flow rate\n",
        "#data is stored temporarily in buffer memory and then transferred into destination. This allows source and destination to work at their own pace.\n",
        "#The buffer's size and management helps data flow to be smooth. If data arrives too early, buffers stores the data and releases it when destination is ready, if destination can process the data\n",
        "#earlier than it comes then then buffer releases data at an appropriate rate. Buffering improves efficiency by reducing delay so that many components could work in parallel."
      ]
    },
    {
      "cell_type": "code",
      "execution_count": null,
      "metadata": {
        "id": "xrJ51iOflpMg"
      },
      "outputs": [],
      "source": [
        "#When you open file using python using the open keyword, a file object is created which can be used to read, write and append to a file. This keyword also has a parameter called\n",
        "#buffer which determines how a data is read or written to the file.\n",
        "# No Buffering-->(0 or False)----In this case data is read from or written to a file immediately without using a buffer\n"
      ]
    },
    {
      "cell_type": "code",
      "execution_count": null,
      "metadata": {
        "colab": {
          "base_uri": "https://localhost:8080/",
          "height": 192
        },
        "id": "t-0LCAURpSkC",
        "outputId": "ba78412f-5d26-46f4-8cb9-1306af9da1c9"
      },
      "outputs": [
        {
          "ename": "ValueError",
          "evalue": "ignored",
          "output_type": "error",
          "traceback": [
            "\u001b[0;31m---------------------------------------------------------------------------\u001b[0m",
            "\u001b[0;31mValueError\u001b[0m                                Traceback (most recent call last)",
            "\u001b[0;32m<ipython-input-7-aad9daa72ebe>\u001b[0m in \u001b[0;36m<cell line: 1>\u001b[0;34m()\u001b[0m\n\u001b[0;32m----> 1\u001b[0;31m \u001b[0mf\u001b[0m\u001b[0;34m=\u001b[0m\u001b[0mopen\u001b[0m\u001b[0;34m(\u001b[0m\u001b[0;34m\"rankhet.txt\"\u001b[0m\u001b[0;34m,\u001b[0m\u001b[0;34m\"w\"\u001b[0m\u001b[0;34m,\u001b[0m\u001b[0mbuffering\u001b[0m\u001b[0;34m=\u001b[0m\u001b[0;36m0\u001b[0m\u001b[0;34m)\u001b[0m\u001b[0;34m\u001b[0m\u001b[0;34m\u001b[0m\u001b[0m\n\u001b[0m\u001b[1;32m      2\u001b[0m \u001b[0mf\u001b[0m\u001b[0;34m.\u001b[0m\u001b[0mwrite\u001b[0m\u001b[0;34m(\u001b[0m\u001b[0;34m\"Mahendra Singh Dhoni is a warrior of the khas clan\"\u001b[0m\u001b[0;34m)\u001b[0m\u001b[0;34m\u001b[0m\u001b[0;34m\u001b[0m\u001b[0m\n",
            "\u001b[0;31mValueError\u001b[0m: can't have unbuffered text I/O"
          ]
        }
      ],
      "source": [
        "f=open(\"rankhet.txt\",\"w\",buffering=0)\n",
        "f.write(\"Mahendra Singh Dhoni is a warrior of the khas clan\")"
      ]
    },
    {
      "cell_type": "code",
      "execution_count": null,
      "metadata": {
        "id": "J1XjipqupsRN"
      },
      "outputs": [],
      "source": [
        "f=open(\"ranikhet.txt\",\"w\")\n",
        "f.write(\"Mahendra dhoni , woow what a warrior he is, an outright street-smart cricketer\")\n",
        "f.close()"
      ]
    },
    {
      "cell_type": "code",
      "execution_count": null,
      "metadata": {
        "colab": {
          "base_uri": "https://localhost:8080/"
        },
        "id": "h7iAtGjwqCEm",
        "outputId": "763a585a-8acc-4127-94f7-88d3da12bcf3"
      },
      "outputs": [
        {
          "data": {
            "text/plain": [
              "27"
            ]
          },
          "execution_count": 11,
          "metadata": {},
          "output_type": "execute_result"
        }
      ],
      "source": [
        "#Default buffering means that data is buffered in large chunks until the buffer is full or until the file has been closed . Buffer is flushed only when it's full or the file has been closed\n",
        "#Default buffering means data is buffered in large chunks until buffer is full or until the file has been closed. Data is flushed from buffer only when buffer is full or the file has been closed\n",
        "#This can be illustrated as shown below:\n",
        "f1=open(\"karam.txt\",\"w\")\n",
        "f1.write(\"Who is a warrior?Him or her\")\n",
        "#if you open the file with this name karam.txt at the location where it has been saved\n",
        "#you will get a blank text as the data is still present in the buffer memory"
      ]
    },
    {
      "cell_type": "code",
      "execution_count": null,
      "metadata": {
        "id": "9KAejq3-wWL8"
      },
      "outputs": [],
      "source": [
        "f2=open(\"karam.txt\",\"w\")\n",
        "f2.write(\"Who is he? Is he great\")\n",
        "f2.close()\n",
        "#if you open the file with this name karam.txt at the location where it has been saved\n",
        "#you will get the required texts that has been written as the file object has been closed\n",
        "#and the data is now flushed from the buffer memory.... flushing from the buffer means that\n",
        "#data is written into the destination"
      ]
    },
    {
      "cell_type": "code",
      "execution_count": null,
      "metadata": {
        "id": "qxMIb9b64XfR"
      },
      "outputs": [],
      "source": [
        "f3=open(\"kampan.txt\",\"w\")\n",
        "f3.write(\"I see who you are\\n\")\n",
        "f3.write(\"You are my enemy\\n\")\n",
        "f3.write(\"Na Na\")\n",
        "f3.close()"
      ]
    },
    {
      "cell_type": "code",
      "execution_count": null,
      "metadata": {
        "id": "FA6nN6PcNK1h"
      },
      "outputs": [],
      "source": [
        "f3=open(\"kampan.txt\",\"a\")\n",
        "f3.write(\"\\nHit the cricket ball\")\n",
        "f3.close()\n",
        "#we can append to the file by using \"a\", as \"w\" rewrites the entire file"
      ]
    },
    {
      "cell_type": "code",
      "execution_count": null,
      "metadata": {
        "id": "9wW_lHZ3R-bc"
      },
      "outputs": [],
      "source": [
        "#writing multiple lines using list\n",
        "l1=[\"hello\\n\",\"How are you?\\n\",\"I am fine\\n\",\"Who are you?\",\"I see who you are?\\n\",\"You are my enemy\\n\",\"My enemy\\n\",\"You are my enemy\\n\",\"As i walk through the valley of death\"]\n",
        "f4=open(\"kampan1.txt\",\"a\")\n",
        "f4.writelines(l1)\n",
        "f4.close()\n",
        "#This is how you can write an entire paragraph using a list at once"
      ]
    },
    {
      "cell_type": "code",
      "execution_count": null,
      "metadata": {
        "id": "m7Ul5CbsDTdY"
      },
      "outputs": [],
      "source": [
        "f5=open(\"kampan1.txt\")\n",
        "f5.close()"
      ]
    },
    {
      "cell_type": "code",
      "execution_count": null,
      "metadata": {
        "id": "qpZYVMx2K8N0"
      },
      "outputs": [],
      "source": [
        "f6=open(\"kampan1.txt\")\n",
        "f6.close()"
      ]
    },
    {
      "cell_type": "code",
      "execution_count": null,
      "metadata": {
        "id": "Grp93PRhM9G5"
      },
      "outputs": [],
      "source": [
        "#Failing to close file can lead to the following disadavantages:\n",
        "#Firstly, when you open files some resources are always alloted to manage file operations like buffer memory , when you dont close the file objects\n",
        "#these resources are not left free for instance the buffer memory is not left freely and hence this can lead to resources exhaustion.\n",
        "#Secondly, If you don't close the file object, and if your system is hacked then the data can be retracted from buffer memory and this can lead to\n",
        "#data leakage."
      ]
    },
    {
      "cell_type": "code",
      "execution_count": null,
      "metadata": {
        "colab": {
          "base_uri": "https://localhost:8080/"
        },
        "id": "GXGpNWSOWCjn",
        "outputId": "08ec97c7-4caf-48ee-e3e5-0f4de7276607"
      },
      "outputs": [
        {
          "data": {
            "text/plain": [
              "{1, 2, 3, 11, 14, 54, 100, 105, 106, 200, 1001}"
            ]
          },
          "execution_count": 15,
          "metadata": {},
          "output_type": "execute_result"
        }
      ],
      "source": [
        "k={1,2,3,1001,200,54,100,105,106,11,14}\n",
        "k"
      ]
    },
    {
      "cell_type": "code",
      "execution_count": null,
      "metadata": {
        "colab": {
          "base_uri": "https://localhost:8080/"
        },
        "id": "C-Rg8JQXWVU9",
        "outputId": "5ac7d32b-f173-478a-966a-6efabbe0eeab"
      },
      "outputs": [
        {
          "data": {
            "text/plain": [
              "{1, 2, 3, 11, 14, 54, 100, 105, 106}"
            ]
          },
          "execution_count": 13,
          "metadata": {},
          "output_type": "execute_result"
        }
      ],
      "source": [
        "k"
      ]
    },
    {
      "cell_type": "code",
      "execution_count": null,
      "metadata": {
        "id": "PxL52nByX1g1"
      },
      "outputs": [],
      "source": [
        "#sets are unordered while lists and tuples are ordered, sets dont take duplicates, lists and sets are mutables but tuple is immutable"
      ]
    },
    {
      "cell_type": "code",
      "execution_count": null,
      "metadata": {
        "colab": {
          "base_uri": "https://localhost:8080/"
        },
        "id": "6rDTMjehW85a",
        "outputId": "f862ad00-8c1b-40e4-abe6-2ee4a7adbae0"
      },
      "outputs": [
        {
          "name": "stdout",
          "output_type": "stream",
          "text": [
            "1\n",
            "\n",
            "2\n"
          ]
        }
      ],
      "source": [
        "print(1)\n",
        "print()\n",
        "print(2)"
      ]
    },
    {
      "cell_type": "code",
      "execution_count": null,
      "metadata": {
        "id": "Nzr-U2R8Z8ou"
      },
      "outputs": [],
      "source": [
        "#write() method is used to write a single string to the file. It doesnot add newline by itself , if you add multiple write functions, it's contents are concatenated without any\n",
        "#line-breaks\n",
        "with open(\"example1.txt\",\"w\") as f1:\n",
        "  f1.write(\"Mahendra\")\n",
        "  f1.write(\" Dhoni\")\n",
        "#As you can see both the strings have been concatenated\n"
      ]
    },
    {
      "cell_type": "code",
      "execution_count": null,
      "metadata": {
        "id": "zCUHwUBpbqb4"
      },
      "outputs": [],
      "source": [
        "#This is how you apply line-breaks in between\n",
        "with open(\"example2.txt\",\"w\") as f1:\n",
        "  f1.write(\"Mahendra\\n\")\n",
        "  f1.write(\"Dhoni\\n\")"
      ]
    },
    {
      "cell_type": "code",
      "execution_count": null,
      "metadata": {
        "id": "UAxk0mfMb9Z_"
      },
      "outputs": [],
      "source": [
        "#writelines() method is used to write a list of strings to the file. It does add line breaks , if you want to add line breaks you must end every list items with \\n"
      ]
    },
    {
      "cell_type": "code",
      "execution_count": null,
      "metadata": {
        "id": "68MY9g9FuObH"
      },
      "outputs": [],
      "source": [
        "l1=[\"Hi mate\\n\",\"How are you?\\n\",\"Where will you go?\\n\",\"How will you go?\\n\",\"Has he been a great warrior?\\n\"]\n",
        "with open(\"example1.txt\",\"w\") as f2:\n",
        "  f2.writelines(l1)"
      ]
    },
    {
      "cell_type": "code",
      "execution_count": null,
      "metadata": {
        "colab": {
          "base_uri": "https://localhost:8080/"
        },
        "id": "rlRsEgjdxRrp",
        "outputId": "03bf6ef9-9805-437c-dfc6-3aefa1cee885"
      },
      "outputs": [
        {
          "name": "stdout",
          "output_type": "stream",
          "text": [
            "Hi mate\n",
            "How are you?\n",
            "Where will you go?\n",
            "How will you go?\n",
            "Has he been a great warrior?\n",
            "\n"
          ]
        }
      ],
      "source": [
        "with open(\"example1.txt\") as f2:\n",
        "  content=f2.read()\n",
        "print(content)"
      ]
    },
    {
      "cell_type": "code",
      "execution_count": null,
      "metadata": {
        "colab": {
          "base_uri": "https://localhost:8080/"
        },
        "id": "tt95S2-93gDl",
        "outputId": "1f956968-0638-4c43-8d8e-393be3fad307"
      },
      "outputs": [
        {
          "name": "stdout",
          "output_type": "stream",
          "text": [
            "Hi mate\n",
            "How are you?\n"
          ]
        }
      ],
      "source": [
        "with open(\"example1.txt\") as f2:\n",
        "  content=f2.read(20)\n",
        "print(content)\n",
        "#outputs only 20 characters"
      ]
    },
    {
      "cell_type": "code",
      "execution_count": null,
      "metadata": {
        "colab": {
          "base_uri": "https://localhost:8080/"
        },
        "id": "m1tqUm9E374f",
        "outputId": "fa0eda4d-13ba-4927-edf6-5d27b01594cd"
      },
      "outputs": [
        {
          "name": "stdout",
          "output_type": "stream",
          "text": [
            "['Hi mate\\n', 'How are you?\\n', 'Where will you go?\\n', 'How will you go?\\n', 'Has he been a great warrior?\\n']\n",
            "[]\n"
          ]
        }
      ],
      "source": [
        "with open(\"example1.txt\") as f2:\n",
        "  print(f2.readlines())\n",
        "  print(f2.readlines())\n",
        "#readlines() function converts each line into a list and each line becomes seperate item of the list."
      ]
    },
    {
      "cell_type": "code",
      "execution_count": null,
      "metadata": {
        "colab": {
          "base_uri": "https://localhost:8080/"
        },
        "id": "VCZuZgKF9You",
        "outputId": "9eca0947-4320-4029-cd07-02ca43da0583"
      },
      "outputs": [
        {
          "name": "stdout",
          "output_type": "stream",
          "text": [
            "Hi mate\n",
            "\n",
            "How are you?\n",
            "\n"
          ]
        }
      ],
      "source": [
        "with open(\"example1.txt\") as f2:\n",
        "  print(f2.readline())\n",
        "  print(f2.readline())\n",
        "#readline function reads each line from the text"
      ]
    },
    {
      "cell_type": "code",
      "execution_count": null,
      "metadata": {
        "id": "PbVXGVnLFd9Y"
      },
      "outputs": [],
      "source": [
        "#f.readline() reads every line from the file one by one. It reads the file one line at a time. This is useful when you are reading the file one line at a time without loading the entire file\n",
        "#into memory at once. since it reads and processes one line at a time , it is memory efficient as it doesnot load the entire file into the memory at once. It becomes memory efficient especially\n",
        "#while working with large files."
      ]
    },
    {
      "cell_type": "code",
      "execution_count": null,
      "metadata": {
        "colab": {
          "base_uri": "https://localhost:8080/"
        },
        "id": "jCDK4z2oW8QO",
        "outputId": "4727813b-bc51-42a0-a4e9-27348a9e4107"
      },
      "outputs": [
        {
          "name": "stdout",
          "output_type": "stream",
          "text": [
            "Hi mate\n",
            "How are you?\n",
            "Where will you go?\n",
            "How will you go?\n",
            "Has he been a great warrior?\n"
          ]
        }
      ],
      "source": [
        "#how to read the entire file using readline\n",
        "f1=open(\"example1.txt\")\n",
        "while True:\n",
        "  data=f1.readline()\n",
        "  if data==\"\":\n",
        "    break\n",
        "  else:\n",
        "    print(data,end=\"\")\n",
        "f1.close()\n"
      ]
    },
    {
      "cell_type": "code",
      "execution_count": null,
      "metadata": {
        "colab": {
          "base_uri": "https://localhost:8080/"
        },
        "id": "NV7BZ2z9ZGUZ",
        "outputId": "48dcf82d-de26-4422-8910-1e9f2359bac1"
      },
      "outputs": [
        {
          "name": "stdout",
          "output_type": "stream",
          "text": [
            "Hi mate\n",
            "How are you?\n",
            "Where will you go?\n",
            "How will you go?\n",
            "Has he been a great warrior?\n"
          ]
        }
      ],
      "source": [
        "f1=open(\"example1.txt\")\n",
        "while True:\n",
        "  data=f1.readline()\n",
        "  if data==\"\":\n",
        "    break\n",
        "  else:\n",
        "    print(data,end=\"\")\n",
        "f1.close()"
      ]
    },
    {
      "cell_type": "code",
      "execution_count": null,
      "metadata": {
        "id": "K11ZFQe_aNdV"
      },
      "outputs": [],
      "source": [
        "#with keyword(context manager) closes the file as soon as its use is over as it frees up buffer memory so that other tasks could use it, even if you dont close it, the garbage collector\n",
        "#will anyway close the file object. with keyword is a replacement for f.close()\n",
        "with open(\"example2.txt\",\"w\") as f:\n",
        "  f.write(\"\"\"khwabon,khayalo...khwayhisho ko chehra mila, mere hone ka matlab mila\n",
        "  koi mil gaya, haan kaun mil gaya...oohho oho ho, yu tu hum tum, milne ko milte rahe.....\n",
        "  yu toh hum tum milne ko milte rahe, par kyu ajj aisa laga, koi mil gaya, koi mil gaya\n",
        "  Mujhse milkar kya hota hai ye batlao na, ye batlao na, baat ye hume kano mien kahenge\n",
        "  paas mien ayona, jo baat tum kahoge woh baat mai bhi manu... yu toh battien karne ko karte rahe\n",
        "  par kyu ajj aisa laga ...koi mil gaya\"\"\")\n"
      ]
    },
    {
      "cell_type": "code",
      "execution_count": null,
      "metadata": {
        "colab": {
          "base_uri": "https://localhost:8080/",
          "height": 192
        },
        "id": "E-DHuQpUgBYS",
        "outputId": "9849db40-a478-47aa-fa6a-33737d0dcb97"
      },
      "outputs": [
        {
          "ename": "ValueError",
          "evalue": "ignored",
          "output_type": "error",
          "traceback": [
            "\u001b[0;31m---------------------------------------------------------------------------\u001b[0m",
            "\u001b[0;31mValueError\u001b[0m                                Traceback (most recent call last)",
            "\u001b[0;32m<ipython-input-29-4779bc3d0228>\u001b[0m in \u001b[0;36m<cell line: 1>\u001b[0;34m()\u001b[0m\n\u001b[0;32m----> 1\u001b[0;31m \u001b[0mf\u001b[0m\u001b[0;34m.\u001b[0m\u001b[0mwrite\u001b[0m\u001b[0;34m(\u001b[0m\u001b[0;34m\"dhoni\"\u001b[0m\u001b[0;34m)\u001b[0m\u001b[0;34m\u001b[0m\u001b[0;34m\u001b[0m\u001b[0m\n\u001b[0m\u001b[1;32m      2\u001b[0m \u001b[0;31m#so the file object closes as soon as the loop ends without any f.close() statement\u001b[0m\u001b[0;34m\u001b[0m\u001b[0;34m\u001b[0m\u001b[0m\n",
            "\u001b[0;31mValueError\u001b[0m: I/O operation on closed file."
          ]
        }
      ],
      "source": [
        "f.write(\"dhoni\")\n",
        "#so the file object closes as soon as the loop ends without any f.close() statement"
      ]
    },
    {
      "cell_type": "code",
      "execution_count": null,
      "metadata": {
        "colab": {
          "base_uri": "https://localhost:8080/"
        },
        "id": "8XpQNKj6gMc8",
        "outputId": "11e879d3-bb56-4671-c813-ec840db6afea"
      },
      "outputs": [
        {
          "name": "stdout",
          "output_type": "stream",
          "text": [
            "khwabon,khayalo...khwayhisho ko chehra mila, mere hone ka matlab mila\n",
            "\n"
          ]
        }
      ],
      "source": [
        "with open(\"example2.txt\") as f:\n",
        "  print(f.readline())"
      ]
    },
    {
      "cell_type": "code",
      "execution_count": null,
      "metadata": {
        "colab": {
          "base_uri": "https://localhost:8080/"
        },
        "id": "kQFA-Q2Kh_dl",
        "outputId": "618b3c0b-b58f-4869-d7e3-1b18a38b8761"
      },
      "outputs": [
        {
          "name": "stdout",
          "output_type": "stream",
          "text": [
            "khwabon,kh\n"
          ]
        }
      ],
      "source": [
        "with open(\"example2.txt\") as f:\n",
        "  print(f.read(10))\n",
        "#prints the first 10 characters"
      ]
    },
    {
      "cell_type": "code",
      "execution_count": null,
      "metadata": {
        "colab": {
          "base_uri": "https://localhost:8080/"
        },
        "id": "6FuJ-EhTiJ3m",
        "outputId": "439e32c3-b51a-44f5-bff6-42c40c5cb3c3"
      },
      "outputs": [
        {
          "name": "stdout",
          "output_type": "stream",
          "text": [
            "khwabon,kh\n",
            "ayalo...kh\n"
          ]
        }
      ],
      "source": [
        "with open(\"example2.txt\") as f:\n",
        "  print(f.read(10))\n",
        "  print(f.read(10))\n",
        "#as you can see buffer memory keeps a track of how much data has been read, so when you try to do f.read(10) again, it doesnot read the first 10 characters, it reads the next 10\n",
        "#characters , This techniques can be used to load and read large amount of data even if it exceeds the memory present in your RAM. This technique can be used to divide data in chunks\n",
        "#and read them seperately."
      ]
    },
    {
      "cell_type": "code",
      "execution_count": null,
      "metadata": {
        "colab": {
          "base_uri": "https://localhost:8080/"
        },
        "id": "1uMsWcsO4KQr",
        "outputId": "d5219bfd-3298-45da-dbbe-20dcaef95ea9"
      },
      "outputs": [
        {
          "name": "stdout",
          "output_type": "stream",
          "text": [
            "who is\n",
            "0\n"
          ]
        }
      ],
      "source": [
        "with open(\"example3.txt\",\"w\") as f:\n",
        "  f.write(\"who is\")\n",
        "with open(\"example3.txt\") as f:\n",
        "  print(f.read(10))\n",
        "  print(len(f.read(10)))\n",
        "#it gave 0 because the entire text was read by the first read() function itself"
      ]
    },
    {
      "cell_type": "code",
      "execution_count": null,
      "metadata": {
        "colab": {
          "base_uri": "https://localhost:8080/"
        },
        "id": "_1EdFo8TAlu9",
        "outputId": "cc605369-2d9d-44ae-fb6e-5cc7b85e7f3b"
      },
      "outputs": [
        {
          "name": "stdout",
          "output_type": "stream",
          "text": [
            "6\n"
          ]
        }
      ],
      "source": [
        "with open(\"example3.txt\") as f:\n",
        "  print(len(f.read(10)))\n",
        "#even if you are supposed to read 10 characters and you get only 6, still code wont give error"
      ]
    },
    {
      "cell_type": "code",
      "execution_count": null,
      "metadata": {
        "colab": {
          "base_uri": "https://localhost:8080/"
        },
        "id": "ugt7SRPcQND0",
        "outputId": "4e71800e-ae3e-411f-a6c5-25bafa4ee935"
      },
      "outputs": [
        {
          "name": "stdout",
          "output_type": "stream",
          "text": [
            "ayalo...kh\n",
            "o chehra m\n",
            "hone ka ma\n",
            "  koi mil \n",
            " kaun mil \n",
            "ho oho ho,\n",
            " tum, miln\n",
            " rahe.....\n",
            "hum tum mi\n",
            "te rahe, p\n",
            " aisa laga\n",
            "gaya, koi \n",
            " Mujhse mi\n",
            "ota hai ye\n",
            ", ye batla\n",
            " ye hume k\n",
            "ahenge\n",
            "  p\n",
            "yona, jo b\n",
            "hoge woh b\n",
            "i manu... \n",
            "tien karne\n",
            "rahe\n",
            "  par\n",
            "isa laga .\n",
            "gaya\n"
          ]
        }
      ],
      "source": [
        "with open(\"example2.txt\") as f1:\n",
        "  while len(f1.read(10))>0:\n",
        "    print(f1.read(10))"
      ]
    },
    {
      "cell_type": "code",
      "execution_count": null,
      "metadata": {
        "colab": {
          "base_uri": "https://localhost:8080/"
        },
        "id": "O4xNSmWqTGiD",
        "outputId": "a8830af9-45ea-4e30-a6c7-57967ec64ea6"
      },
      "outputs": [
        {
          "name": "stdout",
          "output_type": "stream",
          "text": [
            "ayalo...khila, mere   koi mil gaya...ooh tum, miln\n",
            "  yu toh te rahe, p, koi mil  Mujhse mi batlao na ye hume kaas mien ahoge woh byu toh batrahe\n",
            "  par..koi mil "
          ]
        }
      ],
      "source": [
        "with open(\"example2.txt\") as f1:\n",
        "  while len(f1.read(10))>0:\n",
        "    print(f1.read(10),end=\"\")\n",
        "    f1.read(10)"
      ]
    },
    {
      "cell_type": "code",
      "execution_count": null,
      "metadata": {
        "colab": {
          "base_uri": "https://localhost:8080/"
        },
        "id": "XfXOiszvYB8W",
        "outputId": "b02f3399-97a7-4512-bdd9-e5599ad2b747"
      },
      "outputs": [
        {
          "name": "stdout",
          "output_type": "stream",
          "text": [
            "khwabon,khayalo...khwayhisho ko chehra mila, mere hone ka matlab mila\n",
            "  koi mil gaya, haan kaun mil gaya...oohho oho ho, yu tu hum tum, milne ko milte rahe.....\n",
            "  yu toh hum tum milne ko milte rahe, par kyu ajj aisa laga, koi mil gaya, koi mil gaya\n",
            "  Mujhse milkar kya hota hai ye batlao na, ye batlao na, baat ye hume kano mien kahenge\n",
            "  paas mien ayona, jo baat tum kahoge woh baat mai bhi manu... yu toh battien karne ko karte rahe\n",
            "  par kyu ajj aisa laga ...koi mil gaya"
          ]
        }
      ],
      "source": [
        "with open(\"example2.txt\") as f1:\n",
        "  chunk=f1.read(10)\n",
        "  while len(chunk)>0:\n",
        "    print(chunk,end=\"\")\n",
        "    chunk=f1.read(10)\n",
        "#This is how we can divide data into chunks of 10 and read the entire text without applying too much pressure on the buffer memory(as occupying too much buffer memory can lead to\n",
        "#less resources availble for other tasks)"
      ]
    },
    {
      "cell_type": "code",
      "execution_count": null,
      "metadata": {
        "colab": {
          "base_uri": "https://localhost:8080/"
        },
        "id": "eUvaNuJtaf5p",
        "outputId": "d0a239ce-b90c-4b9b-c9b6-cc629821fd04"
      },
      "outputs": [
        {
          "name": "stdout",
          "output_type": "stream",
          "text": [
            "khwabon,khayalo...khwayhisho ko chehra mila, mere hone ka matlab mila\n",
            "  koi mil gaya, haan kaun mil gaya...oohho oho ho, yu tu hum tum, milne ko milte rahe.....\n",
            "  yu toh hum tum milne ko milte rahe, par kyu ajj aisa laga, koi mil gaya, koi mil gaya\n",
            "  Mujhse milkar kya hota hai ye batlao na, ye batlao na, baat ye hume kano mien kahenge\n",
            "  paas mien ayona, jo baat tum kahoge woh baat mai bhi manu... yu toh battien karne ko karte rahe\n",
            "  par kyu ajj aisa laga ...koi mil gaya"
          ]
        }
      ],
      "source": [
        "with open(\"example2.txt\") as f2:\n",
        "  chunk=10\n",
        "  c1=f2.read(chunk)\n",
        "  while len(c1)>0:\n",
        "    print(c1,end=\"\")\n",
        "    c1=f2.read()\n"
      ]
    },
    {
      "cell_type": "code",
      "execution_count": null,
      "metadata": {
        "colab": {
          "base_uri": "https://localhost:8080/"
        },
        "id": "YmnQwbpieGLo",
        "outputId": "19db88d5-7b43-4324-e05d-80c801d3d311"
      },
      "outputs": [
        {
          "name": "stdout",
          "output_type": "stream",
          "text": [
            "hello motto hello motto hello motto hello motto hello motto hello motto hello motto hello motto hello motto hello motto hello motto hello motto hello motto hello motto hello motto hello motto hello motto hello motto hello motto hello motto hello motto hello motto hello motto hello motto hello motto hello motto hello motto hello motto hello motto hello motto hello motto hello motto hello motto hello motto hello motto hello motto hello motto hello motto hello motto hello motto hello motto hello motto hello motto hello motto hello motto hello motto hello motto hello motto hello motto hello motto hello motto hello motto hello motto hello motto hello motto hello motto hello motto hello motto hello motto hello motto hello motto hello motto hello motto hello motto hello motto hello motto hello motto hello motto hello motto hello motto hello motto hello motto hello motto hello motto hello motto hello motto hello motto hello motto hello motto hello motto hello motto hello motto hello motto hello motto hello motto hello motto hello motto hello motto hello motto hello motto hello motto hello motto hello motto hello motto hello motto hello motto hello motto hello motto hello motto hello motto \n"
          ]
        }
      ],
      "source": [
        "d1=[\"hello motto \" for i in range(100)]\n",
        "with open(\"exam1.txt\",\"w\") as f1:\n",
        "  f1.writelines(d1)\n",
        "with open(\"exam1.txt\") as f2:\n",
        "  print(f2.read())"
      ]
    },
    {
      "cell_type": "code",
      "execution_count": null,
      "metadata": {
        "colab": {
          "base_uri": "https://localhost:8080/"
        },
        "id": "KBK9vNSWempM",
        "outputId": "98eb185b-5b9f-4ac9-e90c-033daa34e28d"
      },
      "outputs": [
        {
          "name": "stdout",
          "output_type": "stream",
          "text": [
            "['a', 'b', 'c', 'd', 'e', 'f', 'g', 'h', 'i', 'j']\n",
            "[1, 2, 3, 4, 5, 6, 7, 8, 9, 10]\n",
            "j\n",
            "10\n"
          ]
        }
      ],
      "source": [
        "a11={'a':1,'b':2,'c':3,'d':4,'e':5,'f':6,'g':7,'h':8,'i':9,'j':10}\n",
        "print(list(a11.keys()))\n",
        "print(list(a11.values()))\n",
        "print(max(a11.keys()))\n",
        "print(max(a11.values()))"
      ]
    },
    {
      "cell_type": "code",
      "execution_count": null,
      "metadata": {
        "colab": {
          "base_uri": "https://localhost:8080/"
        },
        "id": "k2JQH_iUdigN",
        "outputId": "2424b3ae-e0fc-4dfa-a82b-bde3db5143df"
      },
      "outputs": [
        {
          "name": "stdout",
          "output_type": "stream",
          "text": [
            "khwabon,kha\n",
            "11\n"
          ]
        }
      ],
      "source": [
        "with open(\"example2.txt\") as f1:\n",
        "  print(f1.read(11))\n",
        "  print(f1.tell())"
      ]
    },
    {
      "cell_type": "code",
      "execution_count": null,
      "metadata": {
        "colab": {
          "base_uri": "https://localhost:8080/"
        },
        "id": "OfGUEFAQgKZp",
        "outputId": "98c19d64-e3aa-4b10-f327-9067be657d28"
      },
      "outputs": [
        {
          "name": "stdout",
          "output_type": "stream",
          "text": [
            "khwabon,khayalo...khwayhisho ko chehra mila, mere hone ka matlab mila\n",
            "  koi mil gaya, haan kaun mil gaya...oohho oho ho, yu tu hum tum, milne ko milte rahe.....\n",
            "  yu toh hum tum milne ko milte rahe, par kyu ajj aisa laga, koi mil gaya, koi mil gaya\n",
            "  Mujhse milkar kya hota hai ye batlao na, ye batlao na, baat ye hume kano mien kahenge\n",
            "  paas mien ayona, jo baat tum kahoge woh baat mai bhi manu... yu toh battien karne ko karte rahe\n",
            "  par kyu ajj aisa laga ...koi mil gaya\n",
            "474\n"
          ]
        }
      ],
      "source": [
        "with open(\"example2.txt\") as f1:\n",
        "  print(f1.read())\n",
        "  print(f1.tell())"
      ]
    },
    {
      "cell_type": "code",
      "execution_count": null,
      "metadata": {
        "colab": {
          "base_uri": "https://localhost:8080/"
        },
        "id": "h0X68f0jfQ2J",
        "outputId": "4edc754c-9378-4c51-a7e1-b1c8c712ba20"
      },
      "outputs": [
        {
          "name": "stdout",
          "output_type": "stream",
          "text": [
            "khwabon,kh\n",
            "khwabon,kh\n"
          ]
        }
      ],
      "source": [
        "#seek() function tells where to start from and tell() function tells where the cursor is present currently\n",
        "with open(\"example2.txt\") as f1:\n",
        "  print(f1.read(10))\n",
        "  f1.seek(0)\n",
        "  print(f1.read(10))\n",
        "#seek() function puts the control back to initial position , on the same position at which the argument of this method points at"
      ]
    },
    {
      "cell_type": "code",
      "execution_count": null,
      "metadata": {
        "colab": {
          "base_uri": "https://localhost:8080/"
        },
        "id": "A1gYVfK5EeQn",
        "outputId": "322847aa-fb9e-4e01-e3dc-f64c72124bd1"
      },
      "outputs": [
        {
          "name": "stdout",
          "output_type": "stream",
          "text": [
            "khwabon,kh\n",
            "...khwayhi\n"
          ]
        }
      ],
      "source": [
        "with open(\"example2.txt\") as f1:\n",
        "  print(f1.read(10))\n",
        "  f1.seek(15)\n",
        "  print(f1.read(10))"
      ]
    },
    {
      "cell_type": "code",
      "execution_count": null,
      "metadata": {
        "colab": {
          "base_uri": "https://localhost:8080/"
        },
        "id": "yucjMe0VIMSX",
        "outputId": "1eb58325-8561-4813-dddf-21ede1508062"
      },
      "outputs": [
        {
          "name": "stdout",
          "output_type": "stream",
          "text": [
            "khwabon,khayalo...khwayhisho ko chehra mila, mere hone ka matlab mila\n",
            "  koi mil gaya, haan kaun mil gaya...oohho oho ho, yu tu hum tum, milne ko milte rahe.....\n",
            "  yu toh hum tum milne ko milte rahe, par kyu ajj aisa laga, koi mil gaya, koi mil gaya\n",
            "  Mujhse milkar kya hota hai ye batlao na, ye batlao na, baat ye hume kano mien kahenge\n",
            "  paas mien ayona, jo baat tum kahoge woh baat mai bhi manu... yu toh battien karne ko karte rahe\n",
            "  par kyu ajj aisa laga ...koi mil gaya\n",
            "khwabon,khayalo...khwayhisho ko chehra mila, mere hone ka matlab mila\n",
            "  koi mil gaya, haan kaun mil gaya...oohho oho ho, yu tu hum tum, milne ko milte rahe.....\n",
            "  yu toh hum tum milne ko milte rahe, par kyu ajj aisa laga, koi mil gaya, koi mil gaya\n",
            "  Mujhse milkar kya hota hai ye batlao na, ye batlao na, baat ye hume kano mien kahenge\n",
            "  paas mien ayona, jo baat tum kahoge woh baat mai bhi manu... yu toh battien karne ko karte rahe\n",
            "  par kyu ajj aisa laga ...koi mil gaya\n"
          ]
        }
      ],
      "source": [
        "with open(\"example2.txt\") as f2:\n",
        "  print(f2.read())\n",
        "  f2.seek(0)\n",
        "  print(f2.read())"
      ]
    },
    {
      "cell_type": "code",
      "execution_count": null,
      "metadata": {
        "colab": {
          "base_uri": "https://localhost:8080/"
        },
        "id": "dMkidp0CbCaP",
        "outputId": "dce34119-5e72-43ea-9619-0a94e815a422"
      },
      "outputs": [
        {
          "name": "stdout",
          "output_type": "stream",
          "text": [
            "xello\n"
          ]
        }
      ],
      "source": [
        "with open(\"shambu.txt\",\"w\") as f1:\n",
        "  f1.write(\"Hello\")\n",
        "  f1.seek(0)\n",
        "  f1.write(\"x\")\n",
        "with open(\"shambu.txt\") as f1:\n",
        "  print(f1.read())\n",
        "#As you can see only the first letter of the text file is edited and changed from Hello to xello"
      ]
    },
    {
      "cell_type": "code",
      "execution_count": null,
      "metadata": {
        "colab": {
          "base_uri": "https://localhost:8080/"
        },
        "id": "-kp2Zy4LhgdI",
        "outputId": "33c6aff5-721d-47c5-bda7-aa1b78f9c0fb"
      },
      "outputs": [
        {
          "name": "stdout",
          "output_type": "stream",
          "text": [
            "hellochallo\n"
          ]
        }
      ],
      "source": [
        "with open(\"shambu1.txt\",\"w\") as f1:\n",
        "  f1.write(\"hello\")\n",
        "  f1.write(\"challo\")\n",
        "with open(\"shambu1.txt\") as f1:\n",
        "  print(f1.read())\n",
        "#when seek is not updated to zero, the next element gets appended to the first"
      ]
    },
    {
      "cell_type": "code",
      "execution_count": null,
      "metadata": {
        "colab": {
          "base_uri": "https://localhost:8080/",
          "height": 314
        },
        "id": "RCuIEj4pjFLy",
        "outputId": "66cc0549-8114-423b-b0e9-d922ed29fe39"
      },
      "outputs": [
        {
          "ename": "UnicodeDecodeError",
          "evalue": "ignored",
          "output_type": "error",
          "traceback": [
            "\u001b[0;31m---------------------------------------------------------------------------\u001b[0m",
            "\u001b[0;31mUnicodeDecodeError\u001b[0m                        Traceback (most recent call last)",
            "\u001b[0;32m<ipython-input-10-5bad89c2136a>\u001b[0m in \u001b[0;36m<cell line: 1>\u001b[0;34m()\u001b[0m\n\u001b[1;32m      1\u001b[0m \u001b[0;32mwith\u001b[0m \u001b[0mopen\u001b[0m\u001b[0;34m(\u001b[0m\u001b[0;34m\"adharback7.jpeg\"\u001b[0m\u001b[0;34m)\u001b[0m \u001b[0;32mas\u001b[0m \u001b[0mf1\u001b[0m\u001b[0;34m:\u001b[0m\u001b[0;34m\u001b[0m\u001b[0;34m\u001b[0m\u001b[0m\n\u001b[0;32m----> 2\u001b[0;31m   \u001b[0mprint\u001b[0m\u001b[0;34m(\u001b[0m\u001b[0mf1\u001b[0m\u001b[0;34m.\u001b[0m\u001b[0mread\u001b[0m\u001b[0;34m(\u001b[0m\u001b[0;34m)\u001b[0m\u001b[0;34m)\u001b[0m\u001b[0;34m\u001b[0m\u001b[0;34m\u001b[0m\u001b[0m\n\u001b[0m",
            "\u001b[0;32m/usr/lib/python3.10/codecs.py\u001b[0m in \u001b[0;36mdecode\u001b[0;34m(self, input, final)\u001b[0m\n\u001b[1;32m    320\u001b[0m         \u001b[0;31m# decode input (taking the buffer into account)\u001b[0m\u001b[0;34m\u001b[0m\u001b[0;34m\u001b[0m\u001b[0m\n\u001b[1;32m    321\u001b[0m         \u001b[0mdata\u001b[0m \u001b[0;34m=\u001b[0m \u001b[0mself\u001b[0m\u001b[0;34m.\u001b[0m\u001b[0mbuffer\u001b[0m \u001b[0;34m+\u001b[0m \u001b[0minput\u001b[0m\u001b[0;34m\u001b[0m\u001b[0;34m\u001b[0m\u001b[0m\n\u001b[0;32m--> 322\u001b[0;31m         \u001b[0;34m(\u001b[0m\u001b[0mresult\u001b[0m\u001b[0;34m,\u001b[0m \u001b[0mconsumed\u001b[0m\u001b[0;34m)\u001b[0m \u001b[0;34m=\u001b[0m \u001b[0mself\u001b[0m\u001b[0;34m.\u001b[0m\u001b[0m_buffer_decode\u001b[0m\u001b[0;34m(\u001b[0m\u001b[0mdata\u001b[0m\u001b[0;34m,\u001b[0m \u001b[0mself\u001b[0m\u001b[0;34m.\u001b[0m\u001b[0merrors\u001b[0m\u001b[0;34m,\u001b[0m \u001b[0mfinal\u001b[0m\u001b[0;34m)\u001b[0m\u001b[0;34m\u001b[0m\u001b[0;34m\u001b[0m\u001b[0m\n\u001b[0m\u001b[1;32m    323\u001b[0m         \u001b[0;31m# keep undecoded input until the next call\u001b[0m\u001b[0;34m\u001b[0m\u001b[0;34m\u001b[0m\u001b[0m\n\u001b[1;32m    324\u001b[0m         \u001b[0mself\u001b[0m\u001b[0;34m.\u001b[0m\u001b[0mbuffer\u001b[0m \u001b[0;34m=\u001b[0m \u001b[0mdata\u001b[0m\u001b[0;34m[\u001b[0m\u001b[0mconsumed\u001b[0m\u001b[0;34m:\u001b[0m\u001b[0;34m]\u001b[0m\u001b[0;34m\u001b[0m\u001b[0;34m\u001b[0m\u001b[0m\n",
            "\u001b[0;31mUnicodeDecodeError\u001b[0m: 'utf-8' codec can't decode byte 0xff in position 0: invalid start byte"
          ]
        }
      ],
      "source": [
        "with open(\"adharback7.jpeg\") as f1:\n",
        "  print(f1.read())"
      ]
    },
    {
      "cell_type": "code",
      "execution_count": null,
      "metadata": {
        "id": "bRz-cAlSlJ05"
      },
      "outputs": [],
      "source": [
        "#working with binary files using with\n",
        "with open(\"adharback7.jpeg\",\"rb\") as f1:\n",
        "  with open(\"new.jpeg\",\"wb\") as f2:\n",
        "    f2.write(f1.read())"
      ]
    },
    {
      "cell_type": "code",
      "execution_count": null,
      "metadata": {
        "id": "XhuvCvu8tCEm"
      },
      "outputs": [],
      "source": [
        "#This method is not good with other datatypes like int/float/list/tuples(the text mode \"r\")\n",
        "#The text mode(\"r\") doesnot work with binary files as well"
      ]
    },
    {
      "cell_type": "code",
      "execution_count": null,
      "metadata": {
        "colab": {
          "base_uri": "https://localhost:8080/",
          "height": 192
        },
        "id": "9ynR0VnGvso4",
        "outputId": "fec2e78a-b422-4e09-db99-dd4039fc52c3"
      },
      "outputs": [
        {
          "ename": "TypeError",
          "evalue": "ignored",
          "output_type": "error",
          "traceback": [
            "\u001b[0;31m---------------------------------------------------------------------------\u001b[0m",
            "\u001b[0;31mTypeError\u001b[0m                                 Traceback (most recent call last)",
            "\u001b[0;32m<ipython-input-1-7ff23db0d610>\u001b[0m in \u001b[0;36m<cell line: 1>\u001b[0;34m()\u001b[0m\n\u001b[1;32m      1\u001b[0m \u001b[0;32mwith\u001b[0m \u001b[0mopen\u001b[0m\u001b[0;34m(\u001b[0m\u001b[0;34m\"sample1.txt\"\u001b[0m\u001b[0;34m,\u001b[0m\u001b[0;34m\"w\"\u001b[0m\u001b[0;34m)\u001b[0m \u001b[0;32mas\u001b[0m \u001b[0mf1\u001b[0m\u001b[0;34m:\u001b[0m\u001b[0;34m\u001b[0m\u001b[0;34m\u001b[0m\u001b[0m\n\u001b[0;32m----> 2\u001b[0;31m   \u001b[0mf1\u001b[0m\u001b[0;34m.\u001b[0m\u001b[0mwrite\u001b[0m\u001b[0;34m(\u001b[0m\u001b[0;36m5\u001b[0m\u001b[0;34m)\u001b[0m\u001b[0;34m\u001b[0m\u001b[0;34m\u001b[0m\u001b[0m\n\u001b[0m",
            "\u001b[0;31mTypeError\u001b[0m: write() argument must be str, not int"
          ]
        }
      ],
      "source": [
        "with open(\"sample1.txt\",\"w\") as f1:\n",
        "  f1.write(5)"
      ]
    },
    {
      "cell_type": "code",
      "execution_count": null,
      "metadata": {
        "id": "yRx2ZarnbcLp"
      },
      "outputs": [],
      "source": [
        "with open(\"sample1.txt\",\"w\") as f1:\n",
        "  f1.write(\"5\")"
      ]
    },
    {
      "cell_type": "code",
      "execution_count": null,
      "metadata": {
        "colab": {
          "base_uri": "https://localhost:8080/"
        },
        "id": "4gaBbvntbzxA",
        "outputId": "058767c7-a687-4d36-91c0-126fd7b86bf6"
      },
      "outputs": [
        {
          "name": "stdout",
          "output_type": "stream",
          "text": [
            "10\n"
          ]
        }
      ],
      "source": [
        "with open(\"sample1.txt\") as f1:\n",
        "  print(int(f1.read())+5)"
      ]
    },
    {
      "cell_type": "code",
      "execution_count": null,
      "metadata": {
        "colab": {
          "base_uri": "https://localhost:8080/",
          "height": 210
        },
        "id": "pUSrzVGydxbL",
        "outputId": "d483ad40-ecac-449c-bcad-59e4c844d002"
      },
      "outputs": [
        {
          "ename": "ValueError",
          "evalue": "ignored",
          "output_type": "error",
          "traceback": [
            "\u001b[0;31m---------------------------------------------------------------------------\u001b[0m",
            "\u001b[0;31mValueError\u001b[0m                                Traceback (most recent call last)",
            "\u001b[0;32m<ipython-input-1-a5a924570756>\u001b[0m in \u001b[0;36m<cell line: 10>\u001b[0;34m()\u001b[0m\n\u001b[1;32m      9\u001b[0m   \u001b[0mf\u001b[0m\u001b[0;34m.\u001b[0m\u001b[0mwrite\u001b[0m\u001b[0;34m(\u001b[0m\u001b[0mstr\u001b[0m\u001b[0;34m(\u001b[0m\u001b[0mc\u001b[0m\u001b[0;34m)\u001b[0m\u001b[0;34m)\u001b[0m\u001b[0;34m\u001b[0m\u001b[0;34m\u001b[0m\u001b[0m\n\u001b[1;32m     10\u001b[0m \u001b[0;32mwith\u001b[0m \u001b[0mopen\u001b[0m\u001b[0;34m(\u001b[0m\u001b[0;34m\"dump.txt\"\u001b[0m\u001b[0;34m)\u001b[0m \u001b[0;32mas\u001b[0m \u001b[0mf1\u001b[0m\u001b[0;34m:\u001b[0m\u001b[0;34m\u001b[0m\u001b[0;34m\u001b[0m\u001b[0m\n\u001b[0;32m---> 11\u001b[0;31m   \u001b[0mprint\u001b[0m\u001b[0;34m(\u001b[0m\u001b[0mdict\u001b[0m\u001b[0;34m(\u001b[0m\u001b[0mf\u001b[0m\u001b[0;34m.\u001b[0m\u001b[0mread\u001b[0m\u001b[0;34m(\u001b[0m\u001b[0;34m)\u001b[0m\u001b[0;34m)\u001b[0m\u001b[0;34m)\u001b[0m\u001b[0;34m\u001b[0m\u001b[0;34m\u001b[0m\u001b[0m\n\u001b[0m",
            "\u001b[0;31mValueError\u001b[0m: I/O operation on closed file."
          ]
        }
      ],
      "source": [
        "#complex data types like dictionaries cannot be stored in raw form in text files.... even if they are converted into strings, they cannot be\n",
        "#changed back into dictionary\n",
        "c={\n",
        "    \"name\":\"dhoni\",\n",
        "    \"age\":40,\n",
        "    \"subject\":\"kami\"\n",
        "}\n",
        "with open(\"dump.txt\",\"w\") as f:\n",
        "  f.write(str(c))\n",
        "with open(\"dump.txt\") as f1:\n",
        "  print(dict(f.read()))"
      ]
    },
    {
      "cell_type": "code",
      "execution_count": null,
      "metadata": {
        "colab": {
          "base_uri": "https://localhost:8080/"
        },
        "id": "ONg6m7PiZvvk",
        "outputId": "77542cfe-1383-4d8e-dcb0-083c6200f500"
      },
      "outputs": [
        {
          "name": "stdout",
          "output_type": "stream",
          "text": [
            "{'name': 'dhoni', 'age': 40, 'subject': 'kami'}\n"
          ]
        }
      ],
      "source": [
        "with open(\"dump.txt\")  as f1:\n",
        "  print(f1.read())\n",
        "#you cannot store complex datatypes in python using this method"
      ]
    },
    {
      "cell_type": "code",
      "execution_count": null,
      "metadata": {
        "id": "R8J7iWbTb59x"
      },
      "outputs": [],
      "source": [
        "#serialization is the process of converting python datatypes into JSON fromat\n",
        "#deserialization is the process of converting JSON to python data types\n",
        "#JSON is a universal data format understood by all programming languages, (Java script on notation)"
      ]
    },
    {
      "cell_type": "code",
      "execution_count": null,
      "metadata": {
        "colab": {
          "base_uri": "https://localhost:8080/"
        },
        "id": "7FttI44Ej7Ln",
        "outputId": "523f9e1a-ade7-4b6e-f5ea-557921832ab9"
      },
      "outputs": [
        {
          "name": "stdout",
          "output_type": "stream",
          "text": [
            "{'name': 'dhoni', 'age': 40, 'subject': 'kamin'}\n",
            "<class 'dict'>\n"
          ]
        }
      ],
      "source": [
        "#as python datatypes cannot be stored in text so we use .json files to store python datatypes, storing python datatypes in a file is called serialization and extracting python datatypes\n",
        "#from json format is called deserialization. Python datatypes are converted to json using json.dump(c1,f1) where c1 is the python datatype and f1 is the file object, similarly we convert\n",
        "#JSON to python datatype using json.load(f1) where f1 is the file object and as you can see the type of what we get using json.load() is a python datatype\n",
        "import json\n",
        "c1={'name':'dhoni',\n",
        "    'age':40,\n",
        "    'subject':'kamin'}\n",
        "with open('ext.json','w') as f1:\n",
        "  json.dump(c1,f1)\n",
        "with open('ext.json') as f2:\n",
        "  c=json.load(f2)\n",
        "  print(c)\n",
        "  print(type(c))\n"
      ]
    },
    {
      "cell_type": "code",
      "execution_count": null,
      "metadata": {
        "colab": {
          "base_uri": "https://localhost:8080/"
        },
        "id": "wzgKwwfkc4oH",
        "outputId": "fe0878e5-7737-4814-9ff9-9838a87c2efa"
      },
      "outputs": [
        {
          "name": "stdout",
          "output_type": "stream",
          "text": [
            "[1, 2, 3]\n",
            "<class 'list'>\n"
          ]
        }
      ],
      "source": [
        "import json\n",
        "c1=[1,2,3]\n",
        "with open('ext1.json','w') as f1:\n",
        "  json.dump(c1,f1)\n",
        "with open('ext1.json') as f2:\n",
        "  c2=json.load(f2)\n",
        "  print(c2)\n",
        "  print(type(c2))\n"
      ]
    },
    {
      "cell_type": "code",
      "execution_count": null,
      "metadata": {
        "colab": {
          "base_uri": "https://localhost:8080/"
        },
        "id": "JBXMaNJANSyP",
        "outputId": "f2010301-3d0e-4097-c2fe-3fb920e0bb3e"
      },
      "outputs": [
        {
          "name": "stdout",
          "output_type": "stream",
          "text": [
            "{'name': 'Dhoni', 'age': 40, 'subject': 'nim'}\n",
            "<class 'dict'>\n"
          ]
        }
      ],
      "source": [
        "import json\n",
        "c1={\"name\":\"Dhoni\",\n",
        "    \"age\":40,\n",
        "    \"subject\":\"nim\"}\n",
        "with open('ext3.json',\"w\") as f1:\n",
        "  json.dump(c1,f1,indent=4)\n",
        "with open('ext3.json') as f2:\n",
        "  c=json.load(f2)\n",
        "  print(c)\n",
        "  print(type(c))\n",
        "#indent places the json with some space\n",
        "#json.dump means converting python data type to json and json(c1,f1) means converting\n",
        "#python datatype c1 to json and placing it in file f1\n",
        "#json.load means converting json back to python datatype json.load(f2) f2 is where the\n",
        "#json data is actually present"
      ]
    },
    {
      "cell_type": "code",
      "execution_count": null,
      "metadata": {
        "id": "hAOm2TTfcQVT"
      },
      "outputs": [],
      "source": [
        "import json\n",
        "c1=(1,2,3,4)\n",
        "with open(\"ex1.json\",\"w\") as f1:\n",
        "  json.dump(c1,f1)\n",
        "#even tuples are stored as lists\n"
      ]
    },
    {
      "cell_type": "code",
      "execution_count": null,
      "metadata": {
        "id": "AMJjoqnIytoJ"
      },
      "outputs": [],
      "source": [
        "#json.dump is used to dump a datatype within a file where json.dump(c1,f) c1 is a\n",
        "#datatype and f is a file"
      ]
    },
    {
      "cell_type": "code",
      "execution_count": null,
      "metadata": {
        "id": "MT5Se6exzwjZ"
      },
      "outputs": [],
      "source": [
        "#Serialization is the process of converting complex python datatypes(lists,dictionary)\n",
        "#into a format that can easily be stored and transmitted. Sets are not serializable.\n",
        "#Deserialization does the opposite."
      ]
    },
    {
      "cell_type": "code",
      "execution_count": null,
      "metadata": {
        "colab": {
          "base_uri": "https://localhost:8080/",
          "height": 425
        },
        "id": "cKUqNiKq84FF",
        "outputId": "51c8436e-5c6d-4458-8d6f-d811940e8ba5"
      },
      "outputs": [
        {
          "ename": "TypeError",
          "evalue": "ignored",
          "output_type": "error",
          "traceback": [
            "\u001b[0;31m---------------------------------------------------------------------------\u001b[0m",
            "\u001b[0;31mTypeError\u001b[0m                                 Traceback (most recent call last)",
            "\u001b[0;32m<ipython-input-7-5f795d35eb3e>\u001b[0m in \u001b[0;36m<cell line: 9>\u001b[0;34m()\u001b[0m\n\u001b[1;32m      8\u001b[0m \u001b[0mp1\u001b[0m\u001b[0;34m=\u001b[0m\u001b[0mperson\u001b[0m\u001b[0;34m(\u001b[0m\u001b[0;34m\"Dhoni\"\u001b[0m\u001b[0;34m,\u001b[0m\u001b[0;34m\"40\"\u001b[0m\u001b[0;34m,\u001b[0m\u001b[0;34m\"1000\"\u001b[0m\u001b[0;34m)\u001b[0m\u001b[0;34m\u001b[0m\u001b[0;34m\u001b[0m\u001b[0m\n\u001b[1;32m      9\u001b[0m \u001b[0;32mwith\u001b[0m \u001b[0mopen\u001b[0m\u001b[0;34m(\u001b[0m\u001b[0;34m\"jumbo.json\"\u001b[0m\u001b[0;34m,\u001b[0m\u001b[0;34m\"w\"\u001b[0m\u001b[0;34m)\u001b[0m \u001b[0;32mas\u001b[0m \u001b[0mf1\u001b[0m\u001b[0;34m:\u001b[0m\u001b[0;34m\u001b[0m\u001b[0;34m\u001b[0m\u001b[0m\n\u001b[0;32m---> 10\u001b[0;31m   \u001b[0mjson\u001b[0m\u001b[0;34m.\u001b[0m\u001b[0mdump\u001b[0m\u001b[0;34m(\u001b[0m\u001b[0mp1\u001b[0m\u001b[0;34m,\u001b[0m\u001b[0mf1\u001b[0m\u001b[0;34m)\u001b[0m\u001b[0;34m\u001b[0m\u001b[0;34m\u001b[0m\u001b[0m\n\u001b[0m\u001b[1;32m     11\u001b[0m \u001b[0;31m#as you can see custom objects are not serializable(converting python complex datatype objects into\u001b[0m\u001b[0;34m\u001b[0m\u001b[0;34m\u001b[0m\u001b[0m\n\u001b[1;32m     12\u001b[0m \u001b[0;31m# a format that can be stored or transmitted).... everything in python is object and variable are a reference to\u001b[0m\u001b[0;34m\u001b[0m\u001b[0;34m\u001b[0m\u001b[0m\n",
            "\u001b[0;32m/usr/lib/python3.10/json/__init__.py\u001b[0m in \u001b[0;36mdump\u001b[0;34m(obj, fp, skipkeys, ensure_ascii, check_circular, allow_nan, cls, indent, separators, default, sort_keys, **kw)\u001b[0m\n\u001b[1;32m    177\u001b[0m     \u001b[0;31m# could accelerate with writelines in some versions of Python, at\u001b[0m\u001b[0;34m\u001b[0m\u001b[0;34m\u001b[0m\u001b[0m\n\u001b[1;32m    178\u001b[0m     \u001b[0;31m# a debuggability cost\u001b[0m\u001b[0;34m\u001b[0m\u001b[0;34m\u001b[0m\u001b[0m\n\u001b[0;32m--> 179\u001b[0;31m     \u001b[0;32mfor\u001b[0m \u001b[0mchunk\u001b[0m \u001b[0;32min\u001b[0m \u001b[0miterable\u001b[0m\u001b[0;34m:\u001b[0m\u001b[0;34m\u001b[0m\u001b[0;34m\u001b[0m\u001b[0m\n\u001b[0m\u001b[1;32m    180\u001b[0m         \u001b[0mfp\u001b[0m\u001b[0;34m.\u001b[0m\u001b[0mwrite\u001b[0m\u001b[0;34m(\u001b[0m\u001b[0mchunk\u001b[0m\u001b[0;34m)\u001b[0m\u001b[0;34m\u001b[0m\u001b[0;34m\u001b[0m\u001b[0m\n\u001b[1;32m    181\u001b[0m \u001b[0;34m\u001b[0m\u001b[0m\n",
            "\u001b[0;32m/usr/lib/python3.10/json/encoder.py\u001b[0m in \u001b[0;36m_iterencode\u001b[0;34m(o, _current_indent_level)\u001b[0m\n\u001b[1;32m    436\u001b[0m                     \u001b[0;32mraise\u001b[0m \u001b[0mValueError\u001b[0m\u001b[0;34m(\u001b[0m\u001b[0;34m\"Circular reference detected\"\u001b[0m\u001b[0;34m)\u001b[0m\u001b[0;34m\u001b[0m\u001b[0;34m\u001b[0m\u001b[0m\n\u001b[1;32m    437\u001b[0m                 \u001b[0mmarkers\u001b[0m\u001b[0;34m[\u001b[0m\u001b[0mmarkerid\u001b[0m\u001b[0;34m]\u001b[0m \u001b[0;34m=\u001b[0m \u001b[0mo\u001b[0m\u001b[0;34m\u001b[0m\u001b[0;34m\u001b[0m\u001b[0m\n\u001b[0;32m--> 438\u001b[0;31m             \u001b[0mo\u001b[0m \u001b[0;34m=\u001b[0m \u001b[0m_default\u001b[0m\u001b[0;34m(\u001b[0m\u001b[0mo\u001b[0m\u001b[0;34m)\u001b[0m\u001b[0;34m\u001b[0m\u001b[0;34m\u001b[0m\u001b[0m\n\u001b[0m\u001b[1;32m    439\u001b[0m             \u001b[0;32myield\u001b[0m \u001b[0;32mfrom\u001b[0m \u001b[0m_iterencode\u001b[0m\u001b[0;34m(\u001b[0m\u001b[0mo\u001b[0m\u001b[0;34m,\u001b[0m \u001b[0m_current_indent_level\u001b[0m\u001b[0;34m)\u001b[0m\u001b[0;34m\u001b[0m\u001b[0;34m\u001b[0m\u001b[0m\n\u001b[1;32m    440\u001b[0m             \u001b[0;32mif\u001b[0m \u001b[0mmarkers\u001b[0m \u001b[0;32mis\u001b[0m \u001b[0;32mnot\u001b[0m \u001b[0;32mNone\u001b[0m\u001b[0;34m:\u001b[0m\u001b[0;34m\u001b[0m\u001b[0;34m\u001b[0m\u001b[0m\n",
            "\u001b[0;32m/usr/lib/python3.10/json/encoder.py\u001b[0m in \u001b[0;36mdefault\u001b[0;34m(self, o)\u001b[0m\n\u001b[1;32m    177\u001b[0m \u001b[0;34m\u001b[0m\u001b[0m\n\u001b[1;32m    178\u001b[0m         \"\"\"\n\u001b[0;32m--> 179\u001b[0;31m         raise TypeError(f'Object of type {o.__class__.__name__} '\n\u001b[0m\u001b[1;32m    180\u001b[0m                         f'is not JSON serializable')\n\u001b[1;32m    181\u001b[0m \u001b[0;34m\u001b[0m\u001b[0m\n",
            "\u001b[0;31mTypeError\u001b[0m: Object of type person is not JSON serializable"
          ]
        }
      ],
      "source": [
        "class person:\n",
        "  def __init__(self,person,age,marks):\n",
        "    self.person=person\n",
        "    self.age=age\n",
        "    self.marks=marks\n",
        "  def __str__(self):\n",
        "    return f\"-->{self.person}--Age-->{self.age}--Marks-->{self.marks}\"\n",
        "p1=person(\"Dhoni\",\"40\",\"1000\")\n",
        "with open(\"jumbo.json\",\"w\") as f1:\n",
        "  json.dump(p1,f1)\n",
        "#as you can see custom objects are not serializable(converting python complex datatype objects into\n",
        "# a format that can be stored or transmitted).... everything in python is object and variable are a reference to\n",
        "#that object in the meory\n"
      ]
    },
    {
      "cell_type": "code",
      "execution_count": null,
      "metadata": {
        "colab": {
          "base_uri": "https://localhost:8080/"
        },
        "id": "TCcGVk6G-gzH",
        "outputId": "9caf151c-98ea-4b9c-a93d-dc325ad27ff2"
      },
      "outputs": [
        {
          "name": "stdout",
          "output_type": "stream",
          "text": [
            "-->Dhoni--Age-->40--Marks-->1000\n"
          ]
        }
      ],
      "source": [
        "print(p1)"
      ]
    },
    {
      "cell_type": "code",
      "execution_count": null,
      "metadata": {
        "colab": {
          "base_uri": "https://localhost:8080/"
        },
        "id": "tqgAHQP-eLtv",
        "outputId": "987e4c03-a681-4be8-cc7d-4d3862a510fc"
      },
      "outputs": [
        {
          "name": "stdout",
          "output_type": "stream",
          "text": [
            "Name:Mahendra Dhoni Age:40 Gender:Male\n",
            "<class 'str'>\n"
          ]
        }
      ],
      "source": [
        "import json\n",
        "class person:\n",
        "  def __init__(self,fname,lname,age,gender):\n",
        "    self.fname=fname\n",
        "    self.lname=lname\n",
        "    self.age=age\n",
        "    self.gender=gender\n",
        "  def __str__(self):\n",
        "    return f\"Name:{self.fname} {self.lname} Age:{self.age} Gender:{self.gender}\"\n",
        "p=person(\"Mahendra\",\"Dhoni\",40,\"Male\")\n",
        "def show_ob(p):\n",
        "  if isinstance(p,person):\n",
        "    return f\"Name:{p.fname} {p.lname} Age:{p.age} Gender:{p.gender}\"\n",
        "with open('jhamu.json','w') as f1:\n",
        "  json.dump(p,f1,default=show_ob)\n",
        "with open('jhamu.json') as f2:\n",
        "  c=json.load(f2)\n",
        "  print(c)\n",
        "  print(type(c))\n",
        "\n"
      ]
    },
    {
      "cell_type": "code",
      "execution_count": null,
      "metadata": {
        "colab": {
          "base_uri": "https://localhost:8080/"
        },
        "id": "5zlb4HOMpcmp",
        "outputId": "a8fb3a24-058c-43d2-a728-dab9d4f567b8"
      },
      "outputs": [
        {
          "name": "stdout",
          "output_type": "stream",
          "text": [
            "{'name': 'Mahendra Dhoni', 'age': 40, 'gender': 'Maths'}\n",
            "<class 'dict'>\n"
          ]
        }
      ],
      "source": [
        "import json\n",
        "class person1:\n",
        "  def __init__(self,fname,lname,age,gender):\n",
        "    self.fname=fname\n",
        "    self.lname=lname\n",
        "    self.age=age\n",
        "    self.gender=gender\n",
        "p=person1(\"Mahendra\",\"Dhoni\",40,\"Maths\")\n",
        "def show_obj(p):\n",
        "  if isinstance(p,person1):\n",
        "    return {\"name\":p.fname+' '+p.lname,\"age\":p.age,\"gender\":p.gender}\n",
        "with open('jhoom.json','w') as f1:\n",
        "  json.dump(p,f1,default=show_obj,indent=4)\n",
        "with open('jhoom.json') as f2:\n",
        "  c=json.load(f2)\n",
        "  print(c)\n",
        "  print(type(c))\n",
        "#default keyword is used to show how the json keyword will look within the file\n",
        "#Here we are either reflecting our custom object as a string or a dictionary within\n",
        "#another file. We will have to find out a way in which object made of a custom class\n",
        "#can be written to another file and read from that file and we can use it just like\n",
        "#we use normal objects...like we can invoke methods using it or we can invoke attributes\n",
        "#using it\n"
      ]
    },
    {
      "cell_type": "code",
      "execution_count": null,
      "metadata": {
        "id": "J5OTqMwQ3Wpm"
      },
      "outputs": [],
      "source": [
        "#We want to send our object as it is to another file and then read that object\n",
        "#such that it can be used just like we were to use that object in our file were the\n",
        "#object was created(like we could call methods,attributes)"
      ]
    },
    {
      "cell_type": "code",
      "execution_count": null,
      "metadata": {
        "id": "dZUgLbwv4xB6"
      },
      "outputs": [],
      "source": [
        "#Pickling is the process by which a Python object is converted into a byte stream\n",
        "#unpickling is the reverse , where byte stream is converted back to python object\n"
      ]
    },
    {
      "cell_type": "code",
      "execution_count": null,
      "metadata": {
        "id": "r3gCjiTH7Gnh"
      },
      "outputs": [],
      "source": [
        "#By converting into bytestreams using pickiling, we can retrieve the object as it is\n",
        "#and use associated methods, attributes and use it like we would have used that python object\n",
        "#in the file where it had been created"
      ]
    },
    {
      "cell_type": "code",
      "execution_count": null,
      "metadata": {
        "id": "p_fcpzwY7pRa"
      },
      "outputs": [],
      "source": [
        "#Serialization is the process of converting complext python datatypes into a human\n",
        "#readable format that can be stored and transmitted....we mostly use JSON for it(even with custom objects\n",
        "# where we just use default keyword and equate it with a function that shows how the json format is represented\n",
        "# ) , Pickling is converting python objects in byte streams....\n",
        "# Pickle lets the user store data in binary format, JSON lets user store data in human readable\n",
        "#text format\n",
        "#Pickling is used when you also need to retain functionalities associated with a Python onject, JSon is used\n",
        "#to show the text representation of an object."
      ]
    },
    {
      "cell_type": "code",
      "execution_count": null,
      "metadata": {
        "id": "jsgbAF6VAs8d"
      },
      "outputs": [],
      "source": [
        "#Pickling is used when you need to retain the functionalities associated with a python object\n",
        "#while transporting it, while JSON is used to display the textual representation of an object\n",
        "#while transporting it.\n",
        "#Pickle can serialize custom objects as well\n",
        "#Serialization is the process of converting Python object into a human-readable , non human readable formats\n",
        "#that can be transported over to a different files(pickles can be used to transport functionalities associated with a\n",
        "# Python object as well, JSON cannot transport functionalities associated with cutom python object, it can only transport the text representation of it."
      ]
    },
    {
      "cell_type": "code",
      "execution_count": null,
      "metadata": {
        "id": "W5WjPzFYDTfs"
      },
      "outputs": [],
      "source": [
        "a=[1,2,3]\n",
        "b={'name':'dhoni',\n",
        "   'age':42,\n",
        "   'subject':\"maths\"}\n",
        "c=(1,2,3)\n",
        "with open(\"kambal.txt\",\"w\") as f1:\n",
        "  f1.write(a)"
      ]
    },
    {
      "cell_type": "code",
      "execution_count": null,
      "metadata": {
        "colab": {
          "background_save": true,
          "base_uri": "https://localhost:8080/",
          "height": 245
        },
        "id": "WJh9swDXLEQJ",
        "outputId": "d1afc83d-b563-407b-b3e6-c2689c1c917f"
      },
      "outputs": [
        {
          "ename": "ValueError",
          "evalue": "ignored",
          "output_type": "error",
          "traceback": [
            "\u001b[0;31m---------------------------------------------------------------------------\u001b[0m",
            "\u001b[0;31mValueError\u001b[0m                                Traceback (most recent call last)",
            "\u001b[0;32m<ipython-input-3-fe6b3ed83b57>\u001b[0m in \u001b[0;36m<cell line: 4>\u001b[0;34m()\u001b[0m\n\u001b[1;32m      3\u001b[0m   \u001b[0mjson\u001b[0m\u001b[0;34m.\u001b[0m\u001b[0mdump\u001b[0m\u001b[0;34m(\u001b[0m\u001b[0ma\u001b[0m\u001b[0;34m,\u001b[0m\u001b[0mf1\u001b[0m\u001b[0;34m)\u001b[0m\u001b[0;34m\u001b[0m\u001b[0;34m\u001b[0m\u001b[0m\n\u001b[1;32m      4\u001b[0m \u001b[0;32mwith\u001b[0m \u001b[0mopen\u001b[0m\u001b[0;34m(\u001b[0m\u001b[0;34m\"kambal.json\"\u001b[0m\u001b[0;34m)\u001b[0m \u001b[0;32mas\u001b[0m \u001b[0mf2\u001b[0m\u001b[0;34m:\u001b[0m\u001b[0;34m\u001b[0m\u001b[0;34m\u001b[0m\u001b[0m\n\u001b[0;32m----> 5\u001b[0;31m   \u001b[0mc1\u001b[0m\u001b[0;34m=\u001b[0m\u001b[0mjson\u001b[0m\u001b[0;34m.\u001b[0m\u001b[0mload\u001b[0m\u001b[0;34m(\u001b[0m\u001b[0mf1\u001b[0m\u001b[0;34m)\u001b[0m\u001b[0;34m\u001b[0m\u001b[0;34m\u001b[0m\u001b[0m\n\u001b[0m\u001b[1;32m      6\u001b[0m   \u001b[0mprint\u001b[0m\u001b[0;34m(\u001b[0m\u001b[0mc1\u001b[0m\u001b[0;34m)\u001b[0m\u001b[0;34m\u001b[0m\u001b[0;34m\u001b[0m\u001b[0m\n\u001b[1;32m      7\u001b[0m   \u001b[0mprint\u001b[0m\u001b[0;34m(\u001b[0m\u001b[0mtype\u001b[0m\u001b[0;34m(\u001b[0m\u001b[0mc1\u001b[0m\u001b[0;34m)\u001b[0m\u001b[0;34m)\u001b[0m\u001b[0;34m\u001b[0m\u001b[0;34m\u001b[0m\u001b[0m\n",
            "\u001b[0;32m/usr/lib/python3.10/json/__init__.py\u001b[0m in \u001b[0;36mload\u001b[0;34m(fp, cls, object_hook, parse_float, parse_int, parse_constant, object_pairs_hook, **kw)\u001b[0m\n\u001b[1;32m    291\u001b[0m     \u001b[0mkwarg\u001b[0m\u001b[0;34m;\u001b[0m \u001b[0motherwise\u001b[0m\u001b[0;31m \u001b[0m\u001b[0;31m`\u001b[0m\u001b[0;31m`\u001b[0m\u001b[0mJSONDecoder\u001b[0m\u001b[0;31m`\u001b[0m\u001b[0;31m`\u001b[0m \u001b[0;32mis\u001b[0m \u001b[0mused\u001b[0m\u001b[0;34m.\u001b[0m\u001b[0;34m\u001b[0m\u001b[0;34m\u001b[0m\u001b[0m\n\u001b[1;32m    292\u001b[0m     \"\"\"\n\u001b[0;32m--> 293\u001b[0;31m     return loads(fp.read(),\n\u001b[0m\u001b[1;32m    294\u001b[0m         \u001b[0mcls\u001b[0m\u001b[0;34m=\u001b[0m\u001b[0mcls\u001b[0m\u001b[0;34m,\u001b[0m \u001b[0mobject_hook\u001b[0m\u001b[0;34m=\u001b[0m\u001b[0mobject_hook\u001b[0m\u001b[0;34m,\u001b[0m\u001b[0;34m\u001b[0m\u001b[0;34m\u001b[0m\u001b[0m\n\u001b[1;32m    295\u001b[0m         \u001b[0mparse_float\u001b[0m\u001b[0;34m=\u001b[0m\u001b[0mparse_float\u001b[0m\u001b[0;34m,\u001b[0m \u001b[0mparse_int\u001b[0m\u001b[0;34m=\u001b[0m\u001b[0mparse_int\u001b[0m\u001b[0;34m,\u001b[0m\u001b[0;34m\u001b[0m\u001b[0;34m\u001b[0m\u001b[0m\n",
            "\u001b[0;31mValueError\u001b[0m: I/O operation on closed file."
          ]
        }
      ],
      "source": [
        "import json\n",
        "with open(\"kambal.json\",\"w\") as f1:\n",
        "  json.dump(a,f1)\n",
        "with open(\"kambal.json\") as f2:\n",
        "  c1=json.load(f1)\n",
        "  print(c1)\n",
        "  print(type(c1))"
      ]
    },
    {
      "cell_type": "code",
      "execution_count": null,
      "metadata": {
        "colab": {
          "base_uri": "https://localhost:8080/"
        },
        "id": "_B0MQhQqIFeG",
        "outputId": "2c59b36a-7570-4974-8002-238521924aa7"
      },
      "outputs": [
        {
          "data": {
            "text/plain": [
              "8"
            ]
          },
          "execution_count": 5,
          "metadata": {},
          "output_type": "execute_result"
        }
      ],
      "source": [
        "def fibo(n):\n",
        "  if n==0 or n==1:\n",
        "    return 1\n",
        "  else:\n",
        "    return fibo(n-1)+fibo(n-2)\n",
        "fibo(5)\n",
        "#this is not feasible as the time complexity of this is huge, 2 the power of n(where n is the input), so if the input is increased then the time taken will be immense as well\n",
        "# This is happening because some tasks are being done repeatedly like fib(2) is being calculated multiple times.... Rather than doing this we can store the output of tasks\n",
        "#in a vaariable so that it can be used again, This will cost some memory but will reduce time-complexity. This memory-time trade off is done through nemoization."
      ]
    },
    {
      "cell_type": "code",
      "execution_count": null,
      "metadata": {
        "colab": {
          "base_uri": "https://localhost:8080/"
        },
        "id": "ubAwDNH4IXti",
        "outputId": "b3b9f236-4d48-4244-adc7-278587794fd8"
      },
      "outputs": [
        {
          "data": {
            "text/plain": [
              "120"
            ]
          },
          "execution_count": 3,
          "metadata": {},
          "output_type": "execute_result"
        }
      ],
      "source": [
        "def facto(n):\n",
        "  if n==1:\n",
        "    return 1\n",
        "  else:\n",
        "    return n*facto(n-1)\n",
        "facto(5)"
      ]
    },
    {
      "cell_type": "code",
      "execution_count": null,
      "metadata": {
        "colab": {
          "base_uri": "https://localhost:8080/"
        },
        "id": "qCZq9K-XJ0xN",
        "outputId": "6991daa5-3254-4886-a077-1518b75d8fdc"
      },
      "outputs": [
        {
          "data": {
            "text/plain": [
              "12"
            ]
          },
          "execution_count": 4,
          "metadata": {},
          "output_type": "execute_result"
        }
      ],
      "source": [
        "def mul(a,b):\n",
        "  if b==1:\n",
        "    return a\n",
        "  else:\n",
        "    return a+mul(a,b-1)\n",
        "mul(3,4)"
      ]
    },
    {
      "cell_type": "code",
      "execution_count": null,
      "metadata": {
        "colab": {
          "base_uri": "https://localhost:8080/",
          "height": 70
        },
        "id": "XC5twzl6pew8",
        "outputId": "aff173c4-096d-4e93-ae24-b004fdfa36f5"
      },
      "outputs": [
        {
          "name": "stdout",
          "output_type": "stream",
          "text": [
            "<__main__.person1 object at 0x785084138970>\n",
            "<class '__main__.person1'>\n"
          ]
        },
        {
          "data": {
            "application/vnd.google.colaboratory.intrinsic+json": {
              "type": "string"
            },
            "text/plain": [
              "'Name is Mahendra. Age is 25 and gender is Male'"
            ]
          },
          "execution_count": 10,
          "metadata": {},
          "output_type": "execute_result"
        }
      ],
      "source": [
        "import pickle\n",
        "class person1:\n",
        "  def __init__(self,person,age,gender):\n",
        "    self.person=person\n",
        "    self.age=age\n",
        "    self.gende=gender\n",
        "  def display(self):\n",
        "    return f\"Name is {self.person}. Age is {self.age} and gender is {self.gende}\"\n",
        "p1=person1(\"Mahendra\",25,\"Male\")\n",
        "with open(\"zameen.pkl\",\"wb\") as f1:\n",
        "  pickle.dump(p1,f1)\n",
        "with open(\"zameen.pkl\",\"rb\") as f2:\n",
        "  c=pickle.load(f2)\n",
        "  print(c)\n",
        "  print(type(c))\n",
        "c.display()"
      ]
    },
    {
      "cell_type": "code",
      "execution_count": null,
      "metadata": {
        "id": "KBCO2cq2p-k4"
      },
      "outputs": [],
      "source": [
        "import pickle\n",
        "#Serializing is converting complex python datatypes into a format that can be transported to another file. In python we use JSON and pickle for serialization. JSON can be easily used to\n",
        "# store and access the complex python datatypes(dictionary,list,string,int,float). Pickling is used to help custom objects retain their functionality by converting them into byte streams\n",
        "# These objects can be accessed also using pickle and can be used , all their methods and attributes can be invoked."
      ]
    },
    {
      "cell_type": "code",
      "execution_count": null,
      "metadata": {
        "colab": {
          "base_uri": "https://localhost:8080/"
        },
        "id": "Iyxm1v29vwC_",
        "outputId": "39e3aca5-2167-466f-b5b8-41682e2971de"
      },
      "outputs": [
        {
          "name": "stdout",
          "output_type": "stream",
          "text": [
            "{0: 1, 1: 1, 2: 2, 3: 3, 4: 5, 5: 8, 6: 13, 7: 21, 8: 34, 9: 55, 10: 89}\n"
          ]
        }
      ],
      "source": [
        "def memo(m,d):\n",
        "  if m in d:\n",
        "    return d[m]\n",
        "  else:\n",
        "    d[m]=memo(m-1,d)+memo(m-2,d)\n",
        "    return d[m]\n",
        "d={0:1,1:1}\n",
        "memo(10,d)\n",
        "print(d)\n",
        "# The time complexity of this is quite high because every new value is stored in dictionary as key value pair. Although a huge input can take an immense amount of space but it is still\n",
        "# a fine trade off for time complexity. Previously we had to perform the same tasks again and again which ended up increasing the time complexity at the end."
      ]
    },
    {
      "cell_type": "code",
      "execution_count": null,
      "metadata": {
        "colab": {
          "base_uri": "https://localhost:8080/"
        },
        "id": "QKxeTccD5vZ2",
        "outputId": "9fe27c7a-a98b-48b4-cca5-8003b92cb531"
      },
      "outputs": [
        {
          "name": "stdout",
          "output_type": "stream",
          "text": [
            "  He hits like a tracer bullet.\n"
          ]
        }
      ],
      "source": [
        "#  Write a function get_final_line(filename), which takes filename as input and return final line of the file.\n",
        "with open(\"mannu.txt\",\"w\") as f1:\n",
        "  f1.write(\"\"\"Who is MS Dhoni?\n",
        "  He is warrior.\n",
        "  He is a spartan.\n",
        "  He is a dark-knight.\n",
        "  He is GOD.\n",
        "  He hits like a tracer bullet.\"\"\")\n",
        "with open(\"mannu.txt\") as f2:\n",
        "  print(f2.readlines()[-1])"
      ]
    },
    {
      "cell_type": "code",
      "execution_count": null,
      "metadata": {
        "colab": {
          "base_uri": "https://localhost:8080/"
        },
        "id": "LWAFs3lqvvVb",
        "outputId": "59eb0cf1-f983-48d5-e02f-506ecff6071c"
      },
      "outputs": [
        {
          "name": "stdout",
          "output_type": "stream",
          "text": [
            "  He hits like a tracer bullet.\n",
            "  it doesnot matter\n"
          ]
        }
      ],
      "source": [
        "def get_final_line(fcc):\n",
        "  with open(fcc) as f2:\n",
        "    print(f2.readlines()[-1])\n",
        "get_final_line(\"mannu.txt\")\n",
        "get_final_line(\"mannu1.txt\")\n"
      ]
    },
    {
      "cell_type": "code",
      "execution_count": null,
      "metadata": {
        "id": "tSrqyVKzwEzX"
      },
      "outputs": [],
      "source": [
        "with open(\"mannu1.txt\",\"w\") as f2:\n",
        "  f2.write(\"\"\"How are you?\n",
        "  How have you been?\n",
        "  Well, he has been outstanding,\n",
        "  India's wins the worldcup after\n",
        "  28 years and this been an indian captain\n",
        "  who has been absolutely outstanding in\n",
        "  the final. Tredwell misses, dhoni misses but\n",
        "  it doesnot matter\"\"\")\n"
      ]
    },
    {
      "cell_type": "code",
      "execution_count": null,
      "metadata": {
        "colab": {
          "base_uri": "https://localhost:8080/",
          "height": 245
        },
        "id": "76WEy-Ea0HDw",
        "outputId": "daa2a48a-9113-42fd-82a5-bd8e182dcf2e"
      },
      "outputs": [
        {
          "ename": "KeyError",
          "evalue": "ignored",
          "output_type": "error",
          "traceback": [
            "\u001b[0;31m---------------------------------------------------------------------------\u001b[0m",
            "\u001b[0;31mKeyError\u001b[0m                                  Traceback (most recent call last)",
            "\u001b[0;32m<ipython-input-18-b515f1593a54>\u001b[0m in \u001b[0;36m<cell line: 3>\u001b[0;34m()\u001b[0m\n\u001b[1;32m      6\u001b[0m     \u001b[0;32mfor\u001b[0m \u001b[0mk\u001b[0m \u001b[0;32min\u001b[0m \u001b[0mz\u001b[0m\u001b[0;34m:\u001b[0m\u001b[0;34m\u001b[0m\u001b[0;34m\u001b[0m\u001b[0m\n\u001b[1;32m      7\u001b[0m       \u001b[0;32mif\u001b[0m \u001b[0mk\u001b[0m\u001b[0;34m.\u001b[0m\u001b[0mlower\u001b[0m\u001b[0;34m(\u001b[0m\u001b[0;34m)\u001b[0m \u001b[0;32min\u001b[0m \u001b[0;34m\"aeiou\"\u001b[0m\u001b[0;34m:\u001b[0m\u001b[0;34m\u001b[0m\u001b[0;34m\u001b[0m\u001b[0m\n\u001b[0;32m----> 8\u001b[0;31m         \u001b[0md\u001b[0m\u001b[0;34m[\u001b[0m\u001b[0mk\u001b[0m\u001b[0;34m]\u001b[0m\u001b[0;34m+=\u001b[0m\u001b[0;36m1\u001b[0m\u001b[0;34m\u001b[0m\u001b[0;34m\u001b[0m\u001b[0m\n\u001b[0m\u001b[1;32m      9\u001b[0m       \u001b[0;32melse\u001b[0m\u001b[0;34m:\u001b[0m\u001b[0;34m\u001b[0m\u001b[0;34m\u001b[0m\u001b[0m\n\u001b[1;32m     10\u001b[0m         \u001b[0md\u001b[0m\u001b[0;34m[\u001b[0m\u001b[0mk\u001b[0m\u001b[0;34m]\u001b[0m\u001b[0;34m=\u001b[0m\u001b[0;36m1\u001b[0m\u001b[0;34m\u001b[0m\u001b[0;34m\u001b[0m\u001b[0m\n",
            "\u001b[0;31mKeyError\u001b[0m: 'o'"
          ]
        }
      ],
      "source": [
        "# Q-2: Read through a text file, line by line. Use a dict to keep track of how many times each vowel (a, e, i, o, and u) appears in the file. Print the resulting tabulation -- dictionary.\n",
        "d={}\n",
        "with open(\"mannu.txt\") as f1:\n",
        "  c =f1.readlines()\n",
        "  for z in c:\n",
        "    for k in z:\n",
        "      if k.lower() in \"aeiou\":\n",
        "        d[k]+=1\n",
        "      else:\n",
        "        d[k]=1\n",
        "  print(d)\n",
        "# We are getting key error here as k is initially not even present in the dictionary , It is a complete mess on my behald. Let us correct it.\n"
      ]
    },
    {
      "cell_type": "code",
      "execution_count": null,
      "metadata": {
        "id": "lk6KMs8z5f_c"
      },
      "outputs": [],
      "source": [
        "if 'a' in d or 'A' in d:\n",
        "    d['a']+=1\n",
        "  elif 'e' in d or 'E' in d:\n",
        "    d['e']+=1\n",
        "  elif 'i' in d or 'I' in d:\n",
        "    d['i']+=1\n",
        "  elif 'o' in d or 'O' in d:\n",
        "    d['o']+=1\n",
        "  elif 'u' in d or 'U' in d:\n",
        "    d['u']+=1"
      ]
    },
    {
      "cell_type": "code",
      "execution_count": null,
      "metadata": {
        "colab": {
          "base_uri": "https://localhost:8080/"
        },
        "id": "PgFXYQkHATBr",
        "outputId": "92bb3bb8-9265-4e08-879a-e7700160b67d"
      },
      "outputs": [
        {
          "name": "stdout",
          "output_type": "stream",
          "text": [
            "aeiou\n"
          ]
        }
      ],
      "source": [
        "a=\"AEiou\"\n",
        "print(a.lower())"
      ]
    },
    {
      "cell_type": "code",
      "execution_count": null,
      "metadata": {
        "colab": {
          "base_uri": "https://localhost:8080/"
        },
        "id": "qL8fX6gsDNeT",
        "outputId": "3e36bcdb-4fc0-4599-987b-304aaa129628"
      },
      "outputs": [
        {
          "name": "stdout",
          "output_type": "stream",
          "text": [
            "{'a': 17, 'e': 23, 'i': 15, 'o': 12, 'u': 7}\n"
          ]
        }
      ],
      "source": [
        "# Q-2: Read through a text file, line by line. Use a dict to keep track of how many times each vowel (a, e, i, o, and u) appears in the file. Print the resulting tabulation -- dictionary.\n",
        "d={'a':0,'e':0,'i':0,'o':0,'u':0}\n",
        "with open(\"mannu1.txt\") as f1:\n",
        "  c=f1.readlines()\n",
        "  for k in c:\n",
        "    for l in k:\n",
        "      if l.lower() in \"aeiou\":\n",
        "        d[l.lower()]+=1\n",
        "print(d)"
      ]
    },
    {
      "cell_type": "code",
      "execution_count": null,
      "metadata": {
        "colab": {
          "base_uri": "https://localhost:8080/"
        },
        "id": "pir3kxkByu2Y",
        "outputId": "b45284bd-8556-46ed-850c-a5e692b33583"
      },
      "outputs": [
        {
          "name": "stdout",
          "output_type": "stream",
          "text": [
            "{'a': 8, 'e': 8, 'i': 10, 'o': 4, 'u': 1}\n"
          ]
        }
      ],
      "source": [
        "d={'a':0,'e':0,'i':0,'o':0,'u':0}\n",
        "with open(\"mannu.txt\") as f1:\n",
        "  c1=f1.readlines()\n",
        "  for k in c1:\n",
        "    for z in k:\n",
        "      if z.lower() in \"aeiou\":\n",
        "        d[z.lower()]+=1\n",
        "print(d)"
      ]
    },
    {
      "cell_type": "code",
      "execution_count": null,
      "metadata": {
        "colab": {
          "base_uri": "https://localhost:8080/"
        },
        "id": "FjyZgk8t2Rbe",
        "outputId": "8cbd0c9c-4ff3-438b-e970-4ef12386102f"
      },
      "outputs": [
        {
          "name": "stdout",
          "output_type": "stream",
          "text": [
            "['1\\t2\\n', '3\\t4\\n', '5\\t6\\n', '7\\t8\\n', '9\\t10']\n"
          ]
        }
      ],
      "source": [
        "# Q-3: Create a text file (using an editor, not necessarily Python) containing two tab separated columns, with each column containing a number. Then use Python to read through the file you’ve created. For each line, multiply each first number by the second and include it in the file in third column. In last add a line Total, by summing the value of third column\n",
        "k1=[\"1\\t2\\n\",\"3\\t4\\n\",\"5\\t6\\n\",\"7\\t8\\n\",\"9\\t10\"]\n",
        "with open(\"lambu.txt\",\"w\") as f1:\n",
        "  f1.writelines(k1)\n",
        "with open(\"lambu.txt\") as f1:\n",
        "  print(f1.readlines())"
      ]
    },
    {
      "cell_type": "code",
      "execution_count": null,
      "metadata": {
        "id": "Pzl_mTedSdO0"
      },
      "outputs": [],
      "source": [
        "k1=[\"1\\t2\\n\",\"3\\t4\\n\",\"5\\t6\\n\",\"7\\t8\\n\",\"9\\t10\"]\n",
        "with open(\"lambu.txt\",\"w\") as f1:\n",
        "  f1.writelines(k1)\n",
        "with open(\"lambu.txt\") as f1:\n",
        "  c1=f1.readlines()\n",
        "  u=[]\n",
        "  for z in c1:\n",
        "    k=int(z.split(\"\\t\")[0])*int(z.split(\"\\t\")[1].split(\"\\n\")[0])\n",
        "    a=int(z.split(\"\\t\")[0])\n",
        "    b=int(z.split(\"\\t\")[1].split(\"\\n\")[0])\n",
        "    mn=f\"{a}\\t{b}\\t{k}\\n\"\n",
        "    u.append(mn)\n",
        "  with open(\"lambu1.txt\",\"w\") as f2:\n",
        "    f2.writelines(u)\n",
        "\n"
      ]
    },
    {
      "cell_type": "code",
      "execution_count": null,
      "metadata": {
        "id": "24675X25oQqX"
      },
      "outputs": [],
      "source": [
        "k1=[\"1\\t2\\n\",\"3\\t4\\n\",\"5\\t6\\n\",\"7\\t8\\n\",\"9\\t10\\n\"]\n",
        "with open(\"lambu2.txt\",\"w\") as f1:\n",
        "  f1.writelines(k1)\n",
        "with open(\"lambu2.txt\") as f2:\n",
        "  c1=f2.readlines()\n",
        "  u=[]\n",
        "  for z in c1:\n",
        "    a=int(z.split(\"\\t\")[0])\n",
        "    b=int(z.split(\"\\t\")[1].split(\"\\n\")[0])\n",
        "    k=a*b\n",
        "    s=f\"{a}\\t{b}\\t{k}\\n\"\n",
        "    u.append(s)\n",
        "  with open(\"lambu3.txt\",\"w\") as f3:\n",
        "    f3.writelines(u)"
      ]
    },
    {
      "cell_type": "code",
      "execution_count": null,
      "metadata": {
        "colab": {
          "base_uri": "https://localhost:8080/"
        },
        "id": "Phh_C4GAstp8",
        "outputId": "217a72ed-5e11-4777-99d6-51168fe064f5"
      },
      "outputs": [
        {
          "name": "stdout",
          "output_type": "stream",
          "text": [
            "['abc\\tdef\\n', 'ghi\\tjkl\\n']\n"
          ]
        }
      ],
      "source": [
        "# Q-4: Create line wise reverse of a file\n",
        "# Write a function which takes two arguments: the names of the input file (to be read from) and the output file (which will be created).\n",
        "m12=[\"abc\\tdef\\n\",\"ghi\\tjkl\\n\"]\n",
        "with open(\"mahendra.txt\",\"w\") as f1:\n",
        "  f1.writelines(m12)\n",
        "with open(\"mahendra.txt\") as f2:\n",
        "  c11=f2.readlines()\n",
        "  print(c11)\n",
        "  l11=[]\n",
        "  for z in c11:\n",
        "    z=z.strip()\n",
        "    z=z[-1::-1]\n",
        "    k=f\"{z}\\n\"\n",
        "    l11.append(k)\n",
        "  with open(\"mohan.txt\",\"w\") as f3:\n",
        "    f3.writelines(l11)\n",
        "\n",
        "\n",
        "\n",
        "\n",
        "\n",
        "\n"
      ]
    },
    {
      "cell_type": "code",
      "execution_count": null,
      "metadata": {
        "colab": {
          "base_uri": "https://localhost:8080/"
        },
        "id": "JbGG9sUiFGnn",
        "outputId": "5f8d4c26-f408-4611-f39d-d4be0e5b196d"
      },
      "outputs": [
        {
          "data": {
            "text/plain": [
              "[3, 2, 1]"
            ]
          },
          "execution_count": 6,
          "metadata": {},
          "output_type": "execute_result"
        }
      ],
      "source": [
        "a=[1,2,3]\n",
        "a[-1::-1]"
      ]
    },
    {
      "cell_type": "code",
      "execution_count": null,
      "metadata": {
        "colab": {
          "base_uri": "https://localhost:8080/",
          "height": 36
        },
        "id": "ZG6M01jSK4_z",
        "outputId": "d1dd3569-10b7-4209-c70b-2890dc7ba64f"
      },
      "outputs": [
        {
          "data": {
            "application/vnd.google.colaboratory.intrinsic+json": {
              "type": "string"
            },
            "text/plain": [
              "'4321'"
            ]
          },
          "execution_count": 14,
          "metadata": {},
          "output_type": "execute_result"
        }
      ],
      "source": [
        "a=\"1234\"\n",
        "a[-1::-1]"
      ]
    },
    {
      "cell_type": "code",
      "execution_count": null,
      "metadata": {
        "colab": {
          "base_uri": "https://localhost:8080/"
        },
        "id": "F31CulVRlabi",
        "outputId": "743e6318-493f-4e77-93b2-d87d2d4ad24c"
      },
      "outputs": [
        {
          "name": "stdout",
          "output_type": "stream",
          "text": [
            "['fed\\tcba\\n', 'lkj\\tihg\\n']\n"
          ]
        }
      ],
      "source": [
        "h11=[\"abc\\tdef\\n\",\"ghi\\tjkl\\n\"]\n",
        "with open(\"ahom.txt\",\"w\") as f1:\n",
        "  f1.writelines(h11)\n",
        "with open(\"ahom.txt\") as f2:\n",
        "  c11=f2.readlines()\n",
        "  l11=[]\n",
        "  for z in c11:\n",
        "    z=z.strip()\n",
        "    z=z[-1::-1]\n",
        "    k=f\"{z}\\n\"\n",
        "    l11.append(k)\n",
        "  print(l11)\n",
        "  with open(\"ahom1.txt\",\"w\") as f1:\n",
        "    f1.writelines(l11)\n"
      ]
    },
    {
      "cell_type": "code",
      "execution_count": null,
      "metadata": {
        "colab": {
          "base_uri": "https://localhost:8080/"
        },
        "id": "nCeHQppjDnDx",
        "outputId": "0298ceb3-a879-4363-bea6-dd967315e796"
      },
      "outputs": [
        {
          "name": "stdout",
          "output_type": "stream",
          "text": [
            "{'alice': 4, 'natural': 1}\n"
          ]
        }
      ],
      "source": [
        "# Q-5: Create a Serialized dict of frequency of words in the file. And from given list of words, using serialized dict show word count.\n",
        "strings = \"\"\"Alice was beginning to get very tired of sitting by her sister\n",
        "            on the bank, and of having nothing to do:  once or twice she had\n",
        "            peeped into the book her sister was reading, but it had no\n",
        "            pictures or conversations in it, `and what is the use of a book,'\n",
        "            thought Alice `without pictures or conversation?'\n",
        "\n",
        "            So she was considering in her own mind (as well as she could,\n",
        "            for the hot day made her feel very sleepy and stupid), whether\n",
        "            the pleasure of making a daisy-chain would be worth the trouble\n",
        "            of getting up and picking the daisies, when suddenly a White\n",
        "            Rabbit with pink eyes ran close by her.\n",
        "\n",
        "            There was nothing so VERY remarkable in that; nor did Alice\n",
        "            think it so VERY much out of the way to hear the Rabbit say to\n",
        "            itself, `Oh dear!  Oh dear!  I shall be late!'  (when she thought\n",
        "            it over afterwards, it occurred to her that she ought to have\n",
        "            wondered at this, but at the time it all seemed quite natural);\n",
        "            but when the Rabbit actually TOOK A WATCH OUT OF ITS WAISTCOAT-\n",
        "            POCKET, and looked at it, and then hurried on, Alice started to\n",
        "            her feet, for it flashed across her mind that she had never\n",
        "            before seen a rabbit with either a waistcoat-pocket, or a watch to\n",
        "            take out of it, and burning with curiosity, she ran across the\n",
        "            field after it, and fortunately was just in time to see it pop\n",
        "            down a large rabbit-hole under the hedge.\"\"\"\n",
        "\n",
        "word_list = ['alice', 'wonder', 'natural']\n",
        "with open(\"kumbhal.txt\",\"w\") as f1:\n",
        "  f1.write(strings)\n",
        "with open(\"kumbhal.txt\") as f2:\n",
        "  k22={}\n",
        "  c11=f2.readlines()\n",
        "  for z in c11:\n",
        "    c12=z.split()\n",
        "    for k in c12:\n",
        "      k=k.replace('(','')\n",
        "      k=k.replace(')','')\n",
        "      k=k.replace(';','')\n",
        "\n",
        "      if k.lower() in word_list and k.lower() in k22:\n",
        "        k22[k.lower()]+=1\n",
        "      elif k.lower() in word_list and k.lower() not in k22:\n",
        "        k22[k.lower()]=1\n",
        "\n",
        "print(k22)"
      ]
    },
    {
      "cell_type": "code",
      "execution_count": null,
      "metadata": {
        "colab": {
          "base_uri": "https://localhost:8080/"
        },
        "id": "t7l1WBY5PFaD",
        "outputId": "98d33c6b-7ed1-4536-8731-30f5dd06579a"
      },
      "outputs": [
        {
          "name": "stdout",
          "output_type": "stream",
          "text": [
            "{'alice': 4, 'natural': 1}\n"
          ]
        }
      ],
      "source": [
        "strings = \"\"\"Alice was beginning to get very tired of sitting by her sister\n",
        "            on the bank, and of having nothing to do:  once or twice she had\n",
        "            peeped into the book her sister was reading, but it had no\n",
        "            pictures or conversations in it, `and what is the use of a book,'\n",
        "            thought Alice `without pictures or conversation?'\n",
        "\n",
        "            So she was considering in her own mind (as well as she could,\n",
        "            for the hot day made her feel very sleepy and stupid), whether\n",
        "            the pleasure of making a daisy-chain would be worth the trouble\n",
        "            of getting up and picking the daisies, when suddenly a White\n",
        "            Rabbit with pink eyes ran close by her.\n",
        "\n",
        "            There was nothing so VERY remarkable in that; nor did Alice\n",
        "            think it so VERY much out of the way to hear the Rabbit say to\n",
        "            itself, `Oh dear!  Oh dear!  I shall be late!'  (when she thought\n",
        "            it over afterwards, it occurred to her that she ought to have\n",
        "            wondered at this, but at the time it all seemed quite natural);\n",
        "            but when the Rabbit actually TOOK A WATCH OUT OF ITS WAISTCOAT-\n",
        "            POCKET, and looked at it, and then hurried on, Alice started to\n",
        "            her feet, for it flashed across her mind that she had never\n",
        "            before seen a rabbit with either a waistcoat-pocket, or a watch to\n",
        "            take out of it, and burning with curiosity, she ran across the\n",
        "            field after it, and fortunately was just in time to see it pop\n",
        "            down a large rabbit-hole under the hedge.\"\"\"\n",
        "\n",
        "word_list = ['alice', 'wonder', 'natural']\n",
        "with open(\"kumbhal.txt\",\"w\") as f1:\n",
        "  f1.write(strings)\n",
        "with open(\"kumbhal.txt\") as f2:\n",
        "  k22={}\n",
        "  c11=f2.readlines()\n",
        "  for z in c11:\n",
        "    c12=z.split()\n",
        "    for k in c12:\n",
        "      k=k.replace('(','')\n",
        "      k=k.replace(')','')\n",
        "      k=k.replace(';','')\n",
        "      if k.lower() in word_list and k.lower() not in k22:\n",
        "        k22[k.lower()]=1\n",
        "\n",
        "\n",
        "      elif k.lower() in word_list and k.lower() in k22:\n",
        "        k22[k.lower()]+=1\n",
        "\n",
        "\n",
        "print(k22)"
      ]
    },
    {
      "cell_type": "code",
      "execution_count": null,
      "metadata": {
        "colab": {
          "base_uri": "https://localhost:8080/"
        },
        "id": "5xALjBRyoa2R",
        "outputId": "ef413d73-e463-4a7f-ed5c-f4345da52d87"
      },
      "outputs": [
        {
          "name": "stdout",
          "output_type": "stream",
          "text": [
            "{'alice': 4, 'natural': 1}\n"
          ]
        }
      ],
      "source": [
        "strings = \"\"\"Alice was beginning to get very tired of sitting by her sister\n",
        "            on the bank, and of having nothing to do:  once or twice she had\n",
        "            peeped into the book her sister was reading, but it had no\n",
        "            pictures or conversations in it, `and what is the use of a book,'\n",
        "            thought Alice `without pictures or conversation?'\n",
        "\n",
        "            So she was considering in her own mind (as well as she could,\n",
        "            for the hot day made her feel very sleepy and stupid), whether\n",
        "            the pleasure of making a daisy-chain would be worth the trouble\n",
        "            of getting up and picking the daisies, when suddenly a White\n",
        "            Rabbit with pink eyes ran close by her.\n",
        "\n",
        "            There was nothing so VERY remarkable in that; nor did Alice\n",
        "            think it so VERY much out of the way to hear the Rabbit say to\n",
        "            itself, `Oh dear!  Oh dear!  I shall be late!'  (when she thought\n",
        "            it over afterwards, it occurred to her that she ought to have\n",
        "            wondered at this, but at the time it all seemed quite natural);\n",
        "            but when the Rabbit actually TOOK A WATCH OUT OF ITS WAISTCOAT-\n",
        "            POCKET, and looked at it, and then hurried on, Alice started to\n",
        "            her feet, for it flashed across her mind that she had never\n",
        "            before seen a rabbit with either a waistcoat-pocket, or a watch to\n",
        "            take out of it, and burning with curiosity, she ran across the\n",
        "            field after it, and fortunately was just in time to see it pop\n",
        "            down a large rabbit-hole under the hedge.\"\"\"\n",
        "\n",
        "word_list = ['alice', 'wonder', 'natural']\n",
        "d11={}\n",
        "with open(\"kumbhal1.txt\",\"w\") as f1:\n",
        "  f1.write(strings)\n",
        "with open(\"kumbhal1.txt\") as f2:\n",
        "  c11=f2.read()\n",
        "  k=c11.split()\n",
        "  for z in k:\n",
        "    z=z.strip()\n",
        "    z=z.replace(\";\",\"\")\n",
        "    z=z.replace(')',\"\")\n",
        "    z=z.replace('(',\"\")\n",
        "    z=z.replace(\"?\",\"\")\n",
        "    z=z.replace(\",\",\"\")\n",
        "    z=z.replace(\"!\",\"\")\n",
        "    if z.lower() in word_list and z.lower() in d11:\n",
        "      d11[z.lower()]+=1\n",
        "    elif z.lower() in word_list and z.lower() not in d11:\n",
        "      d11[z.lower()]=1\n",
        "print(d11)\n",
        "\n"
      ]
    },
    {
      "cell_type": "code",
      "execution_count": null,
      "metadata": {
        "colab": {
          "base_uri": "https://localhost:8080/"
        },
        "id": "K2mLRpj7IrPM",
        "outputId": "31511b8b-191d-4e67-be59-c8fe5a81bc85"
      },
      "outputs": [
        {
          "name": "stdout",
          "output_type": "stream",
          "text": [
            "True\n"
          ]
        }
      ],
      "source": [
        "a=\"\"\n",
        "print(a==\"\")"
      ]
    },
    {
      "cell_type": "code",
      "execution_count": null,
      "metadata": {
        "colab": {
          "base_uri": "https://localhost:8080/",
          "height": 511
        },
        "id": "4lJ1Eie2vkDc",
        "outputId": "30be0a27-13be-4892-dc7f-2d88e1561201"
      },
      "outputs": [
        {
          "name": "stdout",
          "output_type": "stream",
          "text": [
            "m\n",
            "a\n",
            "h\n",
            "e\n",
            "n\n",
            "d\n",
            "r\n",
            "a\n"
          ]
        },
        {
          "ename": "IndexError",
          "evalue": "ignored",
          "output_type": "error",
          "traceback": [
            "\u001b[0;31m---------------------------------------------------------------------------\u001b[0m",
            "\u001b[0;31mIndexError\u001b[0m                                Traceback (most recent call last)",
            "\u001b[0;32m<ipython-input-6-34ccf142fa31>\u001b[0m in \u001b[0;36m<cell line: 9>\u001b[0;34m()\u001b[0m\n\u001b[1;32m      7\u001b[0m     \u001b[0ml\u001b[0m\u001b[0;34m+=\u001b[0m\u001b[0;36m1\u001b[0m\u001b[0;34m\u001b[0m\u001b[0;34m\u001b[0m\u001b[0m\n\u001b[1;32m      8\u001b[0m     \u001b[0mlenstr\u001b[0m\u001b[0;34m(\u001b[0m\u001b[0mff\u001b[0m\u001b[0;34m[\u001b[0m\u001b[0;36m1\u001b[0m\u001b[0;34m:\u001b[0m\u001b[0;34m]\u001b[0m\u001b[0;34m)\u001b[0m\u001b[0;34m\u001b[0m\u001b[0;34m\u001b[0m\u001b[0m\n\u001b[0;32m----> 9\u001b[0;31m \u001b[0mlenstr\u001b[0m\u001b[0;34m(\u001b[0m\u001b[0;34m\"mahendra\"\u001b[0m\u001b[0;34m)\u001b[0m\u001b[0;34m\u001b[0m\u001b[0;34m\u001b[0m\u001b[0m\n\u001b[0m\u001b[1;32m     10\u001b[0m \u001b[0;34m\u001b[0m\u001b[0m\n",
            "\u001b[0;32m<ipython-input-6-34ccf142fa31>\u001b[0m in \u001b[0;36mlenstr\u001b[0;34m(ff, l)\u001b[0m\n\u001b[1;32m      6\u001b[0m   \u001b[0;32melse\u001b[0m\u001b[0;34m:\u001b[0m\u001b[0;34m\u001b[0m\u001b[0;34m\u001b[0m\u001b[0m\n\u001b[1;32m      7\u001b[0m     \u001b[0ml\u001b[0m\u001b[0;34m+=\u001b[0m\u001b[0;36m1\u001b[0m\u001b[0;34m\u001b[0m\u001b[0;34m\u001b[0m\u001b[0m\n\u001b[0;32m----> 8\u001b[0;31m     \u001b[0mlenstr\u001b[0m\u001b[0;34m(\u001b[0m\u001b[0mff\u001b[0m\u001b[0;34m[\u001b[0m\u001b[0;36m1\u001b[0m\u001b[0;34m:\u001b[0m\u001b[0;34m]\u001b[0m\u001b[0;34m)\u001b[0m\u001b[0;34m\u001b[0m\u001b[0;34m\u001b[0m\u001b[0m\n\u001b[0m\u001b[1;32m      9\u001b[0m \u001b[0mlenstr\u001b[0m\u001b[0;34m(\u001b[0m\u001b[0;34m\"mahendra\"\u001b[0m\u001b[0;34m)\u001b[0m\u001b[0;34m\u001b[0m\u001b[0;34m\u001b[0m\u001b[0m\n\u001b[1;32m     10\u001b[0m \u001b[0;34m\u001b[0m\u001b[0m\n",
            "\u001b[0;32m<ipython-input-6-34ccf142fa31>\u001b[0m in \u001b[0;36mlenstr\u001b[0;34m(ff, l)\u001b[0m\n\u001b[1;32m      6\u001b[0m   \u001b[0;32melse\u001b[0m\u001b[0;34m:\u001b[0m\u001b[0;34m\u001b[0m\u001b[0;34m\u001b[0m\u001b[0m\n\u001b[1;32m      7\u001b[0m     \u001b[0ml\u001b[0m\u001b[0;34m+=\u001b[0m\u001b[0;36m1\u001b[0m\u001b[0;34m\u001b[0m\u001b[0;34m\u001b[0m\u001b[0m\n\u001b[0;32m----> 8\u001b[0;31m     \u001b[0mlenstr\u001b[0m\u001b[0;34m(\u001b[0m\u001b[0mff\u001b[0m\u001b[0;34m[\u001b[0m\u001b[0;36m1\u001b[0m\u001b[0;34m:\u001b[0m\u001b[0;34m]\u001b[0m\u001b[0;34m)\u001b[0m\u001b[0;34m\u001b[0m\u001b[0;34m\u001b[0m\u001b[0m\n\u001b[0m\u001b[1;32m      9\u001b[0m \u001b[0mlenstr\u001b[0m\u001b[0;34m(\u001b[0m\u001b[0;34m\"mahendra\"\u001b[0m\u001b[0;34m)\u001b[0m\u001b[0;34m\u001b[0m\u001b[0;34m\u001b[0m\u001b[0m\n\u001b[1;32m     10\u001b[0m \u001b[0;34m\u001b[0m\u001b[0m\n",
            "\u001b[0;32m<ipython-input-6-34ccf142fa31>\u001b[0m in \u001b[0;36mlenstr\u001b[0;34m(ff, l)\u001b[0m\n\u001b[1;32m      6\u001b[0m   \u001b[0;32melse\u001b[0m\u001b[0;34m:\u001b[0m\u001b[0;34m\u001b[0m\u001b[0;34m\u001b[0m\u001b[0m\n\u001b[1;32m      7\u001b[0m     \u001b[0ml\u001b[0m\u001b[0;34m+=\u001b[0m\u001b[0;36m1\u001b[0m\u001b[0;34m\u001b[0m\u001b[0;34m\u001b[0m\u001b[0m\n\u001b[0;32m----> 8\u001b[0;31m     \u001b[0mlenstr\u001b[0m\u001b[0;34m(\u001b[0m\u001b[0mff\u001b[0m\u001b[0;34m[\u001b[0m\u001b[0;36m1\u001b[0m\u001b[0;34m:\u001b[0m\u001b[0;34m]\u001b[0m\u001b[0;34m)\u001b[0m\u001b[0;34m\u001b[0m\u001b[0;34m\u001b[0m\u001b[0m\n\u001b[0m\u001b[1;32m      9\u001b[0m \u001b[0mlenstr\u001b[0m\u001b[0;34m(\u001b[0m\u001b[0;34m\"mahendra\"\u001b[0m\u001b[0;34m)\u001b[0m\u001b[0;34m\u001b[0m\u001b[0;34m\u001b[0m\u001b[0m\n\u001b[1;32m     10\u001b[0m \u001b[0;34m\u001b[0m\u001b[0m\n",
            "\u001b[0;32m<ipython-input-6-34ccf142fa31>\u001b[0m in \u001b[0;36mlenstr\u001b[0;34m(ff, l)\u001b[0m\n\u001b[1;32m      6\u001b[0m   \u001b[0;32melse\u001b[0m\u001b[0;34m:\u001b[0m\u001b[0;34m\u001b[0m\u001b[0;34m\u001b[0m\u001b[0m\n\u001b[1;32m      7\u001b[0m     \u001b[0ml\u001b[0m\u001b[0;34m+=\u001b[0m\u001b[0;36m1\u001b[0m\u001b[0;34m\u001b[0m\u001b[0;34m\u001b[0m\u001b[0m\n\u001b[0;32m----> 8\u001b[0;31m     \u001b[0mlenstr\u001b[0m\u001b[0;34m(\u001b[0m\u001b[0mff\u001b[0m\u001b[0;34m[\u001b[0m\u001b[0;36m1\u001b[0m\u001b[0;34m:\u001b[0m\u001b[0;34m]\u001b[0m\u001b[0;34m)\u001b[0m\u001b[0;34m\u001b[0m\u001b[0;34m\u001b[0m\u001b[0m\n\u001b[0m\u001b[1;32m      9\u001b[0m \u001b[0mlenstr\u001b[0m\u001b[0;34m(\u001b[0m\u001b[0;34m\"mahendra\"\u001b[0m\u001b[0;34m)\u001b[0m\u001b[0;34m\u001b[0m\u001b[0;34m\u001b[0m\u001b[0m\n\u001b[1;32m     10\u001b[0m \u001b[0;34m\u001b[0m\u001b[0m\n",
            "\u001b[0;32m<ipython-input-6-34ccf142fa31>\u001b[0m in \u001b[0;36mlenstr\u001b[0;34m(ff, l)\u001b[0m\n\u001b[1;32m      6\u001b[0m   \u001b[0;32melse\u001b[0m\u001b[0;34m:\u001b[0m\u001b[0;34m\u001b[0m\u001b[0;34m\u001b[0m\u001b[0m\n\u001b[1;32m      7\u001b[0m     \u001b[0ml\u001b[0m\u001b[0;34m+=\u001b[0m\u001b[0;36m1\u001b[0m\u001b[0;34m\u001b[0m\u001b[0;34m\u001b[0m\u001b[0m\n\u001b[0;32m----> 8\u001b[0;31m     \u001b[0mlenstr\u001b[0m\u001b[0;34m(\u001b[0m\u001b[0mff\u001b[0m\u001b[0;34m[\u001b[0m\u001b[0;36m1\u001b[0m\u001b[0;34m:\u001b[0m\u001b[0;34m]\u001b[0m\u001b[0;34m)\u001b[0m\u001b[0;34m\u001b[0m\u001b[0;34m\u001b[0m\u001b[0m\n\u001b[0m\u001b[1;32m      9\u001b[0m \u001b[0mlenstr\u001b[0m\u001b[0;34m(\u001b[0m\u001b[0;34m\"mahendra\"\u001b[0m\u001b[0;34m)\u001b[0m\u001b[0;34m\u001b[0m\u001b[0;34m\u001b[0m\u001b[0m\n\u001b[1;32m     10\u001b[0m \u001b[0;34m\u001b[0m\u001b[0m\n",
            "\u001b[0;32m<ipython-input-6-34ccf142fa31>\u001b[0m in \u001b[0;36mlenstr\u001b[0;34m(ff, l)\u001b[0m\n\u001b[1;32m      6\u001b[0m   \u001b[0;32melse\u001b[0m\u001b[0;34m:\u001b[0m\u001b[0;34m\u001b[0m\u001b[0;34m\u001b[0m\u001b[0m\n\u001b[1;32m      7\u001b[0m     \u001b[0ml\u001b[0m\u001b[0;34m+=\u001b[0m\u001b[0;36m1\u001b[0m\u001b[0;34m\u001b[0m\u001b[0;34m\u001b[0m\u001b[0m\n\u001b[0;32m----> 8\u001b[0;31m     \u001b[0mlenstr\u001b[0m\u001b[0;34m(\u001b[0m\u001b[0mff\u001b[0m\u001b[0;34m[\u001b[0m\u001b[0;36m1\u001b[0m\u001b[0;34m:\u001b[0m\u001b[0;34m]\u001b[0m\u001b[0;34m)\u001b[0m\u001b[0;34m\u001b[0m\u001b[0;34m\u001b[0m\u001b[0m\n\u001b[0m\u001b[1;32m      9\u001b[0m \u001b[0mlenstr\u001b[0m\u001b[0;34m(\u001b[0m\u001b[0;34m\"mahendra\"\u001b[0m\u001b[0;34m)\u001b[0m\u001b[0;34m\u001b[0m\u001b[0;34m\u001b[0m\u001b[0m\n\u001b[1;32m     10\u001b[0m \u001b[0;34m\u001b[0m\u001b[0m\n",
            "\u001b[0;32m<ipython-input-6-34ccf142fa31>\u001b[0m in \u001b[0;36mlenstr\u001b[0;34m(ff, l)\u001b[0m\n\u001b[1;32m      6\u001b[0m   \u001b[0;32melse\u001b[0m\u001b[0;34m:\u001b[0m\u001b[0;34m\u001b[0m\u001b[0;34m\u001b[0m\u001b[0m\n\u001b[1;32m      7\u001b[0m     \u001b[0ml\u001b[0m\u001b[0;34m+=\u001b[0m\u001b[0;36m1\u001b[0m\u001b[0;34m\u001b[0m\u001b[0;34m\u001b[0m\u001b[0m\n\u001b[0;32m----> 8\u001b[0;31m     \u001b[0mlenstr\u001b[0m\u001b[0;34m(\u001b[0m\u001b[0mff\u001b[0m\u001b[0;34m[\u001b[0m\u001b[0;36m1\u001b[0m\u001b[0;34m:\u001b[0m\u001b[0;34m]\u001b[0m\u001b[0;34m)\u001b[0m\u001b[0;34m\u001b[0m\u001b[0;34m\u001b[0m\u001b[0m\n\u001b[0m\u001b[1;32m      9\u001b[0m \u001b[0mlenstr\u001b[0m\u001b[0;34m(\u001b[0m\u001b[0;34m\"mahendra\"\u001b[0m\u001b[0;34m)\u001b[0m\u001b[0;34m\u001b[0m\u001b[0;34m\u001b[0m\u001b[0m\n\u001b[1;32m     10\u001b[0m \u001b[0;34m\u001b[0m\u001b[0m\n",
            "\u001b[0;32m<ipython-input-6-34ccf142fa31>\u001b[0m in \u001b[0;36mlenstr\u001b[0;34m(ff, l)\u001b[0m\n\u001b[1;32m      6\u001b[0m   \u001b[0;32melse\u001b[0m\u001b[0;34m:\u001b[0m\u001b[0;34m\u001b[0m\u001b[0;34m\u001b[0m\u001b[0m\n\u001b[1;32m      7\u001b[0m     \u001b[0ml\u001b[0m\u001b[0;34m+=\u001b[0m\u001b[0;36m1\u001b[0m\u001b[0;34m\u001b[0m\u001b[0;34m\u001b[0m\u001b[0m\n\u001b[0;32m----> 8\u001b[0;31m     \u001b[0mlenstr\u001b[0m\u001b[0;34m(\u001b[0m\u001b[0mff\u001b[0m\u001b[0;34m[\u001b[0m\u001b[0;36m1\u001b[0m\u001b[0;34m:\u001b[0m\u001b[0;34m]\u001b[0m\u001b[0;34m)\u001b[0m\u001b[0;34m\u001b[0m\u001b[0;34m\u001b[0m\u001b[0m\n\u001b[0m\u001b[1;32m      9\u001b[0m \u001b[0mlenstr\u001b[0m\u001b[0;34m(\u001b[0m\u001b[0;34m\"mahendra\"\u001b[0m\u001b[0;34m)\u001b[0m\u001b[0;34m\u001b[0m\u001b[0;34m\u001b[0m\u001b[0m\n\u001b[1;32m     10\u001b[0m \u001b[0;34m\u001b[0m\u001b[0m\n",
            "\u001b[0;32m<ipython-input-6-34ccf142fa31>\u001b[0m in \u001b[0;36mlenstr\u001b[0;34m(ff, l)\u001b[0m\n\u001b[1;32m      1\u001b[0m \u001b[0;32mdef\u001b[0m \u001b[0mlenstr\u001b[0m\u001b[0;34m(\u001b[0m\u001b[0mff\u001b[0m\u001b[0;34m,\u001b[0m\u001b[0ml\u001b[0m\u001b[0;34m=\u001b[0m\u001b[0;36m0\u001b[0m\u001b[0;34m)\u001b[0m\u001b[0;34m:\u001b[0m\u001b[0;34m\u001b[0m\u001b[0;34m\u001b[0m\u001b[0m\n\u001b[0;32m----> 2\u001b[0;31m   \u001b[0ma\u001b[0m\u001b[0;34m=\u001b[0m\u001b[0mff\u001b[0m\u001b[0;34m[\u001b[0m\u001b[0;36m0\u001b[0m\u001b[0;34m]\u001b[0m\u001b[0;34m\u001b[0m\u001b[0;34m\u001b[0m\u001b[0m\n\u001b[0m\u001b[1;32m      3\u001b[0m   \u001b[0mprint\u001b[0m\u001b[0;34m(\u001b[0m\u001b[0ma\u001b[0m\u001b[0;34m)\u001b[0m\u001b[0;34m\u001b[0m\u001b[0;34m\u001b[0m\u001b[0m\n\u001b[1;32m      4\u001b[0m   \u001b[0;32mif\u001b[0m \u001b[0ma\u001b[0m\u001b[0;34m==\u001b[0m\u001b[0;34m\"\"\u001b[0m\u001b[0;34m:\u001b[0m\u001b[0;34m\u001b[0m\u001b[0;34m\u001b[0m\u001b[0m\n\u001b[1;32m      5\u001b[0m     \u001b[0;32mreturn\u001b[0m \u001b[0ml\u001b[0m\u001b[0;34m\u001b[0m\u001b[0;34m\u001b[0m\u001b[0m\n",
            "\u001b[0;31mIndexError\u001b[0m: string index out of range"
          ]
        }
      ],
      "source": [
        "def lenstr(ff,l=0):\n",
        "  a=ff[0]\n",
        "  print(a)\n",
        "  if a==\"\":\n",
        "    return l\n",
        "  else:\n",
        "    l+=1\n",
        "    lenstr(ff[1:])\n",
        "lenstr(\"mahendra\")\n",
        "\n"
      ]
    },
    {
      "cell_type": "code",
      "execution_count": null,
      "metadata": {
        "colab": {
          "base_uri": "https://localhost:8080/",
          "height": 210
        },
        "id": "6jY546ZJ5eMS",
        "outputId": "f9c908dd-d252-4c48-a5dc-d0f9b6f72bea"
      },
      "outputs": [
        {
          "ename": "IndexError",
          "evalue": "ignored",
          "output_type": "error",
          "traceback": [
            "\u001b[0;31m---------------------------------------------------------------------------\u001b[0m",
            "\u001b[0;31mIndexError\u001b[0m                                Traceback (most recent call last)",
            "\u001b[0;32m<ipython-input-13-bd71a3cf64b8>\u001b[0m in \u001b[0;36m<cell line: 2>\u001b[0;34m()\u001b[0m\n\u001b[1;32m      1\u001b[0m \u001b[0ma1\u001b[0m\u001b[0;34m=\u001b[0m\u001b[0;34m\"1\"\u001b[0m\u001b[0;34m\u001b[0m\u001b[0;34m\u001b[0m\u001b[0m\n\u001b[0;32m----> 2\u001b[0;31m \u001b[0ma\u001b[0m\u001b[0;34m=\u001b[0m\u001b[0ma1\u001b[0m\u001b[0;34m[\u001b[0m\u001b[0;36m1\u001b[0m\u001b[0;34m]\u001b[0m\u001b[0;34m\u001b[0m\u001b[0;34m\u001b[0m\u001b[0m\n\u001b[0m\u001b[1;32m      3\u001b[0m \u001b[0mprint\u001b[0m\u001b[0;34m(\u001b[0m\u001b[0ma\u001b[0m\u001b[0;34m)\u001b[0m\u001b[0;34m\u001b[0m\u001b[0;34m\u001b[0m\u001b[0m\n",
            "\u001b[0;31mIndexError\u001b[0m: string index out of range"
          ]
        }
      ],
      "source": [
        "a1=\"1\"\n",
        "a=a1[1]\n",
        "print(a)"
      ]
    },
    {
      "cell_type": "code",
      "execution_count": null,
      "metadata": {
        "colab": {
          "base_uri": "https://localhost:8080/"
        },
        "id": "GxUF3F1p69xe",
        "outputId": "41593c74-c1b9-4ea9-9e31-cb7e18a6a64d"
      },
      "outputs": [
        {
          "name": "stdout",
          "output_type": "stream",
          "text": [
            "ok\n"
          ]
        }
      ],
      "source": [
        "a1=\"hjk\"\n",
        "\n",
        "if not a1:\n",
        "  print(\"aamy\")\n",
        "else:\n",
        "  print(\"ok\")"
      ]
    },
    {
      "cell_type": "code",
      "execution_count": null,
      "metadata": {
        "colab": {
          "base_uri": "https://localhost:8080/",
          "height": 36
        },
        "id": "E8LQLyiS-G-A",
        "outputId": "c46a6fca-489c-47b7-c1a2-9ff9011f37d4"
      },
      "outputs": [
        {
          "data": {
            "application/vnd.google.colaboratory.intrinsic+json": {
              "type": "string"
            },
            "text/plain": [
              "'uk'"
            ]
          },
          "execution_count": 20,
          "metadata": {},
          "output_type": "execute_result"
        }
      ],
      "source": [
        "def smm(k):\n",
        "  if k==\"amy\":\n",
        "    return \"uk\"\n",
        "  else:\n",
        "    return \"amjh\"\n",
        "smm(\"amy\")"
      ]
    },
    {
      "cell_type": "code",
      "execution_count": null,
      "metadata": {
        "colab": {
          "base_uri": "https://localhost:8080/",
          "height": 331
        },
        "id": "GYiAMocTC973",
        "outputId": "0b355b36-925b-4f5a-9125-e076da99cf46"
      },
      "outputs": [
        {
          "ename": "UnboundLocalError",
          "evalue": "ignored",
          "output_type": "error",
          "traceback": [
            "\u001b[0;31m---------------------------------------------------------------------------\u001b[0m",
            "\u001b[0;31mUnboundLocalError\u001b[0m                         Traceback (most recent call last)",
            "\u001b[0;32m<ipython-input-32-b9669a2170be>\u001b[0m in \u001b[0;36m<cell line: 12>\u001b[0;34m()\u001b[0m\n\u001b[1;32m     10\u001b[0m     \u001b[0mprint\u001b[0m\u001b[0;34m(\u001b[0m\u001b[0;34m\"a\"\u001b[0m\u001b[0;34m)\u001b[0m\u001b[0;34m\u001b[0m\u001b[0;34m\u001b[0m\u001b[0m\n\u001b[1;32m     11\u001b[0m \u001b[0ml\u001b[0m\u001b[0;34m=\u001b[0m\u001b[0;36m0\u001b[0m\u001b[0;34m\u001b[0m\u001b[0;34m\u001b[0m\u001b[0m\n\u001b[0;32m---> 12\u001b[0;31m \u001b[0mprint\u001b[0m\u001b[0;34m(\u001b[0m\u001b[0mlenstr\u001b[0m\u001b[0;34m(\u001b[0m\u001b[0;34m\"mahendra\"\u001b[0m\u001b[0;34m)\u001b[0m\u001b[0;34m)\u001b[0m\u001b[0;34m\u001b[0m\u001b[0;34m\u001b[0m\u001b[0m\n\u001b[0m",
            "\u001b[0;32m<ipython-input-32-b9669a2170be>\u001b[0m in \u001b[0;36mlenstr\u001b[0;34m(ff)\u001b[0m\n\u001b[1;32m      5\u001b[0m     \u001b[0;32mreturn\u001b[0m \u001b[0ml\u001b[0m\u001b[0;34m\u001b[0m\u001b[0;34m\u001b[0m\u001b[0m\n\u001b[1;32m      6\u001b[0m   \u001b[0;32melse\u001b[0m\u001b[0;34m:\u001b[0m\u001b[0;34m\u001b[0m\u001b[0;34m\u001b[0m\u001b[0m\n\u001b[0;32m----> 7\u001b[0;31m     \u001b[0ml\u001b[0m\u001b[0;34m+=\u001b[0m\u001b[0;36m1\u001b[0m\u001b[0;34m\u001b[0m\u001b[0;34m\u001b[0m\u001b[0m\n\u001b[0m\u001b[1;32m      8\u001b[0m     \u001b[0mlenstr\u001b[0m\u001b[0;34m(\u001b[0m\u001b[0mff\u001b[0m\u001b[0;34m[\u001b[0m\u001b[0;36m1\u001b[0m\u001b[0;34m:\u001b[0m\u001b[0;34m]\u001b[0m\u001b[0;34m)\u001b[0m\u001b[0;34m\u001b[0m\u001b[0;34m\u001b[0m\u001b[0m\n\u001b[1;32m      9\u001b[0m     \u001b[0mprint\u001b[0m\u001b[0;34m(\u001b[0m\u001b[0ml\u001b[0m\u001b[0;34m)\u001b[0m\u001b[0;34m\u001b[0m\u001b[0;34m\u001b[0m\u001b[0m\n",
            "\u001b[0;31mUnboundLocalError\u001b[0m: local variable 'l' referenced before assignment"
          ]
        }
      ],
      "source": [
        "l=0\n",
        "def lenstr(ff):\n",
        "  if ff==\"\":\n",
        "    print(\"b\")\n",
        "    return l\n",
        "  else:\n",
        "    l+=1\n",
        "    lenstr(ff[1:])\n",
        "    print(l)\n",
        "    print(\"a\")\n",
        "l=0\n",
        "print(lenstr(\"mahendra\"))\n"
      ]
    },
    {
      "cell_type": "code",
      "execution_count": null,
      "metadata": {
        "colab": {
          "base_uri": "https://localhost:8080/",
          "height": 36
        },
        "id": "ev_NWdpBIYcS",
        "outputId": "f26f1405-9cc3-415e-b105-c50150970a9d"
      },
      "outputs": [
        {
          "data": {
            "application/vnd.google.colaboratory.intrinsic+json": {
              "type": "string"
            },
            "text/plain": [
              "'  why should he?'"
            ]
          },
          "execution_count": 37,
          "metadata": {},
          "output_type": "execute_result"
        }
      ],
      "source": [
        "# Q-1: Write a function get_final_line(filename), which takes filename as input and return final line of the file.\n",
        "with open(\"human.txt\",\"w\") as f1:\n",
        "  f1.write(\"\"\" Who is he?\n",
        "  when is he?what is he?\n",
        "  How will he , when should he?\n",
        "  why should he?\"\"\")\n",
        "def get_final_line(mss):\n",
        "  f11=open(mss)\n",
        "  return f11.readlines()[-1]\n",
        "  f11.close()\n",
        "get_final_line(\"human.txt\")\n",
        "# This is one of the methods to do it but this process is not feasible especially when we are dealing with large files, then it wont be possible to store that huge file into the buffer memory\n",
        "# for temporary storage at once\n",
        "\n"
      ]
    },
    {
      "cell_type": "code",
      "execution_count": null,
      "metadata": {
        "colab": {
          "base_uri": "https://localhost:8080/",
          "height": 36
        },
        "id": "yBAfuMFoT9a6",
        "outputId": "11f70338-b9a2-43df-f613-46624fd33aa6"
      },
      "outputs": [
        {
          "data": {
            "application/vnd.google.colaboratory.intrinsic+json": {
              "type": "string"
            },
            "text/plain": [
              "'  why should he?'"
            ]
          },
          "execution_count": 3,
          "metadata": {},
          "output_type": "execute_result"
        }
      ],
      "source": [
        "with open(\"human.txt\",\"w\") as f1:\n",
        "  f1.write(\"\"\"Who is he?\n",
        "  when is he?What is he?\n",
        "  How will he, when should he?\n",
        "  why should he?\"\"\")\n",
        "def get_final_lines(mss):\n",
        "  for cnn in open(mss):\n",
        "    c1=cnn\n",
        "  return c1\n",
        "get_final_lines(\"human.txt\")\n",
        "# This way we dont put pressure on buffer memory by reading all at once... we read it line by line one by one... for cnn in open(mss) is actually a iterator which goes line by line"
      ]
    },
    {
      "cell_type": "code",
      "execution_count": null,
      "metadata": {
        "colab": {
          "base_uri": "https://localhost:8080/"
        },
        "id": "giDYevA69GaH",
        "outputId": "c23dff57-e633-49e2-97a3-dcc5faf86e7a"
      },
      "outputs": [
        {
          "data": {
            "text/plain": [
              "{'a': 29, 'e': 41, 'i': 18, 'o': 29, 'u': 11}"
            ]
          },
          "execution_count": 1,
          "metadata": {},
          "output_type": "execute_result"
        }
      ],
      "source": [
        "# Q-2: Read through a text file, line by line. Use a dict to keep track of how many times each vowel (a, e, i, o, and u) appears in the file. Print the resulting tabulation -- dictionary.\n",
        "with open(\"lucky.txt\",\"w\") as f1:\n",
        "  f1.write(\"\"\"Who is he?Where is he?\n",
        "  Is he a warrior but when will he go?\n",
        "  Once upon a time there used to be house\n",
        "  full of warriors but now the charm seems to have\n",
        "  faded, we together will revive it and safeguard our\n",
        "  honour because zahir is yet to face a foe for more formidable\n",
        "  than the afghan or any other natives of india, the rajput\n",
        "  is always ready to come face to face and lay down his\n",
        "  life for honor\"\"\")\n",
        "def vowel_counter(mss):\n",
        "  c1=['a','e','i','o','u']\n",
        "  d11={i:0 for i in c1}\n",
        "  for cnt in open(mss):\n",
        "    for ch in cnt:\n",
        "      if ch in c1:\n",
        "        d11[ch]+=1\n",
        "  return d11\n",
        "vowel_counter(\"lucky.txt\")"
      ]
    },
    {
      "cell_type": "code",
      "execution_count": null,
      "metadata": {
        "colab": {
          "base_uri": "https://localhost:8080/"
        },
        "id": "huxwxw3IM-9J",
        "outputId": "8104d15f-a00e-4e55-926d-99ec114730f7"
      },
      "outputs": [
        {
          "data": {
            "text/plain": [
              "{'a': 7, 'e': 13, 'i': 6, 'o': 11, 'u': 4}"
            ]
          },
          "execution_count": 2,
          "metadata": {},
          "output_type": "execute_result"
        }
      ],
      "source": [
        "with open(\"zhamu.txt\",\"w\") as f1:\n",
        "  f1.write(\"\"\"Who is he?\n",
        "  when is he?\n",
        "  why is he, Let us go out and do our best\n",
        "  because there is no tommrow Rambo. A warrior came\n",
        "  alongside me\"\"\")\n",
        "def vowel_counter(mss):\n",
        "  c1=['a','e','i','o','u']\n",
        "  d11={i:0 for i in c1}\n",
        "  for cmn in open(mss):\n",
        "    for ch in cmn:\n",
        "      if ch.lower() in c1:\n",
        "        d11[ch.lower()]+=1\n",
        "  return d11\n",
        "vowel_counter(\"zhamu.txt\")"
      ]
    },
    {
      "cell_type": "code",
      "execution_count": null,
      "metadata": {
        "colab": {
          "base_uri": "https://localhost:8080/"
        },
        "id": "sH_ogE_jP0VK",
        "outputId": "6c8d5b4a-6d07-4a6d-c0aa-ca4eddc557d5"
      },
      "outputs": [
        {
          "data": {
            "text/plain": [
              "2"
            ]
          },
          "execution_count": 3,
          "metadata": {},
          "output_type": "execute_result"
        }
      ],
      "source": [
        "a=\"2\\n\"\n",
        "int(a)"
      ]
    },
    {
      "cell_type": "code",
      "execution_count": null,
      "metadata": {
        "colab": {
          "base_uri": "https://localhost:8080/"
        },
        "id": "yAMBHtsOUR9a",
        "outputId": "06baf1fb-235e-4b3a-8e4f-58ffc4511e71"
      },
      "outputs": [
        {
          "data": {
            "text/plain": [
              "2"
            ]
          },
          "execution_count": 4,
          "metadata": {},
          "output_type": "execute_result"
        }
      ],
      "source": [
        "a1=\"\\t2\\n\"\n",
        "int(a1)"
      ]
    },
    {
      "cell_type": "code",
      "execution_count": null,
      "metadata": {
        "id": "K2ksh72Ov2uv"
      },
      "outputs": [],
      "source": [
        "# Q3\n",
        "with open(\"jhamu.txt\",\"w\") as f1:\n",
        "  for i in range(1,11,2):\n",
        "    f1.write(f\"{i}\\t{i+1}\\n\")\n",
        "with open(\"jhamu.txt\") as f2:\n",
        "  lines=f2.readlines()\n",
        "l12=[]\n",
        "total=0\n",
        "with open(\"jhamu.txt\",\"w\") as f1:\n",
        "  for ch in lines:\n",
        "    a,b=ch.split(\"\\t\")\n",
        "    k=int(a)*int(b)\n",
        "    total+=k\n",
        "    f1.write(f\"{a}\\t{int(b)}\\t{k}\\n\")\n",
        "  f1.write(f\"Total\\t{total}\")\n",
        "# The error has been corrected\n"
      ]
    },
    {
      "cell_type": "code",
      "execution_count": null,
      "metadata": {
        "id": "ZG5R7AH1Oxrj"
      },
      "outputs": [],
      "source": [
        "# Q4\n",
        "with open(\"sample1.txt\",\"w\") as f1:\n",
        "  f1.write(\"\"\"     Who is this?\n",
        "             why is he\n",
        "             when is he\n",
        "             Hit the next 5 balls for 5 sixes\n",
        "             When will you suceed\n",
        "             There is still a lot to do\n",
        "             A lot to be done\n",
        "             Let us expedite the process.    \"\"\")\n",
        "def reverser(inp,outp):\n",
        "  with open(inp) as f1,open(outp,\"w\") as f2:\n",
        "    for c1 in f1:\n",
        "      f2.write(c1.strip()[::-1]+\"\\n\")\n",
        "reverser(\"sample1.txt\",\"sample2.txt\")"
      ]
    },
    {
      "cell_type": "code",
      "execution_count": null,
      "metadata": {
        "colab": {
          "base_uri": "https://localhost:8080/",
          "height": 36
        },
        "id": "TnToTtJWYZTz",
        "outputId": "ab848e76-de56-4575-cbe8-e8788ceef876"
      },
      "outputs": [
        {
          "data": {
            "application/vnd.google.colaboratory.intrinsic+json": {
              "type": "string"
            },
            "text/plain": [
              "'ardneham'"
            ]
          },
          "execution_count": 6,
          "metadata": {},
          "output_type": "execute_result"
        }
      ],
      "source": [
        "cn=\"mahendra  \"\n",
        "cn.strip()[::-1]"
      ]
    },
    {
      "cell_type": "code",
      "execution_count": null,
      "metadata": {
        "id": "9L-upGroZ0-d"
      },
      "outputs": [],
      "source": [
        "with open(\"sample3.txt\",\"w\") as f1:\n",
        "  f1.write(\"\"\"Who is he?\n",
        "  when is he and what is he?\n",
        "  why should he\n",
        "                          just because he is not talking\n",
        "        why should he be talking\n",
        "    when was the last time you talked to him             \"\"\")\n"
      ]
    },
    {
      "cell_type": "code",
      "execution_count": null,
      "metadata": {
        "id": "aGBNuxeO3Gwf"
      },
      "outputs": [],
      "source": [
        "def reverser(inpp,outp):\n",
        "  with open(inpp) as f1,open(outp,\"w\") as f2:\n",
        "    for ch in f1:\n",
        "      f2.write(ch.strip()[::-1]+\"\\n\")\n",
        "reverser(\"sample3.txt\",\"sample4.txt\")"
      ]
    },
    {
      "cell_type": "code",
      "execution_count": null,
      "metadata": {
        "colab": {
          "base_uri": "https://localhost:8080/"
        },
        "id": "TotZLsPL5eN7",
        "outputId": "2f354636-1682-48f4-ce8c-75ce1f4cf38b"
      },
      "outputs": [
        {
          "name": "stdout",
          "output_type": "stream",
          "text": [
            "alice\n",
            "was\n",
            "beginning\n",
            "to\n",
            "get\n",
            "very\n",
            "tired\n",
            "of\n",
            "sitting\n",
            "by\n",
            "her\n",
            "sister\n",
            "\n",
            "\n",
            "\n",
            "\n",
            "\n",
            "\n",
            "\n",
            "\n",
            "\n",
            "\n",
            "\n",
            "\n",
            "on\n",
            "the\n",
            "bank,\n",
            "and\n",
            "of\n",
            "having\n",
            "nothing\n",
            "to\n",
            "do:\n",
            "\n",
            "once\n",
            "or\n",
            "twice\n",
            "she\n",
            "had\n",
            "\n",
            "\n",
            "\n",
            "\n",
            "\n",
            "\n",
            "\n",
            "\n",
            "\n",
            "\n",
            "\n",
            "\n",
            "peeped\n",
            "into\n",
            "the\n",
            "book\n",
            "her\n",
            "sister\n",
            "was\n",
            "reading,\n",
            "but\n",
            "it\n",
            "had\n",
            "no\n",
            "\n",
            "\n",
            "\n",
            "\n",
            "\n",
            "\n",
            "\n",
            "\n",
            "\n",
            "\n",
            "\n",
            "\n",
            "pictures\n",
            "or\n",
            "conversations\n",
            "in\n",
            "it,\n",
            "`and\n",
            "what\n",
            "is\n",
            "the\n",
            "use\n",
            "of\n",
            "a\n",
            "book,'\n",
            "\n",
            "\n",
            "\n",
            "\n",
            "\n",
            "\n",
            "\n",
            "\n",
            "\n",
            "\n",
            "\n",
            "\n",
            "thought\n",
            "alice\n",
            "`without\n",
            "pictures\n",
            "or\n",
            "conversation?'\n",
            "\n",
            "\n",
            "\n",
            "\n",
            "\n",
            "\n",
            "\n",
            "\n",
            "\n",
            "\n",
            "\n",
            "\n",
            "\n",
            "so\n",
            "she\n",
            "was\n",
            "considering\n",
            "in\n",
            "her\n",
            "own\n",
            "mind\n",
            "(as\n",
            "well\n",
            "as\n",
            "she\n",
            "could,\n",
            "\n",
            "\n",
            "\n",
            "\n",
            "\n",
            "\n",
            "\n",
            "\n",
            "\n",
            "\n",
            "\n",
            "\n",
            "for\n",
            "the\n",
            "hot\n",
            "day\n",
            "made\n",
            "her\n",
            "feel\n",
            "very\n",
            "sleepy\n",
            "and\n",
            "stupid),\n",
            "whether\n",
            "\n",
            "\n",
            "\n",
            "\n",
            "\n",
            "\n",
            "\n",
            "\n",
            "\n",
            "\n",
            "\n",
            "\n",
            "the\n",
            "pleasure\n",
            "of\n",
            "making\n",
            "a\n",
            "daisy-chain\n",
            "would\n",
            "be\n",
            "worth\n",
            "the\n",
            "trouble\n",
            "\n",
            "\n",
            "\n",
            "\n",
            "\n",
            "\n",
            "\n",
            "\n",
            "\n",
            "\n",
            "\n",
            "\n",
            "of\n",
            "getting\n",
            "up\n",
            "and\n",
            "picking\n",
            "the\n",
            "daisies,\n",
            "when\n",
            "suddenly\n",
            "a\n",
            "white\n",
            "\n",
            "\n",
            "\n",
            "\n",
            "\n",
            "\n",
            "\n",
            "\n",
            "\n",
            "\n",
            "\n",
            "\n",
            "rabbit\n",
            "with\n",
            "pink\n",
            "eyes\n",
            "ran\n",
            "close\n",
            "by\n",
            "her.\n",
            "\n",
            "\n",
            "\n",
            "\n",
            "\n",
            "\n",
            "\n",
            "\n",
            "\n",
            "\n",
            "\n",
            "\n",
            "\n",
            "there\n",
            "was\n",
            "nothing\n",
            "so\n",
            "very\n",
            "remarkable\n",
            "in\n",
            "that;\n",
            "nor\n",
            "did\n",
            "alice\n",
            "\n",
            "\n",
            "\n",
            "\n",
            "\n",
            "\n",
            "\n",
            "\n",
            "\n",
            "\n",
            "\n",
            "\n",
            "think\n",
            "it\n",
            "so\n",
            "very\n",
            "much\n",
            "out\n",
            "of\n",
            "the\n",
            "way\n",
            "to\n",
            "hear\n",
            "the\n",
            "rabbit\n",
            "say\n",
            "to\n",
            "\n",
            "\n",
            "\n",
            "\n",
            "\n",
            "\n",
            "\n",
            "\n",
            "\n",
            "\n",
            "\n",
            "\n",
            "itself,\n",
            "`oh\n",
            "dear!\n",
            "\n",
            "oh\n",
            "dear!\n",
            "\n",
            "i\n",
            "shall\n",
            "be\n",
            "late!'\n",
            "\n",
            "(when\n",
            "she\n",
            "thought\n",
            "\n",
            "\n",
            "\n",
            "\n",
            "\n",
            "\n",
            "\n",
            "\n",
            "\n",
            "\n",
            "\n",
            "\n",
            "it\n",
            "over\n",
            "afterwards,\n",
            "it\n",
            "occurred\n",
            "to\n",
            "her\n",
            "that\n",
            "she\n",
            "ought\n",
            "to\n",
            "have\n",
            "\n",
            "\n",
            "\n",
            "\n",
            "\n",
            "\n",
            "\n",
            "\n",
            "\n",
            "\n",
            "\n",
            "\n",
            "wondered\n",
            "at\n",
            "this,\n",
            "but\n",
            "at\n",
            "the\n",
            "time\n",
            "it\n",
            "all\n",
            "seemed\n",
            "quite\n",
            "natural);\n",
            "\n",
            "\n",
            "\n",
            "\n",
            "\n",
            "\n",
            "\n",
            "\n",
            "\n",
            "\n",
            "\n",
            "\n",
            "but\n",
            "when\n",
            "the\n",
            "rabbit\n",
            "actually\n",
            "took\n",
            "a\n",
            "watch\n",
            "out\n",
            "of\n",
            "its\n",
            "waistcoat-\n",
            "\n",
            "\n",
            "\n",
            "\n",
            "\n",
            "\n",
            "\n",
            "\n",
            "\n",
            "\n",
            "\n",
            "\n",
            "pocket,\n",
            "and\n",
            "looked\n",
            "at\n",
            "it,\n",
            "and\n",
            "then\n",
            "hurried\n",
            "on,\n",
            "alice\n",
            "started\n",
            "to\n",
            "\n",
            "\n",
            "\n",
            "\n",
            "\n",
            "\n",
            "\n",
            "\n",
            "\n",
            "\n",
            "\n",
            "\n",
            "her\n",
            "feet,\n",
            "for\n",
            "it\n",
            "flashed\n",
            "across\n",
            "her\n",
            "mind\n",
            "that\n",
            "she\n",
            "had\n",
            "never\n",
            "\n",
            "\n",
            "\n",
            "\n",
            "\n",
            "\n",
            "\n",
            "\n",
            "\n",
            "\n",
            "\n",
            "\n",
            "before\n",
            "seen\n",
            "a\n",
            "rabbit\n",
            "with\n",
            "either\n",
            "a\n",
            "waistcoat-pocket,\n",
            "or\n",
            "a\n",
            "watch\n",
            "to\n",
            "\n",
            "\n",
            "\n",
            "\n",
            "\n",
            "\n",
            "\n",
            "\n",
            "\n",
            "\n",
            "\n",
            "\n",
            "take\n",
            "out\n",
            "of\n",
            "it,\n",
            "and\n",
            "burning\n",
            "with\n",
            "curiosity,\n",
            "she\n",
            "ran\n",
            "across\n",
            "the\n",
            "\n",
            "\n",
            "\n",
            "\n",
            "\n",
            "\n",
            "\n",
            "\n",
            "\n",
            "\n",
            "\n",
            "\n",
            "field\n",
            "after\n",
            "it,\n",
            "and\n",
            "fortunately\n",
            "was\n",
            "just\n",
            "in\n",
            "time\n",
            "to\n",
            "see\n",
            "it\n",
            "pop\n",
            "\n",
            "\n",
            "\n",
            "\n",
            "\n",
            "\n",
            "\n",
            "\n",
            "\n",
            "\n",
            "\n",
            "\n",
            "down\n",
            "a\n",
            "large\n",
            "rabbit-hole\n",
            "under\n",
            "the\n",
            "hedge.\n"
          ]
        }
      ],
      "source": [
        "strings = \"\"\"Alice was beginning to get very tired of sitting by her sister\n",
        "            on the bank, and of having nothing to do:  once or twice she had\n",
        "            peeped into the book her sister was reading, but it had no\n",
        "            pictures or conversations in it, `and what is the use of a book,'\n",
        "            thought Alice `without pictures or conversation?'\n",
        "\n",
        "            So she was considering in her own mind (as well as she could,\n",
        "            for the hot day made her feel very sleepy and stupid), whether\n",
        "            the pleasure of making a daisy-chain would be worth the trouble\n",
        "            of getting up and picking the daisies, when suddenly a White\n",
        "            Rabbit with pink eyes ran close by her.\n",
        "\n",
        "            There was nothing so VERY remarkable in that; nor did Alice\n",
        "            think it so VERY much out of the way to hear the Rabbit say to\n",
        "            itself, `Oh dear!  Oh dear!  I shall be late!'  (when she thought\n",
        "            it over afterwards, it occurred to her that she ought to have\n",
        "            wondered at this, but at the time it all seemed quite natural);\n",
        "            but when the Rabbit actually TOOK A WATCH OUT OF ITS WAISTCOAT-\n",
        "            POCKET, and looked at it, and then hurried on, Alice started to\n",
        "            her feet, for it flashed across her mind that she had never\n",
        "            before seen a rabbit with either a waistcoat-pocket, or a watch to\n",
        "            take out of it, and burning with curiosity, she ran across the\n",
        "            field after it, and fortunately was just in time to see it pop\n",
        "            down a large rabbit-hole under the hedge.\"\"\"\n",
        "\n",
        "word_list = ['alice', 'wondered', 'rabbit']\n",
        "word_count={}\n",
        "for i in strings.lower().split(\" \"):\n",
        "  print(i)"
      ]
    },
    {
      "cell_type": "code",
      "execution_count": null,
      "metadata": {
        "colab": {
          "base_uri": "https://localhost:8080/"
        },
        "id": "1XoZSlbFGNGN",
        "outputId": "9a2593c2-ea7a-4fb3-ac1f-f3ef77521f25"
      },
      "outputs": [
        {
          "name": "stdout",
          "output_type": "stream",
          "text": [
            "{'alice': 3, 'was': 5, 'beginning': 1, 'to': 6, 'get': 1, 'very': 4, 'tired': 1, 'of': 8, 'sitting': 1, 'by': 2, 'her': 7, 'sister\\n': 1, '': 235, 'on': 1, 'the': 12, 'bank,': 1, 'and': 7, 'having': 1, 'nothing': 2, 'do:': 1, 'once': 1, 'or': 4, 'twice': 1, 'she': 7, 'had\\n': 1, 'peeped': 1, 'into': 1, 'book': 1, 'sister': 1, 'reading,': 1, 'but': 3, 'it': 7, 'had': 2, 'no\\n': 1, 'pictures': 2, 'conversations': 1, 'in': 4, 'it,': 4, '`and': 1, 'what': 1, 'is': 1, 'use': 1, 'a': 8, \"book,'\\n\": 1, 'thought': 1, '`without': 1, \"conversation?'\\n\\n\": 1, 'so': 3, 'considering': 1, 'own': 1, 'mind': 2, '(as': 1, 'well': 1, 'as': 1, 'could,\\n': 1, 'for': 2, 'hot': 1, 'day': 1, 'made': 1, 'feel': 1, 'sleepy': 1, 'stupid),': 1, 'whether\\n': 1, 'pleasure': 1, 'making': 1, 'daisy-chain': 1, 'would': 1, 'be': 2, 'worth': 1, 'trouble\\n': 1, 'getting': 1, 'up': 1, 'picking': 1, 'daisies,': 1, 'when': 2, 'suddenly': 1, 'white\\n': 1, 'rabbit': 4, 'with': 3, 'pink': 1, 'eyes': 1, 'ran': 2, 'close': 1, 'her.\\n\\n': 1, 'there': 1, 'remarkable': 1, 'that;': 1, 'nor': 1, 'did': 1, 'alice\\n': 1, 'think': 1, 'much': 1, 'out': 3, 'way': 1, 'hear': 1, 'say': 1, 'to\\n': 3, 'itself,': 1, '`oh': 1, 'dear!': 2, 'oh': 1, 'i': 1, 'shall': 1, \"late!'\": 1, '(when': 1, 'thought\\n': 1, 'over': 1, 'afterwards,': 1, 'occurred': 1, 'that': 2, 'ought': 1, 'have\\n': 1, 'wondered': 1, 'at': 3, 'this,': 1, 'time': 2, 'all': 1, 'seemed': 1, 'quite': 1, 'natural);\\n': 1, 'actually': 1, 'took': 1, 'watch': 2, 'its': 1, 'waistcoat-\\n': 1, 'pocket,': 1, 'looked': 1, 'then': 1, 'hurried': 1, 'on,': 1, 'started': 1, 'feet,': 1, 'flashed': 1, 'across': 2, 'never\\n': 1, 'before': 1, 'seen': 1, 'either': 1, 'waistcoat-pocket,': 1, 'take': 1, 'burning': 1, 'curiosity,': 1, 'the\\n': 1, 'field': 1, 'after': 1, 'fortunately': 1, 'just': 1, 'see': 1, 'pop\\n': 1, 'down': 1, 'large': 1, 'rabbit-hole': 1, 'under': 1, 'hedge.': 1}\n",
            "alice 3\n",
            "wondered 1\n",
            "rabbit 4\n"
          ]
        }
      ],
      "source": [
        "strings = \"\"\"Alice was beginning to get very tired of sitting by her sister\n",
        "            on the bank, and of having nothing to do:  once or twice she had\n",
        "            peeped into the book her sister was reading, but it had no\n",
        "            pictures or conversations in it, `and what is the use of a book,'\n",
        "            thought Alice `without pictures or conversation?'\n",
        "\n",
        "            So she was considering in her own mind (as well as she could,\n",
        "            for the hot day made her feel very sleepy and stupid), whether\n",
        "            the pleasure of making a daisy-chain would be worth the trouble\n",
        "            of getting up and picking the daisies, when suddenly a White\n",
        "            Rabbit with pink eyes ran close by her.\n",
        "\n",
        "            There was nothing so VERY remarkable in that; nor did Alice\n",
        "            think it so VERY much out of the way to hear the Rabbit say to\n",
        "            itself, `Oh dear!  Oh dear!  I shall be late!'  (when she thought\n",
        "            it over afterwards, it occurred to her that she ought to have\n",
        "            wondered at this, but at the time it all seemed quite natural);\n",
        "            but when the Rabbit actually TOOK A WATCH OUT OF ITS WAISTCOAT-\n",
        "            POCKET, and looked at it, and then hurried on, Alice started to\n",
        "            her feet, for it flashed across her mind that she had never\n",
        "            before seen a rabbit with either a waistcoat-pocket, or a watch to\n",
        "            take out of it, and burning with curiosity, she ran across the\n",
        "            field after it, and fortunately was just in time to see it pop\n",
        "            down a large rabbit-hole under the hedge.\"\"\"\n",
        "\n",
        "word_list = ['alice', 'wondered', 'rabbit']\n",
        "word_count={}\n",
        "for i in strings.lower().split(\" \"):\n",
        "  try:\n",
        "    word_count[i]+=1\n",
        "  except:\n",
        "    word_count[i]=1\n",
        "print(word_count)\n",
        "import pickle as pkl\n",
        "with open(\"dasyu.pkl\",\"wb\") as f1:\n",
        "  pkl.dump(word_count,f1)\n",
        "word_count_new=pkl.load(open(\"dasyu.pkl\",\"rb\"))\n",
        "for i in word_list:\n",
        "  print(i,word_count_new[i])"
      ]
    },
    {
      "cell_type": "code",
      "execution_count": null,
      "metadata": {
        "id": "JuMjPL8gO5Pa"
      },
      "outputs": [],
      "source": [
        "import pickle"
      ]
    },
    {
      "cell_type": "code",
      "execution_count": null,
      "metadata": {
        "colab": {
          "base_uri": "https://localhost:8080/"
        },
        "id": "gpx1INrrQRpC",
        "outputId": "54ba9f03-3f0b-4786-ccba-9121ef1bbed4"
      },
      "outputs": [
        {
          "name": "stdout",
          "output_type": "stream",
          "text": [
            "alice 3\n",
            "wondered 1\n",
            "rabbit 4\n"
          ]
        }
      ],
      "source": [
        "#Q-5 session 10(week-4)\n",
        "strings = \"\"\"Alice was beginning to get very tired of sitting by her sister\n",
        "            on the bank, and of having nothing to do:  once or twice she had\n",
        "            peeped into the book her sister was reading, but it had no\n",
        "            pictures or conversations in it, `and what is the use of a book,'\n",
        "            thought Alice `without pictures or conversation?'\n",
        "\n",
        "            So she was considering in her own mind (as well as she could,\n",
        "            for the hot day made her feel very sleepy and stupid), whether\n",
        "            the pleasure of making a daisy-chain would be worth the trouble\n",
        "            of getting up and picking the daisies, when suddenly a White\n",
        "            Rabbit with pink eyes ran close by her.\n",
        "\n",
        "            There was nothing so VERY remarkable in that; nor did Alice\n",
        "            think it so VERY much out of the way to hear the Rabbit say to\n",
        "            itself, `Oh dear!  Oh dear!  I shall be late!'  (when she thought\n",
        "            it over afterwards, it occurred to her that she ought to have\n",
        "            wondered at this, but at the time it all seemed quite natural);\n",
        "            but when the Rabbit actually TOOK A WATCH OUT OF ITS WAISTCOAT-\n",
        "            POCKET, and looked at it, and then hurried on, Alice started to\n",
        "            her feet, for it flashed across her mind that she had never\n",
        "            before seen a rabbit with either a waistcoat-pocket, or a watch to\n",
        "            take out of it, and burning with curiosity, she ran across the\n",
        "            field after it, and fortunately was just in time to see it pop\n",
        "            down a large rabbit-hole under the hedge.\"\"\"\n",
        "\n",
        "word_list = ['alice', 'wondered', 'rabbit']\n",
        "word_dict={}\n",
        "for i in strings.lower().split(\" \"):\n",
        "  try:\n",
        "    word_dict[i]+=1\n",
        "  except:\n",
        "    word_dict[i]=1\n",
        "import pickle as pkl\n",
        "pkl.dump(word_dict,open(\"decay.pkl\",\"wb\"))\n",
        "word_count_new=pkl.load(open(\"decay.pkl\",\"rb\"))\n",
        "for j in word_list:\n",
        "  print(j,word_count_new[j])"
      ]
    },
    {
      "cell_type": "code",
      "execution_count": null,
      "metadata": {
        "colab": {
          "base_uri": "https://localhost:8080/"
        },
        "id": "h5xC4d7maivq",
        "outputId": "4e652289-4a12-4439-b71b-e48f10a7485b"
      },
      "outputs": [
        {
          "data": {
            "text/plain": [
              "8"
            ]
          },
          "execution_count": 15,
          "metadata": {},
          "output_type": "execute_result"
        }
      ],
      "source": [
        "# Q-6: Given a string calculate length of the string using recursion.\n",
        "def string_length(s):\n",
        "  if s==\"\":\n",
        "    return 0\n",
        "  else:\n",
        "    return 1+string_length(s[1:])\n",
        "string_length(\"abcdefgh\")\n",
        "# Do it yourself in a copy and check it"
      ]
    },
    {
      "cell_type": "code",
      "execution_count": null,
      "metadata": {
        "colab": {
          "base_uri": "https://localhost:8080/"
        },
        "id": "gZohl_8VfU0S",
        "outputId": "71084446-3b0d-4122-ba31-55723253a1d8"
      },
      "outputs": [
        {
          "data": {
            "text/plain": [
              "8"
            ]
          },
          "execution_count": 17,
          "metadata": {},
          "output_type": "execute_result"
        }
      ],
      "source": [
        "#Q7 How to find GCD of numbers using recursion\n",
        "def gcd(a,b):\n",
        "  if a==b:\n",
        "    return a\n",
        "  elif a>b:\n",
        "    return gcd(a-b,b)\n",
        "  else:\n",
        "    return gcd(b-a,a)\n",
        "gcd(16,24)"
      ]
    },
    {
      "cell_type": "code",
      "execution_count": null,
      "metadata": {
        "colab": {
          "base_uri": "https://localhost:8080/"
        },
        "id": "-Rfb4h9_EgAM",
        "outputId": "24556131-fb81-4fa0-8791-50c41125072c"
      },
      "outputs": [
        {
          "data": {
            "text/plain": [
              "3"
            ]
          },
          "execution_count": 19,
          "metadata": {},
          "output_type": "execute_result"
        }
      ],
      "source": [
        "def gcd(a,b):\n",
        "  if a==b:\n",
        "    return a\n",
        "  elif a>b:\n",
        "    return gcd(a-b,b)\n",
        "  else:\n",
        "    return gcd(b-a,a)\n",
        "gcd(21,54)"
      ]
    },
    {
      "cell_type": "code",
      "execution_count": null,
      "metadata": {
        "colab": {
          "base_uri": "https://localhost:8080/",
          "height": 36
        },
        "id": "ut8oOkplE2Kq",
        "outputId": "bd18ab9d-1a6f-4a05-c6a1-36d09a3c8bd1"
      },
      "outputs": [
        {
          "data": {
            "application/vnd.google.colaboratory.intrinsic+json": {
              "type": "string"
            },
            "text/plain": [
              "''"
            ]
          },
          "execution_count": 1,
          "metadata": {},
          "output_type": "execute_result"
        }
      ],
      "source": [
        "s=\"abc\"\n",
        "s[3:]"
      ]
    },
    {
      "cell_type": "code",
      "execution_count": null,
      "metadata": {
        "colab": {
          "base_uri": "https://localhost:8080/"
        },
        "id": "QlCSZXFQAAyC",
        "outputId": "5e26b634-642c-450c-c120-985143c89726"
      },
      "outputs": [
        {
          "data": {
            "text/plain": [
              "['a', 4]"
            ]
          },
          "execution_count": 3,
          "metadata": {},
          "output_type": "execute_result"
        }
      ],
      "source": [
        "def func(ss):\n",
        "  if len(ss)==0:\n",
        "    return []\n",
        "  else:\n",
        "    index=1\n",
        "    while index<len(ss) and ss[index]==ss[index-1]:\n",
        "      index+=1\n",
        "    comp=[ss[0],index]\n",
        "    return comp+func(ss[index:])\n",
        "func(\"aaaa\")"
      ]
    },
    {
      "cell_type": "code",
      "execution_count": null,
      "metadata": {
        "colab": {
          "base_uri": "https://localhost:8080/",
          "height": 390
        },
        "id": "JjGZGOKkT9L7",
        "outputId": "c0c1e49f-1ba6-4ca0-def8-451c2f44ec24"
      },
      "outputs": [
        {
          "ename": "IndexError",
          "evalue": "ignored",
          "output_type": "error",
          "traceback": [
            "\u001b[0;31m---------------------------------------------------------------------------\u001b[0m",
            "\u001b[0;31mIndexError\u001b[0m                                Traceback (most recent call last)",
            "\u001b[0;32m<ipython-input-5-92e8f8384f7a>\u001b[0m in \u001b[0;36m<cell line: 10>\u001b[0;34m()\u001b[0m\n\u001b[1;32m      8\u001b[0m     \u001b[0mcomp\u001b[0m\u001b[0;34m=\u001b[0m\u001b[0;34m[\u001b[0m\u001b[0mss\u001b[0m\u001b[0;34m[\u001b[0m\u001b[0;36m0\u001b[0m\u001b[0;34m]\u001b[0m\u001b[0;34m,\u001b[0m\u001b[0mindex\u001b[0m\u001b[0;34m]\u001b[0m\u001b[0;34m\u001b[0m\u001b[0;34m\u001b[0m\u001b[0m\n\u001b[1;32m      9\u001b[0m     \u001b[0;32mreturn\u001b[0m \u001b[0mcomp\u001b[0m\u001b[0;34m+\u001b[0m\u001b[0mfunc\u001b[0m\u001b[0;34m(\u001b[0m\u001b[0mss\u001b[0m\u001b[0;34m[\u001b[0m\u001b[0mindex\u001b[0m\u001b[0;34m:\u001b[0m\u001b[0;34m]\u001b[0m\u001b[0;34m)\u001b[0m\u001b[0;34m\u001b[0m\u001b[0;34m\u001b[0m\u001b[0m\n\u001b[0;32m---> 10\u001b[0;31m \u001b[0mfunc\u001b[0m\u001b[0;34m(\u001b[0m\u001b[0;34m\"aaaabc\"\u001b[0m\u001b[0;34m)\u001b[0m\u001b[0;34m\u001b[0m\u001b[0;34m\u001b[0m\u001b[0m\n\u001b[0m\u001b[1;32m     11\u001b[0m \u001b[0;31m#During the last function call when func(\"c\") is sent in that case ss[1] would obviously give error that is why we use another condition\u001b[0m\u001b[0;34m\u001b[0m\u001b[0;34m\u001b[0m\u001b[0m\n\u001b[1;32m     12\u001b[0m \u001b[0;31m# index<len(ss) in our while condition\u001b[0m\u001b[0;34m\u001b[0m\u001b[0;34m\u001b[0m\u001b[0m\n",
            "\u001b[0;32m<ipython-input-5-92e8f8384f7a>\u001b[0m in \u001b[0;36mfunc\u001b[0;34m(ss)\u001b[0m\n\u001b[1;32m      7\u001b[0m       \u001b[0mindex\u001b[0m\u001b[0;34m+=\u001b[0m\u001b[0;36m1\u001b[0m\u001b[0;34m\u001b[0m\u001b[0;34m\u001b[0m\u001b[0m\n\u001b[1;32m      8\u001b[0m     \u001b[0mcomp\u001b[0m\u001b[0;34m=\u001b[0m\u001b[0;34m[\u001b[0m\u001b[0mss\u001b[0m\u001b[0;34m[\u001b[0m\u001b[0;36m0\u001b[0m\u001b[0;34m]\u001b[0m\u001b[0;34m,\u001b[0m\u001b[0mindex\u001b[0m\u001b[0;34m]\u001b[0m\u001b[0;34m\u001b[0m\u001b[0;34m\u001b[0m\u001b[0m\n\u001b[0;32m----> 9\u001b[0;31m     \u001b[0;32mreturn\u001b[0m \u001b[0mcomp\u001b[0m\u001b[0;34m+\u001b[0m\u001b[0mfunc\u001b[0m\u001b[0;34m(\u001b[0m\u001b[0mss\u001b[0m\u001b[0;34m[\u001b[0m\u001b[0mindex\u001b[0m\u001b[0;34m:\u001b[0m\u001b[0;34m]\u001b[0m\u001b[0;34m)\u001b[0m\u001b[0;34m\u001b[0m\u001b[0;34m\u001b[0m\u001b[0m\n\u001b[0m\u001b[1;32m     10\u001b[0m \u001b[0mfunc\u001b[0m\u001b[0;34m(\u001b[0m\u001b[0;34m\"aaaabc\"\u001b[0m\u001b[0;34m)\u001b[0m\u001b[0;34m\u001b[0m\u001b[0;34m\u001b[0m\u001b[0m\n\u001b[1;32m     11\u001b[0m \u001b[0;31m#During the last function call when func(\"c\") is sent in that case ss[1] would obviously give error that is why we use another condition\u001b[0m\u001b[0;34m\u001b[0m\u001b[0;34m\u001b[0m\u001b[0m\n",
            "\u001b[0;32m<ipython-input-5-92e8f8384f7a>\u001b[0m in \u001b[0;36mfunc\u001b[0;34m(ss)\u001b[0m\n\u001b[1;32m      7\u001b[0m       \u001b[0mindex\u001b[0m\u001b[0;34m+=\u001b[0m\u001b[0;36m1\u001b[0m\u001b[0;34m\u001b[0m\u001b[0;34m\u001b[0m\u001b[0m\n\u001b[1;32m      8\u001b[0m     \u001b[0mcomp\u001b[0m\u001b[0;34m=\u001b[0m\u001b[0;34m[\u001b[0m\u001b[0mss\u001b[0m\u001b[0;34m[\u001b[0m\u001b[0;36m0\u001b[0m\u001b[0;34m]\u001b[0m\u001b[0;34m,\u001b[0m\u001b[0mindex\u001b[0m\u001b[0;34m]\u001b[0m\u001b[0;34m\u001b[0m\u001b[0;34m\u001b[0m\u001b[0m\n\u001b[0;32m----> 9\u001b[0;31m     \u001b[0;32mreturn\u001b[0m \u001b[0mcomp\u001b[0m\u001b[0;34m+\u001b[0m\u001b[0mfunc\u001b[0m\u001b[0;34m(\u001b[0m\u001b[0mss\u001b[0m\u001b[0;34m[\u001b[0m\u001b[0mindex\u001b[0m\u001b[0;34m:\u001b[0m\u001b[0;34m]\u001b[0m\u001b[0;34m)\u001b[0m\u001b[0;34m\u001b[0m\u001b[0;34m\u001b[0m\u001b[0m\n\u001b[0m\u001b[1;32m     10\u001b[0m \u001b[0mfunc\u001b[0m\u001b[0;34m(\u001b[0m\u001b[0;34m\"aaaabc\"\u001b[0m\u001b[0;34m)\u001b[0m\u001b[0;34m\u001b[0m\u001b[0;34m\u001b[0m\u001b[0m\n\u001b[1;32m     11\u001b[0m \u001b[0;31m#During the last function call when func(\"c\") is sent in that case ss[1] would obviously give error that is why we use another condition\u001b[0m\u001b[0;34m\u001b[0m\u001b[0;34m\u001b[0m\u001b[0m\n",
            "\u001b[0;32m<ipython-input-5-92e8f8384f7a>\u001b[0m in \u001b[0;36mfunc\u001b[0;34m(ss)\u001b[0m\n\u001b[1;32m      4\u001b[0m   \u001b[0;32melse\u001b[0m\u001b[0;34m:\u001b[0m\u001b[0;34m\u001b[0m\u001b[0;34m\u001b[0m\u001b[0m\n\u001b[1;32m      5\u001b[0m     \u001b[0mindex\u001b[0m\u001b[0;34m=\u001b[0m\u001b[0;36m1\u001b[0m\u001b[0;34m\u001b[0m\u001b[0;34m\u001b[0m\u001b[0m\n\u001b[0;32m----> 6\u001b[0;31m     \u001b[0;32mwhile\u001b[0m \u001b[0mss\u001b[0m\u001b[0;34m[\u001b[0m\u001b[0mindex\u001b[0m\u001b[0;34m]\u001b[0m\u001b[0;34m==\u001b[0m\u001b[0mss\u001b[0m\u001b[0;34m[\u001b[0m\u001b[0mindex\u001b[0m\u001b[0;34m-\u001b[0m\u001b[0;36m1\u001b[0m\u001b[0;34m]\u001b[0m\u001b[0;34m:\u001b[0m\u001b[0;34m\u001b[0m\u001b[0;34m\u001b[0m\u001b[0m\n\u001b[0m\u001b[1;32m      7\u001b[0m       \u001b[0mindex\u001b[0m\u001b[0;34m+=\u001b[0m\u001b[0;36m1\u001b[0m\u001b[0;34m\u001b[0m\u001b[0;34m\u001b[0m\u001b[0m\n\u001b[1;32m      8\u001b[0m     \u001b[0mcomp\u001b[0m\u001b[0;34m=\u001b[0m\u001b[0;34m[\u001b[0m\u001b[0mss\u001b[0m\u001b[0;34m[\u001b[0m\u001b[0;36m0\u001b[0m\u001b[0;34m]\u001b[0m\u001b[0;34m,\u001b[0m\u001b[0mindex\u001b[0m\u001b[0;34m]\u001b[0m\u001b[0;34m\u001b[0m\u001b[0;34m\u001b[0m\u001b[0m\n",
            "\u001b[0;31mIndexError\u001b[0m: string index out of range"
          ]
        }
      ],
      "source": [
        "def func(ss):\n",
        "  if len(ss)==0:\n",
        "    return []\n",
        "  else:\n",
        "    index=1\n",
        "    while ss[index]==ss[index-1]:\n",
        "      index+=1\n",
        "    comp=[ss[0],index]\n",
        "    return comp+func(ss[index:])\n",
        "func(\"aaaabc\")\n",
        "#During the last function call when func(\"c\") is sent in that case ss[1] would obviously give error that is why we use another condition\n",
        "# index<len(ss) in our while condition"
      ]
    },
    {
      "cell_type": "code",
      "execution_count": null,
      "metadata": {
        "colab": {
          "base_uri": "https://localhost:8080/"
        },
        "id": "RkTgwh3vW3p4",
        "outputId": "304b7762-5016-428e-8c32-79ec62415107"
      },
      "outputs": [
        {
          "data": {
            "text/plain": [
              "['a', 3, 'b', 1, 'c', 2, 'd', 1]"
            ]
          },
          "execution_count": 6,
          "metadata": {},
          "output_type": "execute_result"
        }
      ],
      "source": [
        "def func(ss):\n",
        "  if len(ss)==0:\n",
        "    return []\n",
        "  else:\n",
        "    index=1\n",
        "    while index<len(ss) and ss[index]==ss[index-1]:\n",
        "      index+=1\n",
        "    comp=[ss[0],index]\n",
        "    return comp+func(ss[index:])\n",
        "func(\"aaabccd\")"
      ]
    },
    {
      "cell_type": "code",
      "execution_count": null,
      "metadata": {
        "colab": {
          "base_uri": "https://localhost:8080/"
        },
        "id": "PAT3UfbqYVJk",
        "outputId": "51f00b6a-f473-4556-8f57-10d7830efcb2"
      },
      "outputs": [
        {
          "name": "stdout",
          "output_type": "stream",
          "text": [
            "['a', 3, 'b', 3, 'a', 1, 'c', 2, 'd', 2, 'e', 1, 'f', 2, 'g', 4, 'h', 3, 'a', 1, 'b', 1, 'c', 1, 'd', 2, 'e', 1, 'r', 2, 'a', 1]\n"
          ]
        }
      ],
      "source": [
        "print(func(\"aaabbbaccddeffgggghhhabcdderra\"))"
      ]
    },
    {
      "cell_type": "code",
      "execution_count": null,
      "metadata": {
        "colab": {
          "base_uri": "https://localhost:8080/",
          "height": 36
        },
        "id": "b8Hur-qMZBNP",
        "outputId": "527858c7-ce09-4fd7-9f0a-e346593073e1"
      },
      "outputs": [
        {
          "data": {
            "application/vnd.google.colaboratory.intrinsic+json": {
              "type": "string"
            },
            "text/plain": [
              "''"
            ]
          },
          "execution_count": 10,
          "metadata": {},
          "output_type": "execute_result"
        }
      ],
      "source": [
        "s1=\"abb\"\n",
        "s1[5:]"
      ]
    },
    {
      "cell_type": "code",
      "execution_count": null,
      "metadata": {
        "colab": {
          "base_uri": "https://localhost:8080/"
        },
        "id": "YpePmRObf9AY",
        "outputId": "a4f17057-381d-4500-b129-178a84ec4c4c"
      },
      "outputs": [
        {
          "data": {
            "text/plain": [
              "['a', 5]"
            ]
          },
          "execution_count": 12,
          "metadata": {},
          "output_type": "execute_result"
        }
      ],
      "source": [
        "def func(ss):\n",
        "  if len(ss)==0:\n",
        "    return []\n",
        "  else:\n",
        "    index=1\n",
        "    while index<len(ss) and ss[index]==ss[index-1]:\n",
        "      index+=1\n",
        "    comp=[s[0],index]\n",
        "    return comp+func(ss[index:])\n",
        "func(\"aaaaa\")\n",
        "#len(ss)=5 ss[0]=a,ss[1]=a,ss[2]=a,ss[3]=a,ss[4]=a\n",
        "#initially index=1 and index<5 and ss[1]==s[0] so index becomes 2\n",
        "# now index=2 and index<5 and ss[2]==ss[1] so index becomes 3\n",
        "# now index=3 and index<5 and ss[3]==ss[2] so index becomes 4\n",
        "#now index=4 and index<5 and ss[4]==ss[3] so index becomes 5\n",
        "#now index=5 and while clause is False and comp=[\"a\",5]\n",
        "# func(ss[5:]) returns \"\" so len(ss) becomes 0 and [] is returned, lastly\n",
        "# we get [\"a\",5] as output hence"
      ]
    },
    {
      "cell_type": "code",
      "execution_count": null,
      "metadata": {
        "colab": {
          "base_uri": "https://localhost:8080/"
        },
        "id": "u58oKJ_wYA35",
        "outputId": "a20d20ed-8627-4683-ae9b-305f207da7c8"
      },
      "outputs": [
        {
          "data": {
            "text/plain": [
              "['a', 3, 'b', 4, 'a', 1, 'c', 2, 'd', 2, 'e', 2, 'f', 2, 'g', 1]"
            ]
          },
          "execution_count": 1,
          "metadata": {},
          "output_type": "execute_result"
        }
      ],
      "source": [
        "def func(ss):\n",
        "  if len(ss)==0:\n",
        "    return []\n",
        "  else:\n",
        "    index=1\n",
        "    while index<len(ss) and ss[index]==ss[index-1]:\n",
        "      index+=1\n",
        "    comp=[ss[0],index]\n",
        "    return comp+func(ss[index:])\n",
        "func(\"aaabbbbaccddeeffg\")\n",
        "# initially len(s) is not zero, ss[0]=ss[1]=ss[2]=a,ss[3,4,5,6]=b,ss[7]=a,ss[8,9]=c,ss[10,11]=d,ss[12,13]=e,ss[14,15]=f,ss[16]=g\n",
        "# index=1, 1<len(ss) and ss[1]==ss[0] so index=2\n",
        "# index=2, 2<len(ss) and ss[2]==ss[0] so index=3\n",
        "# index=3,3<len(ss) but ss[2]!=ss[3] so comp=[\"a\",3] and [\"a\",3]+func(ss[3:]) is returned and now func(ss[3:]) is called\n",
        "# Result of the call of func(ss[3:]) ,firstly ss[3:] is equivalent to \"bbbbaccddeeffg\"\n",
        "# index=1, index<len(ss) and ss[1]==ss[0](b) so index=2\n",
        "# index=2, index<len(ss) and ss[2]==ss[1](b) so index=3\n",
        "# index=3, index<len(ss) and ss[3]==ss[2](b) so index=4\n",
        "# index=4, index<len(ss) but ss[4]!=ss[3] so comp=[\"b\",4] and [\"b\",4]+func(ss[4:]) is returned from func(\"bbbbaccddeeffg\") so total is ['a,3]+['b',4]+func(\"accddeeffg\"), func(ss[4:]) is called\n",
        "# ss[4:] is equivalent to \"accddeeffg\" , func(\"accddeeffg\") is called now index=1 and index<len(ss) and ss[index]!=ss[index-1] so comp=['a',1] and func(\"accddeeffg\") returns ['a',1]+func(\"ccddeeffg\")\n",
        "# so in total we have ['a',3]+['b',4]+['a',1]+func(\"ccddeeffg\"), Now func(\"ccddeeffg\") is called and index=1 and index<len(ss) and ss[1]==ss[0] so index=2, index<len(ss) but ss[2]!=ss[1] so comp=[\"c\",2] and\n",
        "# [\"c\",2]+func(\"ddeeffg\") is returned from func(\"ccddeeffg\") so in total we have ['a',3]+['b',4]+['a',1]+['c',2]+func(\"ddeeffg\") returned, and func(\"ddeeffg\") is called and index=1\n",
        "# as index<len(ss) and ss[1]==s[0] so index=2, now index<len(ss) and ss[2]!=ss[1] so comp=[\"d\",2] and func(\"ddeeffg\") returns [\"d\",2]+func(\"eeffg\"), so in total we have ['a',3]+['b',4]+['a',1]+['c',2]+['d',2]+func(\"eeffg\")\n",
        "# now func(\"eeffg\") is called and index=1 and as index<len(ss) and ss[1]==ss[0] so index=2 and as ss[2]!=ss[1] so comp=['e',2] so func(\"eeffg\") returns ['e',2]+func('ffg) so in total we have\n",
        "# ['a',3]+['b',4]+['a',1]+['c',2]+['d',2]+['e',2]+func('ffg') is returned, now func('ffg') is called so index=1 and as index<len(ss) and ss[1]==ss[0] so index=2  now index<len(s) and ss[2]!=ss[1] so func('ffg) returns ['f',2]+func(\"g\")\n",
        "# In total we have ['a',3]+['b',4]+['a',1]+['c',2]+['d',2]+['e',2]+['f',2]+func(\"g\"), now index=1 and while index<len(ss) which is false so ['g',1]+func(\"\") is returned and func(\"\") returns []\n",
        "# so overall we have ['a',3]+['b',4]+['a',1]+['c',2]+['d',2]+['e',2]+['f',2]+['g',1]"
      ]
    },
    {
      "cell_type": "code",
      "execution_count": null,
      "metadata": {
        "id": "SSi43Z1iiKHC"
      },
      "outputs": [],
      "source": []
    },
    {
      "cell_type": "code",
      "execution_count": null,
      "metadata": {
        "colab": {
          "base_uri": "https://localhost:8080/"
        },
        "id": "z3K77PeLuSTA",
        "outputId": "b117930a-6fed-4e93-9327-884c72cb8503"
      },
      "outputs": [
        {
          "data": {
            "text/plain": [
              "0"
            ]
          },
          "execution_count": 2,
          "metadata": {},
          "output_type": "execute_result"
        }
      ],
      "source": [
        "4 & 1"
      ]
    },
    {
      "cell_type": "code",
      "execution_count": null,
      "metadata": {
        "colab": {
          "base_uri": "https://localhost:8080/"
        },
        "id": "kqQrLraHuW3p",
        "outputId": "90b7ddb3-641c-4080-9c34-fced9b8d521e"
      },
      "outputs": [
        {
          "data": {
            "text/plain": [
              "1"
            ]
          },
          "execution_count": 3,
          "metadata": {},
          "output_type": "execute_result"
        }
      ],
      "source": [
        "5 &1"
      ]
    },
    {
      "cell_type": "code",
      "execution_count": null,
      "metadata": {
        "colab": {
          "base_uri": "https://localhost:8080/"
        },
        "id": "Dm9A3SzEucJh",
        "outputId": "a7f9cfbd-4714-4a56-f40d-0270760df881"
      },
      "outputs": [
        {
          "data": {
            "text/plain": [
              "0"
            ]
          },
          "execution_count": 4,
          "metadata": {},
          "output_type": "execute_result"
        }
      ],
      "source": [
        "8&1"
      ]
    },
    {
      "cell_type": "code",
      "execution_count": null,
      "metadata": {
        "colab": {
          "base_uri": "https://localhost:8080/"
        },
        "id": "TuPNQdKDzquJ",
        "outputId": "de1134ab-76d4-4bf3-8440-c45256f5b3fe"
      },
      "outputs": [
        {
          "data": {
            "text/plain": [
              "4"
            ]
          },
          "execution_count": 5,
          "metadata": {},
          "output_type": "execute_result"
        }
      ],
      "source": [
        "8>>1"
      ]
    },
    {
      "cell_type": "code",
      "execution_count": null,
      "metadata": {
        "colab": {
          "base_uri": "https://localhost:8080/"
        },
        "id": "GIogao4O2o_1",
        "outputId": "8f02d3a7-1bef-4f9a-9e8f-ad4b6907bba4"
      },
      "outputs": [
        {
          "data": {
            "text/plain": [
              "3"
            ]
          },
          "execution_count": 7,
          "metadata": {},
          "output_type": "execute_result"
        }
      ],
      "source": [
        "7>>1#moving the bits by right"
      ]
    },
    {
      "cell_type": "code",
      "execution_count": null,
      "metadata": {
        "colab": {
          "base_uri": "https://localhost:8080/",
          "height": 36
        },
        "id": "zF8WXdmW3iUb",
        "outputId": "ea993f80-26d4-4672-8274-d053068832b5"
      },
      "outputs": [
        {
          "data": {
            "application/vnd.google.colaboratory.intrinsic+json": {
              "type": "string"
            },
            "text/plain": [
              "'01001'"
            ]
          },
          "execution_count": 1,
          "metadata": {},
          "output_type": "execute_result"
        }
      ],
      "source": [
        "def dectobin(css):\n",
        "  if css==0:\n",
        "    return \"0\"\n",
        "  else:\n",
        "    return dectobin(css>>1)+str(css&1)\n",
        "dectobin(9)"
      ]
    },
    {
      "cell_type": "code",
      "execution_count": null,
      "metadata": {
        "colab": {
          "base_uri": "https://localhost:8080/",
          "height": 36
        },
        "id": "3I1TzcQIQdvE",
        "outputId": "69535ef7-7f31-444f-a202-2d323ee5086f"
      },
      "outputs": [
        {
          "data": {
            "application/vnd.google.colaboratory.intrinsic+json": {
              "type": "string"
            },
            "text/plain": [
              "'01011'"
            ]
          },
          "execution_count": 2,
          "metadata": {},
          "output_type": "execute_result"
        }
      ],
      "source": [
        "dectobin(11)"
      ]
    },
    {
      "cell_type": "code",
      "execution_count": null,
      "metadata": {
        "colab": {
          "base_uri": "https://localhost:8080/",
          "height": 36
        },
        "id": "NgKHlxtQQg67",
        "outputId": "8bbd9037-b26c-481a-a7e2-c69daa3e2f1f"
      },
      "outputs": [
        {
          "data": {
            "application/vnd.google.colaboratory.intrinsic+json": {
              "type": "string"
            },
            "text/plain": [
              "'01100'"
            ]
          },
          "execution_count": 3,
          "metadata": {},
          "output_type": "execute_result"
        }
      ],
      "source": [
        "dectobin(12)"
      ]
    },
    {
      "cell_type": "code",
      "execution_count": null,
      "metadata": {
        "id": "IZyZCi0H0yJJ"
      },
      "outputs": [],
      "source": [
        "#There are 2 stages where error may happen.\n",
        "# Compilation error is when you encounter an error while compiling a code i.e while converting a code into machine code to be executed.\n",
        "# We get the second kind of error during execution of the machine code in our RAM . This is called exceptions\n",
        "# The error that we get during compilation is called syntax error."
      ]
    },
    {
      "cell_type": "code",
      "execution_count": null,
      "metadata": {
        "id": "6pHgVYXD3XdI"
      },
      "outputs": [],
      "source": [
        "# Syntax error is raised when the code is not written in accordance to the program grammar."
      ]
    },
    {
      "cell_type": "code",
      "execution_count": null,
      "metadata": {
        "id": "OdXL1EyiI5uj"
      },
      "outputs": [],
      "source": [
        "#Different type of syntax error includes-->Index error\n",
        "# Index error occurs when you try to access an element from a index position that doesnot exist like in case of list\n",
        "#ModuleNotFound Error\n",
        "# KeyError is something like what you encounter while trying to access the value using a key that doesnot exist in the dictionary."
      ]
    },
    {
      "cell_type": "code",
      "execution_count": null,
      "metadata": {
        "colab": {
          "base_uri": "https://localhost:8080/",
          "height": 192
        },
        "id": "2SpvD8-8QKtK",
        "outputId": "156e78f7-37dd-4289-d538-cb3fa7a75519"
      },
      "outputs": [
        {
          "ename": "ValueError",
          "evalue": "ignored",
          "output_type": "error",
          "traceback": [
            "\u001b[0;31m---------------------------------------------------------------------------\u001b[0m",
            "\u001b[0;31mValueError\u001b[0m                                Traceback (most recent call last)",
            "\u001b[0;32m<ipython-input-1-06db47dcc8b4>\u001b[0m in \u001b[0;36m<cell line: 2>\u001b[0;34m()\u001b[0m\n\u001b[1;32m      1\u001b[0m \u001b[0;31m#value error occurs when functions argument is of an inappropriate type for instance\u001b[0m\u001b[0;34m\u001b[0m\u001b[0;34m\u001b[0m\u001b[0m\n\u001b[0;32m----> 2\u001b[0;31m \u001b[0mint\u001b[0m\u001b[0;34m(\u001b[0m\u001b[0;34m'a'\u001b[0m\u001b[0;34m)\u001b[0m\u001b[0;34m\u001b[0m\u001b[0;34m\u001b[0m\u001b[0m\n\u001b[0m",
            "\u001b[0;31mValueError\u001b[0m: invalid literal for int() with base 10: 'a'"
          ]
        }
      ],
      "source": [
        "#value error occurs when functions argument is of an inappropriate type for instance\n",
        "int('a')\n",
        "#here we are giving string as value to the int function which is invalid"
      ]
    },
    {
      "cell_type": "code",
      "execution_count": null,
      "metadata": {
        "id": "4RdGljUmyczu"
      },
      "outputs": [],
      "source": [
        "#Type error occurs when an operation is applied to an object of inappropriate type like 1+\"a\" would give TypeError"
      ]
    },
    {
      "cell_type": "code",
      "execution_count": null,
      "metadata": {
        "colab": {
          "background_save": true
        },
        "id": "25JUuGR70FZC"
      },
      "outputs": [],
      "source": [
        "#NameError occurs when you try to use a variable as arguments in certain functions even though the variable hasnot even been defined yet"
      ]
    },
    {
      "cell_type": "code",
      "execution_count": null,
      "metadata": {
        "id": "H_lppGZr1rbe"
      },
      "outputs": [],
      "source": [
        "#attributeerror This error occurs when the function or attribute that you are calling through a object of a class is not present in the class"
      ]
    },
    {
      "cell_type": "code",
      "execution_count": null,
      "metadata": {
        "id": "Q0UGgH2Xv3RQ"
      },
      "outputs": [],
      "source": [
        "#Exceptions occur during the runtime of a program. It has got nothing to do with wrong program grammar. It involves errors like Memory overflow when input file is much more\n",
        "# larger anc cannot be stored at once in the RAM, zero division error or database error"
      ]
    },
    {
      "cell_type": "code",
      "execution_count": null,
      "metadata": {
        "id": "AceO-nG43k2f"
      },
      "outputs": [],
      "source": [
        "with open(\"simp.txt\",\"w\") as f1:\n",
        "  f1.write(\"hello world\")\n"
      ]
    },
    {
      "cell_type": "code",
      "execution_count": null,
      "metadata": {
        "colab": {
          "base_uri": "https://localhost:8080/"
        },
        "id": "XeTsLsmQH874",
        "outputId": "36df4ec2-ef8b-4a26-d32c-e57c66c932ad"
      },
      "outputs": [
        {
          "name": "stdout",
          "output_type": "stream",
          "text": [
            "hello world\n",
            "name 'm' is not defined\n",
            "<built-in method with_traceback of NameError object at 0x780319f497e0>\n"
          ]
        }
      ],
      "source": [
        "try:\n",
        "  with open('simp.txt') as f2:\n",
        "    print(f2.read())\n",
        "  print(m)\n",
        "  l=[1,2,3]\n",
        "  l.upper()\n",
        "  l[100]\n",
        "  print(5/0)\n",
        "except AttributeError:\n",
        "  print(\"Wrong attribute\")\n",
        "except IndexError:\n",
        "  print(\"Wrong Index\")\n",
        "except FileNotFoundError:\n",
        "  print(\"File has not been found\")\n",
        "except Exception as e:\n",
        "  print(e)\n",
        "  print(e.with_traceback)"
      ]
    },
    {
      "cell_type": "code",
      "execution_count": null,
      "metadata": {
        "colab": {
          "base_uri": "https://localhost:8080/"
        },
        "id": "EbK_JnoQJV0Q",
        "outputId": "fff8b366-2718-4a7c-c781-cdb60e267bef"
      },
      "outputs": [
        {
          "name": "stdout",
          "output_type": "stream",
          "text": [
            "no file found\n"
          ]
        }
      ],
      "source": [
        "try:\n",
        "  m=5\n",
        "  with open(\"simp.txt\") as f2:\n",
        "    print(f.read())\n",
        "  print(m)\n",
        "  l=[1,2,3]\n",
        "  l.upper()\n",
        "  l[100]\n",
        "  print(5/0)\n",
        "except NameError:\n",
        "  print(\"wrong name\")\n",
        "except AttributeError:\n",
        "  print(\"Wrong attribute\")\n",
        "except IndexError:\n",
        "  print(\"wrong index\")\n",
        "except ZeroDivisionError:\n",
        "  print(\"Zero division\")\n",
        "except FileNotFoundError:\n",
        "  print(\"no file found\")\n",
        "except Exception as e:\n",
        "  print(e)\n",
        "  print(e.with_traceback)\n",
        "# Exception as e is used to catch generic error messages\n",
        "# with_traceback helps us in knowing the exact name of the error and we can also add different kind of responses in case we get specific kind of error... we just have to write the exact\n",
        "# name of the error correctly for that\n",
        "\n",
        "\n"
      ]
    },
    {
      "cell_type": "code",
      "execution_count": null,
      "metadata": {
        "id": "0sF3yRfMMut_"
      },
      "outputs": [],
      "source": [
        "with open(\"sham.txt\",\"w\") as f1:\n",
        "  f1.write(\"\"\"Hello! How are you?\n",
        "  When will you come over here\n",
        "  when will you go over there\n",
        "  where is MS Dhoni\"\"\")\n",
        "for z in open(\"sham.txt\"):\n",
        "  with open(\"kumbhal.txt\",\"w\") as f2:\n",
        "    f2.write(z[::-1]+\"\\n\")"
      ]
    },
    {
      "cell_type": "code",
      "execution_count": null,
      "metadata": {
        "id": "-JsI1WHnmCqN"
      },
      "outputs": [],
      "source": [
        "with open(\"sham.txt\",\"w\") as f1:\n",
        "  f1.write(\"\"\"Hello! How are you?\n",
        "  When will you come over here\n",
        "  when will you go over there\n",
        "  where is MS Dhoni\"\"\")\n",
        "with open('kambal.txt',\"w\") as f1:\n",
        "  for z in open(\"sham.txt\"):\n",
        "    f1.write(z[::-1]+\"\\n\")"
      ]
    },
    {
      "cell_type": "code",
      "execution_count": null,
      "metadata": {
        "colab": {
          "base_uri": "https://localhost:8080/"
        },
        "id": "bvUD5-Adqi4W",
        "outputId": "32d05c5f-be70-443c-c6a9-67726e2c1596"
      },
      "outputs": [
        {
          "name": "stdout",
          "output_type": "stream",
          "text": [
            "Hello! How are you?\n",
            "  When will you come over here\n",
            "  when will you go over there\n",
            "  where is MS Dhoni\n"
          ]
        }
      ],
      "source": [
        "try:\n",
        "  f=open(\"sham.txt\")\n",
        "except FileNotFoundError:\n",
        "  print(\"File nahi hai\")\n",
        "except Exception:\n",
        "  print(\"kuch toh lafda hai\")\n",
        "else:\n",
        "  print(f.read())\n",
        "  f.close()\n",
        "# As you can see else block will be executed only when try block gets executed correctly, if try block is not executed correctly then\n",
        "# except block will get executed , the else block has to be error-proof as if we get error in else block then it won't get caught by the except block\n",
        "# exception handling is also used for security reasons so that we don't reveal much information to a potential hacker about our code. It also improves\n",
        "# the user experience."
      ]
    },
    {
      "cell_type": "code",
      "execution_count": null,
      "metadata": {
        "colab": {
          "base_uri": "https://localhost:8080/"
        },
        "id": "IkOs0d0WrSeJ",
        "outputId": "1b865ea7-f1ec-412e-c748-09b6147b7ef9"
      },
      "outputs": [
        {
          "name": "stdout",
          "output_type": "stream",
          "text": [
            "File nahi hai\n"
          ]
        }
      ],
      "source": [
        "try:\n",
        "  f=open(\"sham1.txt\")\n",
        "except FileNotFoundError:\n",
        "  print(\"File nahi hai\")\n",
        "except Exception:\n",
        "  print(\"kuch toh lafda hai\")\n",
        "else:\n",
        "  print(f.read())\n",
        "  f.close()"
      ]
    },
    {
      "cell_type": "code",
      "execution_count": null,
      "metadata": {
        "colab": {
          "base_uri": "https://localhost:8080/",
          "height": 227
        },
        "id": "JXOM7SXArWDm",
        "outputId": "f67d5242-adf4-447f-e5d7-dd31e95bad90"
      },
      "outputs": [
        {
          "ename": "ValueError",
          "evalue": "ignored",
          "output_type": "error",
          "traceback": [
            "\u001b[0;31m---------------------------------------------------------------------------\u001b[0m",
            "\u001b[0;31mValueError\u001b[0m                                Traceback (most recent call last)",
            "\u001b[0;32m<ipython-input-10-e7df196c6054>\u001b[0m in \u001b[0;36m<cell line: 1>\u001b[0;34m()\u001b[0m\n\u001b[1;32m      6\u001b[0m   \u001b[0mprint\u001b[0m\u001b[0;34m(\u001b[0m\u001b[0;34m\"kuch toh lafda hai\"\u001b[0m\u001b[0;34m)\u001b[0m\u001b[0;34m\u001b[0m\u001b[0;34m\u001b[0m\u001b[0m\n\u001b[1;32m      7\u001b[0m \u001b[0;32melse\u001b[0m\u001b[0;34m:\u001b[0m\u001b[0;34m\u001b[0m\u001b[0;34m\u001b[0m\u001b[0m\n\u001b[0;32m----> 8\u001b[0;31m   \u001b[0mprint\u001b[0m\u001b[0;34m(\u001b[0m\u001b[0mf1\u001b[0m\u001b[0;34m.\u001b[0m\u001b[0mread\u001b[0m\u001b[0;34m(\u001b[0m\u001b[0;34m)\u001b[0m\u001b[0;34m)\u001b[0m\u001b[0;34m\u001b[0m\u001b[0;34m\u001b[0m\u001b[0m\n\u001b[0m\u001b[1;32m      9\u001b[0m   \u001b[0mf\u001b[0m\u001b[0;34m.\u001b[0m\u001b[0mclose\u001b[0m\u001b[0;34m(\u001b[0m\u001b[0;34m)\u001b[0m\u001b[0;34m\u001b[0m\u001b[0;34m\u001b[0m\u001b[0m\n",
            "\u001b[0;31mValueError\u001b[0m: I/O operation on closed file."
          ]
        }
      ],
      "source": [
        "try:\n",
        "  f=open(\"sham.txt\")\n",
        "except FileNotFoundError:\n",
        "  print(\"File nahi hai\")\n",
        "except Exception:\n",
        "  print(\"kuch toh lafda hai\")\n",
        "else:\n",
        "  print(f1.read())\n",
        "  f.close()"
      ]
    },
    {
      "cell_type": "code",
      "execution_count": null,
      "metadata": {
        "colab": {
          "base_uri": "https://localhost:8080/"
        },
        "id": "ChFyiVN4B-Kw",
        "outputId": "8963083d-fe57-430d-b496-04d3f840fb53"
      },
      "outputs": [
        {
          "name": "stdout",
          "output_type": "stream",
          "text": [
            "else block will be executed only if try block is executed correctly without raising any exceptions\n",
            "finally block will be executed at any cost irrespective of whether the try block is correctly executed or not, even if exceptions are raised(except nlock is executed),the finally block will still get executed\n"
          ]
        }
      ],
      "source": [
        "with open(\"shami.txt\",\"w\") as f1:\n",
        "  f1.write(\"\"\"I see who you are?\n",
        "           you are my enemy,\n",
        "           you are my enemy number 1\n",
        "           you are my enemy number 2\"\"\")\n",
        "try:\n",
        "  f2=open(\"shami.txt\")\n",
        "except FileNotFoundError:\n",
        "  print(\"kaha hai file\")\n",
        "except Exception as e:\n",
        "  print(e)\n",
        "  print(e.with_traceback)\n",
        "else:\n",
        "  print(\"else block will be executed only if try block is executed correctly without raising any exceptions\")\n",
        "finally:\n",
        "  print(\"finally block will be executed at any cost irrespective of whether the try block is correctly executed or not, even if exceptions are raised(except nlock is executed),the finally block will still get executed\")"
      ]
    },
    {
      "cell_type": "code",
      "execution_count": null,
      "metadata": {
        "colab": {
          "base_uri": "https://localhost:8080/"
        },
        "id": "6EH4WwWcG5Zw",
        "outputId": "611cc77e-5274-4c5b-ced4-a9a2c4d23072"
      },
      "outputs": [
        {
          "name": "stdout",
          "output_type": "stream",
          "text": [
            "kaha hai file\n",
            "finally block will be executed at any cost irrespective of whether the try block is correctly executed or not, even if exceptions are raised(except nlock is executed),the finally block will still get executed\n"
          ]
        }
      ],
      "source": [
        "with open(\"shami.txt\",\"w\") as f1:\n",
        "  f1.write(\"\"\"I see who you are?\n",
        "           you are my enemy,\n",
        "           you are my enemy number 1\n",
        "           you are my enemy number 2\"\"\")\n",
        "try:\n",
        "  f2=open(\"shami.txtt\")\n",
        "except FileNotFoundError:\n",
        "  print(\"kaha hai file\")\n",
        "except Exception as e:\n",
        "  print(e)\n",
        "  print(e.with_traceback)\n",
        "else:\n",
        "  print(\"else block will be executed only if try block is executed correctly without raising any exceptions\")\n",
        "finally:\n",
        "  print(\"finally block will be executed at any cost irrespective of whether the try block is correctly executed or not, even if exceptions are raised(except nlock is executed),the finally block will still get executed\")\n",
        "  # finally block is often used to close connections,like database connection or any other kind of connection(connection to a file) even if our code raises error as if the respective\n",
        "  # data is present in our RAM(if our RAM is dealing with that data) and if our system gets hacked then that data can be compromised"
      ]
    },
    {
      "cell_type": "code",
      "execution_count": null,
      "metadata": {
        "id": "bpokkNVcHb5k"
      },
      "outputs": [],
      "source": [
        "# raise keyword\n",
        "# In python programming exceptions are raised when error occurs at runtime.\n",
        "# Python also gives use the power of raising exceptions manually\n",
        "# We can also pass values to the exceptions to reflect why the error has been raised"
      ]
    },
    {
      "cell_type": "code",
      "execution_count": null,
      "metadata": {
        "colab": {
          "base_uri": "https://localhost:8080/",
          "height": 175
        },
        "id": "ymhA2bflQlBq",
        "outputId": "89f6765d-ab98-4b44-da26-cec7c867d76f"
      },
      "outputs": [
        {
          "ename": "FileNotFoundError",
          "evalue": "ignored",
          "output_type": "error",
          "traceback": [
            "\u001b[0;31m---------------------------------------------------------------------------\u001b[0m",
            "\u001b[0;31mFileNotFoundError\u001b[0m                         Traceback (most recent call last)",
            "\u001b[0;32m<ipython-input-15-793327161528>\u001b[0m in \u001b[0;36m<cell line: 1>\u001b[0;34m()\u001b[0m\n\u001b[0;32m----> 1\u001b[0;31m \u001b[0;32mraise\u001b[0m \u001b[0mFileNotFoundError\u001b[0m\u001b[0;34m(\u001b[0m\u001b[0;34m\"aise hi buss\"\u001b[0m\u001b[0;34m)\u001b[0m\u001b[0;34m\u001b[0m\u001b[0;34m\u001b[0m\u001b[0m\n\u001b[0m",
            "\u001b[0;31mFileNotFoundError\u001b[0m: aise hi buss"
          ]
        }
      ],
      "source": [
        "raise FileNotFoundError(\"aise hi buss\")"
      ]
    },
    {
      "cell_type": "code",
      "execution_count": null,
      "metadata": {
        "id": "LT4Q6Ei4SnYX"
      },
      "outputs": [],
      "source": [
        "#raise gives you the advantage of raising any kind of error at any point time in the program, that error is thrown at except and except handles it accordingly\n",
        "# raise is used to raise custom error messages"
      ]
    },
    {
      "cell_type": "code",
      "execution_count": null,
      "metadata": {
        "colab": {
          "base_uri": "https://localhost:8080/"
        },
        "id": "HMXWH_7NF7QM",
        "outputId": "ec116c97-af4e-45f7-9b1a-ff23757c0c65"
      },
      "outputs": [
        {
          "name": "stdout",
          "output_type": "stream",
          "text": [
            "8000\n"
          ]
        }
      ],
      "source": [
        "class bankaccount:\n",
        "  def __init__(self,balance):\n",
        "    self.balance=balance\n",
        "  def withdraw(self,amount):\n",
        "    if amount<0:\n",
        "      raise Exception(\"Amount is less than zero\")\n",
        "    elif amount>self.balance:\n",
        "      raise Exception(\"Not enough balance in your account\")\n",
        "    self.balance-=amount\n",
        "# as you can see from below when exceptions are raised from any of the if clauses then self.balance won't be decremented\n",
        "a=bankaccount(15000)\n",
        "try:\n",
        "  a.withdraw(7000)\n",
        "except Exception as e:\n",
        "  print(e)\n",
        "else:\n",
        "  print(a.balance)\n",
        "# raise Exception is used to raise customized errors, Exception() is a class and what we pass within is the argument and Exception as e(e here is the object of Exception class)"
      ]
    },
    {
      "cell_type": "code",
      "execution_count": null,
      "metadata": {
        "colab": {
          "base_uri": "https://localhost:8080/"
        },
        "id": "IThjiMyuHERV",
        "outputId": "8f60aadb-73f8-4675-f200-61d9dbb3a125"
      },
      "outputs": [
        {
          "name": "stdout",
          "output_type": "stream",
          "text": [
            "Amount is less than zero\n"
          ]
        }
      ],
      "source": [
        "b=bankaccount(8000)\n",
        "try:\n",
        "  a.withdraw(-5)\n",
        "except Exception as e:\n",
        "  print(e)\n",
        "else:\n",
        "  print(a.balance)"
      ]
    },
    {
      "cell_type": "code",
      "execution_count": null,
      "metadata": {
        "colab": {
          "base_uri": "https://localhost:8080/"
        },
        "id": "yDOIejLYHWa8",
        "outputId": "a478093d-7478-4625-e4a5-cb8d71d0a13f"
      },
      "outputs": [
        {
          "name": "stdout",
          "output_type": "stream",
          "text": [
            "Not enough balance in your account\n"
          ]
        }
      ],
      "source": [
        "b=bankaccount(11000)\n",
        "try:\n",
        "  a.withdraw(12000)\n",
        "except Exception as e:\n",
        "  print(e)\n",
        "else:\n",
        "  b.balance"
      ]
    },
    {
      "cell_type": "code",
      "execution_count": null,
      "metadata": {
        "colab": {
          "base_uri": "https://localhost:8080/"
        },
        "id": "SVPfJo79L0Ex",
        "outputId": "efdff73d-241a-4265-c097-beeeedc9139e"
      },
      "outputs": [
        {
          "name": "stdout",
          "output_type": "stream",
          "text": [
            "Not enough balance\n"
          ]
        }
      ],
      "source": [
        "class MyException(Exception):\n",
        "  def __init__(self,message):\n",
        "    print(message)\n",
        "class bankaccount:\n",
        "  def __init__(self,balance):\n",
        "    self.balance=balance\n",
        "  def withdraw(self,amount):\n",
        "    if amount<0:\n",
        "      raise MyException(\"Amount is less than zero\")\n",
        "    elif amount>self.balance:\n",
        "      raise MyException(\"Not enough balance\")\n",
        "    self.balance-=amount\n",
        "a=bankaccount(10000)\n",
        "try:\n",
        "  a.withdraw(11000)\n",
        "except MyException as e:\n",
        "  pass\n",
        "else:\n",
        "  a.balance"
      ]
    },
    {
      "cell_type": "code",
      "execution_count": null,
      "metadata": {
        "colab": {
          "base_uri": "https://localhost:8080/"
        },
        "id": "PzQLmRn0Eizy",
        "outputId": "451bb1bf-a731-4eee-8055-2b0d3260ed1d"
      },
      "outputs": [
        {
          "name": "stdout",
          "output_type": "stream",
          "text": [
            "2000\n"
          ]
        }
      ],
      "source": [
        "class MyException(Exception):\n",
        "  def __init__(self,message):\n",
        "    print(message)\n",
        "class bankaccount:\n",
        "  def __init__(self,balance):\n",
        "    self.balance=balance\n",
        "  def withdraw(self,amount):\n",
        "    if amount<0:\n",
        "      raise MyException(\"Amount is less than zero\")\n",
        "    elif amount>self.balance:\n",
        "      raise MyException(\"Not enough balance\")\n",
        "    self.balance-=amount\n",
        "a=bankaccount(10000)\n",
        "try:\n",
        "  a.withdraw(8000)\n",
        "except MyException as e:\n",
        "  pass\n",
        "else:\n",
        "  print(a.balance)"
      ]
    },
    {
      "cell_type": "code",
      "execution_count": null,
      "metadata": {
        "colab": {
          "base_uri": "https://localhost:8080/"
        },
        "id": "CwWxrMlPgoSs",
        "outputId": "e1b5393f-1afd-4e0e-db68-0912987ec138"
      },
      "outputs": [
        {
          "name": "stdout",
          "output_type": "stream",
          "text": [
            "Someone is logging in from other device\n",
            "logout\n",
            "logout from database\n"
          ]
        }
      ],
      "source": [
        "class myexception(Exception):\n",
        "  def __init__(self,message):\n",
        "    print(message)\n",
        "  def logout(self):\n",
        "    print(\"logout\")\n",
        "class googly:\n",
        "  def __init__(self,name,email,password,device):\n",
        "    self.name=name\n",
        "    self.email=email\n",
        "    self.password=password\n",
        "    self.device=device\n",
        "  def login(self,name,email,password,device):\n",
        "    if self.device!=device:\n",
        "      raise myexception(\"Someone is logging in from other device\")\n",
        "    if self.name==name and self.email==email and self.password==password:\n",
        "      print(\"welcome\")\n",
        "    else:\n",
        "      print(\"wrong credentials\")\n",
        "a=googly(\"shami\",\"shami26@gmail.com\",\"12345\",\"android\")\n",
        "try:\n",
        "  a.login(\"shami\",\"shami26@gmail.com\",\"12345\",\"devis\")\n",
        "except myexception as e:\n",
        "  e.logout()\n",
        "else:\n",
        "  a.name\n",
        "finally:\n",
        "  print(\"logout from database\")\n",
        "\n"
      ]
    },
    {
      "cell_type": "code",
      "execution_count": null,
      "metadata": {
        "colab": {
          "base_uri": "https://localhost:8080/"
        },
        "id": "rDu2faicCzF4",
        "outputId": "df50a53a-347d-4858-e685-46d001e51fa9"
      },
      "outputs": [
        {
          "name": "stdout",
          "output_type": "stream",
          "text": [
            "Logged in\n",
            "mahendra\n"
          ]
        }
      ],
      "source": [
        "class myexception(Exception):\n",
        "  def __init__(self,message):\n",
        "    print(message)\n",
        "  def logout(self):\n",
        "    print(\"We are logging out from all your devices\")\n",
        "class googly:\n",
        "  def __init__(self,name,email,password,device):\n",
        "    self.name=name\n",
        "    self.email=email\n",
        "    self.password=password\n",
        "    self.device=device\n",
        "  def login(self,name,email,password,device):\n",
        "    if self.device!=device:\n",
        "      raise myexception(\"Someone from some other device is trying to login in to your device\")\n",
        "    if self.name==name and self.email==email and self.password==password:\n",
        "      print(\"Logged in\")\n",
        "    else:\n",
        "      print(\"Wrong credentials\")\n",
        "a=googly(\"mahendra\",\"mahi26@gmail.com\",\"12345\",\"android\")\n",
        "try:\n",
        "  a.login(\"mahendra\",\"mahi26@gmail.com\",\"12345\",\"android\")\n",
        "except myexception as e:\n",
        "  e.logout()\n",
        "else:\n",
        "  print(a.name)\n",
        "# finally block will be executed irrespective of whether we get error in the try block or not\n",
        "# custom Exception class is to made when you have to not just print message for a given error but also do something about it when such an Exception is recieved"
      ]
    },
    {
      "cell_type": "code",
      "execution_count": null,
      "metadata": {
        "colab": {
          "base_uri": "https://localhost:8080/"
        },
        "id": "vcMfQEJ_0ZxD",
        "outputId": "4d65b806-de43-436b-d4f9-7911525f5500"
      },
      "outputs": [
        {
          "name": "stdout",
          "output_type": "stream",
          "text": [
            "Hello dhoni age 30, how are you? how have you been?\n",
            "Hello mahi age 32, how are you? how have you been?\n"
          ]
        }
      ],
      "source": [
        "#In conventional programming we mostly use global variables and function scattered throughout the code, this variables can be accessed and modified from anywhere in the programe\n",
        "name=\"dhoni\"\n",
        "age=30\n",
        "def greet():\n",
        "  print(f\"Hello {name} age {age}, how are you? how have you been?\")\n",
        "greet()\n",
        "name=\"mahi\"\n",
        "age=32\n",
        "greet()"
      ]
    },
    {
      "cell_type": "code",
      "execution_count": null,
      "metadata": {
        "colab": {
          "base_uri": "https://localhost:8080/"
        },
        "id": "mFZDnw7hCVrp",
        "outputId": "c20e2335-4caf-4940-f8db-3af994d816e6"
      },
      "outputs": [
        {
          "name": "stdout",
          "output_type": "stream",
          "text": [
            "His name is mahi and age is 32\n"
          ]
        }
      ],
      "source": [
        "#While making classes, we can couple up all related datas together and couple it up with class methods such that variables dont need to be modified at any given time over the course\n",
        "# of writing our code. This couples up related data together and makes the programme more readable without any need for variable modification\n",
        "class greter:\n",
        "  def __init__(self,name,age):\n",
        "    self.name=name\n",
        "    self.age=age\n",
        "  def greet(self):\n",
        "    print(f\"His name is {name} and age is {age}\")\n",
        "Alice=greter('alice',30)\n",
        "Alice.greet()"
      ]
    },
    {
      "cell_type": "code",
      "execution_count": null,
      "metadata": {
        "colab": {
          "base_uri": "https://localhost:8080/"
        },
        "id": "cw-Mr54RLmNq",
        "outputId": "b1ef3c6f-e428-4792-da8d-5d295e3002ef"
      },
      "outputs": [
        {
          "name": "stdout",
          "output_type": "stream",
          "text": [
            "His name is mahi and age is 32\n"
          ]
        }
      ],
      "source": [
        "benu=greter('benu',33)\n",
        "benu.greet()"
      ]
    },
    {
      "cell_type": "code",
      "execution_count": null,
      "metadata": {
        "colab": {
          "base_uri": "https://localhost:8080/"
        },
        "id": "UUv4vCvwLvNy",
        "outputId": "144c8fa4-3671-4d1f-9994-32c3e12ee977"
      },
      "outputs": [
        {
          "name": "stdout",
          "output_type": "stream",
          "text": [
            "you cannot perform mathematical operations between a integer and a string, cannot use mathematical functions on them, please correct\n"
          ]
        }
      ],
      "source": [
        "def function(l: list, s, **args):\n",
        "    last_element = l[-1]\n",
        "\n",
        "    l[int(s)]=10\n",
        "    any_element = l[int(s)+10]\n",
        "    l[s]=10\n",
        "\n",
        "    res = sum(l)\n",
        "\n",
        "    p = args['p']\n",
        "    # print(p)\n",
        "    return res/last_element * p + any_element\n",
        "try:\n",
        "  function([1,2,1]*9, 12, p=None)\n",
        "except IndexError:\n",
        "  print(\"Index out of range hai tera\")\n",
        "except ValueError:\n",
        "  print(\"1-2 kya hai? dhang ka value daal so that it can be converted into a valid integer value\")\n",
        "except TypeError:\n",
        "  print(\"you cannot perform mathematical operations between a integer and a string, cannot use mathematical functions on them, please correct\")\n",
        "except KeyError:\n",
        "  print(\"Bhai key exist hi nahi karta aur tu uss key se uska value dhunde jaa raha hai \")\n",
        "except ZeroDivisionError:\n",
        "  print(\"Zero se divide kyu kar rahe ho bhai pagal ho kya\")\n",
        "except Exception as e:\n",
        "  print(e)"
      ]
    },
    {
      "cell_type": "code",
      "execution_count": null,
      "metadata": {
        "colab": {
          "base_uri": "https://localhost:8080/",
          "height": 314
        },
        "id": "gIYg8y4yXMar",
        "outputId": "66d607c7-b673-452d-83d0-fe8b7f3560af"
      },
      "outputs": [
        {
          "ename": "ZeroDivisionError",
          "evalue": "ignored",
          "output_type": "error",
          "traceback": [
            "\u001b[0;31m---------------------------------------------------------------------------\u001b[0m",
            "\u001b[0;31mZeroDivisionError\u001b[0m                         Traceback (most recent call last)",
            "\u001b[0;32m<ipython-input-25-7b288bf13d27>\u001b[0m in \u001b[0;36m<cell line: 2>\u001b[0;34m()\u001b[0m\n\u001b[1;32m      1\u001b[0m \u001b[0;31m# function([1,2,1]*9, 12, p=None)\u001b[0m\u001b[0;34m\u001b[0m\u001b[0;34m\u001b[0m\u001b[0m\n\u001b[0;32m----> 2\u001b[0;31m \u001b[0mfunction\u001b[0m\u001b[0;34m(\u001b[0m\u001b[0;34m[\u001b[0m\u001b[0;36m1\u001b[0m\u001b[0;34m,\u001b[0m\u001b[0;36m2\u001b[0m\u001b[0;34m,\u001b[0m\u001b[0;36m0\u001b[0m\u001b[0;34m]\u001b[0m\u001b[0;34m*\u001b[0m\u001b[0;36m9\u001b[0m\u001b[0;34m,\u001b[0m \u001b[0;36m12\u001b[0m\u001b[0;34m,\u001b[0m \u001b[0mp\u001b[0m\u001b[0;34m=\u001b[0m\u001b[0;36m10\u001b[0m\u001b[0;34m)\u001b[0m\u001b[0;34m\u001b[0m\u001b[0;34m\u001b[0m\u001b[0m\n\u001b[0m",
            "\u001b[0;32m<ipython-input-24-989ece411e5e>\u001b[0m in \u001b[0;36mfunction\u001b[0;34m(l, s, **args)\u001b[0m\n\u001b[1;32m     10\u001b[0m     \u001b[0mp\u001b[0m \u001b[0;34m=\u001b[0m \u001b[0margs\u001b[0m\u001b[0;34m[\u001b[0m\u001b[0;34m'p'\u001b[0m\u001b[0;34m]\u001b[0m\u001b[0;34m\u001b[0m\u001b[0;34m\u001b[0m\u001b[0m\n\u001b[1;32m     11\u001b[0m     \u001b[0;31m# print(p)\u001b[0m\u001b[0;34m\u001b[0m\u001b[0;34m\u001b[0m\u001b[0m\n\u001b[0;32m---> 12\u001b[0;31m     \u001b[0;32mreturn\u001b[0m \u001b[0mres\u001b[0m\u001b[0;34m/\u001b[0m\u001b[0mlast_element\u001b[0m \u001b[0;34m*\u001b[0m \u001b[0mp\u001b[0m \u001b[0;34m+\u001b[0m \u001b[0many_element\u001b[0m\u001b[0;34m\u001b[0m\u001b[0;34m\u001b[0m\u001b[0m\n\u001b[0m\u001b[1;32m     13\u001b[0m \u001b[0;32mtry\u001b[0m\u001b[0;34m:\u001b[0m\u001b[0;34m\u001b[0m\u001b[0;34m\u001b[0m\u001b[0m\n\u001b[1;32m     14\u001b[0m   \u001b[0mfunction\u001b[0m\u001b[0;34m(\u001b[0m\u001b[0;34m[\u001b[0m\u001b[0;36m1\u001b[0m\u001b[0;34m,\u001b[0m\u001b[0;36m2\u001b[0m\u001b[0;34m,\u001b[0m\u001b[0;36m1\u001b[0m\u001b[0;34m]\u001b[0m\u001b[0;34m*\u001b[0m\u001b[0;36m9\u001b[0m\u001b[0;34m,\u001b[0m \u001b[0;36m12\u001b[0m\u001b[0;34m,\u001b[0m \u001b[0mp\u001b[0m\u001b[0;34m=\u001b[0m\u001b[0;32mNone\u001b[0m\u001b[0;34m)\u001b[0m\u001b[0;34m\u001b[0m\u001b[0;34m\u001b[0m\u001b[0m\n",
            "\u001b[0;31mZeroDivisionError\u001b[0m: division by zero"
          ]
        }
      ],
      "source": [
        "# function([1,2,1]*9, 12, p=None)\n",
        "function([1,2,0]*9, 12, p=10)"
      ]
    },
    {
      "cell_type": "code",
      "execution_count": null,
      "metadata": {
        "colab": {
          "base_uri": "https://localhost:8080/",
          "height": 297
        },
        "id": "-H9_wD88T0ic",
        "outputId": "76f4c45e-9b2e-419d-f61b-83b250fe3328"
      },
      "outputs": [
        {
          "ename": "TypeError",
          "evalue": "ignored",
          "output_type": "error",
          "traceback": [
            "\u001b[0;31m---------------------------------------------------------------------------\u001b[0m",
            "\u001b[0;31mTypeError\u001b[0m                                 Traceback (most recent call last)",
            "\u001b[0;32m<ipython-input-18-1313d9eae0ca>\u001b[0m in \u001b[0;36m<cell line: 1>\u001b[0;34m()\u001b[0m\n\u001b[0;32m----> 1\u001b[0;31m \u001b[0mfunction\u001b[0m\u001b[0;34m(\u001b[0m\u001b[0;34m[\u001b[0m\u001b[0;36m1\u001b[0m\u001b[0;34m,\u001b[0m\u001b[0;34m'2'\u001b[0m\u001b[0;34m,\u001b[0m\u001b[0;36m1\u001b[0m\u001b[0;34m]\u001b[0m\u001b[0;34m*\u001b[0m\u001b[0;36m9\u001b[0m\u001b[0;34m,\u001b[0m \u001b[0;36m12\u001b[0m\u001b[0;34m)\u001b[0m\u001b[0;34m\u001b[0m\u001b[0;34m\u001b[0m\u001b[0m\n\u001b[0m",
            "\u001b[0;32m<ipython-input-17-1dc52ece41f4>\u001b[0m in \u001b[0;36mfunction\u001b[0;34m(l, s, **args)\u001b[0m\n\u001b[1;32m      6\u001b[0m     \u001b[0ml\u001b[0m\u001b[0;34m[\u001b[0m\u001b[0ms\u001b[0m\u001b[0;34m]\u001b[0m\u001b[0;34m=\u001b[0m\u001b[0;36m10\u001b[0m\u001b[0;34m\u001b[0m\u001b[0;34m\u001b[0m\u001b[0m\n\u001b[1;32m      7\u001b[0m \u001b[0;34m\u001b[0m\u001b[0m\n\u001b[0;32m----> 8\u001b[0;31m     \u001b[0mres\u001b[0m \u001b[0;34m=\u001b[0m \u001b[0msum\u001b[0m\u001b[0;34m(\u001b[0m\u001b[0ml\u001b[0m\u001b[0;34m)\u001b[0m\u001b[0;34m\u001b[0m\u001b[0;34m\u001b[0m\u001b[0m\n\u001b[0m\u001b[1;32m      9\u001b[0m \u001b[0;34m\u001b[0m\u001b[0m\n\u001b[1;32m     10\u001b[0m     \u001b[0mp\u001b[0m \u001b[0;34m=\u001b[0m \u001b[0margs\u001b[0m\u001b[0;34m[\u001b[0m\u001b[0;34m'p'\u001b[0m\u001b[0;34m]\u001b[0m\u001b[0;34m\u001b[0m\u001b[0;34m\u001b[0m\u001b[0m\n",
            "\u001b[0;31mTypeError\u001b[0m: unsupported operand type(s) for +: 'int' and 'str'"
          ]
        }
      ],
      "source": [
        "function([1,'2',1]*9, 12)"
      ]
    },
    {
      "cell_type": "code",
      "execution_count": null,
      "metadata": {
        "colab": {
          "base_uri": "https://localhost:8080/",
          "height": 297
        },
        "id": "sD-vgzvLTHtw",
        "outputId": "77644d4f-a5fb-4984-c061-734043de612e"
      },
      "outputs": [
        {
          "ename": "ValueError",
          "evalue": "ignored",
          "output_type": "error",
          "traceback": [
            "\u001b[0;31m---------------------------------------------------------------------------\u001b[0m",
            "\u001b[0;31mValueError\u001b[0m                                Traceback (most recent call last)",
            "\u001b[0;32m<ipython-input-16-5b91fb4ebe56>\u001b[0m in \u001b[0;36m<cell line: 1>\u001b[0;34m()\u001b[0m\n\u001b[0;32m----> 1\u001b[0;31m \u001b[0mfunction\u001b[0m\u001b[0;34m(\u001b[0m\u001b[0;34m[\u001b[0m\u001b[0;36m1\u001b[0m\u001b[0;34m,\u001b[0m\u001b[0;36m2\u001b[0m\u001b[0;34m,\u001b[0m\u001b[0;36m1\u001b[0m\u001b[0;34m]\u001b[0m\u001b[0;34m*\u001b[0m\u001b[0;36m9\u001b[0m\u001b[0;34m,\u001b[0m \u001b[0;34m'1-2'\u001b[0m\u001b[0;34m)\u001b[0m\u001b[0;34m\u001b[0m\u001b[0;34m\u001b[0m\u001b[0m\n\u001b[0m",
            "\u001b[0;32m<ipython-input-15-8f42fb6fe316>\u001b[0m in \u001b[0;36mfunction\u001b[0;34m(l, s, **args)\u001b[0m\n\u001b[1;32m      2\u001b[0m     \u001b[0mlast_element\u001b[0m \u001b[0;34m=\u001b[0m \u001b[0ml\u001b[0m\u001b[0;34m[\u001b[0m\u001b[0;34m-\u001b[0m\u001b[0;36m1\u001b[0m\u001b[0;34m]\u001b[0m\u001b[0;34m\u001b[0m\u001b[0;34m\u001b[0m\u001b[0m\n\u001b[1;32m      3\u001b[0m \u001b[0;34m\u001b[0m\u001b[0m\n\u001b[0;32m----> 4\u001b[0;31m     \u001b[0ml\u001b[0m\u001b[0;34m[\u001b[0m\u001b[0mint\u001b[0m\u001b[0;34m(\u001b[0m\u001b[0ms\u001b[0m\u001b[0;34m)\u001b[0m\u001b[0;34m]\u001b[0m\u001b[0;34m=\u001b[0m\u001b[0;36m10\u001b[0m\u001b[0;34m\u001b[0m\u001b[0;34m\u001b[0m\u001b[0m\n\u001b[0m\u001b[1;32m      5\u001b[0m     \u001b[0many_element\u001b[0m \u001b[0;34m=\u001b[0m \u001b[0ml\u001b[0m\u001b[0;34m[\u001b[0m\u001b[0mint\u001b[0m\u001b[0;34m(\u001b[0m\u001b[0ms\u001b[0m\u001b[0;34m)\u001b[0m\u001b[0;34m+\u001b[0m\u001b[0;36m10\u001b[0m\u001b[0;34m]\u001b[0m\u001b[0;34m\u001b[0m\u001b[0;34m\u001b[0m\u001b[0m\n\u001b[1;32m      6\u001b[0m     \u001b[0ml\u001b[0m\u001b[0;34m[\u001b[0m\u001b[0ms\u001b[0m\u001b[0;34m]\u001b[0m\u001b[0;34m=\u001b[0m\u001b[0;36m10\u001b[0m\u001b[0;34m\u001b[0m\u001b[0;34m\u001b[0m\u001b[0m\n",
            "\u001b[0;31mValueError\u001b[0m: invalid literal for int() with base 10: '1-2'"
          ]
        }
      ],
      "source": [
        "function([1,2,1]*9, '1-2')"
      ]
    },
    {
      "cell_type": "code",
      "execution_count": null,
      "metadata": {
        "colab": {
          "base_uri": "https://localhost:8080/"
        },
        "id": "GiVsOXkhlOG3",
        "outputId": "04b3b27b-c665-45b2-d668-c3082971c474"
      },
      "outputs": [
        {
          "name": "stdout",
          "output_type": "stream",
          "text": [
            "26\n"
          ]
        }
      ],
      "source": [
        "l = [{0:2},2,3,4,'5', {5:10}]\n",
        "# For calculating sum of above list\n",
        "s=0\n",
        "for i in range(len(l)):\n",
        "    #You can Edit code from here\n",
        "    try:\n",
        "       s += l[i].get(i)\n",
        "    except TypeError:\n",
        "        s += l[i]\n",
        "    except Exception as e:\n",
        "      s+=int(l[i])\n",
        "\n",
        "\n",
        "print(s)"
      ]
    },
    {
      "cell_type": "code",
      "execution_count": null,
      "metadata": {
        "colab": {
          "base_uri": "https://localhost:8080/"
        },
        "id": "8S7RBu5FWsC-",
        "outputId": "cbee1d3b-31eb-4112-a6df-e7983c9425b6"
      },
      "outputs": [
        {
          "name": "stdout",
          "output_type": "stream",
          "text": [
            "Hello world! Good morning\n",
            "File has been successfully closed\n"
          ]
        }
      ],
      "source": [
        "#Q3\n",
        "with open(\"ambin.txt\",\"w\") as f1:\n",
        "  f1.write(\"Hello world! Good morning\")\n",
        "try:\n",
        "  f1=open(\"ambin.txt\")\n",
        "  print(f1.read())\n",
        "except FileNotFoundError:\n",
        "  print(\"File ka naam ya toh sahi nahi hai ya file exist hi nahi karta\")\n",
        "else:\n",
        "  f1.close()\n",
        "  print(\"File has been successfully closed\")\n"
      ]
    },
    {
      "cell_type": "code",
      "execution_count": null,
      "metadata": {
        "colab": {
          "base_uri": "https://localhost:8080/"
        },
        "id": "gZN1wPM7d9-X",
        "outputId": "ba44d793-0541-43f0-c5b4-a41a0e1a028c"
      },
      "outputs": [
        {
          "name": "stdout",
          "output_type": "stream",
          "text": [
            "Enter any number you guess between 1 to 100 22\n",
            "86\n",
            "Value that you guessed is much smaller than value of b\n",
            "Enter any number you guess between 1 to 100 86\n",
            "86\n",
            "You guessed the correct number\n",
            "Enter any number you guess between 1 to 100 86\n",
            "86\n",
            "You guessed the correct number\n"
          ]
        }
      ],
      "source": [
        "import random\n",
        "class ValueTooLarge(Exception):\n",
        "  def __init__(self,message):\n",
        "    print(message)\n",
        "  def guessagain(self):\n",
        "    c=random.randint(1,100)\n",
        "    return c\n",
        "class ValueTooSmall(Exception):\n",
        "  def __init__(self,message):\n",
        "    print(message)\n",
        "class GuessError(Exception):\n",
        "  def __init__(self,message):\n",
        "    print(message)\n",
        "import random\n",
        "def func(a,b):\n",
        "  if a<1:\n",
        "    raise GuessError(\"Vluw is lesser than 1, please enter a larger number \")\n",
        "  elif a>b:\n",
        "    raise ValueTooLarge(\"Value is quite large, Enter lesser value\")\n",
        "  elif a<b:\n",
        "    raise ValueTooSmall(\"Value that you guessed is much smaller than value of b\")\n",
        "a1=True\n",
        "def fss(b):\n",
        "\n",
        "  while True:\n",
        "    a=int(input(\"Enter any number you guess between 1 to 100 \"))\n",
        "    # b=random.randint(1,100)\n",
        "    print(b)\n",
        "    try:\n",
        "      func(a,b)\n",
        "    except GuessError:\n",
        "      fss(b)\n",
        "    except ValueTooLarge:\n",
        "      fss(b)\n",
        "    except ValueTooSmall:\n",
        "      fss(b)\n",
        "    else:\n",
        "      # break\n",
        "\n",
        "      print(\"You guessed the correct number\")\n",
        "      # a1=False\n",
        "      break\n",
        "b=random.randint(1,100)\n",
        "fss(b)\n",
        "\n"
      ]
    },
    {
      "cell_type": "code",
      "execution_count": null,
      "metadata": {
        "colab": {
          "base_uri": "https://localhost:8080/"
        },
        "id": "sPtahRfWe8l2",
        "outputId": "53ce8626-50b4-4e7c-ad78-e27509645dcd"
      },
      "outputs": [
        {
          "name": "stdout",
          "output_type": "stream",
          "text": [
            "57\n"
          ]
        }
      ],
      "source": [
        "import random\n",
        "print(random.randint(1,100))"
      ]
    },
    {
      "cell_type": "code",
      "execution_count": null,
      "metadata": {
        "colab": {
          "base_uri": "https://localhost:8080/"
        },
        "id": "eM6iazA2Y2mI",
        "outputId": "86a6fd1c-4354-4932-8c58-01c8e75ccd86"
      },
      "outputs": [
        {
          "name": "stdout",
          "output_type": "stream",
          "text": [
            "Enter any number you guess between 1 to 100 31\n",
            "8\n",
            "Value is quite large, enter a lesser value\n",
            "Enter any number you guess between 1 to 100 8\n",
            "8\n",
            "You guessed the correct number\n",
            "Enter any number you guess between 1 to 100 8\n",
            "8\n",
            "You guessed the correct number\n"
          ]
        }
      ],
      "source": [
        "import random\n",
        "\n",
        "class ValueTooLarge(Exception):\n",
        "    def __init__(self, message):\n",
        "        print(message)\n",
        "    def guessagain(self):\n",
        "        c = random.randint(1, 100)\n",
        "        return c\n",
        "\n",
        "class ValueTooSmall(Exception):\n",
        "    def __init__(self, message):\n",
        "        print(message)\n",
        "\n",
        "class GuessError(Exception):\n",
        "    def __init__(self, message):\n",
        "        print(message)\n",
        "\n",
        "def func(a, b):\n",
        "    if a < 1:\n",
        "        raise GuessError(\"Value is lesser than 1, please enter a larger number \")\n",
        "    elif a > b:\n",
        "        raise ValueTooLarge(\"Value is quite large, enter a lesser value\")\n",
        "    elif a < b:\n",
        "        raise ValueTooSmall(\"Value that you guessed is much smaller than the value of b\")\n",
        "\n",
        "def fss(b):\n",
        "    while True:\n",
        "        a = int(input(\"Enter any number you guess between 1 to 100 \"))\n",
        "        print(b)\n",
        "        try:\n",
        "            func(a, b)\n",
        "        except GuessError:\n",
        "            fss(b)\n",
        "        except ValueTooLarge:\n",
        "            fss(b)\n",
        "        except ValueTooSmall:\n",
        "            fss(b)\n",
        "        else:\n",
        "            print(\"You guessed the correct number\")\n",
        "            break\n",
        "\n",
        "b = random.randint(1, 100)\n",
        "fss(b)\n"
      ]
    },
    {
      "cell_type": "code",
      "execution_count": null,
      "metadata": {
        "colab": {
          "base_uri": "https://localhost:8080/"
        },
        "id": "VuuaCGGFqzDZ",
        "outputId": "abcdee7f-dd71-4a51-ed92-f26202d30c30"
      },
      "outputs": [
        {
          "name": "stdout",
          "output_type": "stream",
          "text": [
            "Enter the name? \n",
            "Enter the age? 16\n",
            "You are too young mate\n"
          ]
        }
      ],
      "source": [
        "class InvalidName(Exception):\n",
        "  def __init__(self,message):\n",
        "    print(message)\n",
        "class InvalidAge(Exception):\n",
        "  def __init__(self,message):\n",
        "    print(message)\n",
        "def func(name,age):\n",
        "  if age<18:\n",
        "    raise InvalidAge(\"You are too young mate\")\n",
        "  elif len(name)==0 or len(name)==1:\n",
        "    raise InvalidName(\"Your name is crap\")\n",
        "a=input(\"Enter the name? \")\n",
        "b=int(input(\"Enter the age? \"))\n",
        "try:\n",
        "  func(a,b)\n",
        "except InvalidAge:\n",
        "  pass\n",
        "except InvalidName:\n",
        "  pass\n",
        "else:\n",
        "  print(\"Congratulations! You are a valid voter\")"
      ]
    },
    {
      "cell_type": "code",
      "execution_count": null,
      "metadata": {
        "colab": {
          "base_uri": "https://localhost:8080/",
          "height": 262
        },
        "id": "1FjpYTJM2UoO",
        "outputId": "9b3fe511-4a38-45c1-90a9-ebd89b7020a2"
      },
      "outputs": [
        {
          "name": "stdout",
          "output_type": "stream",
          "text": [
            "1 2 3 4 5 6 7 8 9 10 11 12 13 14 15 16 17 18 19 20 \n",
            "\n",
            "Stop it you fool\n"
          ]
        },
        {
          "ename": "StopIteration",
          "evalue": "ignored",
          "output_type": "error",
          "traceback": [
            "\u001b[0;31m---------------------------------------------------------------------------\u001b[0m",
            "\u001b[0;31mStopIteration\u001b[0m                             Traceback (most recent call last)",
            "\u001b[0;32m<ipython-input-2-a81ce17ab7b5>\u001b[0m in \u001b[0;36m<cell line: 5>\u001b[0;34m()\u001b[0m\n\u001b[1;32m      8\u001b[0m   \u001b[0;32mif\u001b[0m \u001b[0mi\u001b[0m\u001b[0;34m==\u001b[0m\u001b[0;36m21\u001b[0m\u001b[0;34m:\u001b[0m\u001b[0;34m\u001b[0m\u001b[0;34m\u001b[0m\u001b[0m\n\u001b[1;32m      9\u001b[0m     \u001b[0mprint\u001b[0m\u001b[0;34m(\u001b[0m\u001b[0;34m\"\\n\"\u001b[0m\u001b[0;34m)\u001b[0m\u001b[0;34m\u001b[0m\u001b[0;34m\u001b[0m\u001b[0m\n\u001b[0;32m---> 10\u001b[0;31m     \u001b[0;32mraise\u001b[0m \u001b[0mStopIteration\u001b[0m\u001b[0;34m(\u001b[0m\u001b[0;34m\"Stop it you fool\"\u001b[0m\u001b[0;34m)\u001b[0m\u001b[0;34m\u001b[0m\u001b[0;34m\u001b[0m\u001b[0m\n\u001b[0m",
            "\u001b[0;31mStopIteration\u001b[0m: Stop it you fool"
          ]
        }
      ],
      "source": [
        "class StopIteration(Exception):\n",
        "  def __init__(self,message):\n",
        "    print(message)\n",
        "i=1\n",
        "while True:\n",
        "  print(i,end=\" \")\n",
        "  i+=1\n",
        "  if i==21:\n",
        "    print(\"\\n\")\n",
        "    raise StopIteration(\"Stop it you fool\")\n"
      ]
    },
    {
      "cell_type": "code",
      "execution_count": null,
      "metadata": {
        "id": "SMazfAXEP3bK"
      },
      "outputs": [],
      "source": [
        "# You get ValueError while trying to convert string to integer."
      ]
    },
    {
      "cell_type": "code",
      "execution_count": null,
      "metadata": {
        "colab": {
          "base_uri": "https://localhost:8080/"
        },
        "id": "oZVvis8yS3M_",
        "outputId": "5df61dbd-5957-4d3a-ba08-6b863928e691"
      },
      "outputs": [
        {
          "data": {
            "text/plain": [
              "[1, 2, 3, 1, 2, 3, 1, 2, 3]"
            ]
          },
          "execution_count": 6,
          "metadata": {},
          "output_type": "execute_result"
        }
      ],
      "source": [
        "[1,2,3]*3\n",
        "#so doing this concatenates similar type of lists together, this is equivalent to [1,2,3]+[1,2,3]+[1,2,3]\n",
        "# [1,2,3]+[1,2,3]+[1,2,3]"
      ]
    },
    {
      "cell_type": "code",
      "execution_count": null,
      "metadata": {
        "id": "KGQoZcLJTJzY"
      },
      "outputs": [],
      "source": [
        "# You get type error when you try to do any kind of mathematical operation with string"
      ]
    },
    {
      "cell_type": "code",
      "execution_count": null,
      "metadata": {
        "colab": {
          "base_uri": "https://localhost:8080/",
          "height": 366
        },
        "id": "xZT8CD79TcYF",
        "outputId": "c5b40550-d67a-4bd6-e1c6-f174be213291"
      },
      "outputs": [
        {
          "ename": "KeyError",
          "evalue": "ignored",
          "output_type": "error",
          "traceback": [
            "\u001b[0;31m---------------------------------------------------------------------------\u001b[0m",
            "\u001b[0;31mKeyError\u001b[0m                                  Traceback (most recent call last)",
            "\u001b[0;32m<ipython-input-10-a06e48751487>\u001b[0m in \u001b[0;36m<cell line: 14>\u001b[0;34m()\u001b[0m\n\u001b[1;32m     12\u001b[0m     \u001b[0;32mreturn\u001b[0m \u001b[0mres\u001b[0m\u001b[0;34m/\u001b[0m\u001b[0mlast_element\u001b[0m \u001b[0;34m*\u001b[0m \u001b[0mp\u001b[0m \u001b[0;34m+\u001b[0m \u001b[0many_element\u001b[0m\u001b[0;34m\u001b[0m\u001b[0;34m\u001b[0m\u001b[0m\n\u001b[1;32m     13\u001b[0m \u001b[0;31m# function([1,'2',1]*9, 12)\u001b[0m\u001b[0;34m\u001b[0m\u001b[0;34m\u001b[0m\u001b[0m\n\u001b[0;32m---> 14\u001b[0;31m \u001b[0mfunction\u001b[0m\u001b[0;34m(\u001b[0m\u001b[0;34m[\u001b[0m\u001b[0;36m1\u001b[0m\u001b[0;34m,\u001b[0m\u001b[0;36m2\u001b[0m\u001b[0;34m,\u001b[0m\u001b[0;36m0\u001b[0m\u001b[0;34m]\u001b[0m\u001b[0;34m*\u001b[0m\u001b[0;36m9\u001b[0m\u001b[0;34m,\u001b[0m \u001b[0;36m12\u001b[0m  \u001b[0;34m)\u001b[0m\u001b[0;34m\u001b[0m\u001b[0;34m\u001b[0m\u001b[0m\n\u001b[0m\u001b[1;32m     15\u001b[0m \u001b[0;31m# In this code when you use this argument function([1,2,1], 12) you will get index error as l[int(s)] which means l[12] doesnot exist,\u001b[0m\u001b[0;34m\u001b[0m\u001b[0;34m\u001b[0m\u001b[0m\n\u001b[1;32m     16\u001b[0m \u001b[0;31m# function([1,2,1]*9, '1-2') this would give ValueError because trying to convert a string valie '1-2' to integer always gives such error\u001b[0m\u001b[0;34m\u001b[0m\u001b[0;34m\u001b[0m\u001b[0m\n",
            "\u001b[0;32m<ipython-input-10-a06e48751487>\u001b[0m in \u001b[0;36mfunction\u001b[0;34m(l, s, **args)\u001b[0m\n\u001b[1;32m      8\u001b[0m     \u001b[0mres\u001b[0m \u001b[0;34m=\u001b[0m \u001b[0msum\u001b[0m\u001b[0;34m(\u001b[0m\u001b[0ml\u001b[0m\u001b[0;34m)\u001b[0m\u001b[0;34m\u001b[0m\u001b[0;34m\u001b[0m\u001b[0m\n\u001b[1;32m      9\u001b[0m \u001b[0;34m\u001b[0m\u001b[0m\n\u001b[0;32m---> 10\u001b[0;31m     \u001b[0mp\u001b[0m \u001b[0;34m=\u001b[0m \u001b[0margs\u001b[0m\u001b[0;34m[\u001b[0m\u001b[0;34m'p'\u001b[0m\u001b[0;34m]\u001b[0m\u001b[0;34m\u001b[0m\u001b[0;34m\u001b[0m\u001b[0m\n\u001b[0m\u001b[1;32m     11\u001b[0m     \u001b[0;31m# print(p)\u001b[0m\u001b[0;34m\u001b[0m\u001b[0;34m\u001b[0m\u001b[0m\n\u001b[1;32m     12\u001b[0m     \u001b[0;32mreturn\u001b[0m \u001b[0mres\u001b[0m\u001b[0;34m/\u001b[0m\u001b[0mlast_element\u001b[0m \u001b[0;34m*\u001b[0m \u001b[0mp\u001b[0m \u001b[0;34m+\u001b[0m \u001b[0many_element\u001b[0m\u001b[0;34m\u001b[0m\u001b[0;34m\u001b[0m\u001b[0m\n",
            "\u001b[0;31mKeyError\u001b[0m: 'p'"
          ]
        }
      ],
      "source": [
        "def function(l: list, s, **args):\n",
        "    last_element = l[-1]\n",
        "\n",
        "    l[int(s)]=10\n",
        "    any_element = l[int(s)+10]\n",
        "    l[s]=10\n",
        "\n",
        "    res = sum(l)\n",
        "\n",
        "    p = args['p']\n",
        "    # print(p)\n",
        "    return res/last_element * p + any_element\n",
        "# function([1,'2',1]*9, 12)\n",
        "function([1,2,0]*9, 12  )\n",
        "# In this code when you use this argument function([1,2,1], 12) you will get index error as l[int(s)] which means l[12] doesnot exist,\n",
        "# function([1,2,1]*9, '1-2') this would give ValueError because trying to convert a string valie '1-2' to integer always gives such error\n",
        "# function([1,'2',1]*9, 12) would give TypeError as you cannot multiply string with integer\n",
        "# we have not even passed the args keyword arguments hence it would obviously give key-error, the same error would be ivne when p=None\n",
        "# function([1,2,0]*9, 12, p=10) this would give zero division error as last_element =0 and that would make denominator zero too"
      ]
    },
    {
      "cell_type": "code",
      "execution_count": null,
      "metadata": {
        "colab": {
          "base_uri": "https://localhost:8080/"
        },
        "id": "JtzMKyCSkQgE",
        "outputId": "9294a5f6-afe0-441d-bb24-aed9cd60be8c"
      },
      "outputs": [
        {
          "name": "stdout",
          "output_type": "stream",
          "text": [
            "<class 'ZeroDivisionError'>\n",
            "division by zero\n",
            "Thankyou\n"
          ]
        }
      ],
      "source": [
        "def function(l: list, s, **args):\n",
        "    last_element = l[-1]\n",
        "\n",
        "    l[int(s)]=10\n",
        "    any_element = l[int(s)+10]\n",
        "    l[s]=10\n",
        "\n",
        "    res = sum(l)\n",
        "\n",
        "    p = args['p']\n",
        "    # print(p)\n",
        "    return res/last_element * p + any_element\n",
        "try:\n",
        "  res=function([1,2,0]*9, 12, p=10)\n",
        "except IndexError as e:\n",
        "  print(type(e))\n",
        "  print(e)\n",
        "except TypeError as e:\n",
        "  print(type(e))\n",
        "  print(e)\n",
        "except ValueError as e:\n",
        "  print(type(e))\n",
        "  print(e)\n",
        "except KeyError as e:\n",
        "  print(type(e))\n",
        "  print(e)\n",
        "except ZeroDivisionError as e:\n",
        "  print(type(e))\n",
        "  print(e)\n",
        "else:\n",
        "  print(\"Result \",res)\n",
        "finally:\n",
        "  print(\"Thankyou\")\n",
        "# if there are exceptions then exception will get displayed else\n",
        "# type error occurs when you forcefully try perform mathematical operations on incompatible objects(like strings), value error occurs when you forcefully try to change the datatype\n",
        "# of something\n",
        "# if you multiply an integer or float with None value, that will also give TypeError"
      ]
    },
    {
      "cell_type": "code",
      "execution_count": null,
      "metadata": {
        "colab": {
          "base_uri": "https://localhost:8080/"
        },
        "id": "KwJ_HjF_Mys4",
        "outputId": "ff9341c8-de65-42b5-af90-5f98abdbd3e6"
      },
      "outputs": [
        {
          "name": "stdout",
          "output_type": "stream",
          "text": [
            "26\n"
          ]
        }
      ],
      "source": [
        "l = [{0:2},2,3,4,'5', {5:10}]\n",
        "# For calculating sum of above list\n",
        "s=0\n",
        "for i in range(len(l)):\n",
        "    #You can Edit code from here\n",
        "    try:\n",
        "      s += l[i].get(i)\n",
        "    except TypeError:\n",
        "       s += l[i]\n",
        "    except Exception as e:\n",
        "       s += int(l[i])\n",
        "print(s)\n",
        "# initially when a dictionary is encountered at i=0, then l[i].get(i) gives 2(l[0].get(0)), hence except block doesnot get executed\n",
        "# when i=1 then try would give attribute error as int object doesnot have any attribute called get\n",
        "# when i=2 then try would give attribute error as int object doesnot have any attribute called get\n",
        "# when i=3  then try would give attribute error as int object doesnot have any attribute called get\n",
        "# when i=4 then try would give attribute error again as string object doesnot have any attribute called get.\n",
        "# when i=5 then try block will be executed correctly , throughout our loop, we won't get any TypeError exception"
      ]
    },
    {
      "cell_type": "code",
      "execution_count": null,
      "metadata": {
        "colab": {
          "base_uri": "https://localhost:8080/"
        },
        "id": "Q-roHP6MdtSu",
        "outputId": "e4e6ff67-7c78-46f7-be3e-50d011713722"
      },
      "outputs": [
        {
          "name": "stdout",
          "output_type": "stream",
          "text": [
            "40\n",
            "60\n",
            "2\n"
          ]
        }
      ],
      "source": [
        "l1={1:2,\"a\":40,\"b\":60}\n",
        "print(l1.get(\"a\"))\n",
        "print(l1.get(\"b\"))\n",
        "print(l1.get(1))"
      ]
    },
    {
      "cell_type": "code",
      "execution_count": null,
      "metadata": {
        "colab": {
          "base_uri": "https://localhost:8080/"
        },
        "id": "96waJFoVMqnR",
        "outputId": "c4e3f499-7400-4930-f853-b1d22587e863"
      },
      "outputs": [
        {
          "name": "stdout",
          "output_type": "stream",
          "text": [
            "26\n"
          ]
        }
      ],
      "source": [
        "l = [{0:2},2,3,4,'5', {5:10}]\n",
        "# For calculating sum of above list\n",
        "s=0\n",
        "for i in range(len(l)):\n",
        "    #You can Edit code from here\n",
        "    # s += l[i].get(i)\n",
        "    try:\n",
        "      s += l[i]\n",
        "    except TypeError:\n",
        "      try:\n",
        "        s+=l[i].get(i)\n",
        "      except AttributeError:\n",
        "        s += int(l[i])\n",
        "print(s)\n",
        "# when i=0 try block would give TypeError and s+=l[i].get(i)(2)\n",
        "# when i=1 try block would be executed correctly\n",
        "# when i=2 try block would be executed correctly\n",
        "# when i=3 try block would be executed correctly\n",
        "#when i=4 try block gives TypeError , try gives AttributeError and then the internal except block gets executed\n",
        "# when i=5 try block gives TypeError, try gives no error"
      ]
    },
    {
      "cell_type": "code",
      "execution_count": null,
      "metadata": {
        "colab": {
          "base_uri": "https://localhost:8080/"
        },
        "id": "mfnpH6oxkGAk",
        "outputId": "68fc168e-a3b0-4ae3-84d5-99235aa243ff"
      },
      "outputs": [
        {
          "name": "stdout",
          "output_type": "stream",
          "text": [
            "error while writing the file\n"
          ]
        }
      ],
      "source": [
        "# Q3\n",
        "try:\n",
        "  with open(\"har.txt\",\"r\") as f1:\n",
        "    f1.write(\"Hello mate\")\n",
        "except IOError:\n",
        "  print(\"error while writing the file\")\n",
        "else:\n",
        "  print(\"successfully written\")"
      ]
    },
    {
      "cell_type": "code",
      "execution_count": null,
      "metadata": {
        "colab": {
          "base_uri": "https://localhost:8080/"
        },
        "id": "Sp666d2qkemY",
        "outputId": "37251a23-2315-435d-8f79-f4fd54baff9b"
      },
      "outputs": [
        {
          "name": "stdout",
          "output_type": "stream",
          "text": [
            "successfully written\n"
          ]
        }
      ],
      "source": [
        "try:\n",
        "  with open(\"har.txt\",\"w\") as f1:\n",
        "    f1.write(\"Hello mate\")\n",
        "except IOError:\n",
        "  print(\"error while writing the file\")\n",
        "else:\n",
        "  print(\"successfully written\")"
      ]
    },
    {
      "cell_type": "code",
      "execution_count": null,
      "metadata": {
        "colab": {
          "base_uri": "https://localhost:8080/",
          "height": 511
        },
        "id": "zCPHspsts_Gu",
        "outputId": "b3ad0b50-9757-4e70-afe5-090c557688ed"
      },
      "outputs": [
        {
          "name": "stdout",
          "output_type": "stream",
          "text": [
            "Enter number? 23\n",
            "Value too small\n",
            "None\n",
            "Enter number? 31\n"
          ]
        },
        {
          "ename": "ValueTooSmall",
          "evalue": "ignored",
          "output_type": "error",
          "traceback": [
            "\u001b[0;31m---------------------------------------------------------------------------\u001b[0m",
            "\u001b[0;31mValueTooSmall\u001b[0m                             Traceback (most recent call last)",
            "\u001b[0;32m<ipython-input-6-b1bc9b0b1db6>\u001b[0m in \u001b[0;36m<cell line: 22>\u001b[0;34m()\u001b[0m\n\u001b[1;32m     22\u001b[0m \u001b[0;32mtry\u001b[0m\u001b[0;34m:\u001b[0m\u001b[0;34m\u001b[0m\u001b[0;34m\u001b[0m\u001b[0m\n\u001b[0;32m---> 23\u001b[0;31m   \u001b[0mguesser\u001b[0m\u001b[0;34m(\u001b[0m\u001b[0;34m)\u001b[0m\u001b[0;34m\u001b[0m\u001b[0;34m\u001b[0m\u001b[0m\n\u001b[0m\u001b[1;32m     24\u001b[0m \u001b[0;32mexcept\u001b[0m \u001b[0mGuessError\u001b[0m \u001b[0;32mas\u001b[0m \u001b[0me\u001b[0m\u001b[0;34m:\u001b[0m\u001b[0;34m\u001b[0m\u001b[0;34m\u001b[0m\u001b[0m\n",
            "\u001b[0;32m<ipython-input-6-b1bc9b0b1db6>\u001b[0m in \u001b[0;36mguesser\u001b[0;34m()\u001b[0m\n\u001b[1;32m     20\u001b[0m   \u001b[0;32melif\u001b[0m \u001b[0mp\u001b[0m\u001b[0;34m<\u001b[0m\u001b[0mn\u001b[0m\u001b[0;34m:\u001b[0m\u001b[0;34m\u001b[0m\u001b[0;34m\u001b[0m\u001b[0m\n\u001b[0;32m---> 21\u001b[0;31m     \u001b[0;32mraise\u001b[0m \u001b[0mValueTooSmall\u001b[0m\u001b[0;34m\u001b[0m\u001b[0;34m\u001b[0m\u001b[0m\n\u001b[0m\u001b[1;32m     22\u001b[0m \u001b[0;32mtry\u001b[0m\u001b[0;34m:\u001b[0m\u001b[0;34m\u001b[0m\u001b[0;34m\u001b[0m\u001b[0m\n",
            "\u001b[0;31mValueTooSmall\u001b[0m: ",
            "\nDuring handling of the above exception, another exception occurred:\n",
            "\u001b[0;31mValueTooSmall\u001b[0m                             Traceback (most recent call last)",
            "\u001b[0;32m<ipython-input-6-b1bc9b0b1db6>\u001b[0m in \u001b[0;36m<cell line: 22>\u001b[0;34m()\u001b[0m\n\u001b[1;32m     30\u001b[0m \u001b[0;32mexcept\u001b[0m \u001b[0mValueTooSmall\u001b[0m \u001b[0;32mas\u001b[0m \u001b[0me\u001b[0m\u001b[0;34m:\u001b[0m\u001b[0;34m\u001b[0m\u001b[0;34m\u001b[0m\u001b[0m\n\u001b[1;32m     31\u001b[0m   \u001b[0mprint\u001b[0m\u001b[0;34m(\u001b[0m\u001b[0me\u001b[0m\u001b[0;34m.\u001b[0m\u001b[0mdisplay\u001b[0m\u001b[0;34m(\u001b[0m\u001b[0;34m)\u001b[0m\u001b[0;34m)\u001b[0m\u001b[0;34m\u001b[0m\u001b[0;34m\u001b[0m\u001b[0m\n\u001b[0;32m---> 32\u001b[0;31m   \u001b[0mguesser\u001b[0m\u001b[0;34m(\u001b[0m\u001b[0;34m)\u001b[0m\u001b[0;34m\u001b[0m\u001b[0;34m\u001b[0m\u001b[0m\n\u001b[0m\u001b[1;32m     33\u001b[0m \u001b[0;34m\u001b[0m\u001b[0m\n\u001b[1;32m     34\u001b[0m \u001b[0;34m\u001b[0m\u001b[0m\n",
            "\u001b[0;32m<ipython-input-6-b1bc9b0b1db6>\u001b[0m in \u001b[0;36mguesser\u001b[0;34m()\u001b[0m\n\u001b[1;32m     19\u001b[0m     \u001b[0;32mraise\u001b[0m \u001b[0mValueTooLarge\u001b[0m\u001b[0;34m\u001b[0m\u001b[0;34m\u001b[0m\u001b[0m\n\u001b[1;32m     20\u001b[0m   \u001b[0;32melif\u001b[0m \u001b[0mp\u001b[0m\u001b[0;34m<\u001b[0m\u001b[0mn\u001b[0m\u001b[0;34m:\u001b[0m\u001b[0;34m\u001b[0m\u001b[0;34m\u001b[0m\u001b[0m\n\u001b[0;32m---> 21\u001b[0;31m     \u001b[0;32mraise\u001b[0m \u001b[0mValueTooSmall\u001b[0m\u001b[0;34m\u001b[0m\u001b[0;34m\u001b[0m\u001b[0m\n\u001b[0m\u001b[1;32m     22\u001b[0m \u001b[0;32mtry\u001b[0m\u001b[0;34m:\u001b[0m\u001b[0;34m\u001b[0m\u001b[0;34m\u001b[0m\u001b[0m\n\u001b[1;32m     23\u001b[0m   \u001b[0mguesser\u001b[0m\u001b[0;34m(\u001b[0m\u001b[0;34m)\u001b[0m\u001b[0;34m\u001b[0m\u001b[0;34m\u001b[0m\u001b[0m\n",
            "\u001b[0;31mValueTooSmall\u001b[0m: "
          ]
        }
      ],
      "source": [
        "class ValueTooLarge(Exception):\n",
        "  def display(self):\n",
        "    print(\"Value too large\")\n",
        "class ValueTooSmall(Exception):\n",
        "  def display(self):\n",
        "    print(\"Value too small\")\n",
        "class GuessError(Exception):\n",
        "  def display(self):\n",
        "    print(\"Number should be more than 1\")\n",
        "import random\n",
        "n=random.randint(1,100)\n",
        "def guesser():\n",
        "  p=int(input(\"Enter number? \"))\n",
        "  if p<1:\n",
        "    raise GuessError\n",
        "  elif p==n:\n",
        "    print(\"great guess\")\n",
        "  elif p>n:\n",
        "    raise ValueTooLarge\n",
        "  elif p<n:\n",
        "    raise ValueTooSmall\n",
        "try:\n",
        "  guesser()\n",
        "except GuessError as e:\n",
        "  print(e.display())\n",
        "  guesser()\n",
        "except ValueTooLarge as e:\n",
        "  print(e.display())\n",
        "  guesser()\n",
        "except ValueTooSmall as e:\n",
        "  print(e.display())\n",
        "  guesser()\n",
        "\n",
        "\n"
      ]
    },
    {
      "cell_type": "code",
      "execution_count": null,
      "metadata": {
        "colab": {
          "base_uri": "https://localhost:8080/",
          "height": 383
        },
        "id": "BJWRRmWP07Gj",
        "outputId": "0c7bc978-f296-49fc-aa10-7bf8fc1e19ba"
      },
      "outputs": [
        {
          "ename": "ModuleNotFoundError",
          "evalue": "ignored",
          "output_type": "error",
          "traceback": [
            "\u001b[0;31m---------------------------------------------------------------------------\u001b[0m",
            "\u001b[0;31mModuleNotFoundError\u001b[0m                       Traceback (most recent call last)",
            "\u001b[0;32m<ipython-input-2-79dac8045488>\u001b[0m in \u001b[0;36m<cell line: 10>\u001b[0;34m()\u001b[0m\n\u001b[1;32m      8\u001b[0m   \u001b[0;32mdef\u001b[0m \u001b[0mdisplay\u001b[0m\u001b[0;34m(\u001b[0m\u001b[0mself\u001b[0m\u001b[0;34m)\u001b[0m\u001b[0;34m:\u001b[0m\u001b[0;34m\u001b[0m\u001b[0;34m\u001b[0m\u001b[0m\n\u001b[1;32m      9\u001b[0m     \u001b[0mprint\u001b[0m\u001b[0;34m(\u001b[0m\u001b[0;34m\"Enter betweeen 1 to 100\"\u001b[0m\u001b[0;34m)\u001b[0m\u001b[0;34m\u001b[0m\u001b[0;34m\u001b[0m\u001b[0m\n\u001b[0;32m---> 10\u001b[0;31m \u001b[0;32mimport\u001b[0m \u001b[0mrandomss\u001b[0m\u001b[0;34m\u001b[0m\u001b[0;34m\u001b[0m\u001b[0m\n\u001b[0m\u001b[1;32m     11\u001b[0m \u001b[0mp\u001b[0m\u001b[0;34m=\u001b[0m\u001b[0mrandom\u001b[0m\u001b[0;34m.\u001b[0m\u001b[0mrandint\u001b[0m\u001b[0;34m(\u001b[0m\u001b[0;36m1\u001b[0m\u001b[0;34m,\u001b[0m\u001b[0;36m100\u001b[0m\u001b[0;34m)\u001b[0m\u001b[0;34m\u001b[0m\u001b[0;34m\u001b[0m\u001b[0m\n\u001b[1;32m     12\u001b[0m \u001b[0;32mdef\u001b[0m \u001b[0mguesser\u001b[0m\u001b[0;34m(\u001b[0m\u001b[0;34m)\u001b[0m\u001b[0;34m:\u001b[0m\u001b[0;34m\u001b[0m\u001b[0;34m\u001b[0m\u001b[0m\n",
            "\u001b[0;31mModuleNotFoundError\u001b[0m: No module named 'randomss'",
            "",
            "\u001b[0;31m---------------------------------------------------------------------------\u001b[0;32m\nNOTE: If your import is failing due to a missing package, you can\nmanually install dependencies using either !pip or !apt.\n\nTo view examples of installing some common dependencies, click the\n\"Open Examples\" button below.\n\u001b[0;31m---------------------------------------------------------------------------\u001b[0m\n"
          ]
        }
      ],
      "source": [
        "class ValueTooLarge(Exception):\n",
        "  def display(self):\n",
        "    print(\"Value too large\")\n",
        "class ValueTooSmall(Exception):\n",
        "  def display(self):\n",
        "    print(\"Value too small\")\n",
        "class GuessError(Exception):\n",
        "  def display(self):\n",
        "    print(\"Enter betweeen 1 to 100\")\n",
        "import randomss\n",
        "p=random.randint(1,100)\n",
        "def guesser():\n",
        "  a=int(input(\"Enter your guess? \"))\n",
        "  while 1:\n",
        "    try:\n",
        "      if a==p:\n",
        "        print(\"Correct guess\")\n",
        "        break\n",
        "      elif a<1:\n",
        "        raise GuessError\n",
        "      elif a>p:\n",
        "        raise ValueTooLarge\n",
        "      elif a<p:\n",
        "        raise ValueTooSmall\n",
        "    except GuessError as e:\n",
        "      print(e.display())\n",
        "    except ValueTooLarge as e:\n",
        "      print(e.display())\n",
        "    except ValueTooSmall as e:\n",
        "      print(e.display())\n",
        "guesser()\n",
        "# in this case initially when guesser() function is called then a user input is taken and then we enter the while loop, try block is executed, exceptions are raised and caught\n",
        "# accordingly....in case exceptions arr raised then after exceptions are handled, we return back to the while loop\n"
      ]
    },
    {
      "cell_type": "code",
      "execution_count": null,
      "metadata": {
        "colab": {
          "base_uri": "https://localhost:8080/"
        },
        "id": "tTtdEsYGpvhy",
        "outputId": "d31a2548-753e-481f-8782-f74f31a35bde"
      },
      "outputs": [
        {
          "name": "stdout",
          "output_type": "stream",
          "text": [
            "Enter the guessed number: 70\n",
            "Value too small\n",
            "\n",
            "Enter the guessed number: 90\n",
            "Value too small\n",
            "\n",
            "Enter the guessed number: 98\n",
            "Value too small\n",
            "\n",
            "Enter the guessed number: 99\n",
            "The guessed number was right\n"
          ]
        }
      ],
      "source": [
        "class ValueTooLarge(Exception):\n",
        "  def display(self):\n",
        "    print(\"Value is too large\")\n",
        "    return \"\"\n",
        "class ValueTooSmall(Exception):\n",
        "  def display(self):\n",
        "    print(\"Value too small\")\n",
        "    return \"\"\n",
        "class GuessError(Exception):\n",
        "  def display(self):\n",
        "    print(\"Guess should be between 1 and 100\")\n",
        "    return \"\"\n",
        "import random\n",
        "p=random.randint(1,100)\n",
        "def guesser():\n",
        "  while 1:\n",
        "    try:\n",
        "     a=int(input(\"Enter the guessed number: \"))\n",
        "     if a==p:\n",
        "       print(\"The guessed number was right\")\n",
        "       break\n",
        "     elif a<1:\n",
        "       raise GuessError\n",
        "     elif a>p:\n",
        "       raise ValueTooLarge\n",
        "     elif a<p:\n",
        "       raise ValueTooSmall\n",
        "    except GuessError as e:\n",
        "      print(e.display())\n",
        "    except ValueTooLarge as e:\n",
        "      print(e.display())\n",
        "    except ValueTooSmall as e:\n",
        "      print(e.display())\n",
        "guesser()\n"
      ]
    },
    {
      "cell_type": "code",
      "execution_count": null,
      "metadata": {
        "colab": {
          "base_uri": "https://localhost:8080/"
        },
        "id": "fkY2aeAECcNH",
        "outputId": "41e74eac-eaa1-4f17-8cb7-9075e720a8cb"
      },
      "outputs": [
        {
          "name": "stdout",
          "output_type": "stream",
          "text": [
            "Enter the name? m\n",
            "Name is invalid\n",
            "\n",
            "Thankyou\n"
          ]
        }
      ],
      "source": [
        "class InvalidName(Exception):\n",
        "  def display(self):\n",
        "    print(\"Name is invalid\")\n",
        "    return \"\"\n",
        "class InvalidAge(Exception):\n",
        "  def display(self):\n",
        "    print(\"Invalid age\")\n",
        "    return \"\"\n",
        "def mss():\n",
        "  try:\n",
        "    km=input(\"Enter the name? \")\n",
        "    if len(km)==0 or len(km.split())<2:\n",
        "      raise InvalidName\n",
        "    dm=int(input(\"Enter age? \"))\n",
        "    if dm<18:\n",
        "      raise InvalidAge\n",
        "  except InvalidName as e:\n",
        "    print(e.display())\n",
        "  except InvalidAge as e:\n",
        "    print(e.display())\n",
        "  else:\n",
        "    print(f\"{km} is a valid voter\")\n",
        "  finally:\n",
        "    print(\"Thankyou\")\n",
        "mss()"
      ]
    },
    {
      "cell_type": "code",
      "execution_count": null,
      "metadata": {
        "colab": {
          "base_uri": "https://localhost:8080/",
          "height": 445
        },
        "id": "N2hqvxtvO6sx",
        "outputId": "99bb65a1-26e9-4960-8003-8ffc35df7ccd"
      },
      "outputs": [
        {
          "name": "stdout",
          "output_type": "stream",
          "text": [
            "22 23 24 25 26 27 28 29 30 31 32 33 34 35 36 37 38 39 40 41 42 43 44 45 46 47 48 49 50 51 52 53 54 55 56 57 58 59 60 61 62 63 64 65 66 67 68 69 70 71 72 73 74 75 76 77 78 79 80 81 82 83 84 85 86 87 88 89 90 91 92 93 94 95 96 97 98 99 100 101 102 103 104 105 106 107 108 109 110 111 112 113 114 115 116 117 118 119 120 121 122 123 124 125 126 127 128 129 130 131 132 133 134 135 136 137 138 139 140 141 142 143 144 145 146 147 148 149 150 151 152 153 154 155 156 157 158 159 160 161 162 163 164 165 166 167 168 169 170 171 172 173 174 175 176 177 178 179 180 181 182 183 184 185 186 187 188 189 190 191 192 193 194 195 196 197 198 199 200 201 202 203 204 205 206 207 208 209 210 211 212 213 214 215 216 217 218 219 220 221 222 223 224 225 226 227 228 229 230 231 232 233 234 235 236 237 238 239 240 241 242 243 244 245 246 247 248 249 250 251 252 253 254 255 256 257 258 259 260 261 262 263 264 265 266 267 268 269 270 271 272 273 274 275 276 277 278 279 280 281 282 283 284 285 286 287 288 289 290 291 292 293 294 295 296 297 298 299 300 301 302 303 304 305 306 307 308 309 310 311 312 313 314 315 316 317 318 319 320 321 322 323 324 325 326 327 328 329 330 331 332 333 334 335 336 337 338 339 340 341 342 343 344 345 346 347 348 349 350 351 352 353 354 355 356 357 358 359 360 361 362 363 364 365 366 367 368 369 370 371 372 373 374 375 376 377 378 379 380 381 382 383 384 385 386 387 388 389 390 391 392 393 394 395 396 397 398 399 400 401 402 403 404 405 406 407 408 409 410 411 412 413 414 415 416 417 418 419 420 421 422 423 424 425 426 427 428 429 430 431 432 433 434 435 436 437 438 439 440 441 442 443 444 445 446 447 448 449 450 451 452 453 454 455 456 457 458 459 460 461 462 463 464 465 466 467 468 469 470 471 472 473 474 475 476 477 478 479 480 481 482 483 484 485 486 487 488 489 490 491 492 493 494 495 496 497 498 499 500 501 502 503 504 505 506 507 508 509 510 511 512 513 514 515 516 517 518 519 520 521 522 523 524 525 526 527 528 529 530 531 532 533 534 535 536 537 538 539 540 541 542 543 544 545 546 547 548 549 550 551 552 553 554 555 556 557 558 559 560 561 562 563 564 565 566 567 568 569 570 571 572 573 574 575 576 577 578 579 580 581 582 583 584 585 586 587 588 589 590 591 592 593 594 595 596 597 598 599 600 601 602 603 604 605 606 607 608 609 610 611 612 613 614 615 616 617 618 619 620 621 622 623 624 625 626 627 628 629 630 631 632 633 634 635 636 637 638 639 640 641 642 643 644 645 646 647 648 649 650 651 652 653 654 655 656 657 658 659 660 661 662 663 664 665 666 667 668 669 670 671 672 673 674 675 676 677 678 679 680 681 682 683 684 685 686 687 688 689 690 691 692 693 694 695 696 697 698 699 700 701 702 703 704 705 706 707 708 709 710 711 712 713 714 715 716 717 718 719 720 721 722 723 724 725 726 727 728 729 730 731 732 733 734 735 736 737 738 739 740 741 742 743 744 745 746 747 748 749 750 751 752 753 754 755 756 757 758 759 760 761 762 763 764 765 766 767 768 769 770 771 772 773 774 775 776 777 778 779 780 781 782 783 784 785 786 787 788 789 790 791 792 793 794 795 796 797 798 799 800 801 802 803 804 805 806 807 808 809 810 811 812 813 814 815 816 817 818 819 820 821 822 823 824 825 826 827 828 829 830 831 832 833 834 835 836 837 838 839 840 841 842 843 844 845 846 847 848 849 850 851 852 853 854 855 856 857 858 859 860 861 862 863 864 865 866 867 868 869 870 871 872 873 874 875 876 877 878 879 880 881 882 883 884 885 886 887 888 889 890 891 892 893 894 895 896 897 898 899 900 901 902 903 904 905 906 907 908 909 910 911 912 913 914 915 916 917 918 919 920 921 922 923 924 925 926 927 928 929 930 931 932 933 934 935 936 937 938 939 940 941 942 943 944 945 946 947 948 949 950 951 952 953 954 955 956 957 958 959 960 961 962 963 964 965 966 967 968 969 970 971 972 973 974 975 976 977 978 979 980 981 982 983 984 985 986 987 988 989 990 991 992 993 994 995 996 997 998 999 1000 1001 1002 1003 1004 1005 1006 1007 1008 1009 1010 1011 1012 1013 1014 1015 1016 1017 1018 1019 1020 1021 1022 1023 1024 1025 1026 1027 1028 1029 1030 1031 1032 1033 1034 1035 1036 1037 1038 1039 1040 1041 1042 1043 1044 1045 1046 1047 1048 1049 1050 1051 1052 1053 1054 1055 1056 1057 1058 1059 1060 1061 1062 1063 1064 1065 1066 1067 1068 1069 1070 1071 1072 1073 1074 1075 1076 1077 1078 1079 1080 1081 1082 1083 1084 1085 1086 1087 1088 1089 1090 1091 1092 1093 1094 1095 1096 1097 1098 1099 1100 1101 1102 1103 1104 1105 1106 1107 1108 1109 1110 1111 1112 1113 1114 1115 1116 1117 1118 1119 1120 1121 1122 1123 1124 1125 1126 1127 1128 1129 1130 1131 1132 1133 1134 1135 1136 1137 1138 1139 1140 1141 1142 1143 1144 1145 1146 1147 1148 1149 1150 1151 1152 1153 1154 1155 1156 1157 1158 1159 1160 1161 1162 1163 1164 1165 1166 1167 1168 1169 1170 1171 1172 1173 1174 1175 1176 1177 1178 1179 1180 1181 1182 1183 1184 1185 1186 1187 1188 1189 1190 1191 1192 1193 1194 1195 1196 1197 1198 1199 1200 1201 1202 1203 1204 1205 1206 1207 1208 1209 1210 1211 1212 1213 1214 1215 1216 1217 1218 1219 1220 1221 1222 1223 1224 1225 1226 1227 1228 1229 1230 1231 1232 1233 1234 1235 1236 1237 1238 1239 1240 1241 1242 1243 1244 1245 1246 1247 1248 1249 1250 1251 1252 1253 1254 1255 1256 1257 1258 1259 1260 1261 1262 1263 1264 1265 1266 1267 1268 1269 1270 1271 1272 1273 1274 1275 1276 1277 1278 1279 1280 1281 1282 1283 1284 1285 1286 1287 1288 1289 1290 1291 1292 1293 1294 1295 1296 1297 1298 1299 1300 1301 1302 1303 1304 1305 1306 1307 1308 1309 1310 1311 1312 1313 1314 1315 1316 1317 1318 1319 1320 1321 1322 1323 1324 1325 1326 1327 1328 1329 1330 1331 1332 1333 1334 1335 1336 1337 1338 1339 1340 1341 1342 1343 1344 1345 1346 1347 1348 1349 1350 1351 1352 1353 1354 1355 1356 1357 1358 1359 1360 1361 1362 1363 1364 1365 1366 1367 1368 1369 1370 1371 1372 1373 1374 1375 1376 1377 1378 1379 1380 1381 1382 1383 1384 1385 1386 1387 1388 1389 1390 1391 1392 1393 1394 1395 1396 1397 1398 1399 1400 1401 1402 1403 1404 1405 1406 1407 1408 1409 1410 1411 1412 1413 1414 1415 1416 1417 1418 1419 1420 1421 1422 1423 1424 1425 1426 1427 1428 1429 1430 1431 1432 1433 1434 1435 1436 1437 1438 1439 1440 1441 1442 1443 1444 1445 1446 1447 1448 1449 1450 1451 1452 1453 1454 1455 1456 1457 1458 1459 1460 1461 1462 1463 1464 1465 1466 1467 1468 1469 1470 1471 1472 1473 1474 1475 1476 1477 1478 1479 1480 1481 1482 1483 1484 1485 1486 1487 1488 1489 1490 1491 1492 1493 1494 1495 1496 1497 1498 1499 1500 1501 1502 1503 1504 1505 1506 1507 1508 1509 1510 1511 1512 1513 1514 1515 1516 1517 1518 1519 1520 1521 1522 1523 1524 1525 1526 1527 1528 1529 1530 1531 1532 1533 1534 1535 1536 1537 1538 1539 1540 1541 1542 1543 1544 1545 1546 1547 1548 1549 1550 1551 1552 1553 1554 1555 1556 1557 1558 1559 1560 1561 1562 1563 1564 1565 1566 1567 1568 1569 1570 1571 1572 1573 1574 1575 1576 1577 1578 1579 1580 1581 1582 1583 1584 1585 1586 1587 1588 1589 1590 1591 1592 1593 1594 1595 1596 1597 1598 1599 1600 1601 1602 1603 1604 1605 1606 1607 1608 1609 1610 1611 1612 1613 1614 1615 1616 1617 1618 1619 1620 1621 1622 1623 1624 1625 1626 1627 1628 1629 1630 1631 1632 1633 1634 1635 1636 1637 1638 1639 1640 1641 1642 1643 1644 1645 1646 1647 1648 1649 1650 1651 1652 1653 1654 1655 1656 1657 1658 1659 1660 1661 1662 1663 1664 1665 1666 1667 1668 1669 1670 1671 1672 1673 1674 1675 1676 1677 1678 1679 1680 1681 1682 1683 1684 1685 1686 1687 1688 1689 1690 1691 1692 1693 1694 1695 1696 1697 1698 1699 1700 1701 1702 1703 1704 1705 1706 1707 1708 1709 1710 1711 1712 1713 1714 1715 1716 1717 1718 1719 1720 1721 1722 1723 1724 1725 1726 1727 1728 1729 1730 1731 1732 1733 1734 1735 1736 1737 1738 1739 1740 1741 1742 1743 1744 1745 1746 1747 1748 1749 1750 1751 1752 1753 1754 1755 1756 1757 1758 1759 1760 1761 1762 1763 1764 1765 1766 1767 1768 1769 1770 1771 1772 1773 1774 1775 1776 1777 1778 1779 1780 1781 1782 1783 1784 1785 1786 1787 1788 1789 1790 1791 1792 1793 1794 1795 1796 1797 1798 1799 1800 1801 1802 1803 1804 1805 1806 1807 1808 1809 1810 1811 1812 1813 1814 1815 1816 1817 1818 1819 1820 1821 1822 1823 1824 1825 1826 1827 1828 1829 1830 1831 1832 1833 1834 1835 1836 1837 1838 1839 1840 1841 1842 1843 1844 1845 1846 1847 1848 1849 1850 1851 1852 1853 1854 1855 1856 1857 1858 1859 1860 1861 1862 1863 1864 1865 1866 1867 1868 1869 1870 1871 1872 1873 1874 1875 1876 1877 1878 1879 1880 1881 1882 1883 1884 1885 1886 1887 1888 1889 1890 1891 1892 1893 1894 1895 1896 1897 1898 1899 1900 1901 1902 1903 1904 1905 1906 1907 1908 1909 1910 1911 1912 1913 1914 1915 1916 1917 1918 1919 1920 1921 1922 1923 1924 1925 1926 1927 1928 1929 1930 1931 1932 1933 1934 1935 1936 1937 1938 1939 1940 1941 1942 1943 1944 1945 1946 1947 1948 1949 1950 1951 1952 1953 1954 1955 1956 1957 1958 1959 1960 1961 1962 1963 1964 1965 1966 1967 1968 1969 1970 1971 1972 1973 1974 1975 1976 1977 1978 1979 1980 1981 1982 1983 1984 1985 1986 1987 1988 1989 1990 1991 1992 1993 1994 1995 1996 1997 1998 1999 2000 2001 2002 2003 2004 2005 2006 2007 2008 2009 2010 2011 2012 2013 2014 2015 2016 2017 2018 2019 2020 2021 2022 2023 2024 2025 2026 2027 2028 2029 2030 2031 2032 2033 2034 2035 2036 2037 2038 2039 2040 2041 2042 2043 2044 2045 2046 2047 2048 2049 2050 2051 2052 2053 2054 2055 2056 2057 2058 2059 2060 2061 2062 2063 2064 2065 2066 2067 2068 2069 2070 2071 2072 2073 2074 2075 2076 2077 2078 2079 2080 2081 2082 2083 2084 2085 2086 2087 2088 2089 2090 2091 2092 2093 2094 2095 2096 2097 2098 2099 2100 2101 2102 2103 2104 2105 2106 2107 2108 2109 2110 2111 2112 2113 2114 2115 2116 2117 2118 2119 2120 2121 2122 2123 2124 2125 2126 2127 2128 2129 2130 2131 2132 2133 2134 2135 2136 2137 2138 2139 2140 2141 2142 2143 2144 2145 2146 2147 2148 2149 2150 2151 2152 2153 2154 2155 2156 2157 2158 2159 2160 2161 2162 2163 2164 2165 2166 2167 2168 2169 2170 2171 2172 2173 2174 2175 2176 2177 2178 2179 2180 2181 2182 2183 2184 2185 2186 2187 2188 2189 2190 2191 2192 2193 2194 2195 2196 2197 2198 2199 2200 2201 2202 2203 2204 2205 2206 2207 2208 2209 2210 2211 2212 2213 2214 2215 2216 2217 2218 2219 2220 2221 2222 2223 2224 2225 2226 2227 2228 2229 2230 2231 2232 2233 2234 2235 2236 2237 2238 2239 2240 2241 2242 2243 2244 2245 2246 2247 2248 2249 2250 2251 2252 2253 2254 2255 2256 2257 2258 2259 2260 2261 2262 2263 2264 2265 2266 2267 2268 2269 2270 2271 2272 2273 2274 2275 2276 2277 2278 2279 2280 2281 2282 2283 2284 2285 2286 2287 2288 2289 2290 2291 2292 2293 2294 2295 2296 2297 2298 2299 2300 2301 2302 2303 2304 2305 2306 2307 2308 2309 2310 2311 2312 2313 2314 2315 2316 2317 2318 2319 2320 2321 2322 2323 2324 2325 2326 2327 2328 2329 2330 2331 2332 2333 2334 2335 2336 2337 2338 2339 2340 2341 2342 2343 2344 2345 2346 2347 2348 2349 2350 2351 2352 2353 2354 2355 2356 2357 2358 2359 2360 2361 2362 2363 2364 2365 2366 2367 2368 2369 2370 2371 2372 2373 2374 2375 2376 2377 2378 2379 2380 2381 2382 2383 2384 2385 2386 2387 2388 2389 2390 2391 2392 2393 2394 2395 2396 2397 2398 2399 2400 2401 2402 2403 2404 2405 2406 2407 2408 2409 2410 2411 2412 2413 2414 2415 2416 2417 2418 2419 2420 2421 2422 2423 2424 2425 2426 2427 2428 2429 2430 2431 2432 2433 2434 2435 2436 2437 2438 2439 2440 2441 2442 2443 2444 2445 2446 2447 2448 2449 2450 2451 2452 2453 2454 2455 2456 2457 2458 2459 2460 2461 2462 2463 2464 2465 2466 2467 2468 2469 2470 2471 2472 2473 2474 2475 2476 2477 2478 2479 2480 2481 2482 2483 2484 2485 2486 2487 2488 2489 2490 2491 2492 2493 2494 2495 2496 2497 2498 2499 2500 2501 2502 2503 2504 2505 2506 2507 2508 2509 2510 2511 2512 2513 2514 2515 2516 2517 2518 2519 2520 2521 2522 2523 2524 2525 2526 2527 2528 2529 2530 2531 2532 2533 2534 2535 2536 2537 2538 2539 2540 2541 2542 2543 2544 2545 2546 2547 2548 2549 2550 2551 2552 2553 2554 2555 2556 2557 2558 2559 2560 2561 2562 2563 2564 2565 2566 2567 2568 2569 2570 2571 2572 2573 2574 2575 2576 2577 2578 2579 2580 2581 2582 2583 2584 2585 2586 2587 2588 2589 2590 2591 2592 2593 2594 2595 2596 2597 2598 2599 2600 2601 2602 2603 2604 2605 2606 2607 2608 2609 2610 2611 2612 2613 2614 2615 2616 2617 2618 2619 2620 2621 2622 2623 2624 2625 2626 2627 2628 2629 2630 2631 2632 2633 2634 2635 2636 2637 2638 2639 2640 2641 2642 2643 2644 2645 2646 2647 2648 2649 2650 2651 2652 2653 2654 2655 2656 2657 2658 2659 2660 2661 2662 2663 2664 2665 2666 2667 2668 2669 2670 2671 2672 2673 2674 2675 2676 2677 2678 2679 2680 2681 2682 2683 2684 2685 2686 2687 2688 2689 2690 2691 2692 2693 2694 2695 2696 2697 2698 2699 2700 2701 2702 2703 2704 2705 2706 2707 2708 2709 2710 2711 2712 2713 2714 2715 2716 2717 2718 2719 2720 2721 2722 2723 2724 2725 2726 2727 2728 2729 2730 2731 2732 2733 2734 2735 2736 2737 2738 2739 2740 2741 2742 2743 2744 2745 2746 2747 2748 2749 2750 2751 2752 2753 2754 2755 2756 2757 2758 2759 2760 2761 2762 2763 2764 2765 2766 2767 2768 2769 2770 2771 2772 2773 2774 2775 2776 2777 2778 2779 2780 2781 2782 2783 2784 2785 2786 2787 2788 2789 2790 2791 2792 2793 2794 2795 2796 2797 2798 2799 2800 2801 2802 2803 2804 2805 2806 2807 2808 2809 2810 2811 2812 2813 2814 2815 2816 2817 2818 2819 2820 2821 2822 2823 2824 2825 2826 2827 2828 2829 2830 2831 2832 2833 2834 2835 2836 2837 2838 2839 2840 2841 2842 2843 2844 2845 2846 2847 2848 2849 2850 2851 2852 2853 2854 2855 2856 2857 2858 2859 2860 2861 2862 2863 2864 2865 2866 2867 2868 2869 2870 2871 2872 2873 2874 2875 2876 2877 2878 2879 2880 2881 2882 2883 2884 2885 2886 2887 2888 2889 2890 2891 2892 2893 2894 2895 2896 2897 2898 2899 2900 2901 2902 2903 2904 2905 2906 2907 2908 2909 2910 2911 2912 2913 2914 2915 2916 2917 2918 2919 2920 2921 2922 2923 2924 2925 2926 2927 2928 2929 2930 2931 2932 2933 2934 2935 2936 2937 2938 2939 2940 2941 2942 2943 2944 2945 2946 2947 2948 2949 2950 2951 2952 2953 2954 2955 2956 2957 2958 2959 2960 2961 2962 2963 2964 2965 2966 2967 2968 2969 2970 2971 2972 2973 2974 2975 2976 2977 2978 2979 2980 2981 2982 2983 2984 2985 2986 2987 2988 2989 2990 2991 2992 2993 2994 2995 2996 2997 2998 2999 3000 3001 3002 3003 3004 3005 3006 3007 3008 3009 3010 3011 3012 3013 3014 3015 3016 3017 3018 3019 3020 3021 3022 3023 3024 3025 3026 3027 3028 3029 3030 3031 3032 3033 3034 3035 3036 3037 3038 3039 3040 3041 3042 3043 3044 3045 3046 3047 3048 3049 3050 3051 3052 3053 3054 3055 3056 3057 3058 3059 3060 3061 3062 3063 3064 3065 3066 3067 3068 3069 3070 3071 3072 3073 3074 3075 3076 3077 3078 3079 3080 3081 3082 3083 3084 3085 3086 3087 3088 3089 3090 3091 3092 3093 3094 3095 3096 3097 3098 3099 3100 3101 3102 3103 3104 3105 3106 3107 3108 3109 3110 3111 3112 3113 3114 3115 3116 3117 3118 3119 3120 3121 3122 3123 3124 3125 3126 3127 3128 3129 3130 3131 3132 3133 3134 3135 3136 3137 3138 3139 3140 3141 3142 3143 3144 3145 3146 3147 3148 3149 3150 3151 3152 3153 3154 3155 3156 3157 3158 3159 3160 3161 3162 3163 3164 3165 3166 3167 3168 3169 3170 3171 3172 3173 3174 3175 3176 3177 3178 3179 3180 3181 3182 3183 3184 3185 3186 3187 3188 3189 3190 3191 3192 3193 3194 3195 3196 3197 3198 3199 3200 3201 3202 3203 3204 3205 3206 3207 3208 3209 3210 3211 3212 3213 3214 3215 3216 3217 3218 3219 3220 3221 3222 3223 3224 3225 3226 3227 3228 3229 3230 3231 3232 3233 3234 3235 3236 3237 3238 3239 3240 3241 3242 3243 3244 3245 3246 3247 3248 3249 3250 3251 3252 3253 3254 3255 3256 3257 3258 3259 3260 3261 3262 3263 3264 3265 3266 3267 3268 3269 3270 3271 3272 3273 3274 3275 3276 3277 3278 3279 3280 3281 3282 3283 3284 3285 3286 3287 3288 3289 3290 3291 3292 3293 3294 3295 3296 3297 3298 3299 3300 3301 3302 3303 3304 3305 3306 3307 3308 3309 3310 3311 3312 3313 3314 3315 3316 3317 3318 3319 3320 3321 3322 3323 3324 3325 3326 3327 3328 3329 3330 3331 3332 3333 3334 3335 3336 3337 3338 3339 3340 3341 3342 3343 3344 3345 3346 3347 3348 3349 3350 3351 3352 3353 3354 3355 3356 3357 3358 3359 3360 3361 3362 3363 3364 3365 3366 3367 3368 3369 3370 3371 3372 3373 3374 3375 3376 3377 3378 3379 3380 3381 3382 3383 3384 3385 3386 3387 3388 3389 3390 3391 3392 3393 3394 3395 3396 3397 3398 3399 3400 3401 3402 3403 3404 3405 3406 3407 3408 3409 3410 3411 3412 3413 3414 3415 3416 3417 3418 3419 3420 3421 3422 3423 3424 3425 3426 3427 3428 3429 3430 3431 3432 3433 3434 3435 3436 3437 3438 3439 3440 3441 3442 3443 3444 3445 3446 3447 3448 3449 3450 3451 3452 3453 3454 3455 3456 3457 3458 3459 3460 3461 3462 3463 3464 3465 3466 3467 3468 3469 3470 3471 3472 3473 3474 3475 3476 3477 3478 3479 3480 3481 3482 3483 3484 3485 3486 3487 3488 3489 3490 3491 3492 3493 3494 3495 3496 3497 3498 3499 3500 3501 3502 3503 3504 3505 3506 3507 3508 3509 3510 3511 3512 3513 3514 3515 3516 3517 3518 3519 3520 3521 3522 3523 3524 3525 3526 3527 3528 3529 3530 3531 3532 3533 3534 3535 3536 3537 3538 3539 3540 3541 3542 3543 3544 3545 3546 3547 3548 3549 3550 3551 3552 3553 3554 3555 3556 3557 3558 3559 3560 3561 3562 3563 3564 3565 3566 3567 3568 3569 3570 3571 3572 3573 3574 3575 3576 3577 3578 3579 3580 3581 3582 3583 3584 3585 3586 3587 3588 3589 3590 3591 3592 3593 3594 3595 3596 3597 3598 3599 3600 3601 3602 3603 3604 3605 3606 3607 3608 3609 3610 3611 3612 3613 3614 3615 3616 3617 3618 3619 3620 3621 3622 3623 3624 3625 3626 3627 3628 3629 3630 3631 3632 3633 3634 3635 3636 3637 3638 3639 3640 3641 3642 3643 3644 3645 3646 3647 3648 3649 3650 3651 3652 3653 3654 3655 3656 3657 3658 3659 3660 3661 3662 3663 3664 3665 3666 3667 3668 3669 3670 3671 3672 3673 3674 3675 3676 3677 3678 3679 3680 3681 3682 3683 3684 3685 3686 3687 3688 3689 3690 3691 3692 3693 3694 3695 3696 3697 3698 3699 3700 3701 3702 3703 3704 3705 3706 3707 3708 3709 3710 3711 3712 3713 3714 3715 3716 3717 3718 3719 3720 3721 3722 3723 3724 3725 3726 3727 3728 3729 3730 3731 3732 3733 3734 3735 3736 3737 3738 3739 3740 3741 3742 3743 3744 3745 3746 3747 3748 3749 3750 3751 3752 3753 3754 3755 3756 3757 3758 3759 3760 3761 3762 3763 3764 3765 3766 3767 3768 3769 3770 3771 3772 3773 3774 3775 3776 3777 3778 3779 3780 3781 3782 3783 3784 3785 3786 3787 3788 3789 3790 3791 3792 3793 3794 3795 3796 3797 3798 3799 3800 3801 3802 3803 3804 3805 3806 3807 3808 3809 3810 3811 3812 3813 3814 3815 3816 3817 3818 3819 3820 3821 3822 3823 3824 3825 3826 3827 3828 3829 3830 3831 3832 3833 3834 3835 3836 3837 3838 3839 3840 3841 3842 3843 3844 3845 3846 3847 3848 3849 3850 3851 3852 3853 3854 3855 3856 3857 3858 3859 3860 3861 3862 3863 3864 3865 3866 3867 3868 3869 3870 3871 3872 3873 3874 3875 3876 3877 3878 3879 3880 3881 3882 3883 3884 3885 3886 3887 3888 3889 3890 3891 3892 3893 3894 3895 3896 3897 3898 3899 3900 3901 3902 3903 3904 3905 3906 3907 3908 3909 3910 3911 3912 3913 3914 3915 3916 3917 3918 3919 3920 3921 3922 3923 3924 3925 3926 3927 3928 3929 3930 3931 3932 3933 3934 3935 3936 3937 3938 3939 3940 3941 3942 3943 3944 3945 3946 3947 3948 3949 3950 3951 3952 3953 3954 3955 3956 3957 3958 3959 3960 3961 3962 3963 3964 3965 3966 3967 3968 3969 3970 3971 3972 3973 3974 3975 3976 3977 3978 3979 3980 3981 3982 3983 3984 3985 3986 3987 3988 3989 3990 3991 3992 3993 3994 3995 3996 3997 3998 3999 4000 4001 4002 4003 4004 4005 4006 4007 4008 4009 4010 4011 4012 4013 4014 4015 4016 4017 4018 4019 4020 4021 4022 4023 4024 4025 4026 4027 4028 4029 4030 4031 4032 4033 4034 4035 4036 4037 4038 4039 4040 4041 4042 4043 4044 4045 4046 4047 4048 4049 4050 4051 4052 4053 4054 4055 4056 4057 4058 4059 4060 4061 4062 4063 4064 4065 4066 4067 4068 4069 4070 4071 4072 4073 4074 4075 4076 4077 4078 4079 4080 4081 4082 4083 4084 4085 4086 4087 4088 4089 4090 4091 4092 4093 4094 4095 4096 4097 4098 4099 4100 4101 4102 4103 4104 4105 4106 4107 4108 4109 4110 4111 4112 4113 4114 4115 4116 4117 4118 4119 4120 4121 4122 4123 4124 4125 4126 4127 4128 4129 4130 4131 4132 4133 4134 4135 4136 4137 4138 4139 4140 4141 4142 4143 4144 4145 4146 4147 4148 4149 4150 4151 4152 4153 4154 4155 4156 4157 4158 4159 4160 4161 4162 4163 4164 4165 4166 4167 4168 4169 4170 4171 4172 4173 4174 4175 4176 4177 4178 4179 4180 4181 4182 4183 4184 4185 4186 4187 4188 4189 4190 4191 4192 4193 4194 4195 4196 4197 4198 4199 4200 4201 4202 4203 4204 4205 4206 4207 4208 4209 4210 4211 4212 4213 4214 4215 4216 4217 4218 4219 4220 4221 4222 4223 4224 4225 4226 4227 4228 4229 4230 4231 4232 4233 4234 4235 4236 4237 4238 4239 4240 4241 4242 4243 4244 4245 4246 4247 4248 4249 4250 4251 4252 4253 4254 4255 4256 4257 4258 4259 4260 4261 4262 4263 4264 4265 4266 4267 4268 4269 4270 4271 4272 4273 4274 4275 4276 4277 4278 4279 4280 4281 4282 4283 4284 4285 4286 4287 4288 4289 4290 4291 4292 4293 4294 4295 4296 4297 4298 4299 4300 4301 4302 4303 4304 4305 4306 4307 4308 4309 4310 4311 4312 4313 4314 4315 4316 4317 4318 4319 4320 4321 4322 4323 4324 4325 4326 4327 4328 4329 4330 4331 4332 4333 4334 4335 4336 4337 4338 4339 4340 4341 4342 4343 4344 4345 4346 4347 4348 4349 4350 4351 4352 4353 4354 4355 4356 4357 4358 4359 4360 4361 4362 4363 4364 4365 4366 4367 4368 4369 4370 4371 4372 4373 4374 4375 4376 4377 4378 4379 4380 4381 4382 4383 4384 4385 4386 4387 4388 4389 4390 4391 4392 4393 4394 4395 4396 4397 4398 4399 4400 4401 4402 4403 4404 4405 4406 4407 4408 4409 4410 4411 4412 4413 4414 4415 4416 4417 4418 4419 4420 4421 4422 4423 4424 4425 4426 4427 4428 4429 4430 4431 4432 4433 4434 4435 4436 4437 4438 4439 4440 4441 4442 4443 4444 4445 4446 4447 4448 4449 4450 4451 4452 4453 4454 4455 4456 4457 4458 4459 4460 4461 4462 4463 4464 4465 4466 4467 4468 4469 4470 4471 4472 4473 4474 4475 4476 4477 4478 4479 4480 4481 4482 4483 4484 4485 4486 4487 4488 4489 4490 4491 4492 4493 4494 4495 4496 4497 4498 4499 4500 4501 4502 4503 4504 4505 4506 4507 4508 4509 4510 4511 4512 4513 4514 4515 4516 4517 4518 4519 4520 4521 4522 4523 4524 4525 4526 4527 4528 4529 4530 4531 4532 4533 4534 4535 4536 4537 4538 4539 4540 4541 4542 4543 4544 4545 4546 4547 4548 4549 4550 4551 4552 4553 4554 4555 4556 4557 4558 4559 4560 4561 4562 4563 4564 4565 4566 4567 4568 4569 4570 4571 4572 4573 4574 4575 4576 4577 4578 4579 4580 4581 4582 4583 4584 4585 4586 4587 4588 4589 4590 4591 4592 4593 4594 4595 4596 4597 4598 4599 4600 4601 4602 4603 4604 4605 4606 4607 4608 4609 4610 4611 4612 4613 4614 4615 4616 4617 4618 4619 4620 4621 4622 4623 4624 4625 4626 4627 4628 4629 4630 4631 4632 4633 4634 4635 4636 4637 4638 4639 4640 4641 4642 4643 4644 4645 4646 4647 4648 4649 4650 4651 4652 4653 4654 4655 4656 4657 4658 4659 4660 4661 4662 4663 4664 4665 4666 4667 4668 4669 4670 4671 4672 4673 4674 4675 4676 4677 4678 4679 4680 4681 4682 4683 4684 4685 4686 4687 4688 4689 4690 4691 4692 4693 4694 4695 4696 4697 4698 4699 4700 4701 4702 4703 4704 4705 4706 4707 4708 4709 4710 4711 4712 4713 4714 4715 4716 4717 4718 4719 4720 4721 4722 4723 4724 4725 4726 4727 4728 4729 4730 4731 4732 4733 4734 4735 4736 4737 4738 4739 4740 4741 4742 4743 4744 4745 4746 4747 4748 4749 4750 4751 4752 4753 4754 4755 4756 4757 4758 4759 4760 4761 4762 4763 4764 4765 4766 4767 4768 4769 4770 4771 4772 4773 4774 4775 4776 4777 4778 4779 4780 4781 4782 4783 4784 4785 4786 4787 4788 4789 4790 4791 4792 4793 4794 4795 4796 4797 4798 4799 4800 4801 4802 4803 4804 4805 4806 4807 4808 4809 4810 4811 4812 4813 4814 4815 4816 4817 4818 4819 4820 4821 4822 4823 4824 4825 4826 4827 4828 4829 4830 4831 4832 4833 4834 4835 4836 4837 4838 4839 4840 4841 4842 4843 4844 4845 4846 4847 4848 4849 4850 4851 4852 4853 4854 4855 4856 4857 4858 4859 4860 4861 4862 4863 4864 4865 4866 4867 4868 4869 4870 4871 4872 4873 4874 4875 4876 4877 4878 4879 4880 4881 4882 4883 4884 4885 4886 4887 4888 4889 4890 4891 4892 4893 4894 4895 4896 4897 4898 4899 4900 4901 4902 4903 4904 4905 4906 4907 4908 4909 4910 4911 4912 4913 4914 4915 4916 4917 4918 4919 4920 4921 4922 4923 4924 4925 4926 4927 4928 4929 4930 4931 4932 4933 4934 4935 4936 4937 4938 4939 4940 4941 4942 4943 4944 4945 4946 4947 4948 4949 4950 4951 4952 4953 4954 4955 4956 4957 4958 4959 4960 4961 4962 4963 4964 4965 4966 4967 4968 4969 4970 4971 4972 4973 4974 4975 4976 4977 4978 4979 4980 4981 4982 4983 4984 4985 4986 4987 4988 4989 4990 4991 4992 4993 4994 4995 4996 4997 4998 4999 5000 5001 5002 5003 5004 5005 5006 5007 5008 5009 5010 5011 5012 5013 5014 5015 5016 5017 5018 5019 5020 5021 5022 5023 5024 5025 5026 5027 5028 5029 5030 5031 5032 5033 5034 5035 5036 5037 5038 5039 5040 5041 5042 5043 5044 5045 5046 5047 5048 5049 5050 5051 5052 5053 5054 5055 5056 5057 5058 5059 5060 5061 5062 5063 5064 5065 5066 5067 5068 5069 5070 5071 5072 5073 5074 5075 5076 5077 5078 5079 5080 5081 5082 5083 5084 5085 5086 5087 5088 5089 5090 5091 5092 5093 5094 5095 5096 5097 5098 5099 5100 5101 5102 5103 5104 5105 5106 5107 5108 5109 5110 5111 5112 5113 5114 5115 5116 5117 5118 5119 5120 5121 5122 5123 5124 5125 5126 5127 5128 5129 5130 5131 5132 5133 5134 5135 5136 5137 5138 5139 5140 5141 5142 5143 5144 5145 5146 5147 5148 5149 5150 5151 5152 5153 5154 5155 5156 5157 5158 5159 5160 5161 5162 5163 5164 5165 5166 5167 5168 5169 5170 5171 5172 5173 5174 5175 5176 5177 5178 5179 5180 5181 5182 5183 5184 5185 5186 5187 5188 5189 5190 5191 5192 5193 5194 5195 5196 5197 5198 5199 5200 5201 5202 5203 5204 5205 5206 5207 5208 5209 5210 5211 5212 5213 5214 5215 5216 5217 5218 5219 5220 5221 5222 5223 5224 5225 5226 5227 5228 5229 5230 5231 5232 5233 5234 5235 5236 5237 5238 5239 5240 5241 5242 5243 5244 5245 5246 5247 5248 5249 5250 5251 5252 5253 5254 5255 5256 5257 5258 5259 5260 5261 5262 5263 5264 5265 5266 5267 5268 5269 5270 5271 5272 5273 5274 5275 5276 5277 5278 5279 5280 5281 5282 5283 5284 5285 5286 5287 5288 5289 5290 5291 5292 5293 5294 5295 5296 5297 5298 5299 5300 5301 5302 5303 5304 5305 5306 5307 5308 5309 5310 5311 5312 5313 5314 5315 5316 5317 5318 5319 5320 5321 5322 5323 5324 5325 5326 5327 5328 5329 5330 5331 5332 5333 5334 5335 5336 5337 5338 5339 5340 5341 5342 5343 5344 5345 5346 5347 5348 5349 5350 5351 5352 5353 5354 5355 5356 5357 5358 5359 5360 5361 5362 5363 5364 5365 5366 5367 5368 5369 5370 5371 5372 5373 5374 5375 5376 5377 5378 5379 5380 5381 5382 5383 5384 5385 5386 5387 5388 5389 5390 5391 5392 5393 5394 5395 5396 5397 5398 5399 5400 5401 5402 5403 5404 5405 5406 5407 5408 5409 5410 5411 5412 5413 5414 5415 5416 5417 5418 5419 5420 5421 5422 5423 5424 5425 5426 5427 5428 5429 5430 5431 5432 5433 5434 5435 5436 5437 5438 5439 5440 5441 5442 5443 5444 5445 5446 5447 5448 5449 5450 5451 5452 5453 5454 5455 5456 5457 5458 5459 5460 5461 5462 5463 5464 5465 5466 5467 5468 5469 5470 5471 5472 5473 5474 5475 5476 5477 5478 5479 5480 5481 5482 5483 5484 5485 5486 5487 5488 5489 5490 5491 5492 5493 5494 5495 5496 5497 5498 5499 5500 5501 5502 5503 5504 5505 5506 5507 5508 5509 5510 5511 5512 5513 5514 5515 5516 5517 5518 5519 5520 5521 5522 5523 5524 5525 5526 5527 5528 5529 5530 5531 5532 5533 5534 5535 5536 5537 5538 5539 5540 5541 5542 5543 5544 5545 5546 5547 5548 5549 5550 5551 5552 5553 5554 5555 5556 5557 5558 5559 5560 5561 5562 5563 5564 5565 5566 5567 5568 5569 5570 5571 5572 5573 5574 5575 5576 5577 5578 5579 5580 5581 5582 5583 5584 5585 5586 5587 5588 5589 5590 5591 5592 5593 5594 5595 5596 5597 5598 5599 5600 5601 5602 5603 5604 5605 5606 5607 5608 5609 5610 5611 5612 5613 5614 5615 5616 5617 5618 5619 5620 5621 5622 5623 5624 5625 5626 5627 5628 5629 5630 5631 5632 5633 5634 5635 5636 5637 5638 5639 5640 5641 5642 5643 5644 5645 5646 5647 5648 5649 5650 5651 5652 5653 5654 5655 5656 5657 5658 5659 5660 5661 5662 5663 5664 5665 5666 5667 5668 5669 5670 5671 5672 5673 5674 5675 5676 5677 5678 5679 5680 5681 5682 5683 5684 5685 5686 5687 5688 5689 5690 5691 5692 5693 5694 5695 5696 5697 5698 5699 5700 5701 5702 5703 5704 5705 5706 5707 5708 5709 5710 5711 5712 5713 5714 5715 5716 5717 5718 5719 5720 5721 5722 5723 5724 5725 5726 5727 5728 5729 5730 5731 5732 5733 5734 5735 5736 5737 5738 5739 5740 5741 5742 5743 5744 5745 5746 5747 5748 5749 5750 5751 5752 5753 5754 5755 5756 5757 5758 5759 5760 5761 5762 5763 5764 5765 5766 5767 5768 5769 5770 5771 5772 5773 5774 5775 5776 5777 5778 5779 5780 5781 5782 5783 5784 5785 5786 5787 5788 5789 5790 5791 5792 5793 5794 5795 5796 5797 5798 5799 5800 5801 5802 5803 5804 5805 5806 5807 5808 5809 5810 5811 5812 5813 5814 5815 5816 5817 5818 5819 5820 5821 5822 5823 5824 5825 5826 5827 5828 5829 5830 5831 5832 5833 5834 5835 5836 5837 5838 5839 5840 5841 5842 5843 5844 5845 5846 5847 5848 5849 5850 5851 5852 5853 5854 5855 5856 5857 5858 5859 5860 5861 5862 5863 5864 5865 5866 5867 5868 5869 5870 5871 5872 5873 5874 5875 5876 5877 5878 5879 5880 5881 5882 5883 5884 5885 5886 5887 5888 5889 5890 5891 5892 5893 5894 5895 5896 5897 5898 5899 5900 5901 5902 5903 5904 5905 5906 5907 5908 5909 5910 5911 5912 5913 5914 5915 5916 5917 5918 5919 5920 5921 5922 5923 5924 5925 5926 5927 5928 5929 5930 5931 5932 5933 5934 5935 5936 5937 5938 5939 5940 5941 5942 5943 5944 5945 5946 5947 5948 5949 5950 5951 5952 5953 5954 5955 5956 5957 5958 5959 5960 5961 5962 5963 5964 5965 5966 5967 5968 5969 5970 5971 5972 5973 5974 5975 5976 5977 5978 5979 5980 5981 5982 5983 5984 5985 5986 5987 5988 5989 5990 5991 5992 5993 5994 5995 5996 5997 5998 5999 6000 6001 6002 6003 6004 6005 6006 6007 6008 6009 6010 6011 6012 6013 6014 6015 6016 6017 6018 6019 6020 6021 6022 6023 6024 6025 6026 6027 6028 6029 6030 6031 6032 6033 6034 6035 6036 6037 6038 6039 6040 6041 6042 6043 6044 6045 6046 6047 6048 6049 6050 6051 6052 6053 6054 6055 6056 6057 6058 6059 6060 6061 6062 6063 6064 6065 6066 6067 6068 6069 6070 6071 6072 6073 6074 6075 6076 6077 6078 6079 6080 6081 6082 6083 6084 6085 6086 6087 6088 6089 6090 6091 6092 6093 6094 6095 6096 6097 6098 6099 6100 6101 6102 6103 6104 6105 6106 6107 6108 6109 6110 6111 6112 6113 6114 6115 6116 6117 6118 6119 6120 6121 6122 6123 6124 6125 6126 6127 6128 6129 6130 6131 6132 6133 6134 6135 6136 6137 6138 6139 6140 6141 6142 6143 6144 6145 6146 6147 6148 6149 6150 6151 6152 6153 6154 6155 6156 6157 6158 6159 6160 6161 6162 6163 6164 6165 6166 6167 6168 6169 6170 6171 6172 6173 6174 6175 6176 6177 6178 6179 6180 6181 6182 6183 6184 6185 6186 6187 6188 6189 6190 6191 6192 6193 6194 6195 6196 6197 6198 6199 6200 6201 6202 6203 6204 6205 6206 6207 6208 6209 6210 6211 6212 6213 6214 6215 6216 6217 6218 6219 6220 6221 6222 6223 6224 6225 6226 6227 6228 6229 6230 6231 6232 6233 6234 6235 6236 6237 6238 6239 6240 6241 6242 6243 6244 6245 6246 6247 6248 6249 6250 6251 6252 6253 6254 6255 6256 6257 6258 6259 6260 6261 6262 6263 6264 6265 6266 6267 6268 6269 6270 6271 6272 6273 6274 6275 6276 6277 6278 6279 6280 6281 6282 6283 6284 6285 6286 6287 6288 6289 6290 6291 6292 6293 6294 6295 6296 6297 6298 6299 6300 6301 6302 6303 6304 6305 6306 6307 6308 6309 6310 6311 6312 6313 6314 6315 6316 6317 6318 6319 6320 6321 6322 6323 6324 6325 6326 6327 6328 6329 6330 6331 6332 6333 6334 6335 6336 6337 6338 6339 6340 6341 6342 6343 6344 6345 6346 6347 6348 6349 6350 6351 6352 6353 6354 6355 6356 6357 6358 6359 6360 6361 6362 6363 6364 6365 6366 6367 6368 6369 6370 6371 6372 6373 6374 6375 6376 6377 6378 6379 6380 6381 6382 6383 6384 6385 6386 6387 6388 6389 6390 6391 6392 6393 6394 6395 6396 6397 6398 6399 6400 6401 6402 6403 6404 6405 6406 6407 6408 6409 6410 6411 6412 6413 6414 6415 6416 6417 6418 6419 6420 6421 6422 6423 6424 6425 6426 6427 6428 6429 6430 6431 6432 6433 6434 6435 6436 6437 6438 6439 6440 6441 6442 6443 6444 6445 6446 6447 6448 6449 6450 6451 6452 6453 6454 6455 6456 6457 6458 6459 6460 6461 6462 6463 6464 6465 6466 6467 6468 6469 6470 6471 6472 6473 6474 6475 6476 6477 6478 6479 6480 6481 6482 6483 6484 6485 6486 6487 6488 6489 6490 6491 6492 6493 6494 6495 6496 6497 6498 6499 6500 6501 6502 6503 6504 6505 6506 6507 6508 6509 6510 6511 6512 6513 6514 6515 6516 6517 6518 6519 6520 6521 6522 6523 6524 6525 6526 6527 6528 6529 6530 6531 6532 6533 6534 6535 6536 6537 6538 6539 6540 6541 6542 6543 6544 6545 6546 6547 6548 6549 6550 6551 6552 6553 6554 6555 6556 6557 6558 6559 6560 6561 6562 6563 6564 6565 6566 6567 6568 6569 6570 6571 6572 6573 6574 6575 6576 6577 6578 6579 6580 6581 6582 6583 6584 6585 6586 6587 6588 6589 6590 6591 6592 6593 6594 6595 6596 6597 6598 6599 6600 6601 6602 6603 6604 6605 6606 6607 6608 6609 6610 6611 6612 6613 6614 6615 6616 6617 6618 6619 6620 6621 6622 6623 6624 6625 6626 6627 6628 6629 6630 6631 6632 6633 6634 6635 6636 6637 6638 6639 6640 6641 6642 6643 6644 6645 6646 6647 6648 6649 6650 6651 6652 6653 6654 6655 6656 6657 6658 6659 6660 6661 6662 6663 6664 6665 6666 6667 6668 6669 6670 6671 6672 6673 6674 6675 6676 6677 6678 6679 6680 6681 6682 6683 6684 6685 6686 6687 6688 6689 6690 6691 6692 6693 6694 6695 6696 6697 6698 6699 6700 6701 6702 6703 6704 6705 6706 6707 6708 6709 6710 6711 6712 6713 6714 6715 6716 6717 6718 6719 6720 6721 6722 6723 6724 6725 6726 6727 6728 6729 6730 6731 6732 6733 6734 6735 6736 6737 6738 6739 6740 6741 6742 6743 6744 6745 6746 6747 6748 6749 6750 6751 6752 6753 6754 6755 6756 6757 6758 6759 6760 6761 6762 6763 6764 6765 6766 6767 6768 6769 6770 6771 6772 6773 6774 6775 6776 6777 6778 6779 6780 6781 6782 6783 6784 6785 6786 6787 6788 6789 6790 6791 6792 6793 6794 6795 6796 6797 6798 6799 6800 6801 6802 6803 6804 6805 6806 6807 6808 6809 6810 6811 6812 6813 6814 6815 6816 6817 6818 6819 6820 6821 6822 6823 6824 6825 6826 6827 6828 6829 6830 6831 6832 6833 6834 6835 6836 6837 6838 6839 6840 6841 6842 6843 6844 6845 6846 6847 6848 6849 6850 6851 6852 6853 6854 6855 6856 6857 6858 6859 6860 6861 6862 6863 6864 6865 6866 6867 6868 6869 6870 6871 6872 6873 6874 6875 6876 6877 6878 6879 6880 6881 6882 6883 6884 6885 6886 6887 6888 6889 6890 6891 6892 6893 6894 6895 6896 6897 6898 6899 6900 6901 6902 6903 6904 6905 6906 6907 6908 6909 6910 6911 6912 6913 6914 6915 6916 6917 6918 6919 6920 6921 6922 6923 6924 6925 6926 6927 6928 6929 6930 6931 6932 6933 6934 6935 6936 6937 6938 6939 6940 6941 6942 6943 6944 6945 6946 6947 6948 6949 6950 6951 6952 6953 6954 6955 6956 6957 6958 6959 6960 6961 6962 6963 6964 6965 6966 6967 6968 6969 6970 6971 6972 6973 6974 6975 6976 6977 6978 6979 6980 6981 6982 6983 6984 6985 6986 6987 6988 6989 6990 6991 6992 6993 6994 6995 6996 6997 6998 6999 7000 7001 7002 7003 7004 7005 7006 7007 7008 7009 7010 7011 7012 7013 7014 7015 7016 7017 7018 7019 7020 7021 7022 7023 7024 7025 7026 7027 7028 7029 7030 7031 7032 7033 7034 7035 7036 7037 7038 7039 7040 7041 7042 7043 7044 7045 7046 7047 7048 7049 7050 7051 7052 7053 7054 7055 7056 7057 7058 7059 7060 7061 7062 7063 7064 7065 7066 7067 7068 7069 7070 7071 7072 7073 7074 7075 7076 7077 7078 7079 7080 7081 7082 7083 7084 7085 7086 7087 7088 7089 7090 7091 7092 7093 7094 7095 7096 7097 7098 7099 7100 7101 7102 7103 7104 7105 7106 7107 7108 7109 7110 7111 7112 7113 7114 7115 7116 7117 7118 7119 7120 7121 7122 7123 7124 7125 7126 7127 7128 7129 7130 7131 7132 7133 7134 7135 7136 7137 7138 7139 7140 7141 7142 7143 7144 7145 7146 7147 7148 7149 7150 7151 7152 7153 7154 7155 7156 7157 7158 7159 7160 7161 7162 7163 7164 7165 7166 7167 7168 7169 7170 7171 7172 7173 7174 7175 7176 7177 7178 7179 7180 7181 7182 7183 7184 7185 7186 7187 7188 7189 7190 7191 7192 7193 7194 7195 7196 7197 7198 7199 7200 7201 7202 7203 7204 7205 7206 7207 7208 7209 7210 7211 7212 7213 7214 7215 7216 7217 7218 7219 7220 7221 7222 7223 7224 7225 7226 7227 7228 7229 7230 7231 7232 7233 7234 7235 7236 7237 7238 7239 7240 7241 7242 7243 7244 7245 7246 7247 7248 7249 7250 7251 7252 7253 7254 7255 7256 7257 7258 7259 7260 7261 7262 7263 7264 7265 7266 7267 7268 7269 7270 7271 7272 7273 7274 7275 7276 7277 7278 7279 7280 7281 7282 7283 7284 7285 7286 7287 7288 7289 7290 7291 7292 7293 7294 7295 7296 7297 7298 7299 7300 7301 7302 7303 7304 7305 7306 7307 7308 7309 7310 7311 7312 7313 7314 7315 7316 7317 7318 7319 7320 7321 7322 7323 7324 7325 7326 7327 7328 7329 7330 7331 7332 7333 7334 7335 7336 7337 7338 7339 7340 7341 7342 7343 7344 7345 7346 7347 7348 7349 7350 7351 7352 7353 7354 7355 7356 7357 7358 7359 7360 7361 7362 7363 7364 7365 7366 7367 7368 7369 7370 7371 7372 7373 7374 7375 7376 7377 7378 7379 7380 7381 7382 7383 7384 7385 7386 7387 7388 7389 7390 7391 7392 7393 7394 7395 7396 7397 7398 7399 7400 7401 7402 7403 7404 7405 7406 7407 7408 7409 7410 7411 7412 7413 7414 7415 7416 7417 7418 7419 7420 7421 7422 7423 7424 7425 7426 7427 7428 7429 7430 7431 7432 7433 7434 7435 7436 7437 7438 7439 7440 7441 7442 7443 7444 7445 7446 7447 7448 7449 7450 7451 7452 7453 7454 7455 7456 7457 7458 7459 7460 7461 7462 7463 7464 7465 7466 7467 7468 7469 7470 7471 7472 7473 7474 7475 7476 7477 7478 7479 7480 7481 7482 7483 7484 7485 7486 7487 7488 7489 7490 7491 7492 7493 7494 7495 7496 7497 7498 7499 7500 7501 7502 7503 7504 7505 7506 7507 7508 7509 7510 7511 7512 7513 7514 7515 7516 7517 7518 7519 7520 7521 7522 7523 7524 7525 7526 7527 7528 7529 7530 7531 7532 7533 7534 7535 7536 7537 7538 7539 7540 7541 7542 7543 7544 7545 7546 7547 7548 7549 7550 7551 7552 7553 7554 7555 7556 7557 7558 7559 7560 7561 7562 7563 7564 7565 7566 7567 7568 7569 7570 7571 7572 7573 7574 7575 7576 7577 7578 7579 7580 7581 7582 7583 7584 7585 7586 7587 7588 7589 7590 7591 7592 7593 7594 7595 7596 7597 7598 7599 7600 7601 7602 7603 7604 7605 7606 7607 7608 7609 7610 7611 7612 7613 7614 7615 7616 7617 7618 7619 7620 7621 7622 7623 7624 7625 7626 7627 7628 7629 7630 7631 7632 7633 7634 7635 7636 7637 7638 7639 7640 7641 7642 7643 7644 7645 7646 7647 7648 7649 7650 7651 7652 7653 7654 7655 7656 7657 7658 7659 7660 7661 7662 7663 7664 7665 7666 7667 7668 7669 7670 7671 7672 7673 7674 7675 7676 7677 7678 7679 7680 7681 7682 7683 7684 7685 7686 7687 7688 7689 7690 7691 7692 7693 7694 7695 7696 7697 7698 7699 7700 7701 7702 7703 7704 7705 7706 7707 7708 7709 7710 7711 7712 7713 7714 7715 7716 7717 7718 7719 7720 7721 7722 7723 7724 7725 7726 7727 7728 7729 7730 7731 7732 7733 7734 7735 7736 7737 7738 7739 7740 7741 7742 7743 7744 7745 7746 7747 7748 7749 7750 7751 7752 7753 7754 7755 7756 7757 7758 7759 7760 7761 7762 7763 7764 7765 7766 7767 7768 7769 7770 7771 7772 7773 7774 7775 7776 7777 7778 7779 7780 7781 7782 7783 7784 7785 7786 7787 7788 7789 7790 7791 7792 7793 7794 7795 7796 7797 7798 7799 7800 7801 7802 7803 7804 7805 7806 7807 7808 7809 7810 7811 7812 7813 7814 7815 7816 7817 7818 7819 7820 7821 7822 7823 7824 7825 7826 7827 7828 7829 7830 7831 7832 7833 7834 7835 7836 7837 7838 7839 7840 7841 7842 7843 7844 7845 7846 7847 7848 7849 7850 7851 7852 7853 7854 7855 7856 7857 7858 7859 7860 7861 7862 7863 7864 7865 7866 7867 7868 7869 7870 7871 7872 7873 7874 7875 7876 7877 7878 7879 7880 7881 7882 7883 7884 7885 7886 7887 7888 7889 7890 7891 7892 7893 7894 7895 7896 7897 7898 7899 7900 7901 7902 7903 7904 7905 7906 7907 7908 7909 7910 7911 7912 7913 7914 7915 7916 7917 7918 7919 7920 7921 7922 7923 7924 7925 7926 7927 7928 7929 7930 7931 7932 7933 7934 7935 7936 7937 7938 7939 7940 7941 7942 7943 7944 7945 7946 7947 7948 7949 7950 7951 7952 7953 7954 7955 7956 7957 7958 7959 7960 7961 7962 7963 7964 7965 7966 7967 7968 7969 7970 7971 7972 7973 7974 7975 7976 7977 7978 7979 7980 7981 7982 7983 7984 7985 7986 7987 7988 7989 7990 7991 7992 7993 7994 7995 7996 7997 7998 7999 8000 8001 8002 8003 8004 8005 8006 8007 8008 8009 8010 8011 8012 8013 8014 8015 8016 8017 8018 8019 8020 8021 8022 8023 8024 8025 8026 8027 8028 8029 8030 8031 8032 8033 8034 8035 8036 8037 8038 8039 8040 8041 8042 8043 8044 8045 8046 8047 8048 8049 8050 8051 8052 8053 8054 8055 8056 8057 8058 8059 8060 8061 8062 8063 8064 8065 8066 8067 8068 8069 8070 8071 8072 8073 8074 8075 8076 8077 8078 8079 8080 8081 8082 8083 8084 8085 8086 8087 8088 8089 8090 8091 8092 8093 8094 8095 8096 8097 8098 8099 8100 8101 8102 8103 8104 8105 8106 8107 8108 8109 8110 8111 8112 8113 8114 8115 8116 8117 8118 8119 8120 8121 8122 8123 8124 8125 8126 8127 8128 8129 8130 8131 8132 8133 8134 8135 8136 8137 8138 8139 8140 8141 8142 8143 8144 8145 8146 8147 8148 8149 8150 8151 8152 8153 8154 8155 8156 8157 8158 8159 8160 8161 8162 8163 8164 8165 8166 8167 8168 8169 8170 8171 8172 8173 8174 8175 8176 8177 8178 8179 8180 8181 8182 8183 8184 8185 8186 8187 8188 8189 8190 8191 8192 8193 8194 8195 8196 8197 8198 8199 8200 8201 8202 8203 8204 8205 8206 8207 8208 8209 8210 8211 8212 8213 8214 8215 8216 8217 8218 8219 8220 8221 8222 8223 8224 8225 8226 8227 8228 8229 8230 8231 8232 8233 8234 8235 8236 8237 8238 8239 8240 8241 8242 8243 8244 8245 8246 8247 8248 8249 8250 8251 8252 8253 8254 8255 8256 8257 8258 8259 8260 8261 8262 8263 8264 8265 8266 8267 8268 8269 8270 8271 8272 8273 8274 8275 8276 8277 8278 8279 8280 8281 8282 8283 8284 8285 8286 8287 8288 8289 8290 8291 8292 8293 8294 8295 8296 8297 8298 8299 8300 8301 8302 8303 8304 8305 8306 8307 8308 8309 8310 8311 8312 8313 8314 8315 8316 8317 8318 8319 8320 8321 8322 8323 8324 8325 8326 8327 8328 8329 8330 8331 8332 8333 8334 8335 8336 8337 8338 8339 8340 8341 8342 8343 8344 8345 8346 8347 8348 8349 8350 8351 8352 8353 8354 8355 8356 8357 8358 8359 8360 8361 8362 8363 8364 8365 8366 8367 8368 8369 8370 8371 8372 8373 8374 8375 8376 8377 8378 8379 8380 8381 8382 8383 8384 8385 8386 8387 8388 8389 8390 8391 8392 8393 8394 8395 8396 8397 8398 8399 8400 8401 8402 8403 8404 8405 8406 8407 8408 8409 8410 8411 8412 8413 8414 8415 8416 8417 8418 8419 8420 8421 8422 8423 8424 8425 8426 8427 8428 8429 8430 8431 8432 8433 8434 8435 8436 8437 8438 8439 8440 8441 8442 8443 8444 8445 8446 8447 8448 8449 8450 8451 8452 8453 8454 8455 8456 8457 8458 8459 8460 8461 8462 8463 8464 8465 8466 8467 8468 8469 8470 8471 8472 8473 8474 8475 8476 8477 8478 8479 8480 8481 8482 8483 8484 8485 8486 8487 8488 8489 8490 8491 8492 8493 8494 8495 8496 8497 8498 8499 8500 8501 8502 8503 8504 8505 8506 8507 8508 8509 8510 8511 8512 8513 8514 8515 8516 8517 8518 8519 8520 8521 8522 8523 8524 8525 8526 8527 8528 8529 8530 8531 8532 8533 8534 8535 8536 8537 8538 8539 8540 8541 8542 8543 8544 8545 8546 8547 8548 8549 8550 8551 8552 8553 8554 8555 8556 8557 8558 8559 8560 8561 8562 8563 8564 8565 8566 8567 8568 8569 8570 8571 8572 8573 8574 8575 8576 8577 8578 8579 8580 8581 8582 8583 8584 8585 8586 8587 8588 8589 8590 8591 8592 8593 8594 8595 8596 8597 8598 8599 8600 8601 8602 8603 8604 8605 8606 8607 8608 8609 8610 8611 8612 8613 8614 8615 8616 8617 8618 8619 8620 8621 8622 8623 8624 8625 8626 8627 8628 8629 8630 8631 8632 8633 8634 8635 8636 8637 8638 8639 8640 8641 8642 8643 8644 8645 8646 8647 8648 8649 8650 8651 8652 8653 8654 8655 8656 8657 8658 8659 8660 8661 8662 8663 8664 8665 8666 8667 8668 8669 8670 8671 8672 8673 8674 8675 8676 8677 8678 8679 8680 8681 8682 8683 8684 8685 8686 8687 8688 8689 8690 8691 8692 8693 8694 8695 8696 8697 8698 8699 8700 8701 8702 8703 8704 8705 8706 8707 8708 8709 8710 8711 8712 8713 8714 8715 8716 8717 8718 8719 8720 8721 8722 8723 8724 8725 8726 8727 8728 8729 8730 8731 8732 8733 8734 8735 8736 8737 8738 8739 8740 8741 8742 8743 8744 8745 8746 8747 8748 8749 8750 8751 8752 8753 8754 8755 8756 8757 8758 8759 8760 8761 8762 8763 8764 8765 8766 8767 8768 8769 8770 8771 8772 8773 8774 8775 8776 8777 8778 8779 8780 8781 8782 8783 8784 8785 8786 8787 8788 8789 8790 8791 8792 8793 8794 8795 8796 8797 8798 8799 8800 8801 8802 8803 8804 8805 8806 8807 8808 8809 8810 8811 8812 8813 8814 8815 8816 8817 8818 8819 8820 8821 8822 8823 8824 8825 8826 8827 8828 8829 8830 8831 8832 8833 8834 8835 8836 8837 8838 8839 8840 8841 8842 8843 8844 8845 8846 8847 8848 8849 8850 8851 8852 8853 8854 8855 8856 8857 8858 8859 8860 8861 8862 8863 8864 8865 8866 8867 8868 8869 8870 8871 8872 8873 8874 8875 8876 8877 8878 8879 8880 8881 8882 8883 8884 8885 8886 8887 8888 8889 8890 8891 8892 8893 8894 8895 8896 8897 8898 8899 8900 8901 8902 8903 8904 8905 8906 8907 8908 8909 8910 8911 8912 8913 8914 8915 8916 8917 8918 8919 8920 8921 8922 8923 8924 8925 8926 8927 8928 8929 8930 8931 8932 8933 8934 8935 8936 8937 8938 8939 8940 8941 8942 8943 8944 8945 8946 8947 8948 8949 8950 8951 8952 8953 8954 8955 8956 8957 8958 8959 8960 8961 8962 8963 8964 8965 8966 8967 8968 8969 8970 8971 8972 8973 8974 8975 8976 8977 8978 8979 8980 8981 8982 8983 8984 8985 8986 8987 8988 8989 8990 8991 8992 8993 8994 8995 8996 8997 8998 8999 9000 9001 9002 9003 9004 9005 9006 9007 9008 9009 9010 9011 9012 9013 9014 9015 9016 9017 9018 9019 9020 9021 9022 9023 9024 9025 9026 9027 9028 9029 9030 9031 9032 9033 9034 9035 9036 9037 9038 9039 9040 9041 9042 9043 9044 9045 9046 9047 9048 9049 9050 9051 9052 9053 9054 9055 9056 9057 9058 9059 9060 9061 9062 9063 9064 9065 9066 9067 9068 9069 9070 9071 9072 9073 9074 9075 9076 9077 9078 9079 9080 9081 9082 9083 9084 9085 9086 9087 9088 9089 9090 9091 9092 9093 9094 9095 9096 9097 9098 9099 9100 9101 9102 9103 9104 9105 9106 9107 9108 9109 9110 9111 9112 9113 9114 9115 9116 9117 9118 9119 9120 9121 9122 9123 9124 9125 9126 9127 9128 9129 9130 9131 9132 9133 9134 9135 9136 9137 9138 9139 9140 9141 9142 9143 9144 9145 9146 9147 9148 9149 9150 9151 9152 9153 9154 9155 9156 9157 9158 9159 9160 9161 9162 9163 9164 9165 9166 9167 9168 9169 9170 9171 9172 9173 9174 9175 9176 9177 9178 9179 9180 9181 9182 9183 9184 9185 9186 9187 9188 9189 9190 9191 9192 9193 9194 9195 9196 9197 9198 9199 9200 9201 9202 9203 9204 9205 9206 9207 9208 9209 9210 9211 9212 9213 9214 9215 9216 9217 9218 9219 9220 9221 9222 9223 9224 9225 9226 9227 9228 9229 9230 9231 9232 9233 9234 9235 9236 9237 9238 9239 9240 9241 9242 9243 9244 9245 9246 9247 9248 9249 9250 9251 9252 9253 9254 9255 9256 9257 9258 9259 9260 9261 9262 9263 9264 9265 9266 9267 9268 9269 9270 9271 9272 9273 9274 9275 9276 9277 9278 9279 9280 9281 9282 9283 9284 9285 9286 9287 9288 9289 9290 9291 9292 9293 9294 9295 9296 9297 9298 9299 9300 9301 9302 9303 9304 9305 9306 9307 9308 9309 9310 9311 9312 9313 9314 9315 9316 9317 9318 9319 9320 9321 9322 9323 9324 9325 9326 9327 9328 9329 9330 9331 9332 9333 9334 9335 9336 9337 9338 9339 9340 9341 9342 9343 9344 9345 9346 9347 9348 9349 9350 9351 9352 9353 9354 9355 9356 9357 9358 9359 9360 9361 9362 9363 9364 9365 9366 9367 9368 9369 9370 9371 9372 9373 9374 9375 9376 9377 9378 9379 9380 9381 9382 9383 9384 9385 9386 9387 9388 9389 9390 9391 9392 9393 9394 9395 9396 9397 9398 9399 9400 9401 9402 9403 9404 9405 9406 9407 9408 9409 9410 9411 9412 9413 9414 9415 9416 9417 9418 9419 9420 9421 9422 9423 9424 9425 9426 9427 9428 9429 9430 9431 9432 9433 9434 9435 9436 9437 9438 9439 9440 9441 9442 9443 9444 9445 9446 9447 9448 9449 9450 9451 9452 9453 9454 9455 9456 9457 9458 9459 9460 9461 9462 9463 9464 9465 9466 9467 9468 9469 9470 9471 9472 9473 9474 9475 9476 9477 9478 9479 9480 9481 9482 9483 9484 9485 9486 9487 9488 9489 9490 9491 9492 9493 9494 9495 9496 9497 9498 9499 9500 9501 9502 9503 9504 9505 9506 9507 9508 9509 9510 9511 9512 9513 9514 9515 9516 9517 9518 9519 9520 9521 9522 9523 9524 9525 9526 9527 9528 9529 9530 9531 9532 9533 9534 9535 9536 9537 9538 9539 9540 9541 9542 9543 9544 9545 9546 9547 9548 9549 9550 9551 9552 9553 9554 9555 9556 9557 9558 9559 9560 9561 9562 9563 9564 9565 9566 9567 9568 9569 9570 9571 9572 9573 9574 9575 9576 9577 9578 9579 9580 9581 9582 9583 9584 9585 9586 9587 9588 9589 9590 9591 9592 9593 9594 9595 9596 9597 9598 9599 9600 9601 9602 9603 9604 9605 9606 9607 9608 9609 9610 9611 9612 9613 9614 9615 9616 9617 9618 9619 9620 9621 9622 9623 9624 9625 9626 9627 9628 9629 9630 9631 9632 9633 9634 9635 9636 9637 9638 9639 9640 9641 9642 9643 9644 9645 9646 9647 9648 9649 9650 9651 9652 9653 9654 9655 9656 9657 9658 9659 9660 9661 9662 9663 9664 9665 9666 9667 9668 9669 9670 9671 9672 9673 9674 9675 9676 9677 9678 9679 9680 9681 9682 9683 9684 9685 9686 9687 9688 9689 9690 9691 9692 9693 9694 9695 9696 9697 9698 9699 9700 9701 9702 9703 9704 9705 9706 9707 9708 9709 9710 9711 9712 9713 9714 9715 9716 9717 9718 9719 9720 9721 9722 9723 9724 9725 9726 9727 9728 9729 9730 9731 9732 9733 9734 9735 9736 9737 9738 9739 9740 9741 9742 9743 9744 9745 9746 9747 9748 9749 9750 9751 9752 9753 9754 9755 9756 9757 9758 9759 9760 9761 9762 9763 9764 9765 9766 9767 9768 9769 9770 9771 9772 9773 9774 9775 9776 9777 9778 9779 9780 9781 9782 9783 9784 9785 9786 9787 9788 9789 9790 9791 9792 9793 9794 9795 9796 9797 9798 9799 9800 9801 9802 9803 9804 9805 9806 9807 9808 9809 9810 9811 9812 9813 9814 9815 9816 9817 9818 9819 9820 9821 9822 9823 9824 9825 9826 9827 9828 9829 9830 9831 9832 9833 9834 9835 9836 9837 9838 9839 9840 9841 9842 9843 9844 9845 9846 9847 9848 9849 9850 9851 9852 9853 9854 9855 9856 9857 9858 9859 9860 9861 9862 9863 9864 9865 9866 9867 9868 9869 9870 9871 9872 9873 9874 9875 9876 9877 9878 9879 9880 9881 9882 9883 9884 9885 9886 9887 9888 9889 9890 9891 9892 9893 9894 9895 9896 9897 9898 9899 9900 9901 9902 9903 9904 9905 9906 9907 9908 9909 9910 9911 9912 9913 9914 9915 9916 9917 9918 9919 9920 9921 9922 9923 9924 9925 9926 9927 9928 9929 9930 9931 9932 9933 9934 9935 9936 9937 9938 9939 9940 9941 9942 9943 9944 9945 9946 9947 9948 9949 9950 9951 9952 9953 9954 9955 9956 9957 9958 9959 9960 9961 9962 9963 9964 9965 9966 9967 9968 9969 9970 9971 9972 9973 9974 9975 9976 9977 9978 9979 9980 9981 9982 9983 9984 9985 9986 9987 9988 9989 9990 9991 9992 9993 9994 9995 9996 9997 9998 9999 10000 10001 10002 10003 10004 10005 10006 10007 10008 10009 10010 10011 10012 10013 10014 10015 10016 10017 10018 10019 10020 10021 10022 10023 10024 10025 10026 10027 10028 10029 10030 10031 10032 10033 10034 10035 10036 10037 10038 10039 10040 10041 10042 10043 10044 10045 10046 10047 10048 10049 10050 10051 10052 10053 10054 10055 10056 10057 10058 10059 10060 10061 10062 10063 10064 10065 10066 10067 10068 10069 10070 10071 10072 10073 10074 10075 10076 10077 10078 10079 10080 10081 10082 10083 10084 10085 10086 10087 10088 10089 10090 10091 10092 10093 10094 10095 10096 10097 10098 10099 10100 10101 10102 10103 10104 10105 10106 10107 10108 10109 10110 10111 10112 10113 10114 10115 10116 10117 10118 10119 10120 10121 10122 10123 10124 10125 10126 10127 10128 10129 10130 10131 10132 10133 10134 10135 10136 10137 10138 10139 10140 10141 10142 10143 10144 10145 10146 10147 10148 10149 10150 10151 10152 10153 10154 10155 10156 10157 10158 10159 10160 10161 10162 10163 10164 10165 10166 10167 10168 10169 10170 10171 10172 10173 10174 10175 10176 10177 10178 10179 10180 10181 10182 10183 10184 10185 10186 10187 10188 10189 10190 10191 10192 10193 10194 10195 10196 10197 10198 10199 10200 10201 10202 10203 10204 10205 10206 10207 10208 10209 10210 10211 10212 10213 10214 10215 10216 10217 10218 10219 10220 10221 10222 10223 10224 10225 10226 10227 10228 10229 10230 10231 10232 10233 10234 10235 10236 10237 10238 10239 10240 10241 10242 10243 10244 10245 10246 10247 10248 10249 10250 10251 10252 10253 10254 10255 10256 10257 10258 10259 10260 10261 10262 10263 10264 10265 10266 10267 10268 10269 10270 10271 10272 10273 10274 10275 10276 10277 10278 10279 10280 10281 10282 10283 10284 10285 10286 10287 10288 10289 10290 10291 10292 10293 10294 10295 10296 10297 10298 10299 10300 10301 10302 10303 10304 10305 10306 10307 10308 10309 10310 10311 10312 10313 10314 10315 10316 10317 10318 10319 10320 10321 10322 10323 10324 10325 10326 10327 10328 10329 10330 10331 10332 10333 10334 10335 10336 10337 10338 10339 10340 10341 10342 10343 10344 10345 10346 10347 10348 10349 10350 10351 10352 10353 10354 10355 10356 10357 10358 10359 10360 10361 10362 10363 10364 10365 10366 10367 10368 10369 10370 10371 10372 10373 10374 10375 10376 10377 10378 10379 10380 10381 10382 10383 10384 10385 10386 10387 10388 10389 10390 10391 10392 10393 10394 10395 10396 10397 10398 10399 10400 10401 10402 10403 10404 10405 10406 10407 10408 10409 10410 10411 10412 10413 10414 10415 10416 10417 10418 10419 10420 10421 10422 10423 10424 10425 10426 10427 10428 10429 10430 10431 10432 10433 10434 10435 10436 10437 10438 10439 10440 10441 10442 10443 10444 10445 10446 10447 10448 10449 10450 10451 10452 10453 10454 10455 10456 10457 10458 10459 10460 10461 10462 10463 10464 10465 10466 10467 10468 10469 10470 10471 10472 10473 10474 10475 10476 10477 10478 10479 10480 10481 10482 10483 10484 10485 10486 10487 10488 10489 10490 10491 10492 10493 10494 10495 10496 10497 10498 10499 10500 10501 10502 10503 10504 10505 10506 10507 10508 10509 10510 10511 10512 10513 10514 10515 10516 10517 10518 10519 10520 10521 10522 10523 10524 10525 10526 10527 10528 10529 10530 10531 10532 10533 10534 10535 10536 10537 10538 10539 10540 10541 10542 10543 10544 10545 10546 10547 10548 10549 10550 10551 10552 10553 10554 10555 10556 10557 10558 10559 10560 10561 10562 10563 10564 10565 10566 10567 10568 10569 10570 10571 10572 10573 10574 10575 10576 10577 10578 10579 10580 10581 10582 10583 10584 10585 10586 10587 10588 10589 10590 10591 10592 10593 10594 10595 10596 10597 10598 10599 10600 10601 10602 10603 10604 10605 10606 10607 10608 10609 10610 10611 10612 10613 10614 10615 10616 10617 10618 10619 10620 10621 10622 10623 10624 10625 10626 10627 10628 10629 10630 10631 10632 10633 10634 10635 10636 10637 10638 10639 10640 10641 10642 10643 10644 10645 10646 10647 10648 10649 10650 10651 10652 10653 10654 10655 10656 10657 10658 10659 10660 10661 10662 10663 10664 10665 10666 10667 10668 10669 10670 10671 10672 10673 10674 10675 10676 10677 10678 10679 10680 10681 10682 10683 10684 10685 10686 10687 10688 10689 10690 10691 10692 10693 10694 10695 10696 10697 10698 10699 10700 10701 10702 10703 10704 10705 10706 10707 10708 10709 10710 10711 10712 10713 10714 10715 10716 10717 10718 10719 10720 10721 10722 10723 10724 10725 10726 10727 10728 10729 10730 10731 10732 10733 10734 10735 10736 10737 10738 10739 10740 10741 10742 10743 10744 10745 10746 10747 10748 10749 10750 10751 10752 10753 10754 10755 10756 10757 10758 10759 10760 10761 10762 10763 10764 10765 10766 10767 10768 10769 10770 10771 10772 10773 10774 10775 10776 10777 10778 10779 10780 10781 10782 10783 10784 10785 10786 10787 10788 10789 10790 10791 10792 10793 10794 10795 10796 10797 10798 10799 10800 10801 10802 10803 10804 10805 10806 10807 10808 10809 10810 10811 10812 10813 10814 10815 10816 10817 10818 10819 10820 10821 10822 10823 10824 10825 10826 10827 10828 10829 10830 10831 10832 10833 10834 10835 10836 10837 10838 10839 10840 10841 10842 10843 10844 10845 10846 10847 10848 10849 10850 10851 10852 10853 10854 10855 10856 10857 10858 10859 10860 10861 10862 10863 10864 10865 10866 10867 10868 10869 10870 10871 10872 10873 10874 10875 10876 10877 10878 10879 10880 10881 10882 10883 10884 10885 10886 10887 10888 10889 10890 10891 10892 10893 10894 10895 10896 10897 10898 10899 10900 10901 10902 10903 10904 10905 10906 10907 10908 10909 10910 10911 10912 10913 10914 10915 10916 10917 10918 10919 10920 10921 10922 10923 10924 10925 10926 10927 10928 10929 10930 10931 10932 10933 10934 10935 10936 10937 10938 10939 10940 10941 10942 10943 10944 10945 10946 10947 10948 10949 10950 10951 10952 10953 10954 10955 10956 10957 10958 10959 10960 10961 10962 10963 10964 10965 10966 10967 10968 10969 10970 10971 10972 10973 10974 10975 10976 10977 10978 10979 10980 10981 10982 10983 10984 10985 10986 10987 10988 10989 10990 10991 10992 10993 10994 10995 10996 10997 10998 10999 11000 11001 11002 11003 11004 11005 11006 11007 11008 11009 11010 11011 11012 11013 11014 11015 11016 11017 11018 11019 11020 11021 11022 11023 11024 11025 11026 11027 11028 11029 11030 11031 11032 11033 11034 11035 11036 11037 11038 11039 11040 11041 11042 11043 11044 11045 11046 11047 11048 11049 11050 11051 11052 11053 11054 11055 11056 11057 11058 11059 11060 11061 11062 11063 11064 11065 11066 11067 11068 11069 11070 11071 11072 11073 11074 11075 11076 11077 11078 11079 11080 11081 11082 11083 11084 11085 11086 11087 11088 11089 11090 11091 11092 11093 11094 11095 11096 11097 11098 11099 11100 11101 11102 11103 11104 11105 11106 11107 11108 11109 11110 11111 11112 11113 11114 11115 11116 11117 11118 11119 11120 11121 11122 11123 11124 11125 11126 11127 11128 11129 11130 11131 11132 11133 11134 11135 11136 11137 11138 11139 11140 11141 11142 11143 11144 11145 11146 11147 11148 11149 11150 11151 11152 11153 11154 11155 11156 11157 11158 11159 11160 11161 11162 11163 11164 11165 11166 11167 11168 11169 11170 11171 11172 11173 11174 11175 11176 11177 11178 11179 11180 11181 11182 11183 11184 11185 11186 11187 11188 11189 11190 11191 11192 11193 11194 11195 11196 11197 11198 11199 11200 11201 11202 11203 11204 11205 11206 11207 11208 11209 11210 11211 11212 11213 11214 11215 11216 11217 11218 11219 11220 11221 11222 11223 11224 11225 11226 11227 11228 11229 11230 11231 11232 11233 11234 11235 11236 11237 11238 11239 11240 11241 11242 11243 11244 11245 11246 11247 11248 11249 11250 11251 11252 11253 11254 11255 11256 11257 11258 11259 11260 11261 11262 11263 11264 11265 11266 11267 11268 11269 11270 11271 11272 11273 11274 11275 11276 11277 11278 11279 11280 11281 11282 11283 11284 11285 11286 11287 11288 11289 11290 11291 11292 11293 11294 11295 11296 11297 11298 11299 11300 11301 11302 11303 11304 11305 11306 11307 11308 11309 11310 11311 11312 11313 11314 11315 11316 11317 11318 11319 11320 11321 11322 11323 11324 11325 11326 11327 11328 11329 11330 11331 11332 11333 11334 11335 11336 11337 11338 11339 11340 11341 11342 11343 11344 11345 11346 11347 11348 11349 11350 11351 11352 11353 11354 11355 11356 11357 11358 11359 11360 11361 11362 11363 11364 11365 11366 11367 11368 11369 11370 11371 11372 11373 11374 11375 11376 11377 11378 11379 11380 11381 11382 11383 11384 11385 11386 11387 11388 11389 11390 11391 11392 11393 11394 11395 11396 11397 11398 11399 11400 11401 11402 11403 11404 11405 11406 11407 11408 11409 11410 11411 11412 11413 11414 11415 11416 11417 11418 11419 11420 11421 11422 11423 11424 11425 11426 11427 11428 11429 11430 11431 11432 11433 11434 11435 11436 11437 11438 11439 11440 11441 11442 11443 11444 11445 11446 11447 11448 11449 11450 11451 11452 11453 11454 11455 11456 11457 11458 11459 11460 11461 11462 11463 11464 11465 11466 11467 11468 11469 11470 11471 11472 11473 11474 11475 11476 11477 11478 11479 11480 11481 11482 11483 11484 11485 11486 11487 11488 11489 11490 11491 11492 11493 11494 11495 11496 11497 11498 11499 11500 11501 11502 11503 11504 11505 11506 11507 11508 11509 11510 11511 11512 11513 11514 11515 11516 11517 11518 11519 11520 11521 11522 11523 11524 11525 11526 11527 11528 11529 11530 11531 11532 11533 11534 11535 11536 11537 11538 11539 11540 11541 11542 11543 11544 11545 11546 11547 11548 11549 11550 11551 11552 11553 11554 11555 11556 11557 11558 11559 11560 11561 11562 11563 11564 11565 11566 11567 11568 11569 11570 11571 11572 11573 11574 11575 11576 11577 11578 11579 11580 11581 11582 11583 11584 11585 11586 11587 11588 11589 11590 11591 11592 11593 11594 11595 11596 11597 11598 11599 11600 11601 11602 11603 11604 11605 11606 11607 11608 11609 11610 11611 11612 11613 11614 11615 11616 11617 11618 11619 11620 11621 11622 11623 11624 11625 11626 11627 11628 11629 11630 11631 11632 11633 11634 11635 11636 11637 11638 11639 11640 11641 11642 11643 11644 11645 11646 11647 11648 11649 11650 11651 11652 11653 11654 11655 11656 11657 11658 11659 11660 11661 11662 11663 11664 11665 11666 11667 11668 11669 11670 11671 11672 11673 11674 11675 11676 11677 11678 11679 11680 11681 11682 11683 11684 11685 11686 11687 11688 11689 11690 11691 11692 11693 11694 11695 11696 11697 11698 11699 11700 11701 11702 11703 11704 11705 11706 11707 11708 11709 11710 11711 11712 11713 11714 11715 11716 11717 11718 11719 11720 11721 11722 11723 11724 11725 11726 11727 11728 11729 11730 11731 11732 11733 11734 11735 11736 11737 11738 11739 11740 11741 11742 11743 11744 11745 11746 11747 11748 11749 11750 11751 11752 11753 11754 11755 11756 11757 11758 11759 11760 11761 11762 11763 11764 11765 11766 11767 11768 11769 11770 11771 11772 11773 11774 11775 11776 11777 11778 11779 11780 11781 11782 11783 11784 11785 11786 11787 11788 11789 11790 11791 11792 11793 11794 11795 11796 11797 11798 11799 11800 11801 11802 11803 11804 11805 11806 11807 11808 11809 11810 11811 11812 11813 11814 11815 11816 11817 11818 11819 11820 11821 11822 11823 11824 11825 11826 11827 11828 11829 11830 11831 11832 11833 11834 11835 11836 11837 11838 11839 11840 11841 11842 11843 11844 11845 11846 11847 11848 11849 11850 11851 11852 11853 11854 11855 11856 11857 11858 11859 11860 11861 11862 11863 11864 11865 11866 11867 11868 11869 11870 11871 11872 11873 11874 11875 11876 11877 11878 11879 11880 11881 11882 11883 11884 11885 11886 11887 11888 11889 11890 11891 11892 11893 11894 11895 11896 11897 11898 11899 11900 11901 11902 11903 11904 11905 11906 11907 11908 11909 11910 11911 11912 11913 11914 11915 11916 11917 11918 11919 11920 11921 11922 11923 11924 11925 11926 11927 11928 11929 11930 11931 11932 11933 11934 11935 11936 11937 11938 11939 11940 11941 11942 11943 11944 11945 11946 11947 11948 11949 11950 11951 11952 11953 11954 11955 11956 11957 11958 11959 11960 11961 11962 11963 11964 11965 11966 11967 11968 11969 11970 11971 11972 11973 11974 11975 11976 11977 11978 11979 11980 11981 11982 11983 11984 11985 11986 11987 11988 11989 11990 11991 11992 11993 11994 11995 11996 11997 11998 11999 12000 12001 12002 12003 12004 12005 12006 12007 12008 12009 12010 12011 12012 12013 12014 12015 12016 12017 12018 12019 12020 12021 12022 12023 12024 12025 12026 12027 12028 12029 12030 12031 12032 12033 12034 12035 12036 12037 12038 12039 12040 12041 12042 12043 12044 12045 12046 12047 12048 12049 12050 12051 12052 12053 12054 12055 12056 12057 12058 12059 12060 12061 12062 12063 12064 12065 12066 12067 12068 12069 12070 12071 12072 12073 12074 12075 12076 12077 12078 12079 12080 12081 12082 12083 12084 12085 12086 12087 12088 12089 12090 12091 12092 12093 12094 12095 12096 12097 12098 12099 12100 12101 12102 12103 12104 12105 12106 12107 12108 12109 12110 12111 12112 12113 12114 12115 12116 12117 12118 12119 12120 12121 12122 12123 12124 12125 12126 12127 12128 12129 12130 12131 12132 12133 12134 12135 12136 12137 12138 12139 12140 12141 12142 12143 12144 12145 12146 12147 12148 12149 12150 12151 12152 12153 12154 12155 12156 12157 12158 12159 12160 12161 12162 12163 12164 12165 12166 12167 12168 12169 12170 12171 12172 12173 12174 12175 12176 12177 12178 12179 12180 12181 12182 12183 12184 12185 12186 12187 12188 12189 12190 12191 12192 12193 12194 12195 12196 12197 12198 12199 12200 12201 12202 12203 12204 12205 12206 12207 12208 12209 12210 12211 12212 12213 12214 12215 12216 12217 12218 12219 12220 12221 12222 12223 12224 12225 12226 12227 12228 12229 12230 12231 12232 12233 12234 12235 12236 12237 12238 12239 12240 12241 12242 12243 12244 12245 12246 12247 12248 12249 12250 12251 12252 12253 12254 12255 12256 12257 12258 12259 12260 12261 12262 12263 12264 12265 12266 12267 12268 12269 12270 12271 12272 12273 12274 12275 12276 12277 12278 12279 12280 12281 12282 12283 12284 12285 12286 12287 12288 12289 12290 12291 12292 12293 12294 12295 12296 12297 12298 12299 12300 12301 12302 12303 12304 12305 12306 12307 12308 12309 12310 12311 12312 12313 12314 12315 12316 12317 12318 12319 12320 12321 12322 12323 12324 12325 12326 12327 12328 12329 12330 12331 12332 12333 12334 12335 12336 12337 12338 12339 12340 12341 12342 12343 12344 12345 12346 12347 12348 12349 12350 12351 12352 12353 12354 12355 12356 12357 12358 12359 12360 12361 12362 12363 12364 12365 12366 12367 12368 12369 12370 12371 12372 12373 12374 12375 12376 12377 12378 12379 12380 12381 12382 12383 12384 12385 12386 12387 12388 12389 12390 12391 12392 12393 12394 12395 12396 12397 12398 12399 12400 12401 12402 12403 12404 12405 12406 12407 12408 12409 12410 12411 12412 12413 12414 12415 12416 12417 12418 12419 12420 12421 12422 12423 12424 12425 12426 12427 12428 12429 12430 12431 12432 12433 12434 12435 12436 12437 12438 12439 12440 12441 12442 12443 12444 12445 12446 12447 12448 12449 12450 12451 12452 12453 12454 12455 12456 12457 12458 12459 12460 12461 12462 12463 12464 12465 12466 12467 12468 12469 12470 12471 12472 12473 12474 12475 12476 12477 12478 12479 12480 12481 12482 12483 12484 12485 12486 12487 12488 12489 12490 12491 12492 12493 12494 12495 12496 12497 12498 12499 12500 12501 12502 12503 12504 12505 12506 12507 12508 12509 12510 12511 12512 12513 12514 12515 12516 12517 12518 12519 12520 12521 12522 12523 12524 12525 12526 12527 12528 12529 12530 12531 12532 12533 12534 12535 12536 12537 12538 12539 12540 12541 12542 12543 12544 12545 12546 12547 12548 12549 12550 12551 12552 12553 12554 12555 12556 12557 12558 12559 12560 12561 12562 12563 12564 12565 12566 12567 12568 12569 12570 12571 12572 12573 12574 12575 12576 12577 12578 12579 12580 12581 12582 12583 12584 12585 12586 12587 12588 12589 12590 12591 12592 12593 12594 12595 12596 12597 12598 12599 12600 12601 12602 12603 12604 12605 12606 12607 12608 12609 12610 12611 12612 12613 12614 12615 12616 12617 12618 12619 12620 12621 12622 12623 12624 12625 12626 12627 12628 12629 12630 12631 12632 12633 12634 12635 12636 12637 12638 12639 12640 12641 12642 12643 12644 12645 12646 12647 12648 12649 12650 12651 12652 12653 12654 12655 12656 12657 12658 12659 12660 12661 12662 12663 12664 12665 12666 12667 12668 12669 12670 12671 12672 12673 12674 12675 12676 12677 12678 12679 12680 12681 12682 12683 12684 12685 12686 12687 12688 12689 12690 12691 12692 12693 12694 12695 12696 12697 12698 12699 12700 12701 12702 12703 12704 12705 12706 12707 12708 12709 12710 12711 12712 12713 12714 12715 12716 12717 12718 12719 12720 12721 12722 12723 12724 12725 12726 12727 12728 12729 12730 12731 12732 12733 12734 12735 12736 12737 12738 12739 12740 12741 12742 12743 12744 12745 12746 12747 12748 12749 12750 12751 12752 12753 12754 12755 12756 12757 12758 12759 12760 12761 12762 12763 12764 12765 12766 12767 12768 12769 12770 12771 12772 12773 12774 12775 12776 12777 12778 12779 12780 12781 12782 12783 12784 12785 12786 12787 12788 12789 12790 12791 12792 12793 12794 12795 12796 12797 12798 12799 12800 12801 12802 12803 12804 12805 12806 12807 12808 12809 12810 12811 12812 12813 12814 12815 12816 12817 12818 12819 12820 12821 12822 12823 12824 12825 12826 12827 12828 12829 12830 12831 12832 12833 12834 12835 12836 12837 12838 12839 12840 12841 12842 12843 12844 12845 12846 12847 12848 12849 12850 12851 12852 12853 12854 12855 12856 12857 12858 12859 12860 12861 12862 12863 12864 12865 12866 12867 12868 12869 12870 12871 12872 12873 12874 12875 12876 12877 12878 12879 12880 12881 12882 12883 12884 12885 12886 12887 12888 12889 12890 12891 12892 12893 12894 12895 12896 12897 12898 12899 12900 12901 12902 12903 12904 12905 12906 12907 12908 12909 12910 12911 12912 12913 12914 12915 12916 12917 12918 12919 12920 12921 12922 12923 12924 12925 12926 12927 12928 12929 12930 12931 12932 12933 12934 12935 12936 12937 12938 12939 12940 12941 12942 12943 12944 12945 12946 12947 12948 12949 12950 12951 12952 12953 12954 12955 12956 12957 12958 12959 12960 12961 12962 12963 12964 12965 12966 12967 12968 12969 12970 12971 12972 12973 12974 12975 12976 12977 12978 12979 12980 12981 12982 12983 12984 12985 12986 12987 12988 12989 12990 12991 12992 12993 12994 12995 12996 12997 12998 12999 13000 13001 13002 13003 13004 13005 13006 13007 13008 13009 13010 13011 13012 13013 13014 13015 13016 13017 13018 13019 13020 13021 13022 13023 13024 13025 13026 13027 13028 13029 13030 13031 13032 13033 13034 13035 13036 13037 13038 13039 13040 13041 13042 13043 13044 13045 13046 13047 13048 13049 13050 13051 13052 13053 13054 13055 13056 13057 13058 13059 13060 13061 13062 13063 13064 13065 13066 13067 13068 13069 13070 13071 13072 13073 13074 13075 13076 13077 13078 13079 13080 13081 13082 13083 13084 13085 13086 13087 13088 13089 13090 13091 13092 13093 13094 13095 13096 13097 13098 13099 13100 13101 13102 13103 13104 13105 13106 13107 13108 13109 13110 13111 13112 13113 13114 13115 13116 13117 13118 13119 13120 13121 13122 13123 13124 13125 13126 13127 13128 13129 13130 13131 13132 13133 13134 13135 13136 13137 13138 13139 13140 13141 13142 13143 13144 13145 13146 13147 13148 13149 13150 13151 13152 13153 13154 13155 13156 13157 13158 13159 13160 13161 13162 13163 13164 13165 13166 13167 13168 13169 13170 13171 13172 13173 13174 13175 13176 13177 13178 13179 13180 13181 13182 13183 13184 13185 13186 13187 13188 13189 13190 13191 13192 13193 13194 13195 13196 13197 13198 13199 13200 13201 13202 13203 13204 13205 13206 13207 13208 13209 13210 13211 13212 13213 13214 13215 13216 13217 13218 13219 13220 13221 13222 13223 13224 13225 13226 13227 13228 13229 13230 13231 13232 13233 13234 13235 13236 13237 13238 13239 13240 13241 13242 13243 13244 13245 13246 13247 13248 13249 13250 13251 13252 13253 13254 13255 13256 13257 13258 13259 13260 13261 13262 13263 13264 13265 13266 13267 13268 13269 13270 13271 13272 13273 13274 13275 13276 13277 13278 13279 13280 13281 13282 13283 13284 13285 13286 13287 13288 13289 13290 13291 13292 13293 13294 13295 13296 13297 13298 13299 13300 13301 13302 13303 13304 13305 13306 13307 13308 13309 13310 13311 13312 13313 13314 13315 13316 13317 13318 13319 13320 13321 13322 13323 13324 13325 13326 13327 13328 13329 13330 13331 13332 13333 13334 13335 13336 13337 13338 13339 13340 13341 13342 13343 13344 13345 13346 13347 13348 13349 13350 13351 13352 13353 13354 13355 13356 13357 13358 13359 13360 13361 13362 13363 13364 13365 13366 13367 13368 13369 13370 13371 13372 13373 13374 13375 13376 13377 13378 13379 13380 13381 13382 13383 13384 13385 13386 13387 13388 13389 13390 13391 13392 13393 13394 13395 13396 13397 13398 13399 13400 13401 13402 13403 13404 13405 13406 13407 13408 13409 13410 13411 13412 13413 13414 13415 13416 13417 13418 13419 13420 13421 13422 13423 13424 13425 13426 13427 13428 13429 13430 13431 13432 13433 13434 13435 13436 13437 13438 13439 13440 13441 13442 13443 13444 13445 13446 13447 13448 13449 13450 13451 13452 13453 13454 13455 13456 13457 13458 13459 13460 13461 13462 13463 13464 13465 13466 13467 13468 13469 13470 13471 13472 13473 13474 13475 13476 13477 13478 13479 13480 13481 13482 13483 13484 13485 13486 13487 13488 13489 13490 13491 13492 13493 13494 13495 13496 13497 13498 13499 13500 13501 13502 13503 13504 13505 13506 13507 13508 13509 13510 13511 13512 13513 13514 13515 13516 13517 13518 13519 13520 13521 13522 13523 13524 13525 13526 13527 13528 13529 13530 13531 13532 13533 13534 13535 13536 13537 13538 13539 13540 13541 13542 13543 13544 13545 13546 13547 13548 13549 13550 13551 13552 13553 13554 13555 13556 13557 13558 13559 13560 13561 13562 13563 13564 13565 13566 13567 13568 13569 13570 13571 13572 13573 13574 13575 13576 13577 13578 13579 13580 13581 13582 13583 13584 13585 13586 13587 13588 13589 13590 13591 13592 13593 13594 13595 13596 13597 13598 13599 13600 13601 13602 13603 13604 13605 13606 13607 13608 13609 13610 13611 13612 13613 13614 13615 13616 13617 13618 13619 13620 13621 13622 13623 13624 13625 13626 13627 13628 13629 13630 13631 13632 13633 13634 13635 13636 13637 13638 13639 13640 13641 13642 13643 13644 13645 13646 13647 13648 13649 13650 13651 13652 13653 13654 13655 13656 13657 13658 13659 13660 13661 13662 13663 13664 13665 13666 13667 13668 13669 13670 13671 13672 13673 13674 13675 13676 13677 13678 13679 13680 13681 13682 13683 13684 13685 13686 13687 13688 13689 13690 13691 13692 13693 13694 13695 13696 13697 13698 13699 13700 13701 13702 13703 13704 13705 13706 13707 13708 13709 13710 13711 13712 13713 13714 13715 13716 13717 13718 13719 13720 13721 13722 13723 13724 13725 13726 13727 13728 13729 13730 13731 13732 13733 13734 13735 13736 13737 13738 13739 13740 13741 13742 13743 13744 13745 13746 13747 13748 13749 13750 13751 13752 13753 13754 13755 13756 13757 13758 13759 13760 13761 13762 13763 13764 13765 13766 13767 13768 13769 13770 13771 13772 13773 13774 13775 13776 13777 13778 13779 13780 13781 13782 13783 13784 13785 13786 13787 13788 13789 13790 13791 13792 13793 13794 13795 13796 13797 13798 13799 13800 13801 13802 13803 13804 13805 13806 13807 13808 13809 13810 13811 13812 13813 13814 13815 13816 13817 13818 13819 13820 13821 13822 13823 13824 13825 13826 13827 13828 13829 13830 13831 13832 13833 13834 13835 13836 13837 13838 13839 13840 13841 13842 13843 13844 13845 13846 13847 13848 13849 13850 13851 13852 13853 13854 13855 13856 13857 13858 13859 13860 13861 13862 13863 13864 13865 13866 13867 13868 13869 13870 13871 13872 13873 13874 13875 13876 13877 13878 13879 13880 13881 13882 13883 13884 13885 13886 13887 13888 13889 13890 13891 13892 13893 13894 13895 13896 13897 13898 13899 13900 13901 13902 13903 13904 13905 13906 13907 13908 13909 13910 13911 13912 13913 13914 13915 13916 13917 13918 13919 13920 13921 13922 13923 13924 13925 13926 13927 13928 13929 13930 13931 13932 13933 13934 13935 13936 13937 13938 13939 13940 13941 13942 13943 13944 13945 13946 13947 13948 13949 13950 13951 13952 13953 13954 13955 13956 13957 13958 13959 13960 13961 13962 13963 13964 13965 13966 13967 13968 13969 13970 13971 13972 13973 13974 13975 13976 13977 13978 13979 13980 13981 13982 13983 13984 13985 13986 13987 13988 13989 13990 13991 13992 13993 13994 13995 13996 13997 13998 13999 14000 14001 14002 14003 14004 14005 14006 14007 14008 14009 14010 14011 14012 14013 14014 14015 14016 14017 14018 14019 14020 14021 14022 14023 14024 14025 14026 14027 14028 14029 14030 14031 14032 14033 14034 14035 14036 14037 14038 14039 14040 14041 14042 14043 14044 14045 14046 14047 14048 14049 14050 14051 14052 14053 14054 14055 14056 14057 14058 14059 14060 14061 14062 14063 14064 14065 14066 14067 14068 14069 14070 14071 14072 14073 14074 14075 14076 14077 14078 14079 14080 14081 14082 14083 14084 14085 14086 14087 14088 14089 14090 14091 14092 14093 14094 14095 14096 14097 14098 14099 14100 14101 14102 14103 14104 14105 14106 14107 14108 14109 14110 14111 14112 14113 14114 14115 14116 14117 14118 14119 14120 14121 14122 14123 14124 14125 14126 14127 14128 14129 14130 14131 14132 14133 14134 14135 14136 14137 14138 14139 14140 14141 14142 14143 14144 14145 14146 14147 14148 14149 14150 14151 14152 14153 14154 14155 14156 14157 14158 14159 14160 14161 14162 14163 14164 14165 14166 14167 14168 14169 14170 14171 14172 14173 14174 14175 14176 14177 14178 14179 14180 14181 14182 14183 14184 14185 14186 14187 14188 14189 14190 14191 14192 14193 14194 14195 14196 14197 14198 14199 14200 14201 14202 14203 14204 14205 14206 14207 14208 14209 14210 14211 14212 14213 14214 14215 14216 14217 14218 14219 14220 14221 14222 14223 14224 14225 14226 14227 14228 14229 14230 14231 14232 14233 14234 14235 14236 14237 14238 14239 14240 14241 14242 14243 14244 14245 14246 "
          ]
        },
        {
          "ename": "KeyboardInterrupt",
          "evalue": "ignored",
          "output_type": "error",
          "traceback": [
            "\u001b[0;31m---------------------------------------------------------------------------\u001b[0m",
            "\u001b[0;31mKeyboardInterrupt\u001b[0m                         Traceback (most recent call last)",
            "\u001b[0;32m<ipython-input-15-98541daa8f89>\u001b[0m in \u001b[0;36m<cell line: 17>\u001b[0;34m()\u001b[0m\n\u001b[1;32m     15\u001b[0m     \u001b[0;32melse\u001b[0m\u001b[0;34m:\u001b[0m\u001b[0;34m\u001b[0m\u001b[0;34m\u001b[0m\u001b[0m\n\u001b[1;32m     16\u001b[0m       \u001b[0mprint\u001b[0m\u001b[0;34m(\u001b[0m\u001b[0mn\u001b[0m\u001b[0;34m,\u001b[0m\u001b[0mend\u001b[0m\u001b[0;34m=\u001b[0m\u001b[0;34m\" \"\u001b[0m\u001b[0;34m)\u001b[0m\u001b[0;34m\u001b[0m\u001b[0;34m\u001b[0m\u001b[0m\n\u001b[0;32m---> 17\u001b[0;31m \u001b[0mgrcc\u001b[0m\u001b[0;34m(\u001b[0m\u001b[0;36m21\u001b[0m\u001b[0;34m)\u001b[0m\u001b[0;34m\u001b[0m\u001b[0;34m\u001b[0m\u001b[0m\n\u001b[0m\u001b[1;32m     18\u001b[0m \u001b[0;34m\u001b[0m\u001b[0m\n\u001b[1;32m     19\u001b[0m \u001b[0;34m\u001b[0m\u001b[0m\n",
            "\u001b[0;32m<ipython-input-15-98541daa8f89>\u001b[0m in \u001b[0;36mgrcc\u001b[0;34m(n)\u001b[0m\n\u001b[1;32m     14\u001b[0m       \u001b[0mprint\u001b[0m\u001b[0;34m(\u001b[0m\u001b[0me\u001b[0m\u001b[0;34m.\u001b[0m\u001b[0mdisplay\u001b[0m\u001b[0;34m(\u001b[0m\u001b[0;34m)\u001b[0m\u001b[0;34m)\u001b[0m\u001b[0;34m\u001b[0m\u001b[0;34m\u001b[0m\u001b[0m\n\u001b[1;32m     15\u001b[0m     \u001b[0;32melse\u001b[0m\u001b[0;34m:\u001b[0m\u001b[0;34m\u001b[0m\u001b[0;34m\u001b[0m\u001b[0m\n\u001b[0;32m---> 16\u001b[0;31m       \u001b[0mprint\u001b[0m\u001b[0;34m(\u001b[0m\u001b[0mn\u001b[0m\u001b[0;34m,\u001b[0m\u001b[0mend\u001b[0m\u001b[0;34m=\u001b[0m\u001b[0;34m\" \"\u001b[0m\u001b[0;34m)\u001b[0m\u001b[0;34m\u001b[0m\u001b[0;34m\u001b[0m\u001b[0m\n\u001b[0m\u001b[1;32m     17\u001b[0m \u001b[0mgrcc\u001b[0m\u001b[0;34m(\u001b[0m\u001b[0;36m21\u001b[0m\u001b[0;34m)\u001b[0m\u001b[0;34m\u001b[0m\u001b[0;34m\u001b[0m\u001b[0m\n\u001b[1;32m     18\u001b[0m \u001b[0;34m\u001b[0m\u001b[0m\n",
            "\u001b[0;32m/usr/local/lib/python3.10/dist-packages/ipykernel/iostream.py\u001b[0m in \u001b[0;36mwrite\u001b[0;34m(self, string)\u001b[0m\n\u001b[1;32m    400\u001b[0m             \u001b[0mis_child\u001b[0m \u001b[0;34m=\u001b[0m \u001b[0;34m(\u001b[0m\u001b[0;32mnot\u001b[0m \u001b[0mself\u001b[0m\u001b[0;34m.\u001b[0m\u001b[0m_is_master_process\u001b[0m\u001b[0;34m(\u001b[0m\u001b[0;34m)\u001b[0m\u001b[0;34m)\u001b[0m\u001b[0;34m\u001b[0m\u001b[0;34m\u001b[0m\u001b[0m\n\u001b[1;32m    401\u001b[0m             \u001b[0;31m# only touch the buffer in the IO thread to avoid races\u001b[0m\u001b[0;34m\u001b[0m\u001b[0;34m\u001b[0m\u001b[0m\n\u001b[0;32m--> 402\u001b[0;31m             \u001b[0mself\u001b[0m\u001b[0;34m.\u001b[0m\u001b[0mpub_thread\u001b[0m\u001b[0;34m.\u001b[0m\u001b[0mschedule\u001b[0m\u001b[0;34m(\u001b[0m\u001b[0;32mlambda\u001b[0m \u001b[0;34m:\u001b[0m \u001b[0mself\u001b[0m\u001b[0;34m.\u001b[0m\u001b[0m_buffer\u001b[0m\u001b[0;34m.\u001b[0m\u001b[0mwrite\u001b[0m\u001b[0;34m(\u001b[0m\u001b[0mstring\u001b[0m\u001b[0;34m)\u001b[0m\u001b[0;34m)\u001b[0m\u001b[0;34m\u001b[0m\u001b[0;34m\u001b[0m\u001b[0m\n\u001b[0m\u001b[1;32m    403\u001b[0m             \u001b[0;32mif\u001b[0m \u001b[0mis_child\u001b[0m\u001b[0;34m:\u001b[0m\u001b[0;34m\u001b[0m\u001b[0;34m\u001b[0m\u001b[0m\n\u001b[1;32m    404\u001b[0m                 \u001b[0;31m# mp.Pool cannot be trusted to flush promptly (or ever),\u001b[0m\u001b[0;34m\u001b[0m\u001b[0;34m\u001b[0m\u001b[0m\n",
            "\u001b[0;32m/usr/local/lib/python3.10/dist-packages/ipykernel/iostream.py\u001b[0m in \u001b[0;36mschedule\u001b[0;34m(self, f)\u001b[0m\n\u001b[1;32m    201\u001b[0m             \u001b[0mself\u001b[0m\u001b[0;34m.\u001b[0m\u001b[0m_events\u001b[0m\u001b[0;34m.\u001b[0m\u001b[0mappend\u001b[0m\u001b[0;34m(\u001b[0m\u001b[0mf\u001b[0m\u001b[0;34m)\u001b[0m\u001b[0;34m\u001b[0m\u001b[0;34m\u001b[0m\u001b[0m\n\u001b[1;32m    202\u001b[0m             \u001b[0;31m# wake event thread (message content is ignored)\u001b[0m\u001b[0;34m\u001b[0m\u001b[0;34m\u001b[0m\u001b[0m\n\u001b[0;32m--> 203\u001b[0;31m             \u001b[0mself\u001b[0m\u001b[0;34m.\u001b[0m\u001b[0m_event_pipe\u001b[0m\u001b[0;34m.\u001b[0m\u001b[0msend\u001b[0m\u001b[0;34m(\u001b[0m\u001b[0;34mb''\u001b[0m\u001b[0;34m)\u001b[0m\u001b[0;34m\u001b[0m\u001b[0;34m\u001b[0m\u001b[0m\n\u001b[0m\u001b[1;32m    204\u001b[0m         \u001b[0;32melse\u001b[0m\u001b[0;34m:\u001b[0m\u001b[0;34m\u001b[0m\u001b[0;34m\u001b[0m\u001b[0m\n\u001b[1;32m    205\u001b[0m             \u001b[0mf\u001b[0m\u001b[0;34m(\u001b[0m\u001b[0;34m)\u001b[0m\u001b[0;34m\u001b[0m\u001b[0;34m\u001b[0m\u001b[0m\n",
            "\u001b[0;32m/usr/local/lib/python3.10/dist-packages/zmq/sugar/socket.py\u001b[0m in \u001b[0;36msend\u001b[0;34m(self, data, flags, copy, track, routing_id, group)\u001b[0m\n\u001b[1;32m    616\u001b[0m                 )\n\u001b[1;32m    617\u001b[0m             \u001b[0mdata\u001b[0m\u001b[0;34m.\u001b[0m\u001b[0mgroup\u001b[0m \u001b[0;34m=\u001b[0m \u001b[0mgroup\u001b[0m\u001b[0;34m\u001b[0m\u001b[0;34m\u001b[0m\u001b[0m\n\u001b[0;32m--> 618\u001b[0;31m         \u001b[0;32mreturn\u001b[0m \u001b[0msuper\u001b[0m\u001b[0;34m(\u001b[0m\u001b[0;34m)\u001b[0m\u001b[0;34m.\u001b[0m\u001b[0msend\u001b[0m\u001b[0;34m(\u001b[0m\u001b[0mdata\u001b[0m\u001b[0;34m,\u001b[0m \u001b[0mflags\u001b[0m\u001b[0;34m=\u001b[0m\u001b[0mflags\u001b[0m\u001b[0;34m,\u001b[0m \u001b[0mcopy\u001b[0m\u001b[0;34m=\u001b[0m\u001b[0mcopy\u001b[0m\u001b[0;34m,\u001b[0m \u001b[0mtrack\u001b[0m\u001b[0;34m=\u001b[0m\u001b[0mtrack\u001b[0m\u001b[0;34m)\u001b[0m\u001b[0;34m\u001b[0m\u001b[0;34m\u001b[0m\u001b[0m\n\u001b[0m\u001b[1;32m    619\u001b[0m \u001b[0;34m\u001b[0m\u001b[0m\n\u001b[1;32m    620\u001b[0m     def send_multipart(\n",
            "\u001b[0;32mzmq/backend/cython/socket.pyx\u001b[0m in \u001b[0;36mzmq.backend.cython.socket.Socket.send\u001b[0;34m()\u001b[0m\n",
            "\u001b[0;32mzmq/backend/cython/socket.pyx\u001b[0m in \u001b[0;36mzmq.backend.cython.socket.Socket.send\u001b[0;34m()\u001b[0m\n",
            "\u001b[0;32mzmq/backend/cython/socket.pyx\u001b[0m in \u001b[0;36mzmq.backend.cython.socket._send_copy\u001b[0;34m()\u001b[0m\n",
            "\u001b[0;32m/usr/local/lib/python3.10/dist-packages/zmq/backend/cython/checkrc.pxd\u001b[0m in \u001b[0;36mzmq.backend.cython.checkrc._check_rc\u001b[0;34m()\u001b[0m\n",
            "\u001b[0;31mKeyboardInterrupt\u001b[0m: "
          ]
        }
      ],
      "source": [
        "class StopIteration(Exception):\n",
        "  def display(self):\n",
        "    print(\"wow stop it\")\n",
        "def grcc(n):\n",
        "  while 1:\n",
        "    i=0\n",
        "    try:\n",
        "      i+=1\n",
        "      n+=1\n",
        "      if i>20:\n",
        "        raise StopIteration\n",
        "        break\n",
        "    except StopIteration as e:\n",
        "      print(e.display())\n",
        "    else:\n",
        "      print(n,end=\" \")\n",
        "grcc(21)\n",
        "\n",
        "\n"
      ]
    },
    {
      "cell_type": "code",
      "execution_count": null,
      "metadata": {
        "colab": {
          "base_uri": "https://localhost:8080/",
          "height": 314
        },
        "id": "xeM9wA3QgG8o",
        "outputId": "18b3353d-ba3f-46b9-c483-7b07e28a5107"
      },
      "outputs": [
        {
          "ename": "NameError",
          "evalue": "ignored",
          "output_type": "error",
          "traceback": [
            "\u001b[0;31m---------------------------------------------------------------------------\u001b[0m",
            "\u001b[0;31mNameError\u001b[0m                                 Traceback (most recent call last)",
            "\u001b[0;32m<ipython-input-16-01c54295c918>\u001b[0m in \u001b[0;36m<cell line: 18>\u001b[0;34m()\u001b[0m\n\u001b[1;32m     16\u001b[0m     \u001b[0;32melse\u001b[0m\u001b[0;34m:\u001b[0m\u001b[0;34m\u001b[0m\u001b[0;34m\u001b[0m\u001b[0m\n\u001b[1;32m     17\u001b[0m       \u001b[0mprintss\u001b[0m\u001b[0;34m(\u001b[0m\u001b[0mn\u001b[0m\u001b[0;34m,\u001b[0m\u001b[0mend\u001b[0m\u001b[0;34m=\u001b[0m\u001b[0;34m\" \"\u001b[0m\u001b[0;34m)\u001b[0m\u001b[0;34m\u001b[0m\u001b[0;34m\u001b[0m\u001b[0m\n\u001b[0;32m---> 18\u001b[0;31m \u001b[0mgrcc\u001b[0m\u001b[0;34m(\u001b[0m\u001b[0;36m20\u001b[0m\u001b[0;34m)\u001b[0m\u001b[0;34m\u001b[0m\u001b[0;34m\u001b[0m\u001b[0m\n\u001b[0m",
            "\u001b[0;32m<ipython-input-16-01c54295c918>\u001b[0m in \u001b[0;36mgrcc\u001b[0;34m(n)\u001b[0m\n\u001b[1;32m     15\u001b[0m       \u001b[0mprint\u001b[0m\u001b[0;34m(\u001b[0m\u001b[0me\u001b[0m\u001b[0;34m.\u001b[0m\u001b[0mdisplay\u001b[0m\u001b[0;34m(\u001b[0m\u001b[0;34m)\u001b[0m\u001b[0;34m)\u001b[0m\u001b[0;34m\u001b[0m\u001b[0;34m\u001b[0m\u001b[0m\n\u001b[1;32m     16\u001b[0m     \u001b[0;32melse\u001b[0m\u001b[0;34m:\u001b[0m\u001b[0;34m\u001b[0m\u001b[0;34m\u001b[0m\u001b[0m\n\u001b[0;32m---> 17\u001b[0;31m       \u001b[0mprintss\u001b[0m\u001b[0;34m(\u001b[0m\u001b[0mn\u001b[0m\u001b[0;34m,\u001b[0m\u001b[0mend\u001b[0m\u001b[0;34m=\u001b[0m\u001b[0;34m\" \"\u001b[0m\u001b[0;34m)\u001b[0m\u001b[0;34m\u001b[0m\u001b[0;34m\u001b[0m\u001b[0m\n\u001b[0m\u001b[1;32m     18\u001b[0m \u001b[0mgrcc\u001b[0m\u001b[0;34m(\u001b[0m\u001b[0;36m20\u001b[0m\u001b[0;34m)\u001b[0m\u001b[0;34m\u001b[0m\u001b[0;34m\u001b[0m\u001b[0m\n",
            "\u001b[0;31mNameError\u001b[0m: name 'printss' is not defined"
          ]
        }
      ],
      "source": [
        "class StopIteration(Exception):\n",
        "  def display(self):\n",
        "    print(\"to hell stop\")\n",
        "    return \"\"\n",
        "def grcc(n):\n",
        "  i=0\n",
        "  while 1:\n",
        "    try:\n",
        "     i+=1\n",
        "     n+=1\n",
        "     if i>20:\n",
        "       raise StopIteration\n",
        "       break\n",
        "    except StopIteration as e:\n",
        "      print(e.display())\n",
        "    else:\n",
        "      printss(n,end=\" \")\n",
        "grcc(20)\n"
      ]
    },
    {
      "cell_type": "code",
      "execution_count": null,
      "metadata": {
        "colab": {
          "base_uri": "https://localhost:8080/"
        },
        "id": "NuvzCbgqqQyo",
        "outputId": "91d7b3c0-13a1-4e63-cda6-9ce5dac26bb9"
      },
      "outputs": [
        {
          "name": "stdout",
          "output_type": "stream",
          "text": [
            "21 22 23 24 25 26 27 28 29 30 31 32 33 34 35 36 37 38 39 40 \n",
            "\n",
            "Stop iteration\n",
            "\n"
          ]
        }
      ],
      "source": [
        "class StopIteration(Exception):\n",
        "  def display(self):\n",
        "    print(\"Stop iteration\")\n",
        "    return \"\"\n",
        "def gmcc(n):\n",
        "  i=0\n",
        "  while 1:\n",
        "    try:\n",
        "      i+=1\n",
        "      n+=1\n",
        "      if i>20:\n",
        "        raise StopIteration\n",
        "    except StopIteration as e:\n",
        "      print(\"\\n\")\n",
        "      print(e.display())\n",
        "      break\n",
        "    else:\n",
        "      print(n,end=\" \")\n",
        "gmcc(20)"
      ]
    },
    {
      "cell_type": "code",
      "execution_count": null,
      "metadata": {
        "id": "msLSPERZ_HiM"
      },
      "outputs": [],
      "source": []
    },
    {
      "cell_type": "code",
      "execution_count": null,
      "metadata": {
        "colab": {
          "base_uri": "https://localhost:8080/",
          "height": 459
        },
        "id": "wUq4cwwgt5FZ",
        "outputId": "64400321-14b2-4219-b97d-3cac1bb01edd"
      },
      "outputs": [
        {
          "name": "stdout",
          "output_type": "stream",
          "text": [
            "21 22 23 24 25 26 27 28 29 30 31 32 33 34 35 36 37 38 39 40 "
          ]
        },
        {
          "ename": "NameError",
          "evalue": "ignored",
          "output_type": "error",
          "traceback": [
            "\u001b[0;31m---------------------------------------------------------------------------\u001b[0m",
            "\u001b[0;31mNameError\u001b[0m                                 Traceback (most recent call last)",
            "\u001b[0;32m<ipython-input-2-f966c3da7fe2>\u001b[0m in \u001b[0;36mgmcc\u001b[0;34m(n)\u001b[0m\n\u001b[1;32m      7\u001b[0m      \u001b[0;32mif\u001b[0m \u001b[0mi\u001b[0m\u001b[0;34m>\u001b[0m\u001b[0;36m20\u001b[0m\u001b[0;34m:\u001b[0m\u001b[0;34m\u001b[0m\u001b[0;34m\u001b[0m\u001b[0m\n\u001b[0;32m----> 8\u001b[0;31m        \u001b[0;32mraise\u001b[0m \u001b[0mStopIteration1\u001b[0m\u001b[0;34m\u001b[0m\u001b[0;34m\u001b[0m\u001b[0m\n\u001b[0m\u001b[1;32m      9\u001b[0m    \u001b[0;32mexcept\u001b[0m \u001b[0mStopIteration1\u001b[0m\u001b[0;34m:\u001b[0m\u001b[0;34m\u001b[0m\u001b[0;34m\u001b[0m\u001b[0m\n",
            "\u001b[0;31mNameError\u001b[0m: name 'StopIteration1' is not defined",
            "\nDuring handling of the above exception, another exception occurred:\n",
            "\u001b[0;31mNameError\u001b[0m                                 Traceback (most recent call last)",
            "\u001b[0;32m<ipython-input-2-f966c3da7fe2>\u001b[0m in \u001b[0;36m<cell line: 13>\u001b[0;34m()\u001b[0m\n\u001b[1;32m     11\u001b[0m    \u001b[0;32melse\u001b[0m\u001b[0;34m:\u001b[0m\u001b[0;34m\u001b[0m\u001b[0;34m\u001b[0m\u001b[0m\n\u001b[1;32m     12\u001b[0m     \u001b[0mprint\u001b[0m\u001b[0;34m(\u001b[0m\u001b[0mn\u001b[0m\u001b[0;34m,\u001b[0m\u001b[0mend\u001b[0m\u001b[0;34m=\u001b[0m\u001b[0;34m\" \"\u001b[0m\u001b[0;34m)\u001b[0m\u001b[0;34m\u001b[0m\u001b[0;34m\u001b[0m\u001b[0m\n\u001b[0;32m---> 13\u001b[0;31m \u001b[0mgmcc\u001b[0m\u001b[0;34m(\u001b[0m\u001b[0;36m20\u001b[0m\u001b[0;34m)\u001b[0m\u001b[0;34m\u001b[0m\u001b[0;34m\u001b[0m\u001b[0m\n\u001b[0m",
            "\u001b[0;32m<ipython-input-2-f966c3da7fe2>\u001b[0m in \u001b[0;36mgmcc\u001b[0;34m(n)\u001b[0m\n\u001b[1;32m      7\u001b[0m      \u001b[0;32mif\u001b[0m \u001b[0mi\u001b[0m\u001b[0;34m>\u001b[0m\u001b[0;36m20\u001b[0m\u001b[0;34m:\u001b[0m\u001b[0;34m\u001b[0m\u001b[0;34m\u001b[0m\u001b[0m\n\u001b[1;32m      8\u001b[0m        \u001b[0;32mraise\u001b[0m \u001b[0mStopIteration1\u001b[0m\u001b[0;34m\u001b[0m\u001b[0;34m\u001b[0m\u001b[0m\n\u001b[0;32m----> 9\u001b[0;31m    \u001b[0;32mexcept\u001b[0m \u001b[0mStopIteration1\u001b[0m\u001b[0;34m:\u001b[0m\u001b[0;34m\u001b[0m\u001b[0;34m\u001b[0m\u001b[0m\n\u001b[0m\u001b[1;32m     10\u001b[0m      \u001b[0;32mbreak\u001b[0m\u001b[0;34m\u001b[0m\u001b[0;34m\u001b[0m\u001b[0m\n\u001b[1;32m     11\u001b[0m    \u001b[0;32melse\u001b[0m\u001b[0;34m:\u001b[0m\u001b[0;34m\u001b[0m\u001b[0;34m\u001b[0m\u001b[0m\n",
            "\u001b[0;31mNameError\u001b[0m: name 'StopIteration1' is not defined"
          ]
        }
      ],
      "source": [
        "def gmcc(n):\n",
        "  i=0\n",
        "  while 1:\n",
        "   try:\n",
        "     i+=1\n",
        "     n+=1\n",
        "     if i>20:\n",
        "       raise StopIteration1\n",
        "   except StopIteration1:\n",
        "     break\n",
        "   else:\n",
        "    print(n,end=\" \")\n",
        "gmcc(20)"
      ]
    },
    {
      "cell_type": "code",
      "execution_count": null,
      "metadata": {
        "colab": {
          "base_uri": "https://localhost:8080/"
        },
        "id": "DvZ_upn1d3_J",
        "outputId": "1b16291a-7f7b-437d-dfba-149d5835eac4"
      },
      "outputs": [
        {
          "name": "stdout",
          "output_type": "stream",
          "text": [
            "21 22 23 24 25 26 27 28 29 30 31 32 33 34 35 36 37 38 39 40 \n",
            "\n",
            "what a match\n"
          ]
        }
      ],
      "source": [
        "def gann(n):\n",
        "  i=0\n",
        "  while 1:\n",
        "    try:\n",
        "     i+=1\n",
        "     n+=1\n",
        "     if i>20:\n",
        "       raise Exception(\"what a match\")\n",
        "    except Exception as e:\n",
        "      print(\"\\n\")\n",
        "      print(e)\n",
        "      break\n",
        "    else:\n",
        "      print(n,end=\" \")\n",
        "gann(20)\n"
      ]
    },
    {
      "cell_type": "code",
      "execution_count": null,
      "metadata": {
        "id": "LvBlXiKpjWm0"
      },
      "outputs": [],
      "source": [
        "def gann(n):\n",
        "  i=0\n",
        "  while 1:\n",
        "    try:\n",
        "      i+=1\n",
        "      n+=1\n",
        "      if i1>20:\n",
        "        raise Exception\n",
        "    except Exception as e:\n",
        "      break\n",
        "    else:\n",
        "      print(n,end=\" \")\n",
        "gann(20)"
      ]
    },
    {
      "cell_type": "code",
      "execution_count": null,
      "metadata": {
        "id": "ZUDfemb5_I3Z"
      },
      "outputs": [],
      "source": [
        "#When you use specific exceptions, you can code what happens on encountering that certain error accordingly using exception handling, if we dont make a seperate exception\n",
        "# class , we wont be able to act specifically also specific custom errors would make the code more clear as to what our code is doing and understandable to the user."
      ]
    },
    {
      "cell_type": "code",
      "execution_count": null,
      "metadata": {
        "colab": {
          "base_uri": "https://localhost:8080/"
        },
        "id": "J_i1nXbHh9p2",
        "outputId": "9f21a144-1326-4180-ae20-308a54e140e0"
      },
      "outputs": [
        {
          "name": "stdout",
          "output_type": "stream",
          "text": [
            "name 'i1' is not defined\n"
          ]
        }
      ],
      "source": [
        "class Olympia(Exception):\n",
        "  def display(self):\n",
        "    print(\"kabu\")\n",
        "def gann(n):\n",
        "  i=0\n",
        "  while 1:\n",
        "    try:\n",
        "      i+=1\n",
        "      n+=1\n",
        "      if i1>20:\n",
        "        raise Olympia\n",
        "    except Olympia:\n",
        "      break\n",
        "    except Exception as e:\n",
        "      print(e)\n",
        "      break\n",
        "    else:\n",
        "      print(n,end=\" \")\n",
        "gann(21)\n"
      ]
    },
    {
      "cell_type": "code",
      "execution_count": null,
      "metadata": {
        "colab": {
          "base_uri": "https://localhost:8080/"
        },
        "id": "64JehscHoklO",
        "outputId": "03388a1e-9fe4-41c4-8b5d-a0004a71a04d"
      },
      "outputs": [
        {
          "name": "stdout",
          "output_type": "stream",
          "text": [
            "22 23 24 25 26 27 28 29 30 31 32 33 34 35 36 37 38 39 40 41 "
          ]
        }
      ],
      "source": [
        "class Olympia(Exception):\n",
        "  def display(self):\n",
        "    print(\"kabu\")\n",
        "def gann(n):\n",
        "  i=0\n",
        "  while 1:\n",
        "    try:\n",
        "      i+=1\n",
        "      n+=1\n",
        "      if i>20:\n",
        "        raise Olympia\n",
        "    except Olympia:\n",
        "      break\n",
        "    except Exception as e:\n",
        "      print(e)\n",
        "      break\n",
        "    else:\n",
        "      print(n,end=\" \")\n",
        "gann(21)\n",
        "#There are few advantages of customized Exceptions firstly it makes our code clear and specific, the moment someone reads our code set he/she can understand the code easily\n",
        "# Secondly for every error a specific set of action needs to be followed. Hence different errorr have to be customized differently and for that we need to make seperate exception classes\n",
        "# with respect to each exception"
      ]
    },
    {
      "cell_type": "code",
      "execution_count": null,
      "metadata": {
        "id": "xOKtrGCwI6Ts"
      },
      "outputs": [],
      "source": [
        "#Programatically speaking Namespaces are dictionaries of identifiers(keys) and their objects(values).\n",
        "# Builtin Namespace, Global Namespace, Enclosing Namespace and Local Namespaces. A namespace is a space that holds names(identifiers)\n",
        "# Suppose we have written a function where a and b are 2 identifiers and a=2,b=4 then the namespace of that program will be {a:2,b:4} where identifiers will become keys and the objects\n",
        "# to which these identifiers are referencing will become values"
      ]
    },
    {
      "cell_type": "code",
      "execution_count": null,
      "metadata": {
        "colab": {
          "base_uri": "https://localhost:8080/"
        },
        "id": "5GqAhpZuYHiS",
        "outputId": "573046b0-3e0a-4774-9afd-c7955d750b98"
      },
      "outputs": [
        {
          "name": "stdout",
          "output_type": "stream",
          "text": [
            "5\n"
          ]
        }
      ],
      "source": [
        "#A scope is a textual region in a Python program where a namespace is directly accessible\n",
        "def add(x,y):\n",
        "  print(x+y)\n",
        "a=2\n",
        "b=3\n",
        "add(2,3)\n",
        "# here the global namespace will have 3 key-value pairs add,a,b and add namespace will have 2 key-value pairs x=2,y=3....add will have a reference value as its value, reference value\n",
        "# of the address where add(x,y) is present\n",
        "# value of x,y cannot be accessed within the global namespace"
      ]
    },
    {
      "cell_type": "code",
      "execution_count": null,
      "metadata": {
        "colab": {
          "base_uri": "https://localhost:8080/"
        },
        "id": "zIOGuXI6zBfJ",
        "outputId": "bc12bfa7-55c2-4be7-cdd1-75f2ff7f04aa"
      },
      "outputs": [
        {
          "name": "stdout",
          "output_type": "stream",
          "text": [
            "3\n",
            "2\n"
          ]
        }
      ],
      "source": [
        "#Function scope is local scope, whereas programme scope is Global scope\n",
        "a=2\n",
        "def gcc():\n",
        "  a=3\n",
        "  print(a)\n",
        "gcc()\n",
        "print(a)\n",
        "# As you can see we can have variables with the same name in global and local scope and yet we wont receive any error"
      ]
    },
    {
      "cell_type": "code",
      "execution_count": null,
      "metadata": {
        "colab": {
          "base_uri": "https://localhost:8080/"
        },
        "id": "5sLQz27yTKlh",
        "outputId": "c301dcaf-98b5-496d-ffae-48d567a2c1b5"
      },
      "outputs": [
        {
          "name": "stdout",
          "output_type": "stream",
          "text": [
            "2\n",
            "2\n"
          ]
        }
      ],
      "source": [
        "a=2\n",
        "def gcc():\n",
        "  print(a)\n",
        "gcc()\n",
        "print(a)\n",
        "# As you can see if a variable is not found in local scope, it is searched for in the global scope, if not found there too then we get NameError\n"
      ]
    },
    {
      "cell_type": "code",
      "execution_count": null,
      "metadata": {
        "colab": {
          "base_uri": "https://localhost:8080/",
          "height": 349
        },
        "id": "o4sbff4uZ6qZ",
        "outputId": "8630d935-8550-4d0b-d829-e94d7c75b058"
      },
      "outputs": [
        {
          "ename": "UnboundLocalError",
          "evalue": "ignored",
          "output_type": "error",
          "traceback": [
            "\u001b[0;31m---------------------------------------------------------------------------\u001b[0m",
            "\u001b[0;31mUnboundLocalError\u001b[0m                         Traceback (most recent call last)",
            "\u001b[0;32m<ipython-input-1-f56d9673d584>\u001b[0m in \u001b[0;36m<cell line: 5>\u001b[0;34m()\u001b[0m\n\u001b[1;32m      3\u001b[0m   \u001b[0ma\u001b[0m\u001b[0;34m+=\u001b[0m\u001b[0;36m1\u001b[0m\u001b[0;34m\u001b[0m\u001b[0;34m\u001b[0m\u001b[0m\n\u001b[1;32m      4\u001b[0m   \u001b[0mprint\u001b[0m\u001b[0;34m(\u001b[0m\u001b[0ma\u001b[0m\u001b[0;34m)\u001b[0m\u001b[0;34m\u001b[0m\u001b[0;34m\u001b[0m\u001b[0m\n\u001b[0;32m----> 5\u001b[0;31m \u001b[0mgcc\u001b[0m\u001b[0;34m(\u001b[0m\u001b[0;34m)\u001b[0m\u001b[0;34m\u001b[0m\u001b[0;34m\u001b[0m\u001b[0m\n\u001b[0m\u001b[1;32m      6\u001b[0m \u001b[0mprint\u001b[0m\u001b[0;34m(\u001b[0m\u001b[0ma\u001b[0m\u001b[0;34m)\u001b[0m\u001b[0;34m\u001b[0m\u001b[0;34m\u001b[0m\u001b[0m\n",
            "\u001b[0;32m<ipython-input-1-f56d9673d584>\u001b[0m in \u001b[0;36mgcc\u001b[0;34m()\u001b[0m\n\u001b[1;32m      1\u001b[0m \u001b[0ma\u001b[0m\u001b[0;34m=\u001b[0m\u001b[0;36m2\u001b[0m\u001b[0;34m\u001b[0m\u001b[0;34m\u001b[0m\u001b[0m\n\u001b[1;32m      2\u001b[0m \u001b[0;32mdef\u001b[0m \u001b[0mgcc\u001b[0m\u001b[0;34m(\u001b[0m\u001b[0;34m)\u001b[0m\u001b[0;34m:\u001b[0m\u001b[0;34m\u001b[0m\u001b[0;34m\u001b[0m\u001b[0m\n\u001b[0;32m----> 3\u001b[0;31m   \u001b[0ma\u001b[0m\u001b[0;34m+=\u001b[0m\u001b[0;36m1\u001b[0m\u001b[0;34m\u001b[0m\u001b[0;34m\u001b[0m\u001b[0m\n\u001b[0m\u001b[1;32m      4\u001b[0m   \u001b[0mprint\u001b[0m\u001b[0;34m(\u001b[0m\u001b[0ma\u001b[0m\u001b[0;34m)\u001b[0m\u001b[0;34m\u001b[0m\u001b[0;34m\u001b[0m\u001b[0m\n\u001b[1;32m      5\u001b[0m \u001b[0mgcc\u001b[0m\u001b[0;34m(\u001b[0m\u001b[0;34m)\u001b[0m\u001b[0;34m\u001b[0m\u001b[0;34m\u001b[0m\u001b[0m\n",
            "\u001b[0;31mUnboundLocalError\u001b[0m: local variable 'a' referenced before assignment"
          ]
        }
      ],
      "source": [
        "a=2\n",
        "def gcc():\n",
        "  a+=1\n",
        "  print(a)\n",
        "gcc()\n",
        "print(a)"
      ]
    },
    {
      "cell_type": "code",
      "execution_count": null,
      "metadata": {
        "colab": {
          "base_uri": "https://localhost:8080/"
        },
        "id": "13sjDiqyulT3",
        "outputId": "2ec7260d-7d71-4b37-c4ac-7e7ecc5007f6"
      },
      "outputs": [
        {
          "name": "stdout",
          "output_type": "stream",
          "text": [
            "3\n",
            "3\n"
          ]
        }
      ],
      "source": [
        "a=2\n",
        "def gcc():\n",
        "  global a\n",
        "  a+=1\n",
        "  print(a)\n",
        "gcc()\n",
        "print(a)\n",
        "# By accessing a global variable froma local space using global keyword, we can also change the value of those globalvariables which we otherwise cannot do normally"
      ]
    },
    {
      "cell_type": "code",
      "execution_count": null,
      "metadata": {
        "colab": {
          "base_uri": "https://localhost:8080/"
        },
        "id": "6856PxPb2kKK",
        "outputId": "8e231354-bd8c-4c37-96e2-2e06c941ad4d"
      },
      "outputs": [
        {
          "name": "stdout",
          "output_type": "stream",
          "text": [
            "2\n"
          ]
        }
      ],
      "source": [
        "def gcc1():\n",
        "  global a\n",
        "  a=2\n",
        "gcc1()\n",
        "print(a)\n",
        "# As we can see, we can also add new key value pairs to the global namespace from the local scope using global variablename ....using global keyword from the local scope"
      ]
    },
    {
      "cell_type": "code",
      "execution_count": null,
      "metadata": {
        "colab": {
          "base_uri": "https://localhost:8080/"
        },
        "id": "iw4Rmkpf4HBm",
        "outputId": "fc01b18d-8fba-4b8c-8c81-3d352ab3c014"
      },
      "outputs": [
        {
          "name": "stdout",
          "output_type": "stream",
          "text": [
            "5\n"
          ]
        }
      ],
      "source": [
        "def gcc(z):\n",
        "  print(z)\n",
        "a=5\n",
        "gcc(5)\n",
        "#as you can see here z is created in the local namespace within the local scope and it cannot be accessed from the global scope"
      ]
    },
    {
      "cell_type": "code",
      "execution_count": null,
      "metadata": {
        "colab": {
          "base_uri": "https://localhost:8080/",
          "height": 227
        },
        "id": "mwDxM_I-7-yE",
        "outputId": "ffac3773-8f13-425c-e5fe-01d876df485a"
      },
      "outputs": [
        {
          "name": "stdout",
          "output_type": "stream",
          "text": [
            "5\n"
          ]
        },
        {
          "ename": "NameError",
          "evalue": "ignored",
          "output_type": "error",
          "traceback": [
            "\u001b[0;31m---------------------------------------------------------------------------\u001b[0m",
            "\u001b[0;31mNameError\u001b[0m                                 Traceback (most recent call last)",
            "\u001b[0;32m<ipython-input-8-c0fb5c431bb0>\u001b[0m in \u001b[0;36m<cell line: 5>\u001b[0;34m()\u001b[0m\n\u001b[1;32m      3\u001b[0m \u001b[0ma\u001b[0m\u001b[0;34m=\u001b[0m\u001b[0;36m5\u001b[0m\u001b[0;34m\u001b[0m\u001b[0;34m\u001b[0m\u001b[0m\n\u001b[1;32m      4\u001b[0m \u001b[0mgcc\u001b[0m\u001b[0;34m(\u001b[0m\u001b[0;36m5\u001b[0m\u001b[0;34m)\u001b[0m\u001b[0;34m\u001b[0m\u001b[0;34m\u001b[0m\u001b[0m\n\u001b[0;32m----> 5\u001b[0;31m \u001b[0mprint\u001b[0m\u001b[0;34m(\u001b[0m\u001b[0mz\u001b[0m\u001b[0;34m)\u001b[0m\u001b[0;34m\u001b[0m\u001b[0;34m\u001b[0m\u001b[0m\n\u001b[0m",
            "\u001b[0;31mNameError\u001b[0m: name 'z' is not defined"
          ]
        }
      ],
      "source": [
        "def gcc(z):\n",
        "  print(z)\n",
        "a=5\n",
        "gcc(5)\n",
        "print(z)"
      ]
    },
    {
      "cell_type": "code",
      "execution_count": null,
      "metadata": {
        "colab": {
          "base_uri": "https://localhost:8080/",
          "height": 245
        },
        "id": "y2IF4hoH8GgE",
        "outputId": "ab164bd3-a4fa-4275-9695-0a5f47a38f9e"
      },
      "outputs": [
        {
          "ename": "TypeError",
          "evalue": "ignored",
          "output_type": "error",
          "traceback": [
            "\u001b[0;31m---------------------------------------------------------------------------\u001b[0m",
            "\u001b[0;31mTypeError\u001b[0m                                 Traceback (most recent call last)",
            "\u001b[0;32m<ipython-input-5-2215188f4feb>\u001b[0m in \u001b[0;36m<cell line: 2>\u001b[0;34m()\u001b[0m\n\u001b[1;32m      1\u001b[0m \u001b[0ml1\u001b[0m\u001b[0;34m=\u001b[0m\u001b[0;34m[\u001b[0m\u001b[0;36m1\u001b[0m\u001b[0;34m,\u001b[0m\u001b[0;36m2\u001b[0m\u001b[0;34m,\u001b[0m\u001b[0;36m3\u001b[0m\u001b[0;34m]\u001b[0m\u001b[0;34m\u001b[0m\u001b[0;34m\u001b[0m\u001b[0m\n\u001b[0;32m----> 2\u001b[0;31m \u001b[0mmax\u001b[0m\u001b[0;34m(\u001b[0m\u001b[0ml1\u001b[0m\u001b[0;34m)\u001b[0m\u001b[0;34m\u001b[0m\u001b[0;34m\u001b[0m\u001b[0m\n\u001b[0m\u001b[1;32m      3\u001b[0m \u001b[0;32mdef\u001b[0m \u001b[0mmax\u001b[0m\u001b[0;34m(\u001b[0m\u001b[0;34m)\u001b[0m\u001b[0;34m:\u001b[0m\u001b[0;34m\u001b[0m\u001b[0;34m\u001b[0m\u001b[0m\n\u001b[1;32m      4\u001b[0m   \u001b[0mprint\u001b[0m\u001b[0;34m(\u001b[0m\u001b[0;34m\"Hello\"\u001b[0m\u001b[0;34m)\u001b[0m\u001b[0;34m\u001b[0m\u001b[0;34m\u001b[0m\u001b[0m\n\u001b[1;32m      5\u001b[0m \u001b[0mmax\u001b[0m\u001b[0;34m(\u001b[0m\u001b[0ml1\u001b[0m\u001b[0;34m)\u001b[0m\u001b[0;34m\u001b[0m\u001b[0;34m\u001b[0m\u001b[0m\n",
            "\u001b[0;31mTypeError\u001b[0m: max() takes 0 positional arguments but 1 was given"
          ]
        }
      ],
      "source": [
        "l1=[1,2,3]\n",
        "max(l1)\n",
        "def max():\n",
        "  print(\"Hello\")\n",
        "max(l1)\n",
        "# when you have already created a function in the global namespace, we don't need to look for it in the built-in namespace.\n",
        "# when we get a specific function in the global namespace itself, we wont have to search for it in built-in namespace\n",
        "# this code and error proves that when a function already exists in the global namespace, it is not looked for in the built-in namespace"
      ]
    },
    {
      "cell_type": "code",
      "execution_count": null,
      "metadata": {
        "id": "ShEEn9ll5bRx"
      },
      "outputs": [],
      "source": [
        "#LEGB rule in python local,enclosed,Global,Built-in\n",
        "#builtins module consists of all builtin function in python\n",
        "import builtins\n",
        "print(dir(builtins))"
      ]
    },
    {
      "cell_type": "code",
      "execution_count": null,
      "metadata": {
        "colab": {
          "base_uri": "https://localhost:8080/"
        },
        "id": "gO76OiV1HCgG",
        "outputId": "099a90d2-9f9d-456c-befe-f2ca2bfdfd89"
      },
      "outputs": [
        {
          "name": "stdout",
          "output_type": "stream",
          "text": [
            "This is inner\n",
            "This is outer\n",
            "This is main programe\n"
          ]
        }
      ],
      "source": [
        "def outer():\n",
        "  def inner():\n",
        "    print(\"This is inner\")\n",
        "  inner()\n",
        "  print(\"This is outer\")\n",
        "outer()\n",
        "print(\"This is main programe\")\n",
        "# The outer scope is the Enclosed scope actually"
      ]
    },
    {
      "cell_type": "code",
      "execution_count": null,
      "metadata": {
        "colab": {
          "base_uri": "https://localhost:8080/"
        },
        "id": "A8IhXJhhLbxB",
        "outputId": "09e960fa-45ab-45d0-8008-69f8b8ba5c05"
      },
      "outputs": [
        {
          "name": "stdout",
          "output_type": "stream",
          "text": [
            "4\n"
          ]
        }
      ],
      "source": [
        "def outer():\n",
        "  a=3\n",
        "  def inner():\n",
        "    a=4\n",
        "    print(a)\n",
        "  inner()\n",
        "a=1\n",
        "outer()"
      ]
    },
    {
      "cell_type": "code",
      "execution_count": null,
      "metadata": {
        "colab": {
          "base_uri": "https://localhost:8080/"
        },
        "id": "HKI172IVSRg2",
        "outputId": "7160aaa8-dca9-4964-c7a2-7e3c854e2f1c"
      },
      "outputs": [
        {
          "name": "stdout",
          "output_type": "stream",
          "text": [
            "3\n"
          ]
        }
      ],
      "source": [
        "def outer():\n",
        "  a=3\n",
        "  def inner():\n",
        "    print(a)\n",
        "  inner()\n",
        "a=1\n",
        "outer()"
      ]
    },
    {
      "cell_type": "code",
      "execution_count": null,
      "metadata": {
        "colab": {
          "base_uri": "https://localhost:8080/"
        },
        "id": "l7Ku79n3Tq9u",
        "outputId": "20db3a72-5c07-4a19-f336-3790ef184ab3"
      },
      "outputs": [
        {
          "name": "stdout",
          "output_type": "stream",
          "text": [
            "1\n"
          ]
        }
      ],
      "source": [
        "def outer():\n",
        "  def inner():\n",
        "    print(a)\n",
        "  inner()\n",
        "a=1\n",
        "outer()\n",
        "# as you can see python follows LEGB rule, if a variable is not found within local scope, it is searched for in enclosed scope, then it is searched for in global scope and if it is\n",
        "# not found in global scope then we search for it in Builtin scope. if found nowhere then we get error message(Name Error message)"
      ]
    },
    {
      "cell_type": "code",
      "execution_count": null,
      "metadata": {
        "colab": {
          "base_uri": "https://localhost:8080/"
        },
        "id": "ftS92JSvX-mC",
        "outputId": "c0eaa885-24af-4583-8aeb-307de99f472b"
      },
      "outputs": [
        {
          "name": "stdout",
          "output_type": "stream",
          "text": [
            "2  inner program\n",
            "2  outer programme\n"
          ]
        }
      ],
      "source": [
        "def outer():\n",
        "  a=1\n",
        "  def inner():\n",
        "    nonlocal a\n",
        "    a+=1\n",
        "    print(a,\" inner program\")\n",
        "  inner()\n",
        "  print(a,\" outer programme\")\n",
        "outer()\n",
        "# as we can see here we can change the value of a variable declared within the enclosed scope from local scope using nonlocal keyword as seen above\n",
        "# Also in python if-else blocks or while loops or for loops dont create a seperate blocks(namespace), variables within them are part of global namespace"
      ]
    },
    {
      "cell_type": "code",
      "execution_count": null,
      "metadata": {
        "colab": {
          "base_uri": "https://localhost:8080/",
          "height": 245
        },
        "id": "lIwuiehyhLiB",
        "outputId": "0dce884b-e94f-4022-cb36-432242fb79dd"
      },
      "outputs": [
        {
          "ename": "TypeError",
          "evalue": "ignored",
          "output_type": "error",
          "traceback": [
            "\u001b[0;31m---------------------------------------------------------------------------\u001b[0m",
            "\u001b[0;31mTypeError\u001b[0m                                 Traceback (most recent call last)",
            "\u001b[0;32m<ipython-input-17-e61161d58da2>\u001b[0m in \u001b[0;36m<cell line: 2>\u001b[0;34m()\u001b[0m\n\u001b[1;32m      1\u001b[0m \u001b[0ml1\u001b[0m\u001b[0;34m=\u001b[0m\u001b[0;34m[\u001b[0m\u001b[0;36m1\u001b[0m\u001b[0;34m,\u001b[0m\u001b[0;36m2\u001b[0m\u001b[0;34m,\u001b[0m\u001b[0;36m3\u001b[0m\u001b[0;34m]\u001b[0m\u001b[0;34m\u001b[0m\u001b[0;34m\u001b[0m\u001b[0m\n\u001b[0;32m----> 2\u001b[0;31m \u001b[0mprint\u001b[0m\u001b[0;34m(\u001b[0m\u001b[0mmax\u001b[0m\u001b[0;34m(\u001b[0m\u001b[0ml1\u001b[0m\u001b[0;34m)\u001b[0m\u001b[0;34m)\u001b[0m\u001b[0;34m\u001b[0m\u001b[0;34m\u001b[0m\u001b[0m\n\u001b[0m\u001b[1;32m      3\u001b[0m \u001b[0;32mdef\u001b[0m \u001b[0mmax\u001b[0m\u001b[0;34m(\u001b[0m\u001b[0;34m)\u001b[0m\u001b[0;34m:\u001b[0m\u001b[0;34m\u001b[0m\u001b[0;34m\u001b[0m\u001b[0m\n\u001b[1;32m      4\u001b[0m   \u001b[0mprint\u001b[0m\u001b[0;34m(\u001b[0m\u001b[0;34m\"hello\"\u001b[0m\u001b[0;34m)\u001b[0m\u001b[0;34m\u001b[0m\u001b[0;34m\u001b[0m\u001b[0m\n\u001b[1;32m      5\u001b[0m \u001b[0mprint\u001b[0m\u001b[0;34m(\u001b[0m\u001b[0mmax\u001b[0m\u001b[0;34m(\u001b[0m\u001b[0ml1\u001b[0m\u001b[0;34m)\u001b[0m\u001b[0;34m)\u001b[0m\u001b[0;34m\u001b[0m\u001b[0;34m\u001b[0m\u001b[0m\n",
            "\u001b[0;31mTypeError\u001b[0m: max() takes 0 positional arguments but 1 was given"
          ]
        }
      ],
      "source": [
        "l1=[1,2,3]\n",
        "print(max(l1))\n",
        "def max():\n",
        "  print(\"hello\")\n",
        "print(max(l1))\n",
        "# we get 3 printed here at first in the first print statement as by then the max function hasnot been defined in global scope, so we search for max function in the builtin scope\n",
        "# find the answer and return the answer but the second statement would give the TypeError as by now the max function has been defined within the global scope and programme will not go\n",
        "# into builtins scope to find it"
      ]
    },
    {
      "cell_type": "code",
      "execution_count": null,
      "metadata": {
        "colab": {
          "base_uri": "https://localhost:8080/"
        },
        "id": "jAWp0paN8ISL",
        "outputId": "db808d4f-97af-4115-ea4a-e7f086ec91af"
      },
      "outputs": [
        {
          "data": {
            "text/plain": [
              "11"
            ]
          },
          "execution_count": 2,
          "metadata": {},
          "output_type": "execute_result"
        }
      ],
      "source": [
        "#In python, functions are first class citizens meaning they can be stored, deleted, passed on as arguments to another functions and returned by another function\n",
        "# A decorator in python is a function that accepts another function as input, adds some functionality(decoration) to it and returns it\n",
        "#class method is called on the class itself, has access to the class and class-level data, can modify or access the class level data, takes class as the first parameter, which is\n",
        "# typically named as cls\n",
        "# 1)Class method is called on the class itself\n",
        "# 2)class method has access to class and class-level data\n",
        "# 3)Take the class as its first parameter by convention\n",
        "class shami:\n",
        "  class_variable=10\n",
        "  @classmethod\n",
        "  def class_method(cls):\n",
        "    cls.class_variable+=1\n",
        "shami.class_method()\n",
        "shami.class_variable\n",
        "# class method is called on classes, takes the class as its first parameters, can access class and class variables"
      ]
    },
    {
      "cell_type": "code",
      "execution_count": null,
      "metadata": {
        "id": "Jw6J54IxtlNm"
      },
      "outputs": [],
      "source": [
        "#static methods can be called on by classes or instances of classes, donot take classes of instances of class as parameters , dont have access to class or instance variables\n"
      ]
    },
    {
      "cell_type": "code",
      "execution_count": null,
      "metadata": {
        "colab": {
          "base_uri": "https://localhost:8080/"
        },
        "id": "rP6oZVvzu5Kn",
        "outputId": "2637df06-0c9c-4444-92b6-e35830084cb5"
      },
      "outputs": [
        {
          "data": {
            "text/plain": [
              "8"
            ]
          },
          "execution_count": 4,
          "metadata": {},
          "output_type": "execute_result"
        }
      ],
      "source": [
        "class shami1:\n",
        "  class_variable=10\n",
        "  @staticmethod\n",
        "  def shambhu(x,y):\n",
        "    return x+y\n",
        "shami1.shambhu(3,5)"
      ]
    },
    {
      "cell_type": "code",
      "execution_count": null,
      "metadata": {
        "colab": {
          "base_uri": "https://localhost:8080/"
        },
        "id": "cY4zRcDjvIPR",
        "outputId": "8d0cd27c-0ee4-4662-df1a-6301bea85884"
      },
      "outputs": [
        {
          "data": {
            "text/plain": [
              "8"
            ]
          },
          "execution_count": 5,
          "metadata": {},
          "output_type": "execute_result"
        }
      ],
      "source": [
        "cds=shami1()\n",
        "cds.shambhu(3,5)"
      ]
    },
    {
      "cell_type": "code",
      "execution_count": null,
      "metadata": {
        "colab": {
          "base_uri": "https://localhost:8080/"
        },
        "id": "Exv2NqRgvU5N",
        "outputId": "e3e24519-c068-4e67-883c-151866ca15fc"
      },
      "outputs": [
        {
          "name": "stdout",
          "output_type": "stream",
          "text": [
            "hello\n"
          ]
        }
      ],
      "source": [
        "#if a method is defined as abstract method in base classes then they must be implemented in subclasses as well....otherwise it will give error\n",
        "from abc import ABC,abstractmethod\n",
        "class myabstractclass(ABC):\n",
        "  @abstractmethod\n",
        "  def amin(self):\n",
        "    pass\n",
        "class mine(myabstractclass):\n",
        "  def amin(self):\n",
        "    print(\"hello\")\n",
        "amn=mine()\n",
        "amn.amin()"
      ]
    },
    {
      "cell_type": "code",
      "execution_count": null,
      "metadata": {
        "colab": {
          "base_uri": "https://localhost:8080/",
          "height": 36
        },
        "id": "2SyfffjXI-0f",
        "outputId": "2466528d-11cb-4d2a-b498-62124d22e773"
      },
      "outputs": [
        {
          "data": {
            "application/vnd.google.colaboratory.intrinsic+json": {
              "type": "string"
            },
            "text/plain": [
              "'hello'"
            ]
          },
          "execution_count": 10,
          "metadata": {},
          "output_type": "execute_result"
        }
      ],
      "source": [
        "#decorators are functions that take in other functions as inputs adds some functionality(decorates) as input and returns them\n",
        "# functions can be used as decorators as they are first class citizens in python meaning they can be passed to functions, can be returned by functions,\n",
        "# There are 2 types of decorators in python a.builtin decorators like @staticmethod, @abstractmethod,@classmethod and so on..... and second ones are user-defined decorators\n",
        "# functions are first class citizens because\n",
        "def func():\n",
        "  return \"hello\"\n",
        "a=func\n",
        "a()\n",
        "# here"
      ]
    },
    {
      "cell_type": "code",
      "execution_count": null,
      "metadata": {
        "colab": {
          "base_uri": "https://localhost:8080/",
          "height": 210
        },
        "id": "SXKZaI1SVmKB",
        "outputId": "a8c4d701-bbfd-4af7-c592-610173c97669"
      },
      "outputs": [
        {
          "ename": "NameError",
          "evalue": "ignored",
          "output_type": "error",
          "traceback": [
            "\u001b[0;31m---------------------------------------------------------------------------\u001b[0m",
            "\u001b[0;31mNameError\u001b[0m                                 Traceback (most recent call last)",
            "\u001b[0;32m<ipython-input-13-b269a1b03cee>\u001b[0m in \u001b[0;36m<cell line: 1>\u001b[0;34m()\u001b[0m\n\u001b[0;32m----> 1\u001b[0;31m \u001b[0;32mdel\u001b[0m \u001b[0mfunc\u001b[0m\u001b[0;34m\u001b[0m\u001b[0;34m\u001b[0m\u001b[0m\n\u001b[0m\u001b[1;32m      2\u001b[0m \u001b[0mfunc\u001b[0m\u001b[0;34m(\u001b[0m\u001b[0;34m)\u001b[0m\u001b[0;34m\u001b[0m\u001b[0;34m\u001b[0m\u001b[0m\n\u001b[1;32m      3\u001b[0m \u001b[0;31m# As you can see a function can be equated to another variable, a function can be deleted\u001b[0m\u001b[0;34m\u001b[0m\u001b[0;34m\u001b[0m\u001b[0m\n",
            "\u001b[0;31mNameError\u001b[0m: name 'func' is not defined"
          ]
        }
      ],
      "source": [
        "del func\n",
        "func()\n",
        "# As you can see a function can be equated to another variable, a function can be deleted"
      ]
    },
    {
      "cell_type": "code",
      "execution_count": null,
      "metadata": {
        "colab": {
          "base_uri": "https://localhost:8080/"
        },
        "id": "d1vOm3iaV0EH",
        "outputId": "ae18c95b-0924-4c02-9740-cb8450020e41"
      },
      "outputs": [
        {
          "data": {
            "text/plain": [
              "9"
            ]
          },
          "execution_count": 14,
          "metadata": {},
          "output_type": "execute_result"
        }
      ],
      "source": [
        "def moddd(func,num):\n",
        "  return func(num)\n",
        "def sqr(num):\n",
        "  return num**2\n",
        "moddd(sqr,3)"
      ]
    },
    {
      "cell_type": "code",
      "execution_count": null,
      "metadata": {
        "colab": {
          "base_uri": "https://localhost:8080/"
        },
        "id": "TBUeRKpBgAN2",
        "outputId": "64693197-9d87-4b67-88c3-a2e51a245d8a"
      },
      "outputs": [
        {
          "name": "stdout",
          "output_type": "stream",
          "text": [
            "*************\n",
            "hello\n",
            "***************\n"
          ]
        }
      ],
      "source": [
        "def decorator(func):\n",
        "  def wrapper():\n",
        "    print(\"*************\")\n",
        "    func()\n",
        "    print(\"***************\")\n",
        "  return wrapper\n",
        "def funcss():\n",
        "  print(\"hello\")\n",
        "l1=decorator(funcss)\n",
        "l1()"
      ]
    },
    {
      "cell_type": "code",
      "execution_count": null,
      "metadata": {
        "colab": {
          "base_uri": "https://localhost:8080/"
        },
        "id": "LQojSvI61TP8",
        "outputId": "b5479081-090e-457a-8a8d-80185d5b6841"
      },
      "outputs": [
        {
          "name": "stdout",
          "output_type": "stream",
          "text": [
            "******************\n",
            "Hello warrior\n",
            "******************\n"
          ]
        }
      ],
      "source": [
        "def decorator1(func):\n",
        "  def wrapper():\n",
        "    print(\"******************\")\n",
        "    func()\n",
        "    print(\"******************\")\n",
        "  return wrapper\n",
        "def mnss():\n",
        "  print(\"Hello warrior\")\n",
        "sm1=decorator1(mnss)\n",
        "sm1()"
      ]
    },
    {
      "cell_type": "code",
      "execution_count": null,
      "metadata": {
        "colab": {
          "base_uri": "https://localhost:8080/"
        },
        "id": "QufTokD32LUe",
        "outputId": "d86ad658-b2cf-44e9-e27d-27e7d8b64066"
      },
      "outputs": [
        {
          "name": "stdout",
          "output_type": "stream",
          "text": [
            "15\n"
          ]
        }
      ],
      "source": [
        "def outer(x):\n",
        "  def inner(y):\n",
        "    return x+y\n",
        "  return inner\n",
        "c1=outer(5)\n",
        "d1=c1(10)\n",
        "print(d1)\n",
        "# so as we can see x and inner keys are formed within the namespace of outer(outer scope) and even after the outer function is executed completely (inner is returned)\n",
        "# even after outer function is executed the inner function(which is contained in c1) still has access to variables declared within the scope of outer function like x\n",
        "# and so x+y gives 15. This is called closure property of python. In Python, closure property refers to the ability of nested function to access variables of its enclosing\n",
        "# function even after the execution of nested function has been completed."
      ]
    },
    {
      "cell_type": "code",
      "execution_count": null,
      "metadata": {
        "colab": {
          "base_uri": "https://localhost:8080/"
        },
        "id": "86X96GBzDFOo",
        "outputId": "4fa38655-1685-4731-9293-81d4676247cf"
      },
      "outputs": [
        {
          "data": {
            "text/plain": [
              "5"
            ]
          },
          "execution_count": 4,
          "metadata": {},
          "output_type": "execute_result"
        }
      ],
      "source": [
        "def out1():\n",
        "  a=5\n",
        "  def in1():\n",
        "    return a\n",
        "  return in1\n",
        "k=out1()\n",
        "k()\n",
        "#so as we can see even after the enclosed function(out function) is done being executed, the variables that have been declared within the scope of enclosed function(out1 function)\n",
        "# and are present within the namespace of out1 function can also be accessed by the inner function(in1) even after the outer function out1 has already been executed. This property is called\n",
        "# closure property and this property is also used in the making of decorators.\n"
      ]
    },
    {
      "cell_type": "code",
      "execution_count": null,
      "metadata": {
        "colab": {
          "base_uri": "https://localhost:8080/"
        },
        "id": "92eTBxzBPJpY",
        "outputId": "0578a135-659d-4aba-9f67-d89ac0c26f65"
      },
      "outputs": [
        {
          "name": "stdout",
          "output_type": "stream",
          "text": [
            "***********\n",
            "hello\n",
            "***********\n"
          ]
        }
      ],
      "source": [
        "#decorators use closure property of python as well as demonstrated below\n",
        "def decorators(func):\n",
        "  def wrapper():\n",
        "    print(\"***********\")\n",
        "    func()\n",
        "    print(\"***********\")\n",
        "  return wrapper\n",
        "def hms():\n",
        "  print(\"hello\")\n",
        "d1=decorators(hms)\n",
        "d1()\n",
        "# decorators(hms) returns the wrapper and when we execute the wrapper function, we can see that it has access to func variable as well which was present in the namespace of decorators\n",
        "# so we can see that even after execution of decorators function has already happened, the wrapper function still now has acces to variables within decorator function.\n",
        "# This is because of closure property of python."
      ]
    },
    {
      "cell_type": "code",
      "execution_count": null,
      "metadata": {
        "colab": {
          "base_uri": "https://localhost:8080/"
        },
        "id": "QMf4bb8jY82d",
        "outputId": "b946d3a5-05b2-43c5-8c44-51cfd166316e"
      },
      "outputs": [
        {
          "name": "stdout",
          "output_type": "stream",
          "text": [
            "*********\n",
            "hello\n",
            "*********\n"
          ]
        }
      ],
      "source": [
        "#In reality we dont use all the above to use decorators, we just do this\n",
        "def decorators(func):\n",
        "  def wrapper():\n",
        "    print(\"*********\")\n",
        "    func()\n",
        "    print(\"*********\")\n",
        "  return wrapper\n",
        "@decorators\n",
        "def fss():\n",
        "  print(\"hello\")\n",
        "fss()"
      ]
    },
    {
      "cell_type": "code",
      "execution_count": null,
      "metadata": {
        "colab": {
          "base_uri": "https://localhost:8080/"
        },
        "id": "dC6pB_ONn6iN",
        "outputId": "4c6b277d-8869-43b2-bfe5-f284fe39fe42"
      },
      "outputs": [
        {
          "name": "stdout",
          "output_type": "stream",
          "text": [
            "Hello! who is a warrior\n",
            "Time take to execute  numbo  is  2.002298355102539\n"
          ]
        }
      ],
      "source": [
        "import time\n",
        "def decorator1(func):\n",
        "  def wrapper1():\n",
        "    start=time.time()\n",
        "    func()\n",
        "    print(\"Time take to execute \",func.__name__,\" is \",time.time()-start)\n",
        "  return wrapper1\n",
        "@decorator1\n",
        "def numbo():\n",
        "  time.sleep(2)\n",
        "  print(\"Hello! who is a warrior\")\n",
        "\n",
        "numbo()"
      ]
    },
    {
      "cell_type": "code",
      "execution_count": null,
      "metadata": {
        "colab": {
          "base_uri": "https://localhost:8080/"
        },
        "id": "CY8Sgdxi3deI",
        "outputId": "bc3df970-8ffc-478e-f084-531d2250cf34"
      },
      "outputs": [
        {
          "name": "stdout",
          "output_type": "stream",
          "text": [
            "Hello! O mighty warrior, how are you\n",
            "Time take to execute  funny  is  2.003986120223999\n"
          ]
        }
      ],
      "source": [
        "import time\n",
        "def decorator2(func):\n",
        "  def wrapper2():\n",
        "    start=time.time()\n",
        "    func()\n",
        "    print(\"Time take to execute \",func.__name__,\" is \",time.time()-start)\n",
        "  return wrapper2\n",
        "@decorator2\n",
        "def funny():\n",
        "  time.sleep(2)\n",
        "  print(\"Hello! O mighty warrior, how are you\")\n",
        "funny()"
      ]
    },
    {
      "cell_type": "code",
      "execution_count": null,
      "metadata": {
        "colab": {
          "base_uri": "https://localhost:8080/",
          "height": 210
        },
        "id": "ZSP60XZ_8T0q",
        "outputId": "0b7200ed-f39b-4794-a996-875a37fe132a"
      },
      "outputs": [
        {
          "ename": "TypeError",
          "evalue": "ignored",
          "output_type": "error",
          "traceback": [
            "\u001b[0;31m---------------------------------------------------------------------------\u001b[0m",
            "\u001b[0;31mTypeError\u001b[0m                                 Traceback (most recent call last)",
            "\u001b[0;32m<ipython-input-5-8effde0901be>\u001b[0m in \u001b[0;36m<cell line: 12>\u001b[0;34m()\u001b[0m\n\u001b[1;32m     10\u001b[0m \u001b[0;32mdef\u001b[0m \u001b[0msquare\u001b[0m\u001b[0;34m(\u001b[0m\u001b[0mnum\u001b[0m\u001b[0;34m)\u001b[0m\u001b[0;34m:\u001b[0m\u001b[0;34m\u001b[0m\u001b[0;34m\u001b[0m\u001b[0m\n\u001b[1;32m     11\u001b[0m   \u001b[0;32mreturn\u001b[0m \u001b[0mnum\u001b[0m\u001b[0;34m**\u001b[0m\u001b[0;36m2\u001b[0m\u001b[0;34m\u001b[0m\u001b[0;34m\u001b[0m\u001b[0m\n\u001b[0;32m---> 12\u001b[0;31m \u001b[0msquare\u001b[0m\u001b[0;34m(\u001b[0m\u001b[0;36m2\u001b[0m\u001b[0;34m)\u001b[0m\u001b[0;34m\u001b[0m\u001b[0;34m\u001b[0m\u001b[0m\n\u001b[0m",
            "\u001b[0;31mTypeError\u001b[0m: timer.<locals>.wrapper() takes 0 positional arguments but 1 was given"
          ]
        }
      ],
      "source": [
        "#issue\n",
        "import time\n",
        "def timer(func):\n",
        "  def wrapper():\n",
        "    start=time.time()\n",
        "    func()\n",
        "    print(\"Time taken to execute \",func.__name__,\" is \",time.time()-start)\n",
        "  return wrapper\n",
        "@timer\n",
        "def square(num):\n",
        "  return num**2\n",
        "square(2)\n",
        "#This is giving error as"
      ]
    },
    {
      "cell_type": "code",
      "execution_count": null,
      "metadata": {
        "colab": {
          "base_uri": "https://localhost:8080/",
          "height": 210
        },
        "id": "sbQOxYnz_26b",
        "outputId": "07985157-4407-4f4d-9330-b14e57524a83"
      },
      "outputs": [
        {
          "ename": "TypeError",
          "evalue": "ignored",
          "output_type": "error",
          "traceback": [
            "\u001b[0;31m---------------------------------------------------------------------------\u001b[0m",
            "\u001b[0;31mTypeError\u001b[0m                                 Traceback (most recent call last)",
            "\u001b[0;32m<ipython-input-1-158fc37b29dd>\u001b[0m in \u001b[0;36m<cell line: 13>\u001b[0;34m()\u001b[0m\n\u001b[1;32m     11\u001b[0m   \u001b[0;32mreturn\u001b[0m \u001b[0mnum\u001b[0m\u001b[0;34m**\u001b[0m\u001b[0;36m2\u001b[0m\u001b[0;34m\u001b[0m\u001b[0;34m\u001b[0m\u001b[0m\n\u001b[1;32m     12\u001b[0m \u001b[0mc1\u001b[0m\u001b[0;34m=\u001b[0m\u001b[0mtimer\u001b[0m\u001b[0;34m(\u001b[0m\u001b[0msquare\u001b[0m\u001b[0;34m)\u001b[0m\u001b[0;34m\u001b[0m\u001b[0;34m\u001b[0m\u001b[0m\n\u001b[0;32m---> 13\u001b[0;31m \u001b[0mc1\u001b[0m\u001b[0;34m(\u001b[0m\u001b[0;36m2\u001b[0m\u001b[0;34m)\u001b[0m\u001b[0;34m\u001b[0m\u001b[0;34m\u001b[0m\u001b[0m\n\u001b[0m",
            "\u001b[0;31mTypeError\u001b[0m: timer.<locals>.wrapper1() takes 0 positional arguments but 1 was given"
          ]
        }
      ],
      "source": [
        "#The above code was giving error as the above code was equivalent to\n",
        "import time\n",
        "def timer(func):\n",
        "  def wrapper1():\n",
        "    start=time.time()\n",
        "    func()\n",
        "    print(\"Time taken is \",func.__name__,\" is \",time.time()-start)\n",
        "  return wrapper1\n",
        "def square(num):\n",
        "  time.sleep(2)\n",
        "  return num**2\n",
        "c1=timer(square)\n",
        "c1(2)"
      ]
    },
    {
      "cell_type": "code",
      "execution_count": null,
      "metadata": {
        "colab": {
          "base_uri": "https://localhost:8080/"
        },
        "id": "ch621_yz1ies",
        "outputId": "d2433422-26f2-4672-9165-1ebc251885f6"
      },
      "outputs": [
        {
          "name": "stdout",
          "output_type": "stream",
          "text": [
            "Time taken is  square  is  2.0049216747283936\n"
          ]
        }
      ],
      "source": [
        "import time\n",
        "def timer1(func,num):\n",
        "  def wrapper1():\n",
        "    start=time.time()\n",
        "    func(num)\n",
        "    print(\"Time taken is \",func.__name__,\" is \",time.time()-start)\n",
        "  return wrapper1\n",
        "def square(num):\n",
        "  time.sleep(2)\n",
        "  return num**2\n",
        "c1=timer1(square,2)\n",
        "c1()"
      ]
    },
    {
      "cell_type": "code",
      "execution_count": null,
      "metadata": {
        "colab": {
          "base_uri": "https://localhost:8080/",
          "height": 245
        },
        "id": "PYkzTPCO2-ah",
        "outputId": "db003764-8cf7-4c71-ad65-f369087cf683"
      },
      "outputs": [
        {
          "ename": "TypeError",
          "evalue": "ignored",
          "output_type": "error",
          "traceback": [
            "\u001b[0;31m---------------------------------------------------------------------------\u001b[0m",
            "\u001b[0;31mTypeError\u001b[0m                                 Traceback (most recent call last)",
            "\u001b[0;32m<ipython-input-5-7e4d30ba9ee5>\u001b[0m in \u001b[0;36m<cell line: 8>\u001b[0;34m()\u001b[0m\n\u001b[1;32m      7\u001b[0m   \u001b[0;32mreturn\u001b[0m \u001b[0mwrapper1\u001b[0m\u001b[0;34m\u001b[0m\u001b[0;34m\u001b[0m\u001b[0m\n\u001b[1;32m      8\u001b[0m \u001b[0;34m@\u001b[0m\u001b[0mtimer1\u001b[0m\u001b[0;34m\u001b[0m\u001b[0;34m\u001b[0m\u001b[0m\n\u001b[0;32m----> 9\u001b[0;31m \u001b[0;32mdef\u001b[0m \u001b[0msquare2\u001b[0m\u001b[0;34m(\u001b[0m\u001b[0mnum\u001b[0m\u001b[0;34m)\u001b[0m\u001b[0;34m:\u001b[0m\u001b[0;34m\u001b[0m\u001b[0;34m\u001b[0m\u001b[0m\n\u001b[0m\u001b[1;32m     10\u001b[0m   \u001b[0mtime\u001b[0m\u001b[0;34m.\u001b[0m\u001b[0msleep\u001b[0m\u001b[0;34m(\u001b[0m\u001b[0;36m2\u001b[0m\u001b[0;34m)\u001b[0m\u001b[0;34m\u001b[0m\u001b[0;34m\u001b[0m\u001b[0m\n\u001b[1;32m     11\u001b[0m   \u001b[0;32mreturn\u001b[0m \u001b[0mnum\u001b[0m\u001b[0;34m**\u001b[0m\u001b[0;36m2\u001b[0m\u001b[0;34m\u001b[0m\u001b[0;34m\u001b[0m\u001b[0m\n",
            "\u001b[0;31mTypeError\u001b[0m: timer1() missing 1 required positional argument: 'name'"
          ]
        }
      ],
      "source": [
        "import time\n",
        "def timer1(func,name):\n",
        "  def wrapper1():\n",
        "    start=time.time()\n",
        "    func(name)\n",
        "    print(\"Time taken is \",func.__name__,\" is \",time.time()-start)\n",
        "  return wrapper1\n",
        "@timer1\n",
        "def square2(num):\n",
        "  time.sleep(2)\n",
        "  return num**2\n",
        "square2(3)"
      ]
    },
    {
      "cell_type": "code",
      "execution_count": null,
      "metadata": {
        "colab": {
          "base_uri": "https://localhost:8080/"
        },
        "id": "2Dm2ekwKC4bG",
        "outputId": "d33a7252-9147-4944-9be1-ace902f49c86"
      },
      "outputs": [
        {
          "name": "stdout",
          "output_type": "stream",
          "text": [
            "Time taken is  square2  is  2.002702236175537\n"
          ]
        }
      ],
      "source": [
        "#as you can see , we are getting TypeError because of arguments earlier, in order to eliminate the error we can do certain things\n",
        "import time\n",
        "def timer2(func):\n",
        "  def wrapper2(*args):\n",
        "    start=time.time()\n",
        "    func(*args)\n",
        "    print(\"Time taken is \",func.__name__,\" is \",time.time()-start)\n",
        "  return wrapper2\n",
        "@timer2\n",
        "def square2(num):\n",
        "  time.sleep(2)\n",
        "  return num**2\n",
        "square2(2)\n",
        "#*args will take variable number of arguments"
      ]
    },
    {
      "cell_type": "code",
      "execution_count": null,
      "metadata": {
        "colab": {
          "base_uri": "https://localhost:8080/"
        },
        "id": "YV5w33whL76J",
        "outputId": "881cc8d8-7415-4f71-cdc6-3481c15edcc2"
      },
      "outputs": [
        {
          "name": "stdout",
          "output_type": "stream",
          "text": [
            "hello\n",
            "Time taken is  square1  is  2.00384521484375\n",
            "16\n",
            "Time taken is  square2  is  3.0033490657806396\n",
            "64\n",
            "Time taken is  sq11  is  4.004216432571411\n"
          ]
        }
      ],
      "source": [
        "#we are making a decorator here which can handle any type of functions having variable number of arguments, let us do it\n",
        "import time\n",
        "def timer2(func):\n",
        "  def wrapper1(*args):\n",
        "    start=time.time()\n",
        "    func(*args)\n",
        "    print(\"Time taken is \",func.__name__,\" is \",time.time()-start)\n",
        "  return wrapper1\n",
        "@timer2\n",
        "def square1():\n",
        "  time.sleep(2)\n",
        "  print(\"hello\")\n",
        "@timer2\n",
        "def square2(num):\n",
        "  time.sleep(3)\n",
        "  print(num**2)\n",
        "@timer2\n",
        "def sq11(a,b):\n",
        "  time.sleep(4)\n",
        "  print(a**b)\n",
        "square1()\n",
        "square2(4)\n",
        "sq11(4,3)"
      ]
    },
    {
      "cell_type": "code",
      "execution_count": null,
      "metadata": {
        "colab": {
          "base_uri": "https://localhost:8080/"
        },
        "id": "E3HF0de0S6B1",
        "outputId": "1d64e802-94db-4a88-b672-7c609325c3f5"
      },
      "outputs": [
        {
          "name": "stdout",
          "output_type": "stream",
          "text": [
            "25\n",
            "Time taken is  square  is  0.0015676021575927734\n",
            "125\n",
            "Time taken is  sq1  is  0.000568389892578125\n",
            "hello  dhoni\n",
            "Time taken is  as1  is  0.0004966259002685547\n"
          ]
        }
      ],
      "source": [
        "import time\n",
        "def decorator2(datatype):\n",
        "  def outer1(func):\n",
        "    def inner1(*args):\n",
        "      if type(args[0])==datatype:\n",
        "         start=time.time()\n",
        "         func(*args)\n",
        "         print(\"Time taken is \",func.__name__,\" is \",time.time()-start)\n",
        "      else:\n",
        "        raise TypeError(\"Hell! How are you \")\n",
        "    return inner1\n",
        "  return outer1\n",
        "@decorator2(int)\n",
        "def square(num):\n",
        "  print(num**2)\n",
        "@decorator2(int)\n",
        "def sq1(a,b):\n",
        "  print(a**b)\n",
        "@decorator2(str)\n",
        "def as1(name):\n",
        "  print(\"hello \",name)\n",
        "square(5)\n",
        "sq1(5,3)\n",
        "as1(\"dhoni\")\n",
        "# this decorator is used for sanity check to check whether arguments passed to the function belongs to a particular datatype or not\n",
        "#In this function is being passed to decorator, decorator returns wrapper and then wrapper is called by the function call"
      ]
    },
    {
      "cell_type": "code",
      "execution_count": null,
      "metadata": {
        "colab": {
          "base_uri": "https://localhost:8080/",
          "height": 366
        },
        "id": "3UbVnuKBGT0v",
        "outputId": "e7ec77da-a1a6-4d3f-9156-fda72de2619d"
      },
      "outputs": [
        {
          "name": "stdout",
          "output_type": "stream",
          "text": [
            "(1, 2, 3, 4)\n",
            "1 2 3 4\n",
            "<class 'tuple'>\n"
          ]
        },
        {
          "ename": "TypeError",
          "evalue": "ignored",
          "output_type": "error",
          "traceback": [
            "\u001b[0;31m---------------------------------------------------------------------------\u001b[0m",
            "\u001b[0;31mTypeError\u001b[0m                                 Traceback (most recent call last)",
            "\u001b[0;32m<ipython-input-8-3b84b90c7a3d>\u001b[0m in \u001b[0;36m<cell line: 6>\u001b[0;34m()\u001b[0m\n\u001b[1;32m      4\u001b[0m   \u001b[0mprint\u001b[0m\u001b[0;34m(\u001b[0m\u001b[0mtype\u001b[0m\u001b[0;34m(\u001b[0m\u001b[0margs\u001b[0m\u001b[0;34m)\u001b[0m\u001b[0;34m)\u001b[0m\u001b[0;34m\u001b[0m\u001b[0;34m\u001b[0m\u001b[0m\n\u001b[1;32m      5\u001b[0m   \u001b[0mprint\u001b[0m\u001b[0;34m(\u001b[0m\u001b[0mtype\u001b[0m\u001b[0;34m(\u001b[0m\u001b[0;34m*\u001b[0m\u001b[0margs\u001b[0m\u001b[0;34m)\u001b[0m\u001b[0;34m)\u001b[0m\u001b[0;34m\u001b[0m\u001b[0;34m\u001b[0m\u001b[0m\n\u001b[0;32m----> 6\u001b[0;31m \u001b[0mamin\u001b[0m\u001b[0;34m(\u001b[0m\u001b[0;36m1\u001b[0m\u001b[0;34m,\u001b[0m\u001b[0;36m2\u001b[0m\u001b[0;34m,\u001b[0m\u001b[0;36m3\u001b[0m\u001b[0;34m,\u001b[0m\u001b[0;36m4\u001b[0m\u001b[0;34m)\u001b[0m\u001b[0;34m\u001b[0m\u001b[0;34m\u001b[0m\u001b[0m\n\u001b[0m",
            "\u001b[0;32m<ipython-input-8-3b84b90c7a3d>\u001b[0m in \u001b[0;36mamin\u001b[0;34m(*args)\u001b[0m\n\u001b[1;32m      3\u001b[0m   \u001b[0mprint\u001b[0m\u001b[0;34m(\u001b[0m\u001b[0;34m*\u001b[0m\u001b[0margs\u001b[0m\u001b[0;34m)\u001b[0m\u001b[0;34m\u001b[0m\u001b[0;34m\u001b[0m\u001b[0m\n\u001b[1;32m      4\u001b[0m   \u001b[0mprint\u001b[0m\u001b[0;34m(\u001b[0m\u001b[0mtype\u001b[0m\u001b[0;34m(\u001b[0m\u001b[0margs\u001b[0m\u001b[0;34m)\u001b[0m\u001b[0;34m)\u001b[0m\u001b[0;34m\u001b[0m\u001b[0;34m\u001b[0m\u001b[0m\n\u001b[0;32m----> 5\u001b[0;31m   \u001b[0mprint\u001b[0m\u001b[0;34m(\u001b[0m\u001b[0mtype\u001b[0m\u001b[0;34m(\u001b[0m\u001b[0;34m*\u001b[0m\u001b[0margs\u001b[0m\u001b[0;34m)\u001b[0m\u001b[0;34m)\u001b[0m\u001b[0;34m\u001b[0m\u001b[0;34m\u001b[0m\u001b[0m\n\u001b[0m\u001b[1;32m      6\u001b[0m \u001b[0mamin\u001b[0m\u001b[0;34m(\u001b[0m\u001b[0;36m1\u001b[0m\u001b[0;34m,\u001b[0m\u001b[0;36m2\u001b[0m\u001b[0;34m,\u001b[0m\u001b[0;36m3\u001b[0m\u001b[0;34m,\u001b[0m\u001b[0;36m4\u001b[0m\u001b[0;34m)\u001b[0m\u001b[0;34m\u001b[0m\u001b[0;34m\u001b[0m\u001b[0m\n",
            "\u001b[0;31mTypeError\u001b[0m: type() takes 1 or 3 arguments"
          ]
        }
      ],
      "source": [
        "def amin(*args):\n",
        "  print(args)\n",
        "  print(*args)\n",
        "  print(type(args))\n",
        "  print(type(*args))\n",
        "amin(1,2,3,4)"
      ]
    },
    {
      "cell_type": "code",
      "execution_count": null,
      "metadata": {
        "colab": {
          "base_uri": "https://localhost:8080/"
        },
        "id": "pbenMaWwJXlx",
        "outputId": "ef05dbce-2a16-4e97-fff1-1f8a1a19d639"
      },
      "outputs": [
        {
          "name": "stdout",
          "output_type": "stream",
          "text": [
            "25\n",
            "64\n",
            "hello  dhoni\n"
          ]
        }
      ],
      "source": [
        "def decorator(datatype):\n",
        "  def outer(func):\n",
        "    def inner(*args):\n",
        "      if type(args[0])==datatype:\n",
        "        func(*args)\n",
        "    return inner\n",
        "  return outer\n",
        "@decorator(int)\n",
        "def square(num):\n",
        "  print(num**2)\n",
        "@decorator(int)\n",
        "def sq1(a,b):\n",
        "  print(a**b)\n",
        "@decorator(str)\n",
        "def sq2(name):\n",
        "  print(\"hello \",name)\n",
        "square(5)\n",
        "sq1(4,3)\n",
        "sq2(\"dhoni\")"
      ]
    },
    {
      "cell_type": "code",
      "execution_count": null,
      "metadata": {
        "id": "xScHURZtZjOY"
      },
      "outputs": [],
      "source": [
        "#Iteration is a genral term for taking each item of something, one after the other. Any time you use a loop to go over a group of items explicity or implictly it is\n",
        "#iteration."
      ]
    },
    {
      "cell_type": "code",
      "execution_count": null,
      "metadata": {
        "id": "CEEpVePHPP9T"
      },
      "outputs": [],
      "source": [
        "#Iterator is an object that allows the programmer to traverse through a sequence of data without having to store the entire data in the memory\n",
        "#Each data item is stored in the memory seperately"
      ]
    },
    {
      "cell_type": "code",
      "execution_count": null,
      "metadata": {
        "colab": {
          "base_uri": "https://localhost:8080/"
        },
        "id": "U6YAVydWPsSS",
        "outputId": "395bfd58-aeaa-433f-fc72-3611835a1319"
      },
      "outputs": [
        {
          "name": "stdout",
          "output_type": "stream",
          "text": [
            "85176\n",
            "48\n"
          ]
        }
      ],
      "source": [
        "l1=[x for x in range(1,10000)]\n",
        "import sys\n",
        "print(sys.getsizeof(l1))\n",
        "x1=range(1,10000)\n",
        "print(sys.getsizeof(x1))\n",
        "#The range iterator stores only 1 item in the memory at a occasion before traversing to the other item."
      ]
    },
    {
      "cell_type": "code",
      "execution_count": null,
      "metadata": {
        "id": "18TyECibVF33"
      },
      "outputs": [],
      "source": [
        "#Iterable is an object which one can iterate over for example in the above l1 is a iterable and so is range(1,10000) both can be iterated over\n",
        "#Iteration is the process of traversing through an entire set of data one after the other without storing the entire data into the memory at once.\n",
        "#Iterable is an object which can be iterated upon\n",
        "#Iterator is an object which helps in traversing through the data one after the other without storing the entire data in the memory at once.\n",
        "#Iterator is an object that allows us traverse through each item of the iterable without storing the entire iterable in the memory at once."
      ]
    },
    {
      "cell_type": "code",
      "execution_count": null,
      "metadata": {
        "colab": {
          "base_uri": "https://localhost:8080/"
        },
        "id": "rLXsSg1NWH1W",
        "outputId": "12015448-118e-4a72-c883-f10420a2826a"
      },
      "outputs": [
        {
          "name": "stdout",
          "output_type": "stream",
          "text": [
            "<class 'list'>\n",
            "<class 'list_iterator'>\n"
          ]
        }
      ],
      "source": [
        "#we often use iter() to convert iterable to iterator\n",
        "l1=[1,2,3]\n",
        "print(type(l1))\n",
        "print(type(iter(l1)))"
      ]
    },
    {
      "cell_type": "code",
      "execution_count": null,
      "metadata": {
        "id": "y63TvMBiY70_"
      },
      "outputs": [],
      "source": [
        "#Every iterator is also an iterable but not all iterables are iterators"
      ]
    },
    {
      "cell_type": "code",
      "execution_count": null,
      "metadata": {
        "colab": {
          "base_uri": "https://localhost:8080/"
        },
        "id": "gTVjgMI4g1iV",
        "outputId": "3ff02895-02ad-4931-f3e9-fa12192a8e09"
      },
      "outputs": [
        {
          "name": "stdout",
          "output_type": "stream",
          "text": [
            "The value is 45\n"
          ]
        }
      ],
      "source": [
        "#magic methods allows the custom objects to work seamlessly with built-in Python functions and operations in python. Magic methods helps you to customize the behaviour of your custom\n",
        "#objects for various operations in python\n",
        "class monk:\n",
        "  def __init__(self,x):\n",
        "    self.value=x\n",
        "  def __str__(self):\n",
        "    return f\"The value is {self.value}\"\n",
        "k1=monk(45)\n",
        "print(k1)"
      ]
    },
    {
      "cell_type": "code",
      "execution_count": null,
      "metadata": {
        "colab": {
          "base_uri": "https://localhost:8080/"
        },
        "id": "9bwDt3zkiGa6",
        "outputId": "21d72c35-7232-4e8d-eb43-8dbe6cd3c855"
      },
      "outputs": [
        {
          "name": "stdout",
          "output_type": "stream",
          "text": [
            "(7,8)\n"
          ]
        }
      ],
      "source": [
        "class monk1:\n",
        "  def __init__(self,x,y):\n",
        "    self.x=x\n",
        "    self.y=y\n",
        "  def __add__(self,other):\n",
        "    return monk1(self.x+other.x,self.y+other.y)\n",
        "  def __str__(self):\n",
        "    return f\"({self.x},{self.y})\"\n",
        "a=monk1(3,5)\n",
        "b=monk1(4,3)\n",
        "print(a+b)\n",
        "#magic methods allows you to customize the behaviour of custom objects for various operations and bult-in functions in python, for instance + operator between 2 python\n",
        "#custom objects would result in return of a monk1 object with a certain x and y value, on the other hand when you print a object then the corresponding x and y coordinates of\n",
        "#the custom monk1 object will get displayed in the above manner."
      ]
    },
    {
      "cell_type": "code",
      "execution_count": null,
      "metadata": {
        "colab": {
          "base_uri": "https://localhost:8080/"
        },
        "id": "Bu08ssvAkGJN",
        "outputId": "92535512-76bf-490b-b6f3-b159930cf954"
      },
      "outputs": [
        {
          "data": {
            "text/plain": [
              "3"
            ]
          },
          "execution_count": 19,
          "metadata": {},
          "output_type": "execute_result"
        }
      ],
      "source": [
        "class monk2:\n",
        "  def __init__(self,v):\n",
        "    self.lst1=v\n",
        "  def __len__(self):\n",
        "    return len(self.lst1)\n",
        "  def __str__(self):\n",
        "    return f\"{self.lst1}\"\n",
        "a=monk2([1,2,3])\n",
        "len(a)\n",
        "# print(a)"
      ]
    },
    {
      "cell_type": "code",
      "execution_count": null,
      "metadata": {
        "colab": {
          "base_uri": "https://localhost:8080/"
        },
        "id": "PdB6fJrIlayE",
        "outputId": "fc6f8676-cbbd-4b22-e50f-5d532a928f3c"
      },
      "outputs": [
        {
          "name": "stdout",
          "output_type": "stream",
          "text": [
            "[1, 2, 3]\n"
          ]
        }
      ],
      "source": [
        "print(a)\n",
        "#This is how we are able to treat a custom made python object literally as a list"
      ]
    },
    {
      "cell_type": "code",
      "execution_count": null,
      "metadata": {
        "id": "u0-sbvbQlnVt"
      },
      "outputs": [],
      "source": [
        "#Not all iterables are iterators can be proved from the fact that\n",
        "a1=[x for x in range(1,10000)]\n",
        "#this is a iterable which can be iterated over using a loop but we cannot use it as a iterator as its violates the primary condition of a iterator which states that the entire data\n",
        "#is not loaded into the memory it once by a iterator, it is loaded one at a time which wont be true in the case of the above list iterable which stores the entire data into the memory\n",
        "#at once"
      ]
    },
    {
      "cell_type": "code",
      "execution_count": null,
      "metadata": {
        "colab": {
          "base_uri": "https://localhost:8080/"
        },
        "id": "R6sa1KBpmyFk",
        "outputId": "c6410956-ab39-4adb-cda9-9dac8bab4324"
      },
      "outputs": [
        {
          "data": {
            "text/plain": [
              "['__add__',\n",
              " '__class__',\n",
              " '__class_getitem__',\n",
              " '__contains__',\n",
              " '__delattr__',\n",
              " '__delitem__',\n",
              " '__dir__',\n",
              " '__doc__',\n",
              " '__eq__',\n",
              " '__format__',\n",
              " '__ge__',\n",
              " '__getattribute__',\n",
              " '__getitem__',\n",
              " '__gt__',\n",
              " '__hash__',\n",
              " '__iadd__',\n",
              " '__imul__',\n",
              " '__init__',\n",
              " '__init_subclass__',\n",
              " '__iter__',\n",
              " '__le__',\n",
              " '__len__',\n",
              " '__lt__',\n",
              " '__mul__',\n",
              " '__ne__',\n",
              " '__new__',\n",
              " '__reduce__',\n",
              " '__reduce_ex__',\n",
              " '__repr__',\n",
              " '__reversed__',\n",
              " '__rmul__',\n",
              " '__setattr__',\n",
              " '__setitem__',\n",
              " '__sizeof__',\n",
              " '__str__',\n",
              " '__subclasshook__',\n",
              " 'append',\n",
              " 'clear',\n",
              " 'copy',\n",
              " 'count',\n",
              " 'extend',\n",
              " 'index',\n",
              " 'insert',\n",
              " 'pop',\n",
              " 'remove',\n",
              " 'reverse',\n",
              " 'sort']"
            ]
          },
          "execution_count": 24,
          "metadata": {},
          "output_type": "execute_result"
        }
      ],
      "source": [
        "l1=[1,2,3]\n",
        "dir(l1)\n",
        "#to find whether a object is iterable or not we have to use the dir function, if dir has __iter__ magic method present within it then it is iterable else it is not, another way of finding\n",
        "#whether an object is iterable or not is by using loops, if we are getting error then the object is not iterable else it is iterable"
      ]
    },
    {
      "cell_type": "code",
      "execution_count": null,
      "metadata": {
        "colab": {
          "base_uri": "https://localhost:8080/"
        },
        "id": "Vo7XkD87xa1_",
        "outputId": "56e7f283-00e5-4ae0-8775-31cb528c7c8f"
      },
      "outputs": [
        {
          "name": "stdout",
          "output_type": "stream",
          "text": [
            "m\n",
            "a\n",
            "h\n",
            "e\n",
            "n\n",
            "d\n",
            "r\n",
            "a\n",
            "s\n",
            "i\n",
            "n\n",
            "g\n",
            "h\n"
          ]
        },
        {
          "data": {
            "text/plain": [
              "['__add__',\n",
              " '__class__',\n",
              " '__contains__',\n",
              " '__delattr__',\n",
              " '__dir__',\n",
              " '__doc__',\n",
              " '__eq__',\n",
              " '__format__',\n",
              " '__ge__',\n",
              " '__getattribute__',\n",
              " '__getitem__',\n",
              " '__getnewargs__',\n",
              " '__gt__',\n",
              " '__hash__',\n",
              " '__init__',\n",
              " '__init_subclass__',\n",
              " '__iter__',\n",
              " '__le__',\n",
              " '__len__',\n",
              " '__lt__',\n",
              " '__mod__',\n",
              " '__mul__',\n",
              " '__ne__',\n",
              " '__new__',\n",
              " '__reduce__',\n",
              " '__reduce_ex__',\n",
              " '__repr__',\n",
              " '__rmod__',\n",
              " '__rmul__',\n",
              " '__setattr__',\n",
              " '__sizeof__',\n",
              " '__str__',\n",
              " '__subclasshook__',\n",
              " 'capitalize',\n",
              " 'casefold',\n",
              " 'center',\n",
              " 'count',\n",
              " 'encode',\n",
              " 'endswith',\n",
              " 'expandtabs',\n",
              " 'find',\n",
              " 'format',\n",
              " 'format_map',\n",
              " 'index',\n",
              " 'isalnum',\n",
              " 'isalpha',\n",
              " 'isascii',\n",
              " 'isdecimal',\n",
              " 'isdigit',\n",
              " 'isidentifier',\n",
              " 'islower',\n",
              " 'isnumeric',\n",
              " 'isprintable',\n",
              " 'isspace',\n",
              " 'istitle',\n",
              " 'isupper',\n",
              " 'join',\n",
              " 'ljust',\n",
              " 'lower',\n",
              " 'lstrip',\n",
              " 'maketrans',\n",
              " 'partition',\n",
              " 'removeprefix',\n",
              " 'removesuffix',\n",
              " 'replace',\n",
              " 'rfind',\n",
              " 'rindex',\n",
              " 'rjust',\n",
              " 'rpartition',\n",
              " 'rsplit',\n",
              " 'rstrip',\n",
              " 'split',\n",
              " 'splitlines',\n",
              " 'startswith',\n",
              " 'strip',\n",
              " 'swapcase',\n",
              " 'title',\n",
              " 'translate',\n",
              " 'upper',\n",
              " 'zfill']"
            ]
          },
          "execution_count": 27,
          "metadata": {},
          "output_type": "execute_result"
        }
      ],
      "source": [
        "a=\"mahendrasingh\"\n",
        "for i in a:\n",
        "  print(i)\n",
        "dir(a)\n",
        "#as you can see here, the python object is working on for loop and also has magic function __iter__ so it is iterable"
      ]
    },
    {
      "cell_type": "code",
      "execution_count": null,
      "metadata": {
        "colab": {
          "base_uri": "https://localhost:8080/"
        },
        "id": "rPE0dJyqzhZW",
        "outputId": "eea7a09a-0bb2-4b5b-d056-81716359e4bf"
      },
      "outputs": [
        {
          "name": "stdout",
          "output_type": "stream",
          "text": [
            "dict_keys([1, 3])\n",
            "dict_values([2, 4])\n"
          ]
        }
      ],
      "source": [
        "a={1:2,3:4}\n",
        "print(a.keys())\n",
        "print(a.values())"
      ]
    },
    {
      "cell_type": "code",
      "execution_count": null,
      "metadata": {
        "colab": {
          "base_uri": "https://localhost:8080/"
        },
        "id": "v3qLVZKA9s8n",
        "outputId": "af7a5dee-76ba-48b0-a21b-93e1d097f205"
      },
      "outputs": [
        {
          "data": {
            "text/plain": [
              "['__add__',\n",
              " '__class__',\n",
              " '__class_getitem__',\n",
              " '__contains__',\n",
              " '__delattr__',\n",
              " '__delitem__',\n",
              " '__dir__',\n",
              " '__doc__',\n",
              " '__eq__',\n",
              " '__format__',\n",
              " '__ge__',\n",
              " '__getattribute__',\n",
              " '__getitem__',\n",
              " '__gt__',\n",
              " '__hash__',\n",
              " '__iadd__',\n",
              " '__imul__',\n",
              " '__init__',\n",
              " '__init_subclass__',\n",
              " '__iter__',\n",
              " '__le__',\n",
              " '__len__',\n",
              " '__lt__',\n",
              " '__mul__',\n",
              " '__ne__',\n",
              " '__new__',\n",
              " '__reduce__',\n",
              " '__reduce_ex__',\n",
              " '__repr__',\n",
              " '__reversed__',\n",
              " '__rmul__',\n",
              " '__setattr__',\n",
              " '__setitem__',\n",
              " '__sizeof__',\n",
              " '__str__',\n",
              " '__subclasshook__',\n",
              " 'append',\n",
              " 'clear',\n",
              " 'copy',\n",
              " 'count',\n",
              " 'extend',\n",
              " 'index',\n",
              " 'insert',\n",
              " 'pop',\n",
              " 'remove',\n",
              " 'reverse',\n",
              " 'sort']"
            ]
          },
          "execution_count": 31,
          "metadata": {},
          "output_type": "execute_result"
        }
      ],
      "source": [
        "a=[1,2,3]\n",
        "#list is iterable but is not iterator because it contains only __iter__ magic method but not __next__ magic method\n",
        "dir(a)"
      ]
    },
    {
      "cell_type": "code",
      "execution_count": null,
      "metadata": {
        "colab": {
          "base_uri": "https://localhost:8080/"
        },
        "id": "A5Dm8FKn-Ubf",
        "outputId": "38e92132-3ede-4001-b229-f60c77fe93f4"
      },
      "outputs": [
        {
          "data": {
            "text/plain": [
              "['__class__',\n",
              " '__delattr__',\n",
              " '__dir__',\n",
              " '__doc__',\n",
              " '__eq__',\n",
              " '__format__',\n",
              " '__ge__',\n",
              " '__getattribute__',\n",
              " '__gt__',\n",
              " '__hash__',\n",
              " '__init__',\n",
              " '__init_subclass__',\n",
              " '__iter__',\n",
              " '__le__',\n",
              " '__length_hint__',\n",
              " '__lt__',\n",
              " '__ne__',\n",
              " '__new__',\n",
              " '__next__',\n",
              " '__reduce__',\n",
              " '__reduce_ex__',\n",
              " '__repr__',\n",
              " '__setattr__',\n",
              " '__setstate__',\n",
              " '__sizeof__',\n",
              " '__str__',\n",
              " '__subclasshook__']"
            ]
          },
          "execution_count": 33,
          "metadata": {},
          "output_type": "execute_result"
        }
      ],
      "source": [
        "dir(iter(a))\n",
        "#iterators contain both __iter__ magic method as well as __next__ magic method, that is why it is said that all iterators are iterables but all iterables are not iterators and it is\n",
        "#because iterators contain both __iter__ as well as __next__ magic method whereas iterables contain only __iter__ magic method"
      ]
    },
    {
      "cell_type": "code",
      "execution_count": null,
      "metadata": {
        "colab": {
          "base_uri": "https://localhost:8080/"
        },
        "id": "4AZlQnuS--rN",
        "outputId": "eb7af38c-12c5-4da2-a9dd-949bf5cd2e0b"
      },
      "outputs": [
        {
          "data": {
            "text/plain": [
              "3"
            ]
          },
          "execution_count": 36,
          "metadata": {},
          "output_type": "execute_result"
        }
      ],
      "source": [
        "l=[1,2,3]\n",
        "#how we iterate through a iterable\n",
        "l2=iter(l)\n",
        "next(l2)\n",
        "next(l2)\n",
        "next(l2)"
      ]
    },
    {
      "cell_type": "code",
      "execution_count": null,
      "metadata": {
        "colab": {
          "base_uri": "https://localhost:8080/",
          "height": 175
        },
        "id": "ejwQwGmTfOu2",
        "outputId": "84a5f2c9-38ef-4d1f-f914-f57db42bd2a4"
      },
      "outputs": [
        {
          "ename": "StopIteration",
          "evalue": "ignored",
          "output_type": "error",
          "traceback": [
            "\u001b[0;31m---------------------------------------------------------------------------\u001b[0m",
            "\u001b[0;31mStopIteration\u001b[0m                             Traceback (most recent call last)",
            "\u001b[0;32m<ipython-input-37-37611c3e7a32>\u001b[0m in \u001b[0;36m<cell line: 1>\u001b[0;34m()\u001b[0m\n\u001b[0;32m----> 1\u001b[0;31m \u001b[0mnext\u001b[0m\u001b[0;34m(\u001b[0m\u001b[0ml2\u001b[0m\u001b[0;34m)\u001b[0m\u001b[0;34m\u001b[0m\u001b[0;34m\u001b[0m\u001b[0m\n\u001b[0m",
            "\u001b[0;31mStopIteration\u001b[0m: "
          ]
        }
      ],
      "source": [
        "next(l2)"
      ]
    },
    {
      "cell_type": "code",
      "execution_count": null,
      "metadata": {
        "colab": {
          "base_uri": "https://localhost:8080/"
        },
        "id": "SINr8Ws1fROZ",
        "outputId": "3a69b6dd-4f84-417d-bb20-9be2e7d44982"
      },
      "outputs": [
        {
          "name": "stdout",
          "output_type": "stream",
          "text": [
            "1\n",
            "2\n",
            "3\n"
          ]
        }
      ],
      "source": [
        "def merarange(iterable):\n",
        "  itera1=iter(iterable)\n",
        "  while True:\n",
        "    try:\n",
        "      print(next(itera1))\n",
        "    except StopIteration:\n",
        "      break\n",
        "a=[1,2,3]\n",
        "merarange(a)\n"
      ]
    },
    {
      "cell_type": "code",
      "execution_count": null,
      "metadata": {
        "colab": {
          "base_uri": "https://localhost:8080/"
        },
        "id": "dHb97ss7kdPg",
        "outputId": "fd5369a7-9fb1-4aaa-ca94-1d85ed1fe962"
      },
      "outputs": [
        {
          "name": "stdout",
          "output_type": "stream",
          "text": [
            "1\n",
            "2\n"
          ]
        }
      ],
      "source": [
        "def merarange(iterable):\n",
        "  itr1=iter(iterable)\n",
        "  while True:\n",
        "    try:\n",
        "      print(next(itr1))\n",
        "    except StopIteration:\n",
        "      break\n",
        "a=iter([1,2])\n",
        "merarange(a)"
      ]
    },
    {
      "cell_type": "code",
      "execution_count": null,
      "metadata": {
        "colab": {
          "base_uri": "https://localhost:8080/"
        },
        "id": "xtlPED_8_-4k",
        "outputId": "f1d91df0-d55b-4ff7-8b14-82b5000e8bf5"
      },
      "outputs": [
        {
          "name": "stdout",
          "output_type": "stream",
          "text": [
            "1\n",
            "2\n",
            "3\n"
          ]
        }
      ],
      "source": [
        "def mirage(iterable):\n",
        "  itr1=iter(iterable)\n",
        "  while True:\n",
        "    try:\n",
        "      print(next(itr1))\n",
        "    except StopIteration:\n",
        "      break\n",
        "a1={1,2,3}\n",
        "mirage(a1)"
      ]
    },
    {
      "cell_type": "code",
      "execution_count": null,
      "metadata": {
        "colab": {
          "base_uri": "https://localhost:8080/"
        },
        "id": "-mt2W8CDPx4I",
        "outputId": "9fa26fbe-623e-48c2-b360-bdf6deae119e"
      },
      "outputs": [
        {
          "name": "stdout",
          "output_type": "stream",
          "text": [
            "1\n",
            "2\n",
            "3\n"
          ]
        }
      ],
      "source": [
        "def mirage1(iterable):\n",
        "  itr2=iter(iterable)\n",
        "  while True:\n",
        "    try:\n",
        "      print(next(itr2))\n",
        "    except StopIteration:\n",
        "      break\n",
        "a2=(1,2,3)\n",
        "mirage1(a2)\n",
        "#this is how we make our own for loop"
      ]
    },
    {
      "cell_type": "code",
      "execution_count": null,
      "metadata": {
        "id": "WK602InOLl0G"
      },
      "outputs": [],
      "source": []
    },
    {
      "cell_type": "code",
      "execution_count": null,
      "metadata": {
        "colab": {
          "base_uri": "https://localhost:8080/"
        },
        "id": "hzwyGkJXQ9Ux",
        "outputId": "4b73a92b-e2db-4171-b41a-a413eaefc4da"
      },
      "outputs": [
        {
          "name": "stdout",
          "output_type": "stream",
          "text": [
            "1\n",
            "2\n",
            "3\n",
            "4\n",
            "5\n",
            "6\n",
            "7\n",
            "8\n",
            "9\n",
            "10\n",
            "11\n"
          ]
        }
      ],
      "source": [
        "class myrange:\n",
        "  def __init__(self,start,end):\n",
        "    self.start=start\n",
        "    self.end=end\n",
        "  def __iter__(self):\n",
        "    return myiterator(self)\n",
        "class myiterator:\n",
        "  def __init__(self,iterable):\n",
        "    self.obj=iterable\n",
        "  def __iter__(self):\n",
        "    return self\n",
        "  def __next__(self):\n",
        "    if self.obj.start>self.obj.end:\n",
        "      raise StopIteration\n",
        "    current=self.obj.start\n",
        "    self.obj.start+=1\n",
        "    return current\n",
        "for i in myrange(1,11):\n",
        "  print(i)\n"
      ]
    },
    {
      "cell_type": "code",
      "execution_count": null,
      "metadata": {
        "colab": {
          "base_uri": "https://localhost:8080/"
        },
        "id": "-E_-C-zsXBtm",
        "outputId": "4f9ea8cb-7f1a-4fca-85c2-e66e1df6bccd"
      },
      "outputs": [
        {
          "name": "stdout",
          "output_type": "stream",
          "text": [
            "<class '__main__.myrange'>\n"
          ]
        }
      ],
      "source": [
        "a=myrange(1,11)\n",
        "print(type(a))"
      ]
    },
    {
      "cell_type": "code",
      "execution_count": null,
      "metadata": {
        "colab": {
          "base_uri": "https://localhost:8080/"
        },
        "id": "wOmL4NqgXH7w",
        "outputId": "ac47bec1-1e35-4b53-9186-60dfbdc6a018"
      },
      "outputs": [
        {
          "name": "stdout",
          "output_type": "stream",
          "text": [
            "<class '__main__.myiterator'>\n"
          ]
        }
      ],
      "source": [
        "print(type(iter(a)))"
      ]
    },
    {
      "cell_type": "code",
      "execution_count": null,
      "metadata": {
        "colab": {
          "base_uri": "https://localhost:8080/"
        },
        "id": "By2trVoBiNWQ",
        "outputId": "860bb652-5c25-4370-c42d-c0ed5f9927e6"
      },
      "outputs": [
        {
          "name": "stdout",
          "output_type": "stream",
          "text": [
            "1 2 3 4 5 6 7 8 9 10 11 12 "
          ]
        }
      ],
      "source": [
        "class myrange1:\n",
        "  def __init__(self,start,end):\n",
        "    self.start=start\n",
        "    self.end=end\n",
        "  def __iter__(self):\n",
        "    return my_iterator(self)\n",
        "class my_iterator:\n",
        "  def __init__(self,items):\n",
        "    self.drs=items\n",
        "  def __iter__(self):\n",
        "    return self\n",
        "  def __next__(self):\n",
        "    if self.drs.start>self.drs.end:\n",
        "      raise StopIteration\n",
        "    current=self.drs.start\n",
        "    self.drs.start+=1\n",
        "    return current\n",
        "for i in myrange1(1,12):\n",
        "  print(i,end=\" \")"
      ]
    },
    {
      "cell_type": "code",
      "execution_count": null,
      "metadata": {
        "colab": {
          "base_uri": "https://localhost:8080/"
        },
        "id": "RPGddLD2icVb",
        "outputId": "b2608556-052e-487d-9fd4-8950cf6ba70b"
      },
      "outputs": [
        {
          "name": "stdout",
          "output_type": "stream",
          "text": [
            "1\n",
            "2\n",
            "3\n",
            "4\n"
          ]
        }
      ],
      "source": [
        "class myrange1:\n",
        "  def __init__(self,start,end):\n",
        "    self.start=start\n",
        "    self.end=end\n",
        "  def __iter__(self):\n",
        "    return myiterator(self)\n",
        "class myiterator:\n",
        "  def __init__(self,iterable):\n",
        "    self.obj=iterable\n",
        "  def __next__(self):\n",
        "    if self.obj.start>self.obj.end:\n",
        "      raise StopIteration\n",
        "    current=self.obj.start\n",
        "    self.obj.start+=1\n",
        "    return current\n",
        "for i in iter([1,2,3,4]):\n",
        "  print(i)"
      ]
    },
    {
      "cell_type": "code",
      "execution_count": null,
      "metadata": {
        "colab": {
          "base_uri": "https://localhost:8080/"
        },
        "id": "FYraDJ06jQr7",
        "outputId": "c1428580-70b3-4681-e1ad-aa7c90b23339"
      },
      "outputs": [
        {
          "name": "stdout",
          "output_type": "stream",
          "text": [
            "1\n",
            "2\n",
            "3\n",
            "4\n",
            "5\n",
            "6\n",
            "7\n",
            "8\n",
            "9\n",
            "10\n",
            "11\n"
          ]
        }
      ],
      "source": [
        "#customized range\n",
        "class myrange2:\n",
        "  def __init__(self,start,end):\n",
        "    self.start=start\n",
        "    self.end=end\n",
        "  def __iter__(self):\n",
        "    return myiterator(self)\n",
        "class myiterator:\n",
        "  def __init__(self,iterr):\n",
        "    self.item=iterr\n",
        "  def __iter__(self):\n",
        "    return self\n",
        "  def __next__(self):\n",
        "    if self.item.start>self.item.end:\n",
        "      raise StopIteration\n",
        "    current=self.item.start\n",
        "    self.item.start+=1\n",
        "    return current\n",
        "for i in myrange2(1,11):\n",
        "  print(i)\n",
        "\n"
      ]
    },
    {
      "cell_type": "code",
      "execution_count": null,
      "metadata": {
        "colab": {
          "base_uri": "https://localhost:8080/"
        },
        "id": "Qf4_XOR6LnWw",
        "outputId": "f00376b2-7f0a-4a3d-8d6b-9c490b42a63a"
      },
      "outputs": [
        {
          "name": "stdout",
          "output_type": "stream",
          "text": [
            "133078911083968 Address of iterator 1\n",
            "133078911083968 Address of iterator 2\n"
          ]
        }
      ],
      "source": [
        "l1=[1,2,3]\n",
        "c1=iter(l1)\n",
        "print(id(c1), \"Address of iterator 1\")\n",
        "c2=iter(c1)\n",
        "print(id(c2),\"Address of iterator 2\")\n",
        "#This confirms that when you pass an iterator function to a iter then the same iterator is returned, as we can see address of both iterators are the same"
      ]
    },
    {
      "cell_type": "code",
      "execution_count": null,
      "metadata": {
        "id": "Ve-5ePtWWD32"
      },
      "outputs": [],
      "source": [
        "#serialization is the process of converting custom object into a format that can be easily stored and transmitted , for example a dictionary object can be converted into JSON(serialization)\n",
        "#and passed over to another file . Similarly a custom made object from a custom made class can be pickled(converted into byte-streams) and transmitted such that all its functionalities\n",
        "#of the custom object are retained"
      ]
    },
    {
      "cell_type": "code",
      "execution_count": null,
      "metadata": {
        "id": "HsvwXtTCktfB"
      },
      "outputs": [],
      "source": [
        "#Iterator is used for loading items from a iterable one at a time, it doesnot load the entire data into memory at once. Generators too is used to make iterator"
      ]
    },
    {
      "cell_type": "code",
      "execution_count": null,
      "metadata": {
        "colab": {
          "base_uri": "https://localhost:8080/"
        },
        "id": "l2vkpxyhk_51",
        "outputId": "302e30d4-79f0-463e-8bcd-e16b9d29a64e"
      },
      "outputs": [
        {
          "name": "stdout",
          "output_type": "stream",
          "text": [
            "85176\n",
            "48\n"
          ]
        }
      ],
      "source": [
        "#Python generators are simple way of creating iterators\n",
        "#why use iterators\n",
        "l1=[x for x in range(1,10000)]\n",
        "l2=iter(l1)\n",
        "import sys\n",
        "print(sys.getsizeof(l1))\n",
        "print(sys.getsizeof(l2))\n",
        "#The difference in memory is because the iterators deal with only 1 item at a time, and then moves on to the next, at a time the iterator deals with only 1 item"
      ]
    },
    {
      "cell_type": "code",
      "execution_count": null,
      "metadata": {
        "colab": {
          "base_uri": "https://localhost:8080/"
        },
        "id": "4FNdgzxIiLWl",
        "outputId": "a8d1eea1-934f-4f0d-c5f5-0877850fff47"
      },
      "outputs": [
        {
          "name": "stdout",
          "output_type": "stream",
          "text": [
            "First statement\n",
            "Second statement\n",
            "Third statement\n"
          ]
        }
      ],
      "source": [
        "#Generator is one of the ways of creating iterators, apparently a simple way of creating iterators\n",
        "def gen_demo():\n",
        "  yield \"First statement\"\n",
        "  yield \"Second statement\"\n",
        "  yield \"Third statement\"\n",
        "gen=gen_demo()\n",
        "for i in gen:\n",
        "  print(i)\n",
        "#While dealing with generators, we don't even have to call the next magic method again and again it will do on its own"
      ]
    },
    {
      "cell_type": "code",
      "execution_count": null,
      "metadata": {
        "colab": {
          "base_uri": "https://localhost:8080/",
          "height": 175
        },
        "id": "Em6rooVcsNM5",
        "outputId": "898c0b84-577e-4c07-d72f-f81a483e2910"
      },
      "outputs": [
        {
          "ename": "StopIteration",
          "evalue": "ignored",
          "output_type": "error",
          "traceback": [
            "\u001b[0;31m---------------------------------------------------------------------------\u001b[0m",
            "\u001b[0;31mStopIteration\u001b[0m                             Traceback (most recent call last)",
            "\u001b[0;32m<ipython-input-5-6e72e47198db>\u001b[0m in \u001b[0;36m<cell line: 1>\u001b[0;34m()\u001b[0m\n\u001b[0;32m----> 1\u001b[0;31m \u001b[0mnext\u001b[0m\u001b[0;34m(\u001b[0m\u001b[0mgen\u001b[0m\u001b[0;34m)\u001b[0m\u001b[0;34m\u001b[0m\u001b[0;34m\u001b[0m\u001b[0m\n\u001b[0m",
            "\u001b[0;31mStopIteration\u001b[0m: "
          ]
        }
      ],
      "source": [
        "next(gen)"
      ]
    },
    {
      "cell_type": "code",
      "execution_count": null,
      "metadata": {
        "colab": {
          "base_uri": "https://localhost:8080/",
          "height": 36
        },
        "id": "YYexfWSLsRua",
        "outputId": "bfe0f368-6eff-4c72-cc46-b86f00f17ace"
      },
      "outputs": [
        {
          "data": {
            "application/vnd.google.colaboratory.intrinsic+json": {
              "type": "string"
            },
            "text/plain": [
              "'First statement'"
            ]
          },
          "execution_count": 10,
          "metadata": {},
          "output_type": "execute_result"
        }
      ],
      "source": [
        "gen2=gen_demo()\n",
        "next(gen2)"
      ]
    },
    {
      "cell_type": "code",
      "execution_count": null,
      "metadata": {
        "colab": {
          "base_uri": "https://localhost:8080/",
          "height": 262
        },
        "id": "VbApfsRisXn7",
        "outputId": "c9ac4c5e-5fa7-44ab-dee8-fa61d0019de3"
      },
      "outputs": [
        {
          "name": "stdout",
          "output_type": "stream",
          "text": [
            "Second statement\n",
            "Third statement\n"
          ]
        },
        {
          "ename": "StopIteration",
          "evalue": "ignored",
          "output_type": "error",
          "traceback": [
            "\u001b[0;31m---------------------------------------------------------------------------\u001b[0m",
            "\u001b[0;31mStopIteration\u001b[0m                             Traceback (most recent call last)",
            "\u001b[0;32m<ipython-input-11-ef572b987383>\u001b[0m in \u001b[0;36m<cell line: 3>\u001b[0;34m()\u001b[0m\n\u001b[1;32m      1\u001b[0m \u001b[0mprint\u001b[0m\u001b[0;34m(\u001b[0m\u001b[0mnext\u001b[0m\u001b[0;34m(\u001b[0m\u001b[0mgen2\u001b[0m\u001b[0;34m)\u001b[0m\u001b[0;34m)\u001b[0m\u001b[0;34m\u001b[0m\u001b[0;34m\u001b[0m\u001b[0m\n\u001b[1;32m      2\u001b[0m \u001b[0mprint\u001b[0m\u001b[0;34m(\u001b[0m\u001b[0mnext\u001b[0m\u001b[0;34m(\u001b[0m\u001b[0mgen2\u001b[0m\u001b[0;34m)\u001b[0m\u001b[0;34m)\u001b[0m\u001b[0;34m\u001b[0m\u001b[0;34m\u001b[0m\u001b[0m\n\u001b[0;32m----> 3\u001b[0;31m \u001b[0mprint\u001b[0m\u001b[0;34m(\u001b[0m\u001b[0mnext\u001b[0m\u001b[0;34m(\u001b[0m\u001b[0mgen2\u001b[0m\u001b[0;34m)\u001b[0m\u001b[0;34m)\u001b[0m\u001b[0;34m\u001b[0m\u001b[0;34m\u001b[0m\u001b[0m\n\u001b[0m\u001b[1;32m      4\u001b[0m \u001b[0;31m#We can either print each of the yield using next function or we can directly use loop to do it as we have seen above\u001b[0m\u001b[0;34m\u001b[0m\u001b[0;34m\u001b[0m\u001b[0m\n",
            "\u001b[0;31mStopIteration\u001b[0m: "
          ]
        }
      ],
      "source": [
        "print(next(gen2))\n",
        "print(next(gen2))\n",
        "print(next(gen2))\n",
        "#We can either print each of the yield using next function or we can directly use loop to do it as we have seen above"
      ]
    },
    {
      "cell_type": "code",
      "execution_count": null,
      "metadata": {
        "colab": {
          "base_uri": "https://localhost:8080/"
        },
        "id": "jyNiQNsut8O6",
        "outputId": "9824766a-f649-4390-86f1-63e33b6ebca5"
      },
      "outputs": [
        {
          "name": "stdout",
          "output_type": "stream",
          "text": [
            "1\n",
            "2\n",
            "3\n",
            "4\n",
            "5\n"
          ]
        }
      ],
      "source": [
        "class miner:\n",
        "  def __init__(self,limit):\n",
        "    self.limit=limit\n",
        "  def __iter__(self):\n",
        "    self.start=0\n",
        "    return self\n",
        "  def __next__(self):\n",
        "    if self.start<self.limit:\n",
        "      self.start+=1\n",
        "      return self.start\n",
        "    raise StopIteration\n",
        "for i in miner(5):\n",
        "  print(i)\n",
        "#as soon as miner(5) is encountered the __init__ magic method is executed, limit attribute is intialized , then __iter__ magic method would be called and __next__ would be called"
      ]
    },
    {
      "cell_type": "code",
      "execution_count": null,
      "metadata": {
        "colab": {
          "base_uri": "https://localhost:8080/"
        },
        "id": "sTH7QNzNt7s7",
        "outputId": "2d9cb4d9-ad49-489e-97ae-3643d76d1695"
      },
      "outputs": [
        {
          "name": "stdout",
          "output_type": "stream",
          "text": [
            "1\n",
            "2\n",
            "3\n",
            "4\n",
            "5\n"
          ]
        }
      ],
      "source": [
        "class miner1:\n",
        "  def __init__(self,limit):\n",
        "    self.limit=limit\n",
        "  def __iter__(self):\n",
        "    self.start=0\n",
        "    return self\n",
        "  def __next__(self):\n",
        "    if self.start<self.limit:\n",
        "      self.start+=1\n",
        "      return self.start\n",
        "    raise StopIteration\n",
        "for i in miner1(5):\n",
        "  print(i)"
      ]
    },
    {
      "cell_type": "code",
      "execution_count": null,
      "metadata": {
        "colab": {
          "base_uri": "https://localhost:8080/"
        },
        "id": "vacnafPAwjyt",
        "outputId": "e402c0ef-9fc4-4ed4-cec8-775af42bb3b7"
      },
      "outputs": [
        {
          "name": "stdout",
          "output_type": "stream",
          "text": [
            "90\n"
          ]
        }
      ],
      "source": [
        "#Lazy evaluation means values are generated and processed only when needed, they are not precomputed and stored in memory. This is highly efficient in case of large datasets\n",
        "def even_num(n):\n",
        "  for i in range(n):\n",
        "    yield i*2\n",
        "gen=even_num(10000)\n",
        "result=sum(next(gen) for _ in range(10))\n",
        "print(result)\n",
        "# In this example we can produce a million even numbers but we are only producing 10 numbers in the calculation and at a time only one value is produced one at a time and only a small portion\n",
        "#of data is in memory at a time"
      ]
    },
    {
      "cell_type": "code",
      "execution_count": null,
      "metadata": {
        "colab": {
          "base_uri": "https://localhost:8080/"
        },
        "id": "7lvpyKqLKocs",
        "outputId": "14158d23-d2c6-4308-e2bc-9568f3ad06cc"
      },
      "outputs": [
        {
          "name": "stdout",
          "output_type": "stream",
          "text": [
            "90\n"
          ]
        }
      ],
      "source": [
        "#Lazy evaluation mean that values are generated and processed only when needed, they are not precomputed and stored in the memory, this is highly memory efficient especially in case\n",
        "#of large datasets.\n",
        "def even_m(n):\n",
        "  for i in range(n):\n",
        "    yield i*2\n",
        "genm=even_m(10000)\n",
        "result=sum(next(genm) for _ in range(10))\n",
        "print(result)\n",
        "#In this example, we can produce millions of even numbers but we only need 10 numbers for the calculation and that too is produced one at a time and only a small portion of memory is occupied"
      ]
    },
    {
      "cell_type": "code",
      "execution_count": null,
      "metadata": {
        "colab": {
          "base_uri": "https://localhost:8080/"
        },
        "id": "W8aXGdi-TGl_",
        "outputId": "67221c02-df6c-4b87-e8bf-5785647a0c56"
      },
      "outputs": [
        {
          "name": "stdout",
          "output_type": "stream",
          "text": [
            "90\n"
          ]
        }
      ],
      "source": [
        "l1=[i*2 for i in range(10000)]\n",
        "result=sum(l1[:10])\n",
        "print(result)\n",
        "#another way of doing the same as above is like this but in this case a list of 10k numbers are created and stored in the memory although we only have calculated the sum of first 10\n",
        "#numbers\n",
        "#In stark contrast in the above case, the generator can produce 10k numbers but that is processed and generated only when neeeded and that saves a lot of memory"
      ]
    },
    {
      "cell_type": "code",
      "execution_count": null,
      "metadata": {
        "id": "5BRzVkWKUAr9"
      },
      "outputs": [],
      "source": [
        "#Generators uses yield function which pauses the execution of the function temporarily such that the execution can be started off again from the point where it was left, hence\n",
        "#retaining the state of the function in the process. In regular function after the execution of the return statement, we exit from the function which loses the state of the function\n"
      ]
    },
    {
      "cell_type": "code",
      "execution_count": null,
      "metadata": {
        "id": "QIz00QbMis49"
      },
      "outputs": [],
      "source": [
        "#Generator functions have atleast one yield statement and unlike regular functions generator functions are not executed the moment they are called, they are executed as we iterate through it\n",
        "#or if we are to use next(generator), next() function to iterate through it like in above case sum(next(genm) for _ in range(10))\n",
        "#When you call a generator function genm() you create a generator object from that but the generator function is not executed on calling it and it doesnot get executed until we iterate through\n",
        "#that generator object"
      ]
    },
    {
      "cell_type": "code",
      "execution_count": null,
      "metadata": {
        "colab": {
          "base_uri": "https://localhost:8080/"
        },
        "id": "Xx8K5ogNkb5V",
        "outputId": "0545b84a-a32e-4af5-ac81-fc3f02736f7f"
      },
      "outputs": [
        {
          "name": "stdout",
          "output_type": "stream",
          "text": [
            "0\n",
            "2\n",
            "4\n",
            "6\n",
            "8\n"
          ]
        }
      ],
      "source": [
        "# Regular function\n",
        "def regular_function(n):\n",
        "    result = []\n",
        "    for i in range(n):\n",
        "        result.append(i * 2)\n",
        "    return result\n",
        "\n",
        "# Using a regular function\n",
        "result_list = regular_function(5)\n",
        "\n",
        "# Create an explicit iterator for the result list\n",
        "result_iterator = iter(result_list)\n",
        "\n",
        "# Iterating through the iterator (explicitly created)\n",
        "for item in result_list:\n",
        "    print(item)  # Prints 0, 2, 4, 6, 8\n"
      ]
    },
    {
      "cell_type": "code",
      "execution_count": null,
      "metadata": {
        "colab": {
          "base_uri": "https://localhost:8080/"
        },
        "id": "iR4zLWCglf_7",
        "outputId": "9793562a-8b16-4a78-c4a9-e811df62b5b5"
      },
      "outputs": [
        {
          "name": "stdout",
          "output_type": "stream",
          "text": [
            "1\n",
            "4\n",
            "9\n",
            "16\n",
            "25\n",
            "36\n",
            "49\n",
            "64\n",
            "81\n",
            "100\n"
          ]
        }
      ],
      "source": [
        "def square(n):\n",
        "  for i in range(1,n+1):\n",
        "    yield i**2\n",
        "gen1=square(10)\n",
        "print(next(gen1))\n",
        "print(next(gen1))\n",
        "print(next(gen1))\n",
        "for i in gen1:\n",
        "  print(i)"
      ]
    },
    {
      "cell_type": "code",
      "execution_count": null,
      "metadata": {
        "colab": {
          "base_uri": "https://localhost:8080/"
        },
        "id": "bLhEn2Q7k-Hf",
        "outputId": "dd3be192-69f7-4249-f80f-d7618956fcba"
      },
      "outputs": [
        {
          "name": "stdout",
          "output_type": "stream",
          "text": [
            "0\n",
            "1\n",
            "2\n",
            "3\n",
            "4\n",
            "5\n",
            "6\n",
            "7\n",
            "8\n",
            "9\n"
          ]
        }
      ],
      "source": [
        "#Range function using generator\n",
        "def miner(n):\n",
        "  for i in range(n):\n",
        "    yield i\n",
        "for i in miner(10):\n",
        "  print(i)"
      ]
    },
    {
      "cell_type": "code",
      "execution_count": null,
      "metadata": {
        "colab": {
          "base_uri": "https://localhost:8080/"
        },
        "id": "_4UXj-K-2SaA",
        "outputId": "bc275144-4b53-4f95-8ccc-9ff56e7bf8ef"
      },
      "outputs": [
        {
          "name": "stdout",
          "output_type": "stream",
          "text": [
            "15\n",
            "16\n",
            "17\n",
            "18\n",
            "19\n",
            "20\n",
            "21\n",
            "22\n",
            "23\n",
            "24\n"
          ]
        }
      ],
      "source": [
        "def gem(start,end):\n",
        "  for i in range(start,end):\n",
        "    yield i\n",
        "for i in gem(15,25):\n",
        "  print(i)"
      ]
    },
    {
      "cell_type": "code",
      "execution_count": null,
      "metadata": {
        "colab": {
          "base_uri": "https://localhost:8080/"
        },
        "id": "Xuf3yDJu2eXl",
        "outputId": "32100c3b-8f52-4cd2-845e-ef5a78fd756c"
      },
      "outputs": [
        {
          "name": "stdout",
          "output_type": "stream",
          "text": [
            "[0, 1, 4, 9, 16, 25, 36, 49, 64, 81]\n"
          ]
        }
      ],
      "source": [
        "l1=[i**2 for i in range(10)]\n",
        "print(l1)"
      ]
    },
    {
      "cell_type": "code",
      "execution_count": null,
      "metadata": {
        "colab": {
          "base_uri": "https://localhost:8080/"
        },
        "id": "bIKNN5gn3Ohi",
        "outputId": "b4073329-4479-4ec4-bfb7-ae5a59113483"
      },
      "outputs": [
        {
          "name": "stdout",
          "output_type": "stream",
          "text": [
            "<generator object <genexpr> at 0x7c5cfe38c190>\n"
          ]
        }
      ],
      "source": [
        "l2=(i**2 for i in range(10))\n",
        "print(l2)\n",
        "#As you can see you have created a iterator object, so we have to iterate through the object"
      ]
    },
    {
      "cell_type": "code",
      "execution_count": null,
      "metadata": {
        "colab": {
          "base_uri": "https://localhost:8080/"
        },
        "id": "TagG3y7K3Ymj",
        "outputId": "718607bf-8476-4d7f-bccd-336890232a46"
      },
      "outputs": [
        {
          "name": "stdout",
          "output_type": "stream",
          "text": [
            "0\n",
            "1\n",
            "4\n",
            "9\n",
            "16\n",
            "25\n",
            "36\n",
            "49\n",
            "64\n",
            "81\n"
          ]
        }
      ],
      "source": [
        "for i in l2:\n",
        "  print(i)"
      ]
    },
    {
      "cell_type": "code",
      "execution_count": null,
      "metadata": {
        "id": "OayQfkKY4iuA"
      },
      "outputs": [],
      "source": [
        "import os\n",
        "import cv2\n",
        "def mann(folder_path):\n",
        "  for file in os.listdir(folder_path):\n",
        "    ndr=cv2.imread(os.path.join(folder_path,file))\n",
        "    yield ndr"
      ]
    },
    {
      "cell_type": "code",
      "execution_count": null,
      "metadata": {
        "colab": {
          "base_uri": "https://localhost:8080/"
        },
        "id": "TREbHhZV7ocq",
        "outputId": "2cf0ac77-4dd0-423d-8cd9-8a864dd2d414"
      },
      "outputs": [
        {
          "data": {
            "text/plain": [
              "array([[[ 72,  66,  53],\n",
              "        [ 72,  66,  53],\n",
              "        [ 71,  65,  52],\n",
              "        ...,\n",
              "        [ 96,  94,  70],\n",
              "        [ 95,  93,  69],\n",
              "        [ 95,  93,  69]],\n",
              "\n",
              "       [[ 72,  66,  53],\n",
              "        [ 72,  66,  53],\n",
              "        [ 72,  66,  53],\n",
              "        ...,\n",
              "        [ 96,  94,  70],\n",
              "        [ 95,  93,  69],\n",
              "        [ 96,  94,  70]],\n",
              "\n",
              "       [[ 72,  66,  53],\n",
              "        [ 72,  66,  53],\n",
              "        [ 72,  66,  53],\n",
              "        ...,\n",
              "        [ 97,  94,  73],\n",
              "        [ 96,  93,  72],\n",
              "        [ 96,  93,  72]],\n",
              "\n",
              "       ...,\n",
              "\n",
              "       [[128, 128, 128],\n",
              "        [128, 128, 128],\n",
              "        [128, 128, 128],\n",
              "        ...,\n",
              "        [128, 128, 128],\n",
              "        [128, 128, 128],\n",
              "        [128, 128, 128]],\n",
              "\n",
              "       [[128, 128, 128],\n",
              "        [128, 128, 128],\n",
              "        [128, 128, 128],\n",
              "        ...,\n",
              "        [128, 128, 128],\n",
              "        [128, 128, 128],\n",
              "        [128, 128, 128]],\n",
              "\n",
              "       [[128, 128, 128],\n",
              "        [128, 128, 128],\n",
              "        [128, 128, 128],\n",
              "        ...,\n",
              "        [128, 128, 128],\n",
              "        [128, 128, 128],\n",
              "        [128, 128, 128]]], dtype=uint8)"
            ]
          },
          "execution_count": 13,
          "metadata": {},
          "output_type": "execute_result"
        }
      ],
      "source": [
        "genn=mann(\"/content/images_folder\")\n",
        "next(genn)"
      ]
    },
    {
      "cell_type": "code",
      "execution_count": null,
      "metadata": {
        "colab": {
          "base_uri": "https://localhost:8080/"
        },
        "id": "BTQ6rYh6-jzc",
        "outputId": "51ccd2e9-a203-4e24-ae92-5f74e9bd9afa"
      },
      "outputs": [
        {
          "data": {
            "text/plain": [
              "array([[[156, 156, 116],\n",
              "        [150, 150, 110],\n",
              "        [146, 146, 106],\n",
              "        ...,\n",
              "        [198, 205, 202],\n",
              "        [189, 196, 193],\n",
              "        [182, 189, 184]],\n",
              "\n",
              "       [[152, 152, 112],\n",
              "        [151, 151, 111],\n",
              "        [153, 153, 113],\n",
              "        ...,\n",
              "        [198, 205, 202],\n",
              "        [189, 196, 193],\n",
              "        [182, 189, 184]],\n",
              "\n",
              "       [[149, 149, 109],\n",
              "        [152, 152, 112],\n",
              "        [160, 160, 120],\n",
              "        ...,\n",
              "        [198, 205, 202],\n",
              "        [189, 196, 193],\n",
              "        [182, 189, 184]],\n",
              "\n",
              "       ...,\n",
              "\n",
              "       [[109, 122, 124],\n",
              "        [108, 121, 123],\n",
              "        [112, 125, 127],\n",
              "        ...,\n",
              "        [119, 131, 133],\n",
              "        [107, 119, 121],\n",
              "        [100, 112, 114]],\n",
              "\n",
              "       [[109, 122, 124],\n",
              "        [106, 119, 121],\n",
              "        [109, 122, 124],\n",
              "        ...,\n",
              "        [128, 140, 142],\n",
              "        [117, 129, 131],\n",
              "        [108, 120, 122]],\n",
              "\n",
              "       [[110, 123, 125],\n",
              "        [106, 119, 121],\n",
              "        [106, 119, 121],\n",
              "        ...,\n",
              "        [131, 143, 145],\n",
              "        [119, 131, 133],\n",
              "        [110, 122, 124]]], dtype=uint8)"
            ]
          },
          "execution_count": 15,
          "metadata": {},
          "output_type": "execute_result"
        }
      ],
      "source": [
        "next(genn)"
      ]
    },
    {
      "cell_type": "code",
      "execution_count": null,
      "metadata": {
        "colab": {
          "base_uri": "https://localhost:8080/"
        },
        "id": "bwewo3tD9TpA",
        "outputId": "dd263652-e828-4dc5-b6f2-2e50f148150a"
      },
      "outputs": [
        {
          "name": "stdout",
          "output_type": "stream",
          "text": [
            "Folder 'images_folder' created successfully.\n"
          ]
        }
      ],
      "source": [
        "import os\n",
        "\n",
        "# Define the name of the folder you want to create\n",
        "folder_name = \"images_folder\"\n",
        "\n",
        "# Check if the folder already exists, and if not, create it\n",
        "if not os.path.exists(folder_name):\n",
        "    os.mkdir(folder_name)\n",
        "    print(f\"Folder '{folder_name}' created successfully.\")\n",
        "else:\n",
        "    print(f\"Folder '{folder_name}' already exists.\")\n"
      ]
    },
    {
      "cell_type": "code",
      "execution_count": null,
      "metadata": {
        "id": "qiywNFrU-uQO"
      },
      "outputs": [],
      "source": [
        "import os\n",
        "import cv2\n",
        "def manners(folder_path):\n",
        "  for files in os.listdir(folder_path):\n",
        "    nrr=cv2.imread(os.path.join(folder_path,files))\n",
        "    yield nrr\n",
        "#This code creates a generator which enters all the image files within a folder(using os module), reads each image file and converts those files\n",
        "#into numpy array, this doesnot load all the images at once into the memory or doesnot store all the numpy arrays at once into memory, it produces the\n",
        "#numpy array and then fetches the next image, extracts numpy array from that returns it and then extracts the numpy array from the next image\n",
        "#such that at one point of time numpy array of only 1 image file is stored in the memory\n",
        "#2ND EXPLANATION\n",
        "#At one point of time only 1 image is loaded in the memory, we then extract numpy array from that and iterate to the next image"
      ]
    },
    {
      "cell_type": "code",
      "execution_count": null,
      "metadata": {
        "colab": {
          "base_uri": "https://localhost:8080/"
        },
        "id": "Ay4U3yZA_HOs",
        "outputId": "661afd68-a690-4d1a-9464-4ce8b672f15b"
      },
      "outputs": [
        {
          "name": "stdout",
          "output_type": "stream",
          "text": [
            "[[[72 66 53]\n",
            "  [72 66 53]\n",
            "  [71 65 52]\n",
            "  ...\n",
            "  [96 94 70]\n",
            "  [95 93 69]\n",
            "  [95 93 69]]\n",
            "\n",
            " [[72 66 53]\n",
            "  [72 66 53]\n",
            "  [72 66 53]\n",
            "  ...\n",
            "  [96 94 70]\n",
            "  [95 93 69]\n",
            "  [96 94 70]]\n",
            "\n",
            " [[72 66 53]\n",
            "  [72 66 53]\n",
            "  [72 66 53]\n",
            "  ...\n",
            "  [97 94 73]\n",
            "  [96 93 72]\n",
            "  [96 93 72]]\n",
            "\n",
            " ...\n",
            "\n",
            " [[20 45 35]\n",
            "  [20 45 35]\n",
            "  [22 46 36]\n",
            "  ...\n",
            "  [ 6 18 12]\n",
            "  [ 6 18 12]\n",
            "  [ 6 18 12]]\n",
            "\n",
            " [[20 44 34]\n",
            "  [20 44 34]\n",
            "  [20 44 34]\n",
            "  ...\n",
            "  [ 6 18 12]\n",
            "  [ 6 18 12]\n",
            "  [ 6 18 12]]\n",
            "\n",
            " [[20 44 34]\n",
            "  [19 43 33]\n",
            "  [19 43 33]\n",
            "  ...\n",
            "  [ 6 18 12]\n",
            "  [ 6 18 12]\n",
            "  [ 6 18 12]]]\n",
            "[[[156 156 116]\n",
            "  [150 150 110]\n",
            "  [146 146 106]\n",
            "  ...\n",
            "  [198 205 202]\n",
            "  [189 196 193]\n",
            "  [182 189 184]]\n",
            "\n",
            " [[152 152 112]\n",
            "  [151 151 111]\n",
            "  [153 153 113]\n",
            "  ...\n",
            "  [198 205 202]\n",
            "  [189 196 193]\n",
            "  [182 189 184]]\n",
            "\n",
            " [[149 149 109]\n",
            "  [152 152 112]\n",
            "  [160 160 120]\n",
            "  ...\n",
            "  [198 205 202]\n",
            "  [189 196 193]\n",
            "  [182 189 184]]\n",
            "\n",
            " ...\n",
            "\n",
            " [[109 122 124]\n",
            "  [108 121 123]\n",
            "  [112 125 127]\n",
            "  ...\n",
            "  [119 131 133]\n",
            "  [107 119 121]\n",
            "  [100 112 114]]\n",
            "\n",
            " [[109 122 124]\n",
            "  [106 119 121]\n",
            "  [109 122 124]\n",
            "  ...\n",
            "  [128 140 142]\n",
            "  [117 129 131]\n",
            "  [108 120 122]]\n",
            "\n",
            " [[110 123 125]\n",
            "  [106 119 121]\n",
            "  [106 119 121]\n",
            "  ...\n",
            "  [131 143 145]\n",
            "  [119 131 133]\n",
            "  [110 122 124]]]\n",
            "[[[ 52 145 200]\n",
            "  [ 66 159 214]\n",
            "  [ 59 154 210]\n",
            "  ...\n",
            "  [ 77 190 255]\n",
            "  [ 24 138 201]\n",
            "  [ 61 175 238]]\n",
            "\n",
            " [[ 65 158 213]\n",
            "  [ 64 157 212]\n",
            "  [ 62 157 213]\n",
            "  ...\n",
            "  [ 57 170 236]\n",
            "  [ 88 201 255]\n",
            "  [ 67 181 244]]\n",
            "\n",
            " [[108 202 255]\n",
            "  [ 38 132 185]\n",
            "  [ 28 124 178]\n",
            "  ...\n",
            "  [  0  74 142]\n",
            "  [ 25 136 204]\n",
            "  [ 55 167 233]]\n",
            "\n",
            " ...\n",
            "\n",
            " [[156 228 255]\n",
            "  [151 223 253]\n",
            "  [140 210 239]\n",
            "  ...\n",
            "  [137 211 223]\n",
            "  [152 227 241]\n",
            "  [161 239 252]]\n",
            "\n",
            " [[142 215 245]\n",
            "  [147 220 250]\n",
            "  [141 214 242]\n",
            "  ...\n",
            "  [146 220 232]\n",
            "  [142 220 233]\n",
            "  [144 223 236]]\n",
            "\n",
            " [[126 199 229]\n",
            "  [143 216 246]\n",
            "  [147 220 248]\n",
            "  ...\n",
            "  [156 232 244]\n",
            "  [146 224 237]\n",
            "  [146 225 238]]]\n",
            "[[[ 99  95  84]\n",
            "  [ 99  95  84]\n",
            "  [100  95  86]\n",
            "  ...\n",
            "  [178 173 174]\n",
            "  [178 173 174]\n",
            "  [178 173 174]]\n",
            "\n",
            " [[ 99  95  84]\n",
            "  [ 99  95  84]\n",
            "  [100  95  86]\n",
            "  ...\n",
            "  [180 175 176]\n",
            "  [179 174 175]\n",
            "  [179 174 175]]\n",
            "\n",
            " [[ 99  95  84]\n",
            "  [ 99  95  84]\n",
            "  [100  95  86]\n",
            "  ...\n",
            "  [181 177 176]\n",
            "  [181 177 176]\n",
            "  [180 176 175]]\n",
            "\n",
            " ...\n",
            "\n",
            " [[ 51  55  49]\n",
            "  [ 51  55  49]\n",
            "  [ 52  56  50]\n",
            "  ...\n",
            "  [149 135 117]\n",
            "  [148 136 118]\n",
            "  [151 137 119]]\n",
            "\n",
            " [[ 49  56  49]\n",
            "  [ 49  56  49]\n",
            "  [ 50  57  50]\n",
            "  ...\n",
            "  [140 127 111]\n",
            "  [140 130 113]\n",
            "  [143 130 114]]\n",
            "\n",
            " [[ 50  57  50]\n",
            "  [ 50  57  50]\n",
            "  [ 50  57  50]\n",
            "  ...\n",
            "  [133 122 108]\n",
            "  [133 122 108]\n",
            "  [134 123 109]]]\n",
            "[[[0 0 0]\n",
            "  [0 0 0]\n",
            "  [0 0 0]\n",
            "  ...\n",
            "  [0 0 0]\n",
            "  [0 0 0]\n",
            "  [0 0 0]]\n",
            "\n",
            " [[0 0 0]\n",
            "  [0 0 0]\n",
            "  [0 0 0]\n",
            "  ...\n",
            "  [0 0 0]\n",
            "  [0 0 0]\n",
            "  [0 0 0]]\n",
            "\n",
            " [[0 0 0]\n",
            "  [0 0 0]\n",
            "  [0 0 0]\n",
            "  ...\n",
            "  [0 0 0]\n",
            "  [0 0 0]\n",
            "  [0 0 0]]\n",
            "\n",
            " ...\n",
            "\n",
            " [[0 0 0]\n",
            "  [0 0 0]\n",
            "  [0 0 0]\n",
            "  ...\n",
            "  [0 0 0]\n",
            "  [0 0 0]\n",
            "  [0 0 0]]\n",
            "\n",
            " [[0 0 0]\n",
            "  [0 0 0]\n",
            "  [0 0 0]\n",
            "  ...\n",
            "  [0 0 0]\n",
            "  [0 0 0]\n",
            "  [0 0 0]]\n",
            "\n",
            " [[0 0 0]\n",
            "  [0 0 0]\n",
            "  [0 0 0]\n",
            "  ...\n",
            "  [0 0 0]\n",
            "  [0 0 0]\n",
            "  [0 0 0]]]\n",
            "[[[ 99  96  92]\n",
            "  [ 99  96  92]\n",
            "  [ 98  95  91]\n",
            "  ...\n",
            "  [154 157 165]\n",
            "  [153 156 164]\n",
            "  [152 155 163]]\n",
            "\n",
            " [[ 99  96  92]\n",
            "  [ 99  96  92]\n",
            "  [ 98  95  91]\n",
            "  ...\n",
            "  [155 158 166]\n",
            "  [154 157 165]\n",
            "  [153 156 164]]\n",
            "\n",
            " [[ 99  96  92]\n",
            "  [ 98  95  91]\n",
            "  [ 98  95  91]\n",
            "  ...\n",
            "  [157 161 166]\n",
            "  [156 160 165]\n",
            "  [155 159 164]]\n",
            "\n",
            " ...\n",
            "\n",
            " [[ 50  57  50]\n",
            "  [ 50  57  50]\n",
            "  [ 50  57  50]\n",
            "  ...\n",
            "  [101 107 106]\n",
            "  [102 108 107]\n",
            "  [102 108 107]]\n",
            "\n",
            " [[ 49  56  49]\n",
            "  [ 49  56  49]\n",
            "  [ 50  57  50]\n",
            "  ...\n",
            "  [ 91 102 106]\n",
            "  [ 91 102 106]\n",
            "  [ 91 102 106]]\n",
            "\n",
            " [[ 49  56  49]\n",
            "  [ 49  56  49]\n",
            "  [ 50  57  50]\n",
            "  ...\n",
            "  [ 91 103 109]\n",
            "  [ 90 102 108]\n",
            "  [ 90 102 108]]]\n",
            "[[[145 142 167]\n",
            "  [145 142 167]\n",
            "  [145 142 167]\n",
            "  ...\n",
            "  [159 161 179]\n",
            "  [160 162 180]\n",
            "  [160 162 180]]\n",
            "\n",
            " [[145 142 167]\n",
            "  [145 142 167]\n",
            "  [146 143 168]\n",
            "  ...\n",
            "  [160 162 180]\n",
            "  [160 162 180]\n",
            "  [160 162 180]]\n",
            "\n",
            " [[145 142 167]\n",
            "  [146 143 168]\n",
            "  [146 144 166]\n",
            "  ...\n",
            "  [160 162 180]\n",
            "  [160 162 180]\n",
            "  [160 162 180]]\n",
            "\n",
            " ...\n",
            "\n",
            " [[ 51  59  82]\n",
            "  [ 51  59  82]\n",
            "  [ 53  61  84]\n",
            "  ...\n",
            "  [ 40  41 102]\n",
            "  [ 40  41 102]\n",
            "  [ 40  41 102]]\n",
            "\n",
            " [[ 50  58  81]\n",
            "  [ 51  59  82]\n",
            "  [ 52  60  83]\n",
            "  ...\n",
            "  [ 40  41 102]\n",
            "  [ 40  41 102]\n",
            "  [ 40  41 102]]\n",
            "\n",
            " [[ 50  58  81]\n",
            "  [ 51  59  82]\n",
            "  [ 52  60  83]\n",
            "  ...\n",
            "  [ 40  41 102]\n",
            "  [ 40  41 102]\n",
            "  [ 40  41 102]]]\n",
            "[[[16 15 17]\n",
            "  [16 15 17]\n",
            "  [17 16 18]\n",
            "  ...\n",
            "  [ 2  7  6]\n",
            "  [ 2  7  6]\n",
            "  [ 1  6  5]]\n",
            "\n",
            " [[17 16 18]\n",
            "  [17 16 18]\n",
            "  [17 16 18]\n",
            "  ...\n",
            "  [ 2  7  6]\n",
            "  [ 2  7  6]\n",
            "  [ 2  7  6]]\n",
            "\n",
            " [[17 16 18]\n",
            "  [17 16 18]\n",
            "  [17 16 18]\n",
            "  ...\n",
            "  [ 3  8  7]\n",
            "  [ 3  8  7]\n",
            "  [ 2  7  6]]\n",
            "\n",
            " ...\n",
            "\n",
            " [[15 17 71]\n",
            "  [16 18 72]\n",
            "  [16 18 72]\n",
            "  ...\n",
            "  [10 23 25]\n",
            "  [11 24 26]\n",
            "  [11 24 26]]\n",
            "\n",
            " [[16 18 72]\n",
            "  [16 18 72]\n",
            "  [16 18 72]\n",
            "  ...\n",
            "  [10 23 25]\n",
            "  [10 23 25]\n",
            "  [11 24 26]]\n",
            "\n",
            " [[17 19 73]\n",
            "  [17 19 73]\n",
            "  [16 18 72]\n",
            "  ...\n",
            "  [10 23 25]\n",
            "  [10 23 25]\n",
            "  [11 24 26]]]\n"
          ]
        }
      ],
      "source": [
        "c1=manners(\"/content/images_folder\")\n",
        "for i in c1:\n",
        "  print(i)\n",
        "#"
      ]
    },
    {
      "cell_type": "code",
      "execution_count": null,
      "metadata": {
        "id": "n_z1ZSsgA7Jz"
      },
      "outputs": [],
      "source": [
        "#Advantages of generators\n",
        "# Firstly generators are easy to implement which we can see from the way we made our own range function where initially we had to make seperate class\n",
        "#which had constructor(__init__ used to write configuration code and is executed the moment an object is created from a class), __iter__ and __next__ magic method\n",
        "#respectively but while using generator to create a range function we barely used a few lines of code"
      ]
    },
    {
      "cell_type": "code",
      "execution_count": null,
      "metadata": {
        "colab": {
          "base_uri": "https://localhost:8080/"
        },
        "id": "a9QPVFIztKuc",
        "outputId": "955c009c-4f40-4df6-f16e-c41ec9b4e055"
      },
      "outputs": [
        {
          "name": "stdout",
          "output_type": "stream",
          "text": [
            "85176\n",
            "104\n"
          ]
        }
      ],
      "source": [
        "#Second advantage of generator is memory efficiency\n",
        "import sys\n",
        "l=[i*2 for i in range(10000)]\n",
        "l1=(i*2 for i in range(10000))\n",
        "print(sys.getsizeof(l))\n",
        "print(sys.getsizeof(l1))\n",
        "#As you can see generator has occupied so less memory than list"
      ]
    },
    {
      "cell_type": "code",
      "execution_count": null,
      "metadata": {
        "colab": {
          "base_uri": "https://localhost:8080/"
        },
        "id": "vpA7IHYsuP3u",
        "outputId": "39b937aa-9cb8-40f7-a684-11b1b6257458"
      },
      "outputs": [
        {
          "data": {
            "text/plain": [
              "0"
            ]
          },
          "execution_count": 4,
          "metadata": {},
          "output_type": "execute_result"
        }
      ],
      "source": [
        "#Generators can be used for representing infinite series  which is not possible with regular functions\n",
        "def genm():\n",
        "   i=0\n",
        "   while True:\n",
        "     yield i\n",
        "     i+=2\n",
        "a=genm()\n",
        "next(a)"
      ]
    },
    {
      "cell_type": "code",
      "execution_count": null,
      "metadata": {
        "colab": {
          "base_uri": "https://localhost:8080/"
        },
        "id": "DdlnNYN8vGRo",
        "outputId": "4206ac61-c69a-45cf-e5f0-3acd5b1460d5"
      },
      "outputs": [
        {
          "data": {
            "text/plain": [
              "10"
            ]
          },
          "execution_count": 7,
          "metadata": {},
          "output_type": "execute_result"
        }
      ],
      "source": [
        "next(a)\n",
        "next(a)\n",
        "#As you can see we can create a infinite series and finc out all possible even numbers"
      ]
    },
    {
      "cell_type": "code",
      "execution_count": null,
      "metadata": {
        "colab": {
          "base_uri": "https://localhost:8080/"
        },
        "id": "TgnBq59Ivf7E",
        "outputId": "d484d34c-6cd7-440d-d3be-fb1db74502fe"
      },
      "outputs": [
        {
          "name": "stdout",
          "output_type": "stream",
          "text": [
            "6\n"
          ]
        }
      ],
      "source": [
        "def chnm(num):\n",
        "  x,y=0,1\n",
        "  for _ in range(num):\n",
        "    x,y=y,x+y\n",
        "    yield x\n",
        "def square(nums):\n",
        "  for num in nums:\n",
        "    yield num**2\n",
        "print(sum(square(chnm(3))))\n"
      ]
    },
    {
      "cell_type": "code",
      "execution_count": null,
      "metadata": {
        "colab": {
          "base_uri": "https://localhost:8080/"
        },
        "id": "d7od8Oxc-E61",
        "outputId": "04310e2d-db02-4379-b1da-9f07eb81c5a8"
      },
      "outputs": [
        {
          "name": "stdout",
          "output_type": "stream",
          "text": [
            "6\n"
          ]
        }
      ],
      "source": [
        "#chaining generator\n",
        "def chnm(num):\n",
        "  x,y=0,1\n",
        "  for _ in range(num):\n",
        "    x,y=y,x+y\n",
        "    yield x\n",
        "def square(num):\n",
        "  for n in num:\n",
        "    yield n**2\n",
        "print(sum(square(chnm(3))))\n",
        "#chaining can also be done using generators"
      ]
    },
    {
      "cell_type": "code",
      "execution_count": null,
      "metadata": {
        "colab": {
          "base_uri": "https://localhost:8080/",
          "height": 140
        },
        "id": "mCZIa-DV_SD4",
        "outputId": "40541fa3-5dc5-4d5e-8eb2-1fc38e281864"
      },
      "outputs": [
        {
          "ename": "SyntaxError",
          "evalue": "ignored",
          "output_type": "error",
          "traceback": [
            "\u001b[0;36m  File \u001b[0;32m\"<ipython-input-3-d058f4b5b98c>\"\u001b[0;36m, line \u001b[0;32m10\u001b[0m\n\u001b[0;31m    return f\"{\"name\":{self.name},\"state\":{self.state},\"city\":{self._city},\"age\":{self._age}}\"\u001b[0m\n\u001b[0m               ^\u001b[0m\n\u001b[0;31mSyntaxError\u001b[0m\u001b[0;31m:\u001b[0m f-string: expecting '}'\n"
          ]
        }
      ],
      "source": [
        "class Person:\n",
        "  def __init__(self,name,state,city,age):\n",
        "    self.name=name\n",
        "    self.state=state\n",
        "    self._city=city\n",
        "    self._age=age\n",
        "  def address(self):\n",
        "    return f\"{self.name} {self._city} {self.state}\"\n",
        "  def display(self):\n",
        "    return f\"{\"name\":{self.name},\"state\":{self.state},\"city\":{self._city},\"age\":{self._age}}\"\n"
      ]
    },
    {
      "cell_type": "code",
      "execution_count": null,
      "metadata": {
        "id": "w6DKfCev7dud"
      },
      "outputs": [],
      "source": [
        "class MyEnumerate:\n",
        "  def __init__(self,vl):\n",
        "    self.len=len(vl)\n",
        "  def __iter__(self):\n",
        "    self.current=0\n",
        "    return self\n",
        "  def __next__(self):\n",
        "    if self"
      ]
    },
    {
      "cell_type": "code",
      "execution_count": null,
      "metadata": {
        "colab": {
          "base_uri": "https://localhost:8080/"
        },
        "id": "MRDC5ReY9Qap",
        "outputId": "5560524a-473f-4093-9b8b-075a23ff490c"
      },
      "outputs": [
        {
          "data": {
            "text/plain": [
              "mappingproxy({'__module__': '__main__',\n",
              "              '__init__': <function __main__.Person.__init__(self, name, state)>,\n",
              "              'set_city': <function __main__.Person.set_city(self, city)>,\n",
              "              'get_city': <function __main__.Person.get_city(self)>,\n",
              "              'set_age': <function __main__.Person.set_age(self, age)>,\n",
              "              'address': <function __main__.Person.address(self)>,\n",
              "              '__dict__': <attribute '__dict__' of 'Person' objects>,\n",
              "              '__weakref__': <attribute '__weakref__' of 'Person' objects>,\n",
              "              '__doc__': None})"
            ]
          },
          "execution_count": 2,
          "metadata": {},
          "output_type": "execute_result"
        }
      ],
      "source": [
        "class Person:\n",
        "  def __init__(self,name, state):\n",
        "    self.name=name\n",
        "    self.state=state\n",
        "    self.__city=None\n",
        "    self.__age=None\n",
        "  def set_city(self,city):\n",
        "    self.__city=city\n",
        "  def get_city(self):\n",
        "    return self.__city\n",
        "  def set_age(self,age):\n",
        "    self.__age=age\n",
        "  def address(self):\n",
        "    return f\"{self.name} {self.__city} {self.state}\"\n",
        "Person.__dict__"
      ]
    },
    {
      "cell_type": "code",
      "execution_count": null,
      "metadata": {
        "colab": {
          "base_uri": "https://localhost:8080/"
        },
        "id": "mwSckH-DqhGi",
        "outputId": "3876ef03-7c78-4edc-a33f-6dabd84fcd67"
      },
      "outputs": [
        {
          "name": "stdout",
          "output_type": "stream",
          "text": [
            "__module__\n",
            "__init__\n",
            "set_city\n",
            "get_city\n",
            "set_age\n",
            "address\n",
            "__dict__\n",
            "__weakref__\n",
            "__doc__\n"
          ]
        }
      ],
      "source": [
        "for i in Person.__dict__:\n",
        "  print(i)\n",
        "# This is how you find the namescope of a class"
      ]
    },
    {
      "cell_type": "code",
      "execution_count": null,
      "metadata": {
        "colab": {
          "base_uri": "https://localhost:8080/",
          "height": 36
        },
        "id": "s787lKBxr3Ou",
        "outputId": "ee65057a-80a6-4669-db5e-ee8d88d08da7"
      },
      "outputs": [
        {
          "data": {
            "application/vnd.google.colaboratory.intrinsic+json": {
              "type": "string"
            },
            "text/plain": [
              "'Mahendra Manera Uganda'"
            ]
          },
          "execution_count": 5,
          "metadata": {},
          "output_type": "execute_result"
        }
      ],
      "source": [
        "a=Person(\"Mahendra\",\"Uganda\")\n",
        "a.set_city(\"Manera\")\n",
        "a.set_age(24)\n",
        "a.address()"
      ]
    },
    {
      "cell_type": "code",
      "execution_count": null,
      "metadata": {
        "colab": {
          "base_uri": "https://localhost:8080/"
        },
        "id": "20C2wYNStl8T",
        "outputId": "1aafa65d-cd88-4f50-e5ed-b8ea0edea40e"
      },
      "outputs": [
        {
          "name": "stdout",
          "output_type": "stream",
          "text": [
            "5 4\n"
          ]
        }
      ],
      "source": [
        "cn=0\n",
        "def gcd(a,b):\n",
        "  global cn\n",
        "  cn+=1\n",
        "  if a==b:\n",
        "    return a\n",
        "  elif a>b:\n",
        "    return gcd(a-b,b)\n",
        "  elif a<b:\n",
        "    return gcd(b-a,a)\n",
        "print(gcd(25,15),cn)"
      ]
    },
    {
      "cell_type": "code",
      "execution_count": null,
      "metadata": {
        "colab": {
          "base_uri": "https://localhost:8080/"
        },
        "id": "C3H4Jx51DUZJ",
        "outputId": "440d8008-5db2-4850-d8cf-65032a3a1046"
      },
      "outputs": [
        {
          "name": "stdout",
          "output_type": "stream",
          "text": [
            "5 4\n"
          ]
        }
      ],
      "source": [
        "cn1=0\n",
        "def gcd1(a,b):\n",
        "  global cn1\n",
        "  cn1+=1\n",
        "  if b==0:\n",
        "    return a\n",
        "  else:\n",
        "    return gcd1(b,a%b)\n",
        "print(gcd1(25,15),cn1)"
      ]
    },
    {
      "cell_type": "code",
      "execution_count": null,
      "metadata": {
        "colab": {
          "base_uri": "https://localhost:8080/"
        },
        "id": "gsVklpq_FEoi",
        "outputId": "1c0c8f54-d9df-44cd-9c0d-c6867afb2f5e"
      },
      "outputs": [
        {
          "name": "stdout",
          "output_type": "stream",
          "text": [
            "5 9\n"
          ]
        }
      ],
      "source": [
        "print(gcd1(15,25),cn1)"
      ]
    },
    {
      "cell_type": "code",
      "execution_count": null,
      "metadata": {
        "colab": {
          "base_uri": "https://localhost:8080/"
        },
        "id": "8LaosKTqFLaK",
        "outputId": "72b8178e-1b11-4b80-bc10-2f05af995983"
      },
      "outputs": [
        {
          "name": "stdout",
          "output_type": "stream",
          "text": [
            "0:a\n",
            "1:b\n",
            "2:c\n",
            "3:d\n"
          ]
        }
      ],
      "source": [
        "class Myenumerate:\n",
        "  def __init__(self,data):\n",
        "    self.data=data\n",
        "  def __iter__(self):\n",
        "    return Myenumerateiterator(self.data,len(self.data))\n",
        "class Myenumerateiterator:\n",
        "  def __init__(self,data,ln):\n",
        "    self.data=data\n",
        "    self.max_item=ln\n",
        "    self.current=0\n",
        "  def __next__(self):\n",
        "    if self.current>=self.max_item:\n",
        "      raise StopIteration\n",
        "    c=(self.current,self.data[self.current])\n",
        "    self.current+=1\n",
        "    return c\n",
        "for (index,item) in Myenumerate(\"abcd\"):\n",
        "  print(f\"{index}:{item}\")"
      ]
    },
    {
      "cell_type": "code",
      "execution_count": null,
      "metadata": {
        "colab": {
          "base_uri": "https://localhost:8080/"
        },
        "id": "7D52tGfWaJQ7",
        "outputId": "ebc42b61-3a68-4262-d0ce-5e404d4ed470"
      },
      "outputs": [
        {
          "name": "stdout",
          "output_type": "stream",
          "text": [
            "0 : a\n",
            "1 : b\n",
            "2 : c\n",
            "3 : d\n",
            "4 : e\n"
          ]
        }
      ],
      "source": [
        "class Myenumerate:\n",
        "  def __init__(self,data):\n",
        "    self.data=data\n",
        "  def __iter__(self):\n",
        "    return Myenumerateiterate(self.data,len(self.data))\n",
        "class Myenumerateiterate:\n",
        "  def __init__(self,data,ln):\n",
        "    self.data=data\n",
        "    self.max_items=ln\n",
        "    self.current=0\n",
        "  def __next__(self):\n",
        "    if self.current>=self.max_items:\n",
        "      raise StopIteration\n",
        "    c=(self.current,self.data[self.current])\n",
        "    self.current+=1\n",
        "    return c\n",
        "for (index,item) in Myenumerate(\"abcde\"):\n",
        "  print(f\"{index} : {item}\")"
      ]
    },
    {
      "cell_type": "code",
      "execution_count": null,
      "metadata": {
        "colab": {
          "base_uri": "https://localhost:8080/"
        },
        "id": "KyIiDwyH6EZ5",
        "outputId": "33169103-51f9-44ea-a845-8d9acf30744b"
      },
      "outputs": [
        {
          "name": "stdout",
          "output_type": "stream",
          "text": [
            "['a', 'b', 'c', 'a', 'b']\n",
            "['a', 'b', 'c', 'a', 'b', 'c', 'a']\n"
          ]
        }
      ],
      "source": [
        "class Circle:\n",
        "  def __init__(self,data,max_item):\n",
        "    self.data=data\n",
        "    self.current=0\n",
        "    self.max_item=max_item\n",
        "  def __iter__(self):\n",
        "    return self\n",
        "  def __next__(self):\n",
        "    if self.current>=self.max_item:\n",
        "      raise StopIteration\n",
        "    c=self.data[self.current%len(self.data)]\n",
        "    self.current+=1\n",
        "    return c\n",
        "c = Circle('abc', 5)\n",
        "d = Circle('abc', 7)\n",
        "print(list(c))\n",
        "print(list(d))"
      ]
    },
    {
      "cell_type": "code",
      "execution_count": null,
      "metadata": {
        "colab": {
          "base_uri": "https://localhost:8080/"
        },
        "id": "oalL6AMPQIwj",
        "outputId": "1230403b-49f0-4043-9c5d-a5a1aa643e8e"
      },
      "outputs": [
        {
          "name": "stdout",
          "output_type": "stream",
          "text": [
            "['a', 'b', 'c', 'a', 'b']\n",
            "['a', 'b', 'c', 'a', 'b', 'c', 'a']\n"
          ]
        }
      ],
      "source": [
        "class Circle:\n",
        "  def __init__(self,data,ln):\n",
        "    self.data=data\n",
        "    self.current=0\n",
        "    self.max_items=ln\n",
        "  def __iter__(self):\n",
        "    return self\n",
        "  def __next__(self):\n",
        "    if self.current>=self.max_items:\n",
        "      raise StopIteration\n",
        "    d=self.data[self.current%len(self.data)]\n",
        "    self.current+=1\n",
        "    return d\n",
        "c1=Circle(\"abc\",5)\n",
        "c2=Circle(\"abc\",7)\n",
        "print(list(c1))\n",
        "print(list(c2))\n",
        "#when self.current>=self.max_items only then StopIteration exception would be raised , initially self.current%len(self.data) would be 0%3(0 is remainder) so d is zero, self.current\n",
        "#is incremented by 1. d is returned, again self.current>=self.max_items is False so d=self.data[1] as self.current%len(self.data) would be 1%3 which is 1, now self.current would be\n",
        "#incremented to 2 and d is returned (we have 'a' and 'b' returned till now).\n",
        "#Now self.current=2 and if condition is False, so Exception won't be raised, d=self.data[2%3], as 2%3 would give remainder as 2, so d=self.data[2], self.current+=1 and d is returned\n",
        "#d='c' now, self.current is incremented to 3\n",
        "#Now self.current=3 and if condition is false, so no exception is raised, d=self.data[0] as self.current%len(self.data) would be 3%3 which is 0, so d='a', now self.current is incremented to 4\n",
        "#Now self.current=4, if condition is False, d=self.data[1] as self.current%len(self.data)=4%3, which would give 1 as remainder, d=self.data[1], d='b' and d is returned, self.current=5 now\n",
        "#d is d='b' now...\n",
        "#Now self.current=5, if condition is True and exception is raised. The same process is followed for c2 as well"
      ]
    },
    {
      "cell_type": "code",
      "execution_count": null,
      "metadata": {
        "colab": {
          "base_uri": "https://localhost:8080/"
        },
        "id": "QJfw0CrdOmQW",
        "outputId": "0f491c56-3b8b-4d40-dbb4-e4912d95777c"
      },
      "outputs": [
        {
          "name": "stdout",
          "output_type": "stream",
          "text": [
            "(1698900307.3604171, 'a')\n",
            "(1698900309.3625717, 'b')\n",
            "(1698900311.3647642, 'c')\n",
            "(1698900313.366714, 'd')\n"
          ]
        }
      ],
      "source": [
        "import time\n",
        "def elapsed_since(data):\n",
        "  for i in data:\n",
        "    yield (time.time(),i)\n",
        "for t in elapsed_since('abcd'):\n",
        "  print(t)\n",
        "  time.sleep(2)"
      ]
    },
    {
      "cell_type": "code",
      "execution_count": null,
      "metadata": {
        "colab": {
          "base_uri": "https://localhost:8080/"
        },
        "id": "j0a7-QxvajcY",
        "outputId": "b31b0e55-dd1f-4648-a809-2eaaae03370c"
      },
      "outputs": [
        {
          "name": "stdout",
          "output_type": "stream",
          "text": [
            "6349.633752638\n"
          ]
        }
      ],
      "source": [
        "import time\n",
        "print(time.perf_counter())"
      ]
    },
    {
      "cell_type": "code",
      "execution_count": null,
      "metadata": {
        "colab": {
          "base_uri": "https://localhost:8080/"
        },
        "id": "7Tih3QxJK0r-",
        "outputId": "98e35e9a-77a6-4d2f-b79c-4f7e8a7ebcc2"
      },
      "outputs": [
        {
          "name": "stdout",
          "output_type": "stream",
          "text": [
            "(7.152557373046875e-07, 'a')\n",
            "(2.0021533966064453, 'b')\n",
            "(2.002244710922241, 'c')\n",
            "(2.0017898082733154, 'd')\n",
            "(2.001887798309326, 'e')\n"
          ]
        }
      ],
      "source": [
        "import time\n",
        "def elapsed_since(data):\n",
        "  start=time.time()\n",
        "  for i in data:\n",
        "    end=time.time()\n",
        "    delay=end-start\n",
        "    start=end\n",
        "    yield (delay,i)\n",
        "for t in elapsed_since(\"abcde\"):\n",
        "  print(t)\n",
        "  time.sleep(2)"
      ]
    },
    {
      "cell_type": "code",
      "execution_count": null,
      "metadata": {
        "colab": {
          "base_uri": "https://localhost:8080/"
        },
        "id": "BdqBebHaPfUy",
        "outputId": "c5b9118f-ad4a-4176-d139-8d9d0a9c51eb"
      },
      "outputs": [
        {
          "name": "stdout",
          "output_type": "stream",
          "text": [
            "(7.152557373046875e-07, 'a')\n",
            "(2.002122402191162, 'b')\n",
            "(2.001377582550049, 'c')\n",
            "(2.002206325531006, 'd')\n",
            "(2.0022425651550293, 'e')\n"
          ]
        }
      ],
      "source": [
        "import time\n",
        "def elapsed_since1(data):\n",
        "  start=time.time()\n",
        "  for i in data:\n",
        "    end=time.time()\n",
        "    delay=end-start\n",
        "    start=end\n",
        "    yield (delay,i)\n",
        "for t in elapsed_since1(\"abcde\"):\n",
        "  print(t)\n",
        "  time.sleep(2)\n",
        "#when elapsed_since1 generator is called, start is initialized after which we enter in the for loop, following which end variable and delay variable are initialized then start is\n",
        "#initialized with end and then yield is executed which pauses the execution of function for a while to display the output(such that the state of function is still retained) and then\n",
        "#comes back and loads the next data in the memory , again initializes end, delay and start and then executes yield statement which pauses the function for a while(but retains the function state)\n",
        "#but comes back in the for loop, iterates over to next element in the iteration and repeats the process.\n",
        "#We should keep in mind that we never come out of the for loop throughout the process once we enter it."
      ]
    },
    {
      "cell_type": "code",
      "execution_count": null,
      "metadata": {
        "colab": {
          "base_uri": "https://localhost:8080/"
        },
        "id": "bMrn2c9vji-e",
        "outputId": "5bdcd9d4-6e65-403d-e2d5-f3ab5a9a1f2d"
      },
      "outputs": [
        {
          "name": "stdout",
          "output_type": "stream",
          "text": [
            "<b><i><u>hello world</u><\\i></b>\n"
          ]
        }
      ],
      "source": [
        "def bolder(func):\n",
        "  def wrapper():\n",
        "    return \"<b>\"+func()+\"</b>\"\n",
        "  return wrapper\n",
        "def italic(func):\n",
        "  def wrapper():\n",
        "    return \"<i>\"+func()+\"<\\i>\"\n",
        "  return wrapper\n",
        "def underline(func):\n",
        "  def wrapper():\n",
        "    return \"<u>\"+func()+\"</u>\"\n",
        "  return wrapper\n",
        "@bolder\n",
        "@italic\n",
        "@underline\n",
        "def hello():\n",
        "  return \"hello world\"\n",
        "print(hello())"
      ]
    },
    {
      "cell_type": "code",
      "execution_count": null,
      "metadata": {
        "colab": {
          "base_uri": "https://localhost:8080/"
        },
        "id": "3UqrpZ8vPzXF",
        "outputId": "0d48f6d5-804e-4764-d862-63a7d1be67d2"
      },
      "outputs": [
        {
          "name": "stdout",
          "output_type": "stream",
          "text": [
            "Sometime else\n"
          ]
        }
      ],
      "source": [
        "k=None\n",
        "if k:\n",
        "  print(\"Oh Yes\")\n",
        "else:\n",
        "  print(\"Sometime else\")\n",
        "#None is basically equivalent to False as can be determined from the above"
      ]
    },
    {
      "cell_type": "code",
      "execution_count": null,
      "metadata": {
        "colab": {
          "base_uri": "https://localhost:8080/",
          "height": 140
        },
        "id": "uGGxE7nZTv9k",
        "outputId": "559ba0be-b04b-486b-aadf-738b6698f621"
      },
      "outputs": [
        {
          "ename": "SyntaxError",
          "evalue": "ignored",
          "output_type": "error",
          "traceback": [
            "\u001b[0;36m  File \u001b[0;32m\"<ipython-input-13-e2c4db9bb965>\"\u001b[0;36m, line \u001b[0;32m7\u001b[0m\n\u001b[0;31m    break\u001b[0m\n\u001b[0m    ^\u001b[0m\n\u001b[0;31mSyntaxError\u001b[0m\u001b[0;31m:\u001b[0m 'break' outside loop\n"
          ]
        }
      ],
      "source": [
        "def printer(func):\n",
        "  def wrapper():\n",
        "    k=func()\n",
        "    if k:\n",
        "      return f\"{k}\"\n",
        "    else:\n",
        "\n",
        "  return wrapper\n",
        "@printer\n",
        "def hello():\n",
        "  return \"hello world\"\n",
        "@printer\n",
        "def hello1():\n",
        "  return None\n",
        "print(hello())\n",
        "print(hello1())\n"
      ]
    },
    {
      "cell_type": "code",
      "execution_count": null,
      "metadata": {
        "colab": {
          "base_uri": "https://localhost:8080/"
        },
        "id": "HKl83KgReiHi",
        "outputId": "19bc1898-66b0-473c-88db-e6f988d71083"
      },
      "outputs": [
        {
          "name": "stdout",
          "output_type": "stream",
          "text": [
            "Manager\n",
            "Manager\n"
          ]
        }
      ],
      "source": [
        "def printer(func):\n",
        "  def inner(*args,**kwargs):\n",
        "    k1=func(*args,*kwargs)\n",
        "    if k1:\n",
        "      print(k1)\n",
        "    return k1\n",
        "  return inner\n",
        "@printer\n",
        "def hello(string):\n",
        "  return string\n",
        "print(hello(\"Manager\"))\n"
      ]
    },
    {
      "cell_type": "code",
      "execution_count": null,
      "metadata": {
        "colab": {
          "base_uri": "https://localhost:8080/"
        },
        "id": "XwGjDSprfJVJ",
        "outputId": "29271bbf-d6c5-4240-bd96-ca2d7ff3721d"
      },
      "outputs": [
        {
          "name": "stdout",
          "output_type": "stream",
          "text": [
            "Help on function inner in module __main__:\n",
            "\n",
            "inner(*args, **kwargs)\n",
            "\n"
          ]
        }
      ],
      "source": [
        "help(hello)\n",
        "#As you can if you write the code like the above, your wrapper function gets exposed which is not good for security reasons, hence we use wraps decorator to avoid it"
      ]
    },
    {
      "cell_type": "code",
      "execution_count": null,
      "metadata": {
        "colab": {
          "base_uri": "https://localhost:8080/",
          "height": 53
        },
        "id": "3cZuGZWKfrNS",
        "outputId": "ef23aca3-4cdc-4c4b-a404-e812970b224b"
      },
      "outputs": [
        {
          "name": "stdout",
          "output_type": "stream",
          "text": [
            "Manager\n"
          ]
        },
        {
          "data": {
            "application/vnd.google.colaboratory.intrinsic+json": {
              "type": "string"
            },
            "text/plain": [
              "'Manager'"
            ]
          },
          "execution_count": 24,
          "metadata": {},
          "output_type": "execute_result"
        }
      ],
      "source": [
        "from functools import wraps\n",
        "def printer1(func):\n",
        "  @wraps(func)\n",
        "  def inner1(*args,**kwargs):\n",
        "    k1=func(*args,**kwargs)\n",
        "    if k1:\n",
        "      print(k1)\n",
        "    return k1\n",
        "  return inner1\n",
        "@printer1\n",
        "def hello1(strings):\n",
        "  return strings\n",
        "hello1(\"Manager\")"
      ]
    },
    {
      "cell_type": "code",
      "execution_count": null,
      "metadata": {
        "id": "RW0OGBwhpHg5"
      },
      "outputs": [],
      "source": [
        "@printer1\n",
        "def hello2(strings):\n",
        "  return strings\n",
        "hello2(None)"
      ]
    },
    {
      "cell_type": "code",
      "execution_count": null,
      "metadata": {
        "colab": {
          "base_uri": "https://localhost:8080/"
        },
        "id": "0xrX9soXwW2g",
        "outputId": "33bf1b6f-2c12-42d0-9958-2e874478564b"
      },
      "outputs": [
        {
          "name": "stdout",
          "output_type": "stream",
          "text": [
            "Help on function hello1 in module __main__:\n",
            "\n",
            "hello1(strings)\n",
            "\n"
          ]
        }
      ],
      "source": [
        "help(hello1)"
      ]
    },
    {
      "cell_type": "code",
      "execution_count": null,
      "metadata": {
        "colab": {
          "base_uri": "https://localhost:8080/"
        },
        "id": "7gwcGNB1wihh",
        "outputId": "65fafb0c-e32c-4aaf-de4f-2a476bdb30ee"
      },
      "outputs": [
        {
          "name": "stdout",
          "output_type": "stream",
          "text": [
            "hello\n",
            "hello\n"
          ]
        }
      ],
      "source": [
        "from functools import wraps\n",
        "def fanner(func):\n",
        "  @wraps(func)\n",
        "  def inner1(*args,**kwargs):\n",
        "    func(*args,**kwargs)\n",
        "    func(*args,**kwargs)\n",
        "  return inner1\n",
        "@fanner\n",
        "def hello(string):\n",
        "  print(string)\n",
        "hello(\"hello\")"
      ]
    },
    {
      "cell_type": "code",
      "execution_count": null,
      "metadata": {
        "colab": {
          "base_uri": "https://localhost:8080/"
        },
        "id": "PrhfGn0b1WF6",
        "outputId": "5d892cd9-0894-47cd-fa50-e14c2814c047"
      },
      "outputs": [
        {
          "data": {
            "text/plain": [
              "10"
            ]
          },
          "execution_count": 30,
          "metadata": {},
          "output_type": "execute_result"
        }
      ],
      "source": [
        "from functools import wraps\n",
        "def deco1(func):\n",
        "  @wraps(func)\n",
        "  def inner1(*args,**kwargs):\n",
        "    k=func(*args)\n",
        "    return 2*k\n",
        "  return inner1\n",
        "@deco1\n",
        "def add(a,b):\n",
        "  return a+b\n",
        "add(2,3)\n"
      ]
    },
    {
      "cell_type": "code",
      "execution_count": null,
      "metadata": {
        "colab": {
          "base_uri": "https://localhost:8080/"
        },
        "id": "UhuuOdbRIXEN",
        "outputId": "91ee35e6-1fb8-4fac-f185-35591dd41c0e"
      },
      "outputs": [
        {
          "data": {
            "text/plain": [
              "14"
            ]
          },
          "execution_count": 31,
          "metadata": {},
          "output_type": "execute_result"
        }
      ],
      "source": [
        "add(4,3)"
      ]
    },
    {
      "cell_type": "code",
      "execution_count": null,
      "metadata": {
        "colab": {
          "base_uri": "https://localhost:8080/",
          "height": 227
        },
        "id": "q3YYNu9xIdNO",
        "outputId": "e5e2abf5-f166-40ea-bff3-04fa82e446a1"
      },
      "outputs": [
        {
          "ename": "AssertionError",
          "evalue": "ignored",
          "output_type": "error",
          "traceback": [
            "\u001b[0;31m---------------------------------------------------------------------------\u001b[0m",
            "\u001b[0;31mAssertionError\u001b[0m                            Traceback (most recent call last)",
            "\u001b[0;32m<ipython-input-35-c0e585549f0f>\u001b[0m in \u001b[0;36m<cell line: 14>\u001b[0;34m()\u001b[0m\n\u001b[1;32m     12\u001b[0m   \u001b[0;32mreturn\u001b[0m \u001b[0ma\u001b[0m\u001b[0;34m+\u001b[0m\u001b[0mb\u001b[0m\u001b[0;34m\u001b[0m\u001b[0;34m\u001b[0m\u001b[0m\n\u001b[1;32m     13\u001b[0m \u001b[0;34m\u001b[0m\u001b[0m\n\u001b[0;32m---> 14\u001b[0;31m \u001b[0;32massert\u001b[0m \u001b[0madd\u001b[0m\u001b[0;34m(\u001b[0m\u001b[0;36m2\u001b[0m\u001b[0;34m,\u001b[0m\u001b[0;36m3\u001b[0m\u001b[0;34m)\u001b[0m\u001b[0;34m==\u001b[0m\u001b[0madd1\u001b[0m\u001b[0;34m(\u001b[0m\u001b[0;36m2\u001b[0m\u001b[0;34m,\u001b[0m\u001b[0;36m3\u001b[0m\u001b[0;34m)\u001b[0m\u001b[0;34m,\u001b[0m\u001b[0;34m\"Wrong\"\u001b[0m\u001b[0;34m\u001b[0m\u001b[0;34m\u001b[0m\u001b[0m\n\u001b[0m\u001b[1;32m     15\u001b[0m \u001b[0mprint\u001b[0m\u001b[0;34m(\u001b[0m\u001b[0;34m\"Right\"\u001b[0m\u001b[0;34m)\u001b[0m\u001b[0;34m\u001b[0m\u001b[0;34m\u001b[0m\u001b[0m\n",
            "\u001b[0;31mAssertionError\u001b[0m: Wrong"
          ]
        }
      ],
      "source": [
        "from functools import wraps\n",
        "def deco2(func):\n",
        "  @wraps(func)\n",
        "  def inner1(*args,**kwargs):\n",
        "    return 2*func(*args,**kwargs)\n",
        "  return inner1\n",
        "@deco2\n",
        "def add(a,b):\n",
        "  return a+b\n",
        "\n",
        "def add1(a,b):\n",
        "  return a+b\n",
        "\n",
        "assert add(2,3)==add1(2,3),\"Wrong\"\n",
        "print(\"Right\")"
      ]
    },
    {
      "cell_type": "code",
      "execution_count": null,
      "metadata": {
        "colab": {
          "base_uri": "https://localhost:8080/"
        },
        "id": "4vXi2OT5Nqv6",
        "outputId": "e5fcf524-e34e-4270-c55a-4c8a1ab61e00"
      },
      "outputs": [
        {
          "name": "stdout",
          "output_type": "stream",
          "text": [
            "Right\n"
          ]
        }
      ],
      "source": [
        "assert add(4,5)==add1(4,5)*2,\"wrong\"\n",
        "print(\"Right\")"
      ]
    },
    {
      "cell_type": "code",
      "execution_count": null,
      "metadata": {
        "id": "mbamIksXOZcr"
      },
      "outputs": [],
      "source": [
        "#self is used so that the object itself and other methods within a class is able to access the variale\n",
        "#self is basically used for communication within a class"
      ]
    },
    {
      "cell_type": "code",
      "execution_count": null,
      "metadata": {
        "colab": {
          "base_uri": "https://localhost:8080/",
          "height": 210
        },
        "id": "LfFN9Yv49DvD",
        "outputId": "184d3aee-9faf-40a2-f831-8908cdfed204"
      },
      "outputs": [
        {
          "ename": "NameError",
          "evalue": "ignored",
          "output_type": "error",
          "traceback": [
            "\u001b[0;31m---------------------------------------------------------------------------\u001b[0m",
            "\u001b[0;31mNameError\u001b[0m                                 Traceback (most recent call last)",
            "\u001b[0;32m<ipython-input-1-b11497afaae9>\u001b[0m in \u001b[0;36m<cell line: 1>\u001b[0;34m()\u001b[0m\n\u001b[0;32m----> 1\u001b[0;31m \u001b[0mc\u001b[0m\u001b[0;34m=\u001b[0m\u001b[0md\u001b[0m\u001b[0;34m\u001b[0m\u001b[0;34m\u001b[0m\u001b[0m\n\u001b[0m\u001b[1;32m      2\u001b[0m \u001b[0md\u001b[0m\u001b[0;34m=\u001b[0m\u001b[0;34m'python'\u001b[0m\u001b[0;34m\u001b[0m\u001b[0;34m\u001b[0m\u001b[0m\n\u001b[1;32m      3\u001b[0m \u001b[0mprint\u001b[0m\u001b[0;34m(\u001b[0m\u001b[0mc\u001b[0m\u001b[0;34m)\u001b[0m\u001b[0;34m\u001b[0m\u001b[0;34m\u001b[0m\u001b[0m\n",
            "\u001b[0;31mNameError\u001b[0m: name 'd' is not defined"
          ]
        }
      ],
      "source": [
        "c=d\n",
        "d='python'\n",
        "print(c)"
      ]
    },
    {
      "cell_type": "code",
      "execution_count": null,
      "metadata": {
        "id": "lUOpAAdkk19b"
      },
      "outputs": [],
      "source": [
        "with open('ambu2.txt','w') as f2:\n",
        "  f2.write(\"\"\"Who are you\n",
        "  who is he , how is he\n",
        "  where is he\"\"\")\n",
        "with open('ambu2.txt','a+') as f3:\n",
        "  f3.write(\"\"\"Who is MS Dhoni\"\"\")\n"
      ]
    },
    {
      "cell_type": "code",
      "execution_count": null,
      "metadata": {
        "id": "yufwAuCO5F9o"
      },
      "outputs": [],
      "source": [
        "with open('ambu1.txt') as f2:\n",
        "  del(f2)"
      ]
    },
    {
      "cell_type": "code",
      "execution_count": null,
      "metadata": {
        "id": "p-RtdxG45uI8"
      },
      "outputs": [],
      "source": [
        "#class to append or delete a text file\n",
        "import os\n",
        "class amb:\n",
        "  def __init__(self):\n",
        "    with open('ambu.txt','w') as f1:\n",
        "      f1.write(\"\"\"Hello! How are you\n",
        "    where have you been, how are you\n",
        "    where will you go, when will you go\"\"\")\n",
        "  def append(self,text):\n",
        "    with open('ambu.txt','a+') as f2:\n",
        "      f2.write(text)\n",
        "  def delete(self):\n",
        "    if os.path.exists('ambu.txt'):\n",
        "      os.remove('ambu.txt')\n",
        "h1=amb()\n",
        "h1.append(\"What a warrior he is\")\n"
      ]
    },
    {
      "cell_type": "code",
      "execution_count": null,
      "metadata": {
        "id": "nOsMXls2VNtf"
      },
      "outputs": [],
      "source": [
        "h1.delete()"
      ]
    },
    {
      "cell_type": "code",
      "execution_count": null,
      "metadata": {
        "id": "pplFXQSkVTsc"
      },
      "outputs": [],
      "source": [
        "import os\n",
        "class amb1:\n",
        "  def __init__(self,fold,text):\n",
        "    self.fold=fold\n",
        "    with open(fold,'w') as f1:\n",
        "      f1.write(text)\n",
        "  def append(self,text):\n",
        "    with open(self.fold,'a+') as f2:\n",
        "      f2.write(text)\n",
        "  def delete(self):\n",
        "    if os.path.exists(self.fold):\n",
        "      os.remove(self.fold)\n",
        "text1=\"\"\"Who is he, what kind of warrio is he \\n when is he, when will he hit those balls for sixes \\n\"\"\"\n",
        "text2=\"\"\"How is mahendra singh dhoni\"\"\"\n",
        "h2=amb1('ambu.txt',text1)\n",
        "h2.append(text2)"
      ]
    },
    {
      "cell_type": "code",
      "execution_count": null,
      "metadata": {
        "id": "Jyv4wzcVY9U8"
      },
      "outputs": [],
      "source": [
        "#This is another way of using class to create, append and delete a text file"
      ]
    },
    {
      "cell_type": "code",
      "execution_count": null,
      "metadata": {
        "id": "jEHW-LysYsDB"
      },
      "outputs": [],
      "source": [
        "h2.delete()"
      ]
    },
    {
      "cell_type": "code",
      "execution_count": null,
      "metadata": {
        "id": "7wF-jPPJZQUA"
      },
      "outputs": [],
      "source": [
        "#A file with an extension of .py is called module\n",
        "#Whenever we execute a program it's module name is __main__ and this name is stored in the __name__ variable"
      ]
    },
    {
      "cell_type": "code",
      "execution_count": null,
      "metadata": {
        "colab": {
          "base_uri": "https://localhost:8080/"
        },
        "id": "ZzeNj03mSdNR",
        "outputId": "15826db3-e943-4410-dbda-ca19abe0dec4"
      },
      "outputs": [
        {
          "name": "stdout",
          "output_type": "stream",
          "text": [
            "hello\n",
            "__main__\n"
          ]
        }
      ],
      "source": [
        "def hello():\n",
        "  print(\"hello\")\n",
        "hello()\n",
        "print(__name__)"
      ]
    },
    {
      "cell_type": "code",
      "execution_count": null,
      "metadata": {
        "id": "yCQVxsRaTOcx"
      },
      "outputs": [],
      "source": [
        "#When you run the current file, its name is __main__ and this name is always stored in the __name__ variable. This concept is used to block a piece of code and avoid it from being used\n",
        "#by files that import it as in that case the value of __name__ variable(present in the file that imports) wont be __main__."
      ]
    },
    {
      "cell_type": "code",
      "execution_count": null,
      "metadata": {
        "id": "O6R99bCwfyMF"
      },
      "outputs": [],
      "source": [
        "#codes are divided into different modules for reusability for example code written for database connection can be written in a seperate module so that it can be used by different files.\n",
        "#If the code is not written seperately in a seperate files then the same database connection code will have to be written in each file seeking database connection. Hence it is beneficial if\n",
        "#we write that specific code in a seperate module so that it can be reused again and again."
      ]
    },
    {
      "cell_type": "code",
      "execution_count": null,
      "metadata": {
        "id": "LtuQiWwDt77k"
      },
      "outputs": [],
      "source": [
        "import test"
      ]
    },
    {
      "cell_type": "code",
      "execution_count": null,
      "metadata": {
        "colab": {
          "base_uri": "https://localhost:8080/"
        },
        "id": "d_VvWD2SwSxO",
        "outputId": "61c42142-b9b9-4ac8-f407-505f828759fc"
      },
      "outputs": [
        {
          "name": "stdout",
          "output_type": "stream",
          "text": [
            "hello  Ajit\n",
            "hello  Nitish\n"
          ]
        }
      ],
      "source": [
        "import test\n",
        "test.hello(\"Ajit\")\n",
        "test.hello(\"Nitish\")\n",
        "#As we can see, we created a new file in the folder, then imported it and then called the\n",
        "#hello() function through the imported file."
      ]
    },
    {
      "cell_type": "code",
      "execution_count": null,
      "metadata": {
        "colab": {
          "base_uri": "https://localhost:8080/"
        },
        "id": "pTz85nmVwwtU",
        "outputId": "72c93e04-1a73-4b8d-d3a8-3ff82652c52e"
      },
      "outputs": [
        {
          "name": "stdout",
          "output_type": "stream",
          "text": [
            "4\n",
            "hello  Mahendra\n"
          ]
        }
      ],
      "source": [
        "import math\n",
        "import test\n",
        "\n",
        "print(math.floor(4.3))\n",
        "test.hello('Mahendra')"
      ]
    },
    {
      "cell_type": "code",
      "execution_count": null,
      "metadata": {
        "colab": {
          "base_uri": "https://localhost:8080/"
        },
        "id": "z8psb4XnC0Ql",
        "outputId": "2d861a58-43ef-435f-e7d7-6b405d07a95d"
      },
      "outputs": [
        {
          "name": "stdout",
          "output_type": "stream",
          "text": [
            "5\n"
          ]
        }
      ],
      "source": [
        "import math\n",
        "print(math.ceil(4.8))"
      ]
    },
    {
      "cell_type": "code",
      "execution_count": null,
      "metadata": {
        "colab": {
          "base_uri": "https://localhost:8080/"
        },
        "id": "-g7gpmmAGxmr",
        "outputId": "6da2d451-16fc-49bd-951f-f3794e5350b7"
      },
      "outputs": [
        {
          "name": "stdout",
          "output_type": "stream",
          "text": [
            "4\n"
          ]
        }
      ],
      "source": [
        "print(math.floor(4.8))"
      ]
    },
    {
      "cell_type": "code",
      "execution_count": null,
      "metadata": {
        "colab": {
          "base_uri": "https://localhost:8080/"
        },
        "id": "3g3trXjnG2ij",
        "outputId": "7baf3488-b0a6-42b0-f991-b2ab537ba600"
      },
      "outputs": [
        {
          "data": {
            "text/plain": [
              "120"
            ]
          },
          "execution_count": 9,
          "metadata": {},
          "output_type": "execute_result"
        }
      ],
      "source": [
        "from math import factorial as fact\n",
        "\n",
        "fact(5)"
      ]
    },
    {
      "cell_type": "code",
      "execution_count": null,
      "metadata": {
        "colab": {
          "base_uri": "https://localhost:8080/"
        },
        "id": "LX9ovn2xJvhY",
        "outputId": "2f1e81d4-6e95-46cf-887e-7e4ef1ad9ced"
      },
      "outputs": [
        {
          "name": "stdout",
          "output_type": "stream",
          "text": [
            "Enter the number: 6\n",
            "216\n"
          ]
        }
      ],
      "source": [
        "import test1\n",
        "a=int(input(\"Enter the number: \"))\n",
        "test1.kabhi(a)"
      ]
    },
    {
      "cell_type": "code",
      "execution_count": null,
      "metadata": {
        "id": "AAb1Ms3FOmDD"
      },
      "outputs": [],
      "source": [
        "#sys.path tells python where to look out for its respective modules\n",
        "#Python interpreter uses sys.path to look out for the modules that the code is trying to import."
      ]
    },
    {
      "cell_type": "code",
      "execution_count": null,
      "metadata": {
        "id": "cuadgJZOjVjo"
      },
      "outputs": [],
      "source": [
        "#A package in python is a directory(folder) containing similar sub-packages or modules\n",
        "#A similar directory(folder) is treated as package if it has __init__.py file within it\n",
        "#The __init__.py file may be empty or may contain some initialization code related to the package"
      ]
    },
    {
      "cell_type": "code",
      "execution_count": null,
      "metadata": {
        "id": "f8k9OcyWlIpF"
      },
      "outputs": [],
      "source": [
        "#A package in python is a directory(folder) containing similar sub-packages or modules.\n",
        "#A directory(folder) is treated as a package if it has __init__.py file within it.\n",
        "#The __init__.py file may be empty or may contain some initialization code related to the package."
      ]
    },
    {
      "cell_type": "code",
      "execution_count": null,
      "metadata": {
        "id": "D9jHmHo-mh-j"
      },
      "outputs": [],
      "source": [
        "#A package which has been created by you can also be uploaded on PyPi and be made available for use for other programmers."
      ]
    },
    {
      "cell_type": "code",
      "execution_count": null,
      "metadata": {
        "id": "SaRXwTvT4Q-d"
      },
      "outputs": [],
      "source": [
        "#A library is a tool that you use to perform specific tasks whereas framework dictates how you build your entire application. In case of library you can control when to use it\n",
        "#in your code. examples of python library include math,random whereas example of framework include Django , You can use library anywhere you want it in your application.\n",
        "#In case of framework you need to follow a set of rules."
      ]
    },
    {
      "cell_type": "code",
      "execution_count": null,
      "metadata": {
        "colab": {
          "base_uri": "https://localhost:8080/"
        },
        "id": "1EUvTqMBhXEw",
        "outputId": "8f3802b1-6be0-4e61-d4ef-d82995dc274b"
      },
      "outputs": [
        {
          "name": "stdout",
          "output_type": "stream",
          "text": [
            "[2, 4]\n"
          ]
        }
      ],
      "source": [
        "#Q1\n",
        "def games(n,scores):\n",
        "  amax=scores[0]\n",
        "  amin=scores[0]\n",
        "  cmin=0\n",
        "  cmax=0\n",
        "  for i in scores:\n",
        "    if i>amax:\n",
        "      cmax+=1\n",
        "      amax=i\n",
        "    elif i<amin:\n",
        "      cmin+=1\n",
        "      amin=i\n",
        "  return [cmax,cmin]\n",
        "\n",
        "print(games(9,[10,5,20,20,4,5,2,25,1]))\n",
        "\n",
        "\n"
      ]
    },
    {
      "cell_type": "code",
      "execution_count": null,
      "metadata": {
        "colab": {
          "base_uri": "https://localhost:8080/"
        },
        "id": "_1lylc_TdSbI",
        "outputId": "9abb7d83-a3cb-4548-a041-16bebe585357"
      },
      "outputs": [
        {
          "name": "stdout",
          "output_type": "stream",
          "text": [
            "[3, 4]\n"
          ]
        }
      ],
      "source": [
        "def breakingRecords(n, scores):\n",
        "    # Write your code here\n",
        "    # Write your code here\n",
        "    result = [0,0]\n",
        "    t = scores[0]\n",
        "    a = t\n",
        "    b = t\n",
        "    for i in scores:\n",
        "        if i > a:\n",
        "            result[0] = result[0]+1\n",
        "            a = i\n",
        "        if i < b:\n",
        "            result[1] = result[1]+1\n",
        "            b = i\n",
        "    return result\n",
        "\n",
        "\n",
        "scores = [9, 10, 5, 20, 20, 4, 5, 2, 25, 1]\n",
        "n=len(scores)\n",
        "result = breakingRecords(n, scores)\n",
        "print(result)"
      ]
    },
    {
      "cell_type": "code",
      "execution_count": null,
      "metadata": {
        "colab": {
          "base_uri": "https://localhost:8080/"
        },
        "id": "BdTtnrrudZbh",
        "outputId": "e3443536-9e9e-41e2-bedb-c5b8d22c3aca"
      },
      "outputs": [
        {
          "name": "stdout",
          "output_type": "stream",
          "text": [
            "[3, 4]\n"
          ]
        }
      ],
      "source": [
        "print(games(len([9, 10, 5, 20, 20, 4, 5, 2, 25, 1]),[9, 10, 5, 20, 20, 4, 5, 2, 25, 1]))"
      ]
    },
    {
      "cell_type": "code",
      "execution_count": null,
      "metadata": {
        "colab": {
          "base_uri": "https://localhost:8080/"
        },
        "id": "IR6ucjy8gPE_",
        "outputId": "c23c5e30-d3a2-4810-90aa-adcdb6d39b45"
      },
      "outputs": [
        {
          "name": "stdout",
          "output_type": "stream",
          "text": [
            "[3, 4]\n"
          ]
        }
      ],
      "source": [
        "#Q1This is how you solve the problem\n",
        "def scores(n,games):\n",
        "  result=[0,0]\n",
        "  amin= games[0]\n",
        "  amax=games[0]\n",
        "  for i in games:\n",
        "    if i>amax:\n",
        "      result[0]=result[0]+1\n",
        "      amax=i\n",
        "    elif i<amin:\n",
        "      result[1]=result[1]+1\n",
        "      amin=i\n",
        "  return result\n",
        "\n",
        "scores1=[9, 10, 5, 20, 20, 4, 5, 2, 25, 1]\n",
        "n=len(scores1)\n",
        "print(scores(n,scores1))\n"
      ]
    },
    {
      "cell_type": "code",
      "execution_count": null,
      "metadata": {
        "id": "9TksVTW3mtiZ"
      },
      "outputs": [],
      "source": []
    },
    {
      "cell_type": "code",
      "execution_count": null,
      "metadata": {
        "colab": {
          "base_uri": "https://localhost:8080/"
        },
        "id": "nkBaONNZ-nL2",
        "outputId": "6cc83c44-a6cc-4c57-c160-e8795c5b690a"
      },
      "outputs": [
        {
          "name": "stdout",
          "output_type": "stream",
          "text": [
            "[1, 3, 4, 5, 6]\n"
          ]
        }
      ],
      "source": [
        "ls=[1,2,3,4,5,6]\n",
        "del ls[1]\n",
        "print(ls)"
      ]
    },
    {
      "cell_type": "code",
      "execution_count": null,
      "metadata": {
        "colab": {
          "base_uri": "https://localhost:8080/"
        },
        "id": "E3UBfZ-N-4X8",
        "outputId": "293ec0d3-185f-4573-af8a-a3926d316b14"
      },
      "outputs": [
        {
          "name": "stdout",
          "output_type": "stream",
          "text": [
            "{'a': 1, 'b': 2}\n",
            "{'a': 11, 'b': 22}\n",
            "{'a': 12, 'b': 4}\n",
            "{'a': 14, 'b': 6}\n",
            "{'a': 16, 'b': 8}\n",
            "[{'a': 1, 'b': 2}, {'a': 11, 'b': 22}, {'a': 12, 'b': 4}, {'a': 14, 'b': 6}, {'a': 16, 'b': 8}]\n"
          ]
        }
      ],
      "source": [
        "ls1=[{'a':1,'b':2},{'a':11,'b':22},{'a':12,'b':4},{'a':14,'b':6},{'a':16,'b':8}]\n",
        "for i in ls1:\n",
        "  print(i)\n",
        "print(ls1)"
      ]
    },
    {
      "cell_type": "code",
      "execution_count": null,
      "metadata": {
        "colab": {
          "base_uri": "https://localhost:8080/"
        },
        "id": "M5_XCcUODPYB",
        "outputId": "0a9c2aab-f725-4e2b-d4b1-35db7a4034c3"
      },
      "outputs": [
        {
          "name": "stdout",
          "output_type": "stream",
          "text": [
            "[{'a': 1, 'b': 2}, {'a': 11, 'b': 22}, {'a': 12, 'b': 4}, {'a': 14, 'b': 6}, {'a': 16, 'b': 8}]\n"
          ]
        }
      ],
      "source": [
        "cnt=0\n",
        "for i in ls1:\n",
        "  if i['a']==1:\n",
        "    del i\n",
        "print(ls1)"
      ]
    },
    {
      "cell_type": "code",
      "execution_count": null,
      "metadata": {
        "colab": {
          "base_uri": "https://localhost:8080/"
        },
        "id": "8xrd2INUG1Qm",
        "outputId": "a1cdbdb0-990c-4b95-bbe2-a5e855d2c26e"
      },
      "outputs": [
        {
          "name": "stdout",
          "output_type": "stream",
          "text": [
            "[{'a': 11, 'b': 22}, {'a': 12, 'b': 4}, {'a': 14, 'b': 6}, {'a': 16, 'b': 8}]\n"
          ]
        }
      ],
      "source": [
        "cnt=0\n",
        "for i in ls1:\n",
        "  if i['a']==1:\n",
        "    del ls1[cnt]\n",
        "  cnt+=1\n",
        "print(ls1)"
      ]
    },
    {
      "cell_type": "code",
      "execution_count": null,
      "metadata": {
        "colab": {
          "base_uri": "https://localhost:8080/"
        },
        "id": "163IaKxNIU2R",
        "outputId": "cac9c26d-7c0c-4ad9-c1c0-90402a30453d"
      },
      "outputs": [
        {
          "name": "stdout",
          "output_type": "stream",
          "text": [
            "[{'a': 11, 'b': 22}, {'a': 12, 'b': 4}, {'a': 14, 'b': 6}]\n"
          ]
        }
      ],
      "source": [
        "cnt=0\n",
        "for i in ls1:\n",
        "  if i['a']==16:\n",
        "    del ls1[cnt]\n",
        "  cnt+=1\n",
        "print(ls1)"
      ]
    },
    {
      "cell_type": "code",
      "execution_count": null,
      "metadata": {
        "id": "d_cE1RUVInX4"
      },
      "outputs": [],
      "source": [
        "#Q2\n",
        "class student:\n",
        "  def __init__(self,name,roll,m1,m2):\n",
        "    self.name=name\n",
        "    self.roll=roll\n",
        "    self.sub1=m1\n",
        "    self.sub2=m2\n",
        "  def Accept(self,name,roll,m1,m2):\n",
        "    obj=student(name,roll,m1,m2)\n",
        "    ls.append(obj)\n",
        "\n",
        "\n"
      ]
    },
    {
      "cell_type": "code",
      "execution_count": null,
      "metadata": {
        "colab": {
          "base_uri": "https://localhost:8080/",
          "height": 421
        },
        "id": "ACmhZDAGTkgG",
        "outputId": "59de58f4-ac4a-4f34-f7c9-e58952372226"
      },
      "outputs": [
        {
          "name": "stdout",
          "output_type": "stream",
          "text": [
            "[1, 3, 4, 5, 6, {'Name': 'Mahi', 'Roll': 1, 'Subject1': 21, 'Subject2': 22}, {'Name': 'Yuvi', 'Roll': 2, 'Subject1': 24, 'Subject2': 26}, {'Name': 'Mahi', 'Roll': 1, 'Subject1': 21, 'Subject2': 22}, {'Name': 'Yuvi', 'Roll': 2, 'Subject1': 24, 'Subject2': 26}, {'Name': 'Mahi', 'Roll': 1, 'Subject1': 21, 'Subject2': 22}, {'Name': 'Yuvi', 'Roll': 2, 'Subject1': 24, 'Subject2': 26}, {'Name': 'Mahi', 'Roll': 1, 'Subject1': 21, 'Subject2': 22}]\n",
            "[1, 3, 4, 5, 6, {'Name': 'Mahi', 'Roll': 1, 'Subject1': 21, 'Subject2': 22}, {'Name': 'Yuvi', 'Roll': 2, 'Subject1': 24, 'Subject2': 26}, {'Name': 'Mahi', 'Roll': 1, 'Subject1': 21, 'Subject2': 22}, {'Name': 'Yuvi', 'Roll': 2, 'Subject1': 24, 'Subject2': 26}, {'Name': 'Mahi', 'Roll': 1, 'Subject1': 21, 'Subject2': 22}, {'Name': 'Yuvi', 'Roll': 2, 'Subject1': 24, 'Subject2': 26}, {'Name': 'Mahi', 'Roll': 1, 'Subject1': 21, 'Subject2': 22}, {'Name': 'Yuvi', 'Roll': 2, 'Subject1': 24, 'Subject2': 26}]\n"
          ]
        },
        {
          "ename": "TypeError",
          "evalue": "ignored",
          "output_type": "error",
          "traceback": [
            "\u001b[0;31m---------------------------------------------------------------------------\u001b[0m",
            "\u001b[0;31mTypeError\u001b[0m                                 Traceback (most recent call last)",
            "\u001b[0;32m<ipython-input-26-dbd5d1b1ae07>\u001b[0m in \u001b[0;36m<cell line: 34>\u001b[0;34m()\u001b[0m\n\u001b[1;32m     32\u001b[0m \u001b[0ma11\u001b[0m\u001b[0;34m.\u001b[0m\u001b[0mAccept\u001b[0m\u001b[0;34m(\u001b[0m\u001b[0;34m'Mahi'\u001b[0m\u001b[0;34m,\u001b[0m\u001b[0;36m1\u001b[0m\u001b[0;34m,\u001b[0m\u001b[0;36m21\u001b[0m\u001b[0;34m,\u001b[0m\u001b[0;36m22\u001b[0m\u001b[0;34m)\u001b[0m\u001b[0;34m\u001b[0m\u001b[0;34m\u001b[0m\u001b[0m\n\u001b[1;32m     33\u001b[0m \u001b[0ma21\u001b[0m\u001b[0;34m.\u001b[0m\u001b[0mAccept\u001b[0m\u001b[0;34m(\u001b[0m\u001b[0;34m'Yuvi'\u001b[0m\u001b[0;34m,\u001b[0m\u001b[0;36m2\u001b[0m\u001b[0;34m,\u001b[0m\u001b[0;36m24\u001b[0m\u001b[0;34m,\u001b[0m\u001b[0;36m26\u001b[0m\u001b[0;34m)\u001b[0m\u001b[0;34m\u001b[0m\u001b[0;34m\u001b[0m\u001b[0m\n\u001b[0;32m---> 34\u001b[0;31m \u001b[0ma21\u001b[0m\u001b[0;34m.\u001b[0m\u001b[0mdisplay\u001b[0m\u001b[0;34m(\u001b[0m\u001b[0;34m)\u001b[0m\u001b[0;34m\u001b[0m\u001b[0;34m\u001b[0m\u001b[0m\n\u001b[0m\u001b[1;32m     35\u001b[0m \u001b[0;34m\u001b[0m\u001b[0m\n\u001b[1;32m     36\u001b[0m \u001b[0;34m\u001b[0m\u001b[0m\n",
            "\u001b[0;32m<ipython-input-26-dbd5d1b1ae07>\u001b[0m in \u001b[0;36mdisplay\u001b[0;34m(self)\u001b[0m\n\u001b[1;32m      8\u001b[0m   \u001b[0;32mdef\u001b[0m \u001b[0mdisplay\u001b[0m\u001b[0;34m(\u001b[0m\u001b[0mself\u001b[0m\u001b[0;34m)\u001b[0m\u001b[0;34m:\u001b[0m\u001b[0;34m\u001b[0m\u001b[0;34m\u001b[0m\u001b[0m\n\u001b[1;32m      9\u001b[0m     \u001b[0;32mfor\u001b[0m \u001b[0mi\u001b[0m \u001b[0;32min\u001b[0m \u001b[0mls\u001b[0m\u001b[0;34m:\u001b[0m\u001b[0;34m\u001b[0m\u001b[0;34m\u001b[0m\u001b[0m\n\u001b[0;32m---> 10\u001b[0;31m       \u001b[0;32mfor\u001b[0m \u001b[0mk\u001b[0m \u001b[0;32min\u001b[0m \u001b[0mi\u001b[0m\u001b[0;34m:\u001b[0m\u001b[0;34m\u001b[0m\u001b[0;34m\u001b[0m\u001b[0m\n\u001b[0m\u001b[1;32m     11\u001b[0m         \u001b[0;32mreturn\u001b[0m \u001b[0;34mf\"{k}--->{i[k]} \\n\"\u001b[0m\u001b[0;34m\u001b[0m\u001b[0;34m\u001b[0m\u001b[0m\n\u001b[1;32m     12\u001b[0m       \u001b[0mprint\u001b[0m\u001b[0;34m(\u001b[0m\u001b[0;34m\"\\t\"\u001b[0m\u001b[0;34m)\u001b[0m\u001b[0;34m\u001b[0m\u001b[0;34m\u001b[0m\u001b[0m\n",
            "\u001b[0;31mTypeError\u001b[0m: 'int' object is not iterable"
          ]
        }
      ],
      "source": [
        "#Q2\n",
        "class student12:\n",
        "  ls=[]\n",
        "  def Accept(self,name,roll,m1,m2):\n",
        "    c1={'Name':name,'Roll':roll,'Subject1':m1,'Subject2':m2}\n",
        "    ls.append(c1)\n",
        "    print(ls)\n",
        "  def display(self):\n",
        "    for i in ls:\n",
        "      for k in i:\n",
        "        return f\"{k}--->{i[k]} \\n\"\n",
        "      print(\"\\t\")\n",
        "  def search(self,roll):\n",
        "    for i in ls:\n",
        "      if i['Roll']==roll:\n",
        "        k1=i\n",
        "    for z in k1:\n",
        "      return f\"{z}--->{k1[z]}\"\n",
        "  def delete(self,roll):\n",
        "    cnt=0\n",
        "    for i in ls:\n",
        "      if i['Roll']==roll:\n",
        "        del ls[cnt]\n",
        "      cnt+=1\n",
        "  def update(self,old_roll,new_roll):\n",
        "    for i in ls:\n",
        "      if i['Roll']==old_roll:\n",
        "        i['Roll']=new_roll\n",
        "\n",
        "a11=student12()\n",
        "a21=student12()\n",
        "a11.Accept('Mahi',1,21,22)\n",
        "a21.Accept('Yuvi',2,24,26)\n",
        "a21.display()\n",
        "\n",
        "\n",
        "\n"
      ]
    },
    {
      "cell_type": "code",
      "execution_count": null,
      "metadata": {
        "colab": {
          "base_uri": "https://localhost:8080/"
        },
        "id": "gkgCoCnUk5_j",
        "outputId": "61d998a0-e2b0-4975-e19e-4dd0531022b3"
      },
      "outputs": [
        {
          "name": "stdout",
          "output_type": "stream",
          "text": [
            "[{'Name': 'Mahi', 'Roll': 1, 'Subject1': 21, 'Subject2': 22}]\n",
            "[{'Name': 'Mahi', 'Roll': 1, 'Subject1': 21, 'Subject2': 22}, {'Name': 'Yuvi', 'Roll': 2, 'Subject1': 24, 'Subject2': 26}]\n",
            "Name--->Mahi\n",
            "Roll--->1\n",
            "Subject1--->21\n",
            "Subject2--->22\n",
            "\t\n",
            "Name--->Yuvi\n",
            "Roll--->2\n",
            "Subject1--->24\n",
            "Subject2--->26\n",
            "\t\n",
            "Name--->Mahi\n",
            "Roll--->1\n",
            "Subject1--->21\n",
            "Subject2--->22\n",
            "[{'Name': 'Sachin', 'Roll': 3, 'Subject1': 30, 'Subject2': 35}]\n",
            "Name--->Sachin\n",
            "Roll--->3\n",
            "Subject1--->30\n",
            "Subject2--->35\n",
            "\t\n"
          ]
        }
      ],
      "source": [
        "class Student:\n",
        "    def __init__(self):\n",
        "        self.ls = []\n",
        "\n",
        "    def accept(self, name, roll, m1, m2):\n",
        "        c1 = {'Name': name, 'Roll': roll, 'Subject1': m1, 'Subject2': m2}\n",
        "        self.ls.append(c1)\n",
        "        print(self.ls)\n",
        "\n",
        "    def display(self):\n",
        "        for i in self.ls:\n",
        "            for k in i:\n",
        "                print(f\"{k}--->{i[k]}\")\n",
        "            print(\"\\t\")\n",
        "\n",
        "    def search(self, roll):\n",
        "        for i in self.ls:\n",
        "            if i['Roll'] == roll:\n",
        "                for z in i:\n",
        "                    print(f\"{z}--->{i[z]}\")\n",
        "\n",
        "    def delete(self, roll):\n",
        "        self.ls = [i for i in self.ls if i['Roll'] != roll]\n",
        "\n",
        "    def update(self, old_roll, new_roll):\n",
        "        for i in self.ls:\n",
        "            if i['Roll'] == old_roll:\n",
        "                i['Roll'] = new_roll\n",
        "\n",
        "# Example usage\n",
        "s1 = Student()\n",
        "s1.accept(\"Mahi\", 1, 21, 22)\n",
        "s1.accept(\"Yuvi\", 2, 24, 26)\n",
        "s1.display()\n",
        "s1.search(1)\n",
        "\n",
        "s2 = Student()\n",
        "s2.accept(\"Sachin\", 3, 30, 35)\n",
        "s2.display()\n"
      ]
    },
    {
      "cell_type": "code",
      "execution_count": null,
      "metadata": {
        "colab": {
          "base_uri": "https://localhost:8080/"
        },
        "id": "eQH86aRycFV3",
        "outputId": "564ed8bc-943e-4ff9-9636-55ea54a393cf"
      },
      "outputs": [
        {
          "name": "stdout",
          "output_type": "stream",
          "text": [
            "{'a1': 91, 'b1': 2, 'c1': 3}\n"
          ]
        }
      ],
      "source": [
        "a11={'a1':1,'b1':2,'c1':3}\n",
        "a11['a1']=91\n",
        "print(a11)"
      ]
    },
    {
      "cell_type": "code",
      "execution_count": null,
      "metadata": {
        "colab": {
          "background_save": true
        },
        "id": "HmOAozTJ1SZK",
        "outputId": "01e24a73-280d-4d30-b92c-5e0f060ebaab"
      },
      "outputs": [
        {
          "name": "stdout",
          "output_type": "stream",
          "text": [
            "[{'Name': 'Mahi', 'Roll': 1, 'Subject1': 21, 'Subject2': 22}]\n",
            "[{'Name': 'Mahi', 'Roll': 1, 'Subject1': 21, 'Subject2': 22}, {'Name': 'Yuvi', 'Roll': 2, 'Subject1': 24, 'Subject2': 26}]\n",
            "Name---->Mahi\n",
            "Roll---->1\n",
            "Subject1---->21\n",
            "Subject2---->22\n",
            "\t\n",
            "Name---->Yuvi\n",
            "Roll---->2\n",
            "Subject1---->24\n",
            "Subject2---->26\n",
            "\t\n",
            "None\n"
          ]
        }
      ],
      "source": [
        "class student12:\n",
        "   ls=[]\n",
        "   def Accept(self,name,roll,m1,m2):\n",
        "     c1={'Name':name,'Roll':roll,'Subject1':m1,'Subject2':m2}\n",
        "     student12.ls.append(c1)\n",
        "     print(student12.ls)\n",
        "   def display(self):\n",
        "     for i in student12.ls:\n",
        "       for k in i:\n",
        "         print(f\"{k}---->{i[k]}\")\n",
        "       print(\"\\t\")\n",
        "a11=student12()\n",
        "a21=student12()\n",
        "a11.Accept('Mahi',1,21,22)\n",
        "a21.Accept('Yuvi',2,24,26)\n",
        "print(a21.display())"
      ]
    },
    {
      "cell_type": "code",
      "execution_count": null,
      "metadata": {
        "colab": {
          "base_uri": "https://localhost:8080/"
        },
        "id": "ehlwV-VWG_Cn",
        "outputId": "2f8d4cc5-dfd2-4dbb-90ac-cf26a5b356df"
      },
      "outputs": [
        {
          "name": "stdout",
          "output_type": "stream",
          "text": [
            "Name---->Mahi\n",
            "Roll---->1\n",
            "Subject1---->21\n",
            "Subject2---->22\n",
            "\t\n",
            "Name---->Yuvi\n",
            "Roll---->2\n",
            "Subject1---->24\n",
            "Subject2---->26\n",
            "\t\n",
            "None\n"
          ]
        }
      ],
      "source": [
        "class student1:\n",
        "  ls2=[]\n",
        "  def Accept(self,name,roll,m1,m2):\n",
        "    c1={\"Name\":name,\"Roll\":roll,\"Subject1\":m1,\"Subject2\":m2}\n",
        "    student1.ls2.append(c1)\n",
        "  def Display(self):\n",
        "    for i in student1.ls2:\n",
        "      for k in i:\n",
        "        print(f\"{k}---->{i[k]}\")\n",
        "      print(\"\\t\")\n",
        "  def Search(self,roll):\n",
        "    for i in student1.ls2:\n",
        "      if i['Roll']==roll:\n",
        "        k=i\n",
        "    for z in k:\n",
        "      print(f\"{z}---->{k[z]}\")\n",
        "  def Delete(self,roll):\n",
        "    cnt=0\n",
        "    for i in student1.ls2:\n",
        "      if i[\"Roll\"]==roll:\n",
        "        del student1.ls2[cnt]\n",
        "      cnt+=1\n",
        "  def Update(self,old_roll,new_roll):\n",
        "    cnt=0\n",
        "    for i in student1.ls2:\n",
        "      if i[\"Roll\"]==old_roll:\n",
        "        student1.ls2[cnt][\"Roll\"]=new_roll\n",
        "      cnt+=1\n",
        "a11=student1()\n",
        "a21=student1()\n",
        "a11.Accept('Mahi',1,21,22)\n",
        "a21.Accept('Yuvi',2,24,26)\n",
        "print(a21.Display())"
      ]
    },
    {
      "cell_type": "code",
      "execution_count": null,
      "metadata": {
        "colab": {
          "background_save": true
        },
        "id": "J8GEaTizUXwo",
        "outputId": "d69158b7-073d-446d-cf22-c6029df1f381"
      },
      "outputs": [
        {
          "name": "stdout",
          "output_type": "stream",
          "text": [
            "Name---->Mahi\n",
            "Roll---->1\n",
            "Subject1---->21\n",
            "Subject2---->22\n",
            "\t\n",
            "Name---->Yuvi\n",
            "Roll---->2\n",
            "Subject1---->24\n",
            "Subject2---->26\n",
            "\t\n",
            "Name---->Mahi\n",
            "Roll---->3\n",
            "Subject1---->91\n",
            "Subject2---->92\n",
            "\t\n",
            "Name---->Yuvi\n",
            "Roll---->4\n",
            "Subject1---->93\n",
            "Subject2---->94\n",
            "\t\n",
            "Name---->Nehra\n",
            "Roll---->5\n",
            "Subject1---->95\n",
            "Subject2---->96\n",
            "\t\n",
            "Name---->Bumrah\n",
            "Roll---->6\n",
            "Subject1---->87\n",
            "Subject2---->88\n",
            "\t\n"
          ]
        }
      ],
      "source": [
        "a31=student1()\n",
        "a41=student1()\n",
        "a51=student1()\n",
        "a61=student1()\n",
        "a31.Accept('Mahi',3,91,92)\n"
      ]
    },
    {
      "cell_type": "code",
      "source": [
        "class student12:\n",
        "  def __init__(self):\n",
        "    self.ls2=[]\n",
        "  def Accept(self,name,roll,m1,m2):\n",
        "    s1={'Name':name,'Roll':roll,'Subject1':m1,'Subject2':m2}\n",
        "    self.ls2.append(s1)\n",
        "  def display(self):\n",
        "    for i in self.ls2:\n",
        "      for k in i:\n",
        "        print(f\"{k}---->{i[k]}\")\n",
        "      print(\"\\t\")\n",
        "  def search(self,r1):\n",
        "    print(\"Details of the searched student is \")\n",
        "    for i in self.ls2:\n",
        "      if i['Roll']==r1:\n",
        "        k=i\n",
        "    for z in k:\n",
        "      print(f\"{z}---->{k[z]}\")\n",
        "  def delete(self,r2):\n",
        "    cnt=0\n",
        "    for i in self.ls2:\n",
        "      if i['Roll']==r2:\n",
        "        del self.ls2[cnt]\n",
        "      cnt+=1\n",
        "    print(self.ls2)\n",
        "  def update(self,old_roll,new_roll):\n",
        "    for i in self.ls2:\n",
        "      if i['Roll']==old_roll:\n",
        "        i['Roll']=new_roll\n",
        "    print(self.ls2)\n",
        "a11=student12()\n",
        "a11.Accept('Mahi',21,41,42)\n",
        "a11.Accept('Yuvi',22,43,44)\n",
        "a11.Accept('Gangu',23,45,46)\n",
        "a11.Accept('Mahi',24,47,48)\n",
        "a11.Accept('Nehra',25,49,50)\n",
        "a11.Accept('Zaki',26,51,52)\n",
        "a11.display()\n",
        "a11.search(21)\n",
        "a11.delete(23)\n",
        "a11.update(25,255)\n"
      ],
      "metadata": {
        "colab": {
          "base_uri": "https://localhost:8080/"
        },
        "id": "clUeYirjZTIL",
        "outputId": "2acbf02d-0973-47fc-d54f-2fa99293162e"
      },
      "execution_count": 4,
      "outputs": [
        {
          "output_type": "stream",
          "name": "stdout",
          "text": [
            "Name---->Mahi\n",
            "Roll---->21\n",
            "Subject1---->41\n",
            "Subject2---->42\n",
            "\t\n",
            "Name---->Yuvi\n",
            "Roll---->22\n",
            "Subject1---->43\n",
            "Subject2---->44\n",
            "\t\n",
            "Name---->Gangu\n",
            "Roll---->23\n",
            "Subject1---->45\n",
            "Subject2---->46\n",
            "\t\n",
            "Name---->Mahi\n",
            "Roll---->24\n",
            "Subject1---->47\n",
            "Subject2---->48\n",
            "\t\n",
            "Name---->Nehra\n",
            "Roll---->25\n",
            "Subject1---->49\n",
            "Subject2---->50\n",
            "\t\n",
            "Name---->Zaki\n",
            "Roll---->26\n",
            "Subject1---->51\n",
            "Subject2---->52\n",
            "\t\n",
            "Details of the searched student is \n",
            "Name---->Mahi\n",
            "Roll---->21\n",
            "Subject1---->41\n",
            "Subject2---->42\n",
            "[{'Name': 'Mahi', 'Roll': 21, 'Subject1': 41, 'Subject2': 42}, {'Name': 'Yuvi', 'Roll': 22, 'Subject1': 43, 'Subject2': 44}, {'Name': 'Mahi', 'Roll': 24, 'Subject1': 47, 'Subject2': 48}, {'Name': 'Nehra', 'Roll': 25, 'Subject1': 49, 'Subject2': 50}, {'Name': 'Zaki', 'Roll': 26, 'Subject1': 51, 'Subject2': 52}]\n",
            "[{'Name': 'Mahi', 'Roll': 21, 'Subject1': 41, 'Subject2': 42}, {'Name': 'Yuvi', 'Roll': 22, 'Subject1': 43, 'Subject2': 44}, {'Name': 'Mahi', 'Roll': 24, 'Subject1': 47, 'Subject2': 48}, {'Name': 'Nehra', 'Roll': 255, 'Subject1': 49, 'Subject2': 50}, {'Name': 'Zaki', 'Roll': 26, 'Subject1': 51, 'Subject2': 52}]\n"
          ]
        }
      ]
    },
    {
      "cell_type": "code",
      "source": [
        "a11.update()"
      ],
      "metadata": {
        "colab": {
          "base_uri": "https://localhost:8080/"
        },
        "id": "CbGRmghrhDcV",
        "outputId": "39b3c2b4-0981-41d0-eeb1-002e6103d96e"
      },
      "execution_count": 2,
      "outputs": [
        {
          "output_type": "stream",
          "name": "stdout",
          "text": [
            "\t\n"
          ]
        }
      ]
    },
    {
      "cell_type": "code",
      "source": [
        "#Q3\n",
        "from datetime import datetime\n",
        "import pytz\n",
        "\n",
        "UTC=pytz.utc\n",
        "IST=pytz.timezone('Asia/kolkata')\n",
        "\n",
        "print(\"The time right now in UTC is \",datetime.now(UTC))\n",
        "print(\"The time right now in IST is \",datetime.now(IST))\n",
        "\n",
        "datetime_utc=datetime.now(UTC)\n",
        "datetime_ist=datetime.now(IST)\n",
        "\n",
        "print(\"The detailed time right now in UTC is \",datetime_utc.strftime(\"%Y:%m:%d %H:%M:%S %Z %z\"))\n",
        "print(\"The detailed time right now in IST is \",datetime_ist.strftime(\"%Y:%m:%d %H:%M:%S %Z %z\"))"
      ],
      "metadata": {
        "colab": {
          "base_uri": "https://localhost:8080/"
        },
        "id": "rK9FSxerlk50",
        "outputId": "6d48beab-4535-4621-a0f6-51ed2dcd2087"
      },
      "execution_count": 6,
      "outputs": [
        {
          "output_type": "stream",
          "name": "stdout",
          "text": [
            "The time right now in UTC is  2023-11-12 03:43:38.385440+00:00\n",
            "The time right now in IST is  2023-11-12 09:13:38.403178+05:30\n",
            "The detailed time right now in UTC is  2023:11:12 03:43:38 UTC +0000\n",
            "The detailed time right now in IST is  2023:11:12 09:13:38 IST +0530\n"
          ]
        }
      ]
    },
    {
      "cell_type": "code",
      "source": [
        "#Q4\n",
        "list1 = [2, 7, 5, 64, 14]\n",
        "a1=[d for d in list1 if d%2==0]\n",
        "print(\"Even=\",len(a1),\",\",\"Odd=\",len(list1)-len(a1))"
      ],
      "metadata": {
        "colab": {
          "base_uri": "https://localhost:8080/"
        },
        "id": "jRRQ9jrqoOFo",
        "outputId": "26e1babd-e646-4bf9-ad9b-bbdf395de56d"
      },
      "execution_count": 7,
      "outputs": [
        {
          "output_type": "stream",
          "name": "stdout",
          "text": [
            "Even= 3 , Odd= 2\n"
          ]
        }
      ]
    },
    {
      "cell_type": "code",
      "source": [
        "#Q5\n",
        "def rangoli(size):\n",
        "  for i in range(1,size+1):\n",
        "    s1='-'.join(chr(ord('a')+size-j-1) for j in range(i))\n",
        "    print((s1+s1[::-1][1:]).center(4*size-3,'-'))\n",
        "  for i in range(size-1,0,-1):\n",
        "    s2='-'.join(chr(ord('a')+size-j-1) for j in range(i))\n",
        "    print((s2+s2[::-1][1:]).center(4*size-3,'-'))\n",
        "if __name__=='__main__':\n",
        "  n=int(input())\n",
        "  rangoli(n)"
      ],
      "metadata": {
        "colab": {
          "base_uri": "https://localhost:8080/"
        },
        "id": "K6IUgsgNuX7m",
        "outputId": "8aafc237-c79f-4c94-a89f-4df26d5c4f7c"
      },
      "execution_count": 8,
      "outputs": [
        {
          "output_type": "stream",
          "name": "stdout",
          "text": [
            "5\n",
            "--------e--------\n",
            "------e-d-e------\n",
            "----e-d-c-d-e----\n",
            "--e-d-c-b-c-d-e--\n",
            "e-d-c-b-a-b-c-d-e\n",
            "--e-d-c-b-c-d-e--\n",
            "----e-d-c-d-e----\n",
            "------e-d-e------\n",
            "--------e--------\n"
          ]
        }
      ]
    },
    {
      "cell_type": "code",
      "source": [
        "def rang1(size):\n",
        "  for i in range(1,size+1):\n",
        "    s=' '.join(str(a+1) for a in range(i))\n",
        "    print(s.center(4*size-3,' '))\n",
        "if __name__=='__main__':\n",
        "  n=int(input())\n",
        "  rang1(n)"
      ],
      "metadata": {
        "colab": {
          "base_uri": "https://localhost:8080/"
        },
        "id": "y7apX8Un_Edc",
        "outputId": "d47832e2-e011-4322-99c4-3745a95477c6"
      },
      "execution_count": 1,
      "outputs": [
        {
          "output_type": "stream",
          "name": "stdout",
          "text": [
            "5\n",
            "        1        \n",
            "       1 2       \n",
            "      1 2 3      \n",
            "     1 2 3 4     \n",
            "    1 2 3 4 5    \n"
          ]
        }
      ]
    },
    {
      "cell_type": "code",
      "source": [
        "#Q5\n",
        "def rangoli(size):\n",
        "  for i in range(1,size+1):\n",
        "    s='-'.join(chr(ord('a')+size-j-1) for j in range(i))\n",
        "    print((s+s[::-1][1:]).center(4*size-3,'-'))\n",
        "  for i in range(size-1,0,-1):\n",
        "    s='-'.join(chr(ord('a')+size-j-1) for j in range(i))\n",
        "    print((s+s[::-1][1:]).center(4*size-3,'-'))\n",
        "if __name__=='__main__':\n",
        "  n=int(input())\n",
        "  rangoli(n)"
      ],
      "metadata": {
        "colab": {
          "base_uri": "https://localhost:8080/"
        },
        "id": "PyGnoVgOp88s",
        "outputId": "13a17e73-cb09-40f4-bcaa-961c1027fcad"
      },
      "execution_count": 2,
      "outputs": [
        {
          "output_type": "stream",
          "name": "stdout",
          "text": [
            "5\n",
            "--------e--------\n",
            "------e-d-e------\n",
            "----e-d-c-d-e----\n",
            "--e-d-c-b-c-d-e--\n",
            "e-d-c-b-a-b-c-d-e\n",
            "--e-d-c-b-c-d-e--\n",
            "----e-d-c-d-e----\n",
            "------e-d-e------\n",
            "--------e--------\n"
          ]
        }
      ]
    },
    {
      "cell_type": "code",
      "source": [
        "def rango(n):\n",
        "  for i in range(1,n+1):\n",
        "    s=' '.join(str(a+1) for a in range(i))\n",
        "    print(s.center(4*n-3,' '))\n",
        "if __name__=='__main__':\n",
        "  n=int(input())\n",
        "  rango(n)"
      ],
      "metadata": {
        "colab": {
          "base_uri": "https://localhost:8080/"
        },
        "id": "oZ2_d5k7zRXp",
        "outputId": "d818ae48-8db0-4e61-a82a-f9bfb3a8e3d1"
      },
      "execution_count": 3,
      "outputs": [
        {
          "output_type": "stream",
          "name": "stdout",
          "text": [
            "5\n",
            "        1        \n",
            "       1 2       \n",
            "      1 2 3      \n",
            "     1 2 3 4     \n",
            "    1 2 3 4 5    \n"
          ]
        }
      ]
    },
    {
      "cell_type": "code",
      "source": [
        "def buvama(n):\n",
        "  a=0\n",
        "  k={}\n",
        "  print(n)\n",
        "  print(type(n))\n",
        "  for i in range(len(n)):\n",
        "    print(i)\n",
        "if __name__=='__main__':\n",
        "  n=input()\n",
        "  buvama(n)\n",
        "\n"
      ],
      "metadata": {
        "colab": {
          "base_uri": "https://localhost:8080/",
          "height": 425
        },
        "id": "X7N7ojRZ0Sj7",
        "outputId": "d05f33c6-98ec-4d9b-d9a8-bf3394a4d149"
      },
      "execution_count": 14,
      "outputs": [
        {
          "output_type": "stream",
          "name": "stdout",
          "text": [
            "1223311\n",
            "1223311\n",
            "<class 'str'>\n"
          ]
        },
        {
          "output_type": "error",
          "ename": "TypeError",
          "evalue": "ignored",
          "traceback": [
            "\u001b[0;31m---------------------------------------------------------------------------\u001b[0m",
            "\u001b[0;31mTypeError\u001b[0m                                 Traceback (most recent call last)",
            "\u001b[0;32m<ipython-input-14-86eaac03e879>\u001b[0m in \u001b[0;36m<cell line: 8>\u001b[0;34m()\u001b[0m\n\u001b[1;32m      8\u001b[0m \u001b[0;32mif\u001b[0m \u001b[0m__name__\u001b[0m\u001b[0;34m==\u001b[0m\u001b[0;34m'__main__'\u001b[0m\u001b[0;34m:\u001b[0m\u001b[0;34m\u001b[0m\u001b[0;34m\u001b[0m\u001b[0m\n\u001b[1;32m      9\u001b[0m   \u001b[0mn\u001b[0m\u001b[0;34m=\u001b[0m\u001b[0minput\u001b[0m\u001b[0;34m(\u001b[0m\u001b[0;34m)\u001b[0m\u001b[0;34m\u001b[0m\u001b[0;34m\u001b[0m\u001b[0m\n\u001b[0;32m---> 10\u001b[0;31m   \u001b[0mbuvama\u001b[0m\u001b[0;34m(\u001b[0m\u001b[0mn\u001b[0m\u001b[0;34m)\u001b[0m\u001b[0;34m\u001b[0m\u001b[0;34m\u001b[0m\u001b[0m\n\u001b[0m\u001b[1;32m     11\u001b[0m \u001b[0;34m\u001b[0m\u001b[0m\n",
            "\u001b[0;32m<ipython-input-14-86eaac03e879>\u001b[0m in \u001b[0;36mbuvama\u001b[0;34m(n)\u001b[0m\n\u001b[1;32m      4\u001b[0m   \u001b[0mprint\u001b[0m\u001b[0;34m(\u001b[0m\u001b[0mn\u001b[0m\u001b[0;34m)\u001b[0m\u001b[0;34m\u001b[0m\u001b[0;34m\u001b[0m\u001b[0m\n\u001b[1;32m      5\u001b[0m   \u001b[0mprint\u001b[0m\u001b[0;34m(\u001b[0m\u001b[0mtype\u001b[0m\u001b[0;34m(\u001b[0m\u001b[0mn\u001b[0m\u001b[0;34m)\u001b[0m\u001b[0;34m)\u001b[0m\u001b[0;34m\u001b[0m\u001b[0;34m\u001b[0m\u001b[0m\n\u001b[0;32m----> 6\u001b[0;31m   \u001b[0;32mfor\u001b[0m \u001b[0mi\u001b[0m \u001b[0;32min\u001b[0m \u001b[0mrange\u001b[0m\u001b[0;34m(\u001b[0m\u001b[0mlen\u001b[0m\u001b[0;34m(\u001b[0m\u001b[0mn\u001b[0m\u001b[0;34m)\u001b[0m\u001b[0;34m)\u001b[0m\u001b[0;34m:\u001b[0m\u001b[0;34m\u001b[0m\u001b[0;34m\u001b[0m\u001b[0m\n\u001b[0m\u001b[1;32m      7\u001b[0m     \u001b[0mprint\u001b[0m\u001b[0;34m(\u001b[0m\u001b[0mi\u001b[0m\u001b[0;34m)\u001b[0m\u001b[0;34m\u001b[0m\u001b[0;34m\u001b[0m\u001b[0m\n\u001b[1;32m      8\u001b[0m \u001b[0;32mif\u001b[0m \u001b[0m__name__\u001b[0m\u001b[0;34m==\u001b[0m\u001b[0;34m'__main__'\u001b[0m\u001b[0;34m:\u001b[0m\u001b[0;34m\u001b[0m\u001b[0;34m\u001b[0m\u001b[0m\n",
            "\u001b[0;32m<ipython-input-1-862840f3575b>\u001b[0m in \u001b[0;36mrange\u001b[0;34m(n)\u001b[0m\n\u001b[1;32m      2\u001b[0m   \u001b[0ma\u001b[0m\u001b[0;34m=\u001b[0m\u001b[0;36m0\u001b[0m\u001b[0;34m\u001b[0m\u001b[0;34m\u001b[0m\u001b[0m\n\u001b[1;32m      3\u001b[0m   \u001b[0mk\u001b[0m\u001b[0;34m=\u001b[0m\u001b[0;34m{\u001b[0m\u001b[0;34m}\u001b[0m\u001b[0;34m\u001b[0m\u001b[0;34m\u001b[0m\u001b[0m\n\u001b[0;32m----> 4\u001b[0;31m   \u001b[0;32mfor\u001b[0m \u001b[0mi\u001b[0m \u001b[0;32min\u001b[0m \u001b[0mrange\u001b[0m\u001b[0;34m(\u001b[0m\u001b[0mlen\u001b[0m\u001b[0;34m(\u001b[0m\u001b[0mn\u001b[0m\u001b[0;34m)\u001b[0m\u001b[0;34m)\u001b[0m\u001b[0;34m:\u001b[0m\u001b[0;34m\u001b[0m\u001b[0;34m\u001b[0m\u001b[0m\n\u001b[0m\u001b[1;32m      5\u001b[0m     \u001b[0;32mif\u001b[0m \u001b[0mn\u001b[0m\u001b[0;34m[\u001b[0m\u001b[0mi\u001b[0m\u001b[0;34m]\u001b[0m\u001b[0;34m==\u001b[0m\u001b[0mn\u001b[0m\u001b[0;34m[\u001b[0m\u001b[0mi\u001b[0m\u001b[0;34m+\u001b[0m\u001b[0;36m1\u001b[0m\u001b[0;34m]\u001b[0m\u001b[0;34m:\u001b[0m\u001b[0;34m\u001b[0m\u001b[0;34m\u001b[0m\u001b[0m\n\u001b[1;32m      6\u001b[0m       \u001b[0ma\u001b[0m\u001b[0;34m+=\u001b[0m\u001b[0;36m1\u001b[0m\u001b[0;34m\u001b[0m\u001b[0;34m\u001b[0m\u001b[0m\n",
            "\u001b[0;31mTypeError\u001b[0m: object of type 'int' has no len()"
          ]
        }
      ]
    },
    {
      "cell_type": "code",
      "source": [
        "def buvama(n111):\n",
        "  a=0\n",
        "  k={}\n",
        "  print(n111)\n",
        "  print(type(n111))\n",
        "  for i in range(len(n111)):\n",
        "    print(i)\n",
        "n111=input(\"Enter n \")\n",
        "buvama(n111)"
      ],
      "metadata": {
        "colab": {
          "base_uri": "https://localhost:8080/",
          "height": 407
        },
        "id": "FmLut_e8Yct-",
        "outputId": "aab7ab77-d33b-4b24-8f0c-ff51abc0af93"
      },
      "execution_count": 16,
      "outputs": [
        {
          "output_type": "stream",
          "name": "stdout",
          "text": [
            "Enter n 12233344411\n",
            "12233344411\n",
            "<class 'str'>\n"
          ]
        },
        {
          "output_type": "error",
          "ename": "TypeError",
          "evalue": "ignored",
          "traceback": [
            "\u001b[0;31m---------------------------------------------------------------------------\u001b[0m",
            "\u001b[0;31mTypeError\u001b[0m                                 Traceback (most recent call last)",
            "\u001b[0;32m<ipython-input-16-94f634bf0785>\u001b[0m in \u001b[0;36m<cell line: 9>\u001b[0;34m()\u001b[0m\n\u001b[1;32m      7\u001b[0m     \u001b[0mprint\u001b[0m\u001b[0;34m(\u001b[0m\u001b[0mi\u001b[0m\u001b[0;34m)\u001b[0m\u001b[0;34m\u001b[0m\u001b[0;34m\u001b[0m\u001b[0m\n\u001b[1;32m      8\u001b[0m \u001b[0mn111\u001b[0m\u001b[0;34m=\u001b[0m\u001b[0minput\u001b[0m\u001b[0;34m(\u001b[0m\u001b[0;34m\"Enter n \"\u001b[0m\u001b[0;34m)\u001b[0m\u001b[0;34m\u001b[0m\u001b[0;34m\u001b[0m\u001b[0m\n\u001b[0;32m----> 9\u001b[0;31m \u001b[0mbuvama\u001b[0m\u001b[0;34m(\u001b[0m\u001b[0mn111\u001b[0m\u001b[0;34m)\u001b[0m\u001b[0;34m\u001b[0m\u001b[0;34m\u001b[0m\u001b[0m\n\u001b[0m",
            "\u001b[0;32m<ipython-input-16-94f634bf0785>\u001b[0m in \u001b[0;36mbuvama\u001b[0;34m(n111)\u001b[0m\n\u001b[1;32m      4\u001b[0m   \u001b[0mprint\u001b[0m\u001b[0;34m(\u001b[0m\u001b[0mn111\u001b[0m\u001b[0;34m)\u001b[0m\u001b[0;34m\u001b[0m\u001b[0;34m\u001b[0m\u001b[0m\n\u001b[1;32m      5\u001b[0m   \u001b[0mprint\u001b[0m\u001b[0;34m(\u001b[0m\u001b[0mtype\u001b[0m\u001b[0;34m(\u001b[0m\u001b[0mn111\u001b[0m\u001b[0;34m)\u001b[0m\u001b[0;34m)\u001b[0m\u001b[0;34m\u001b[0m\u001b[0;34m\u001b[0m\u001b[0m\n\u001b[0;32m----> 6\u001b[0;31m   \u001b[0;32mfor\u001b[0m \u001b[0mi\u001b[0m \u001b[0;32min\u001b[0m \u001b[0mrange\u001b[0m\u001b[0;34m(\u001b[0m\u001b[0mlen\u001b[0m\u001b[0;34m(\u001b[0m\u001b[0mn111\u001b[0m\u001b[0;34m)\u001b[0m\u001b[0;34m)\u001b[0m\u001b[0;34m:\u001b[0m\u001b[0;34m\u001b[0m\u001b[0;34m\u001b[0m\u001b[0m\n\u001b[0m\u001b[1;32m      7\u001b[0m     \u001b[0mprint\u001b[0m\u001b[0;34m(\u001b[0m\u001b[0mi\u001b[0m\u001b[0;34m)\u001b[0m\u001b[0;34m\u001b[0m\u001b[0;34m\u001b[0m\u001b[0m\n\u001b[1;32m      8\u001b[0m \u001b[0mn111\u001b[0m\u001b[0;34m=\u001b[0m\u001b[0minput\u001b[0m\u001b[0;34m(\u001b[0m\u001b[0;34m\"Enter n \"\u001b[0m\u001b[0;34m)\u001b[0m\u001b[0;34m\u001b[0m\u001b[0;34m\u001b[0m\u001b[0m\n",
            "\u001b[0;32m<ipython-input-1-862840f3575b>\u001b[0m in \u001b[0;36mrange\u001b[0;34m(n)\u001b[0m\n\u001b[1;32m      2\u001b[0m   \u001b[0ma\u001b[0m\u001b[0;34m=\u001b[0m\u001b[0;36m0\u001b[0m\u001b[0;34m\u001b[0m\u001b[0;34m\u001b[0m\u001b[0m\n\u001b[1;32m      3\u001b[0m   \u001b[0mk\u001b[0m\u001b[0;34m=\u001b[0m\u001b[0;34m{\u001b[0m\u001b[0;34m}\u001b[0m\u001b[0;34m\u001b[0m\u001b[0;34m\u001b[0m\u001b[0m\n\u001b[0;32m----> 4\u001b[0;31m   \u001b[0;32mfor\u001b[0m \u001b[0mi\u001b[0m \u001b[0;32min\u001b[0m \u001b[0mrange\u001b[0m\u001b[0;34m(\u001b[0m\u001b[0mlen\u001b[0m\u001b[0;34m(\u001b[0m\u001b[0mn\u001b[0m\u001b[0;34m)\u001b[0m\u001b[0;34m)\u001b[0m\u001b[0;34m:\u001b[0m\u001b[0;34m\u001b[0m\u001b[0;34m\u001b[0m\u001b[0m\n\u001b[0m\u001b[1;32m      5\u001b[0m     \u001b[0;32mif\u001b[0m \u001b[0mn\u001b[0m\u001b[0;34m[\u001b[0m\u001b[0mi\u001b[0m\u001b[0;34m]\u001b[0m\u001b[0;34m==\u001b[0m\u001b[0mn\u001b[0m\u001b[0;34m[\u001b[0m\u001b[0mi\u001b[0m\u001b[0;34m+\u001b[0m\u001b[0;36m1\u001b[0m\u001b[0;34m]\u001b[0m\u001b[0;34m:\u001b[0m\u001b[0;34m\u001b[0m\u001b[0;34m\u001b[0m\u001b[0m\n\u001b[1;32m      6\u001b[0m       \u001b[0ma\u001b[0m\u001b[0;34m+=\u001b[0m\u001b[0;36m1\u001b[0m\u001b[0;34m\u001b[0m\u001b[0;34m\u001b[0m\u001b[0m\n",
            "\u001b[0;31mTypeError\u001b[0m: object of type 'int' has no len()"
          ]
        }
      ]
    },
    {
      "cell_type": "code",
      "source": [
        "a=\"1233445511133\"\n",
        "for i in range(len(a)-1):\n",
        "  print(i)"
      ],
      "metadata": {
        "colab": {
          "base_uri": "https://localhost:8080/",
          "height": 331
        },
        "id": "SSrhsqNup2UZ",
        "outputId": "07d880c9-a2ec-47c1-bedb-7550f129b94a"
      },
      "execution_count": 17,
      "outputs": [
        {
          "output_type": "error",
          "ename": "TypeError",
          "evalue": "ignored",
          "traceback": [
            "\u001b[0;31m---------------------------------------------------------------------------\u001b[0m",
            "\u001b[0;31mTypeError\u001b[0m                                 Traceback (most recent call last)",
            "\u001b[0;32m<ipython-input-17-7bda2bb655e2>\u001b[0m in \u001b[0;36m<cell line: 2>\u001b[0;34m()\u001b[0m\n\u001b[1;32m      1\u001b[0m \u001b[0ma\u001b[0m\u001b[0;34m=\u001b[0m\u001b[0;34m\"1233445511133\"\u001b[0m\u001b[0;34m\u001b[0m\u001b[0;34m\u001b[0m\u001b[0m\n\u001b[0;32m----> 2\u001b[0;31m \u001b[0;32mfor\u001b[0m \u001b[0mi\u001b[0m \u001b[0;32min\u001b[0m \u001b[0mrange\u001b[0m\u001b[0;34m(\u001b[0m\u001b[0mlen\u001b[0m\u001b[0;34m(\u001b[0m\u001b[0ma\u001b[0m\u001b[0;34m)\u001b[0m\u001b[0;34m-\u001b[0m\u001b[0;36m1\u001b[0m\u001b[0;34m)\u001b[0m\u001b[0;34m:\u001b[0m\u001b[0;34m\u001b[0m\u001b[0;34m\u001b[0m\u001b[0m\n\u001b[0m\u001b[1;32m      3\u001b[0m   \u001b[0mprint\u001b[0m\u001b[0;34m(\u001b[0m\u001b[0mi\u001b[0m\u001b[0;34m)\u001b[0m\u001b[0;34m\u001b[0m\u001b[0;34m\u001b[0m\u001b[0m\n",
            "\u001b[0;32m<ipython-input-1-862840f3575b>\u001b[0m in \u001b[0;36mrange\u001b[0;34m(n)\u001b[0m\n\u001b[1;32m      2\u001b[0m   \u001b[0ma\u001b[0m\u001b[0;34m=\u001b[0m\u001b[0;36m0\u001b[0m\u001b[0;34m\u001b[0m\u001b[0;34m\u001b[0m\u001b[0m\n\u001b[1;32m      3\u001b[0m   \u001b[0mk\u001b[0m\u001b[0;34m=\u001b[0m\u001b[0;34m{\u001b[0m\u001b[0;34m}\u001b[0m\u001b[0;34m\u001b[0m\u001b[0;34m\u001b[0m\u001b[0m\n\u001b[0;32m----> 4\u001b[0;31m   \u001b[0;32mfor\u001b[0m \u001b[0mi\u001b[0m \u001b[0;32min\u001b[0m \u001b[0mrange\u001b[0m\u001b[0;34m(\u001b[0m\u001b[0mlen\u001b[0m\u001b[0;34m(\u001b[0m\u001b[0mn\u001b[0m\u001b[0;34m)\u001b[0m\u001b[0;34m)\u001b[0m\u001b[0;34m:\u001b[0m\u001b[0;34m\u001b[0m\u001b[0;34m\u001b[0m\u001b[0m\n\u001b[0m\u001b[1;32m      5\u001b[0m     \u001b[0;32mif\u001b[0m \u001b[0mn\u001b[0m\u001b[0;34m[\u001b[0m\u001b[0mi\u001b[0m\u001b[0;34m]\u001b[0m\u001b[0;34m==\u001b[0m\u001b[0mn\u001b[0m\u001b[0;34m[\u001b[0m\u001b[0mi\u001b[0m\u001b[0;34m+\u001b[0m\u001b[0;36m1\u001b[0m\u001b[0;34m]\u001b[0m\u001b[0;34m:\u001b[0m\u001b[0;34m\u001b[0m\u001b[0;34m\u001b[0m\u001b[0m\n\u001b[1;32m      6\u001b[0m       \u001b[0ma\u001b[0m\u001b[0;34m+=\u001b[0m\u001b[0;36m1\u001b[0m\u001b[0;34m\u001b[0m\u001b[0;34m\u001b[0m\u001b[0m\n",
            "\u001b[0;31mTypeError\u001b[0m: object of type 'int' has no len()"
          ]
        }
      ]
    }
  ],
  "metadata": {
    "colab": {
      "provenance": []
    },
    "kernelspec": {
      "display_name": "Python 3",
      "name": "python3"
    },
    "language_info": {
      "name": "python"
    }
  },
  "nbformat": 4,
  "nbformat_minor": 0
}